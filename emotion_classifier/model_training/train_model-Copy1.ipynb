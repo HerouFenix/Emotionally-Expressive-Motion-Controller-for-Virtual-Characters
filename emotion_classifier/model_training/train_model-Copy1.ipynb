{
 "cells": [
  {
   "cell_type": "markdown",
   "metadata": {},
   "source": [
    "# XGBRegression (LMA features to P,A,D coordinates)"
   ]
  },
  {
   "cell_type": "markdown",
   "metadata": {},
   "source": [
    "## Imports"
   ]
  },
  {
   "cell_type": "code",
   "execution_count": 35,
   "metadata": {},
   "outputs": [],
   "source": [
    "import matplotlib.pyplot as plt\n",
    "import numpy as np\n",
    "import pandas as pd\n",
    "import seaborn as sns\n",
    "import matplotlib.lines as mlines\n",
    "\n",
    "import tensorflow as tf\n",
    "\n",
    "import sklearn\n",
    "from sklearn.model_selection import cross_val_score, KFold, StratifiedKFold\n",
    "\n",
    "import xgboost as xgb\n",
    "\n",
    "xgb.set_config(verbosity=0)\n",
    "\n",
    "from sklearn.metrics import mean_squared_error, mean_absolute_error\n",
    "from sklearn.preprocessing import normalize\n",
    "\n",
    "from sklearn.utils import shuffle\n",
    "from mpl_toolkits import mplot3d"
   ]
  },
  {
   "cell_type": "markdown",
   "metadata": {},
   "source": [
    "## Load Data"
   ]
  },
  {
   "cell_type": "code",
   "execution_count": 2,
   "metadata": {},
   "outputs": [
    {
     "name": "stdout",
     "output_type": "stream",
     "text": [
      "(15949, 32)\n"
     ]
    }
   ],
   "source": [
    "dataset = pd.read_csv('datasets/Fs_O_S_KIN_FULL.csv')\n",
    "print(dataset.shape)"
   ]
  },
  {
   "cell_type": "markdown",
   "metadata": {},
   "source": [
    "### Split into Test and Train data"
   ]
  },
  {
   "cell_type": "code",
   "execution_count": 3,
   "metadata": {},
   "outputs": [
    {
     "name": "stdout",
     "output_type": "stream",
     "text": [
      "No Training Samples: 12759\n",
      "No Test Samples: 3190\n"
     ]
    }
   ],
   "source": [
    "train_dataset = dataset.sample(frac=0.8, random_state=42)\n",
    "test_dataset = dataset.drop(train_dataset.index)\n",
    "\n",
    "print(\"No Training Samples:\",train_dataset.shape[0])\n",
    "print(\"No Test Samples:\",test_dataset.shape[0])\n",
    "\n",
    "train_dataset = shuffle(train_dataset)\n",
    "test_dataset = shuffle(test_dataset)"
   ]
  },
  {
   "cell_type": "markdown",
   "metadata": {},
   "source": [
    "### Split Features from Targets"
   ]
  },
  {
   "cell_type": "code",
   "execution_count": 4,
   "metadata": {},
   "outputs": [],
   "source": [
    "train_X = train_dataset.copy()\n",
    "test_X = test_dataset.copy()\n",
    "\n",
    "train_y = pd.concat([train_X.pop(x) for x in ['EMOTION_P', 'EMOTION_A', 'EMOTION_D']], axis=1)\n",
    "test_y = pd.concat([test_X.pop(x) for x in ['EMOTION_P', 'EMOTION_A', 'EMOTION_D']], axis=1)\n",
    "\n",
    "test_y_p = test_y.iloc[:,0]\n",
    "train_y_p = train_y.iloc[:,0]\n",
    "\n",
    "test_y_a = test_y.iloc[:,1]\n",
    "train_y_a = train_y.iloc[:,1]\n",
    "\n",
    "test_y_d = test_y.iloc[:,2]\n",
    "train_y_d = train_y.iloc[:,2]"
   ]
  },
  {
   "cell_type": "code",
   "execution_count": 5,
   "metadata": {},
   "outputs": [
    {
     "data": {
      "text/html": [
       "<div>\n",
       "<style scoped>\n",
       "    .dataframe tbody tr th:only-of-type {\n",
       "        vertical-align: middle;\n",
       "    }\n",
       "\n",
       "    .dataframe tbody tr th {\n",
       "        vertical-align: top;\n",
       "    }\n",
       "\n",
       "    .dataframe thead th {\n",
       "        text-align: right;\n",
       "    }\n",
       "</style>\n",
       "<table border=\"1\" class=\"dataframe\">\n",
       "  <thead>\n",
       "    <tr style=\"text-align: right;\">\n",
       "      <th></th>\n",
       "      <th>max_hand_distance</th>\n",
       "      <th>avg_l_hand_hip_distance</th>\n",
       "      <th>avg_r_hand_hip_distance</th>\n",
       "      <th>max_stride_length</th>\n",
       "      <th>avg_l_hand_chest_distance</th>\n",
       "      <th>avg_r_hand_chest_distance</th>\n",
       "      <th>avg_l_elbow_hip_distance</th>\n",
       "      <th>avg_r_elbow_hip_distance</th>\n",
       "      <th>avg_chest_pelvis_distance</th>\n",
       "      <th>avg_neck_chest_distance</th>\n",
       "      <th>...</th>\n",
       "      <th>l_foot_speed</th>\n",
       "      <th>r_foot_speed</th>\n",
       "      <th>neck_speed</th>\n",
       "      <th>l_hand_acceleration_magnitude</th>\n",
       "      <th>r_hand_acceleration_magnitude</th>\n",
       "      <th>l_foot_acceleration_magnitude</th>\n",
       "      <th>r_foot_acceleration_magnitude</th>\n",
       "      <th>neck_acceleration_magnitude</th>\n",
       "      <th>average upper_body_volume</th>\n",
       "      <th>average lower_body_volume</th>\n",
       "    </tr>\n",
       "  </thead>\n",
       "  <tbody>\n",
       "    <tr>\n",
       "      <th>9936</th>\n",
       "      <td>-1.149301</td>\n",
       "      <td>0.233348</td>\n",
       "      <td>0.211389</td>\n",
       "      <td>-0.079304</td>\n",
       "      <td>-0.059946</td>\n",
       "      <td>-0.117005</td>\n",
       "      <td>-0.456167</td>\n",
       "      <td>-0.449316</td>\n",
       "      <td>-0.127851</td>\n",
       "      <td>0.070074</td>\n",
       "      <td>...</td>\n",
       "      <td>-0.320147</td>\n",
       "      <td>-0.194905</td>\n",
       "      <td>-0.408895</td>\n",
       "      <td>0.542524</td>\n",
       "      <td>0.425948</td>\n",
       "      <td>-0.438664</td>\n",
       "      <td>-0.605953</td>\n",
       "      <td>0.038478</td>\n",
       "      <td>0.083000</td>\n",
       "      <td>0.799910</td>\n",
       "    </tr>\n",
       "    <tr>\n",
       "      <th>3893</th>\n",
       "      <td>2.581260</td>\n",
       "      <td>-0.408311</td>\n",
       "      <td>3.234576</td>\n",
       "      <td>0.753494</td>\n",
       "      <td>0.703081</td>\n",
       "      <td>1.764749</td>\n",
       "      <td>0.645747</td>\n",
       "      <td>3.020891</td>\n",
       "      <td>1.434214</td>\n",
       "      <td>-1.214415</td>\n",
       "      <td>...</td>\n",
       "      <td>-0.457826</td>\n",
       "      <td>-0.475159</td>\n",
       "      <td>-0.328679</td>\n",
       "      <td>0.226667</td>\n",
       "      <td>1.192581</td>\n",
       "      <td>0.395796</td>\n",
       "      <td>0.088395</td>\n",
       "      <td>-0.805052</td>\n",
       "      <td>2.306530</td>\n",
       "      <td>2.345400</td>\n",
       "    </tr>\n",
       "    <tr>\n",
       "      <th>12827</th>\n",
       "      <td>-2.173386</td>\n",
       "      <td>1.050334</td>\n",
       "      <td>0.477732</td>\n",
       "      <td>0.034348</td>\n",
       "      <td>-2.078248</td>\n",
       "      <td>-2.468015</td>\n",
       "      <td>-1.299380</td>\n",
       "      <td>-2.373126</td>\n",
       "      <td>-0.678797</td>\n",
       "      <td>0.466083</td>\n",
       "      <td>...</td>\n",
       "      <td>-0.399411</td>\n",
       "      <td>-0.377877</td>\n",
       "      <td>-0.376962</td>\n",
       "      <td>-0.796957</td>\n",
       "      <td>-0.657035</td>\n",
       "      <td>-0.801047</td>\n",
       "      <td>-0.820340</td>\n",
       "      <td>-0.509143</td>\n",
       "      <td>-0.931912</td>\n",
       "      <td>-1.152337</td>\n",
       "    </tr>\n",
       "    <tr>\n",
       "      <th>11951</th>\n",
       "      <td>1.916982</td>\n",
       "      <td>2.425990</td>\n",
       "      <td>2.283577</td>\n",
       "      <td>-1.199460</td>\n",
       "      <td>0.165583</td>\n",
       "      <td>0.417854</td>\n",
       "      <td>1.100160</td>\n",
       "      <td>1.621533</td>\n",
       "      <td>-0.184807</td>\n",
       "      <td>-0.024756</td>\n",
       "      <td>...</td>\n",
       "      <td>-0.441711</td>\n",
       "      <td>-0.630356</td>\n",
       "      <td>-0.461776</td>\n",
       "      <td>-0.700927</td>\n",
       "      <td>1.217194</td>\n",
       "      <td>0.346297</td>\n",
       "      <td>0.018627</td>\n",
       "      <td>0.291657</td>\n",
       "      <td>1.014537</td>\n",
       "      <td>-0.857120</td>\n",
       "    </tr>\n",
       "    <tr>\n",
       "      <th>425</th>\n",
       "      <td>-1.115295</td>\n",
       "      <td>-0.824572</td>\n",
       "      <td>-1.022763</td>\n",
       "      <td>-0.191912</td>\n",
       "      <td>0.058768</td>\n",
       "      <td>-0.327020</td>\n",
       "      <td>-0.080924</td>\n",
       "      <td>-0.667017</td>\n",
       "      <td>-0.615821</td>\n",
       "      <td>-0.308718</td>\n",
       "      <td>...</td>\n",
       "      <td>-0.905519</td>\n",
       "      <td>-0.953059</td>\n",
       "      <td>-0.790633</td>\n",
       "      <td>-1.032980</td>\n",
       "      <td>-1.113897</td>\n",
       "      <td>-0.624840</td>\n",
       "      <td>-0.589100</td>\n",
       "      <td>-0.827470</td>\n",
       "      <td>-0.953706</td>\n",
       "      <td>-0.114581</td>\n",
       "    </tr>\n",
       "  </tbody>\n",
       "</table>\n",
       "<p>5 rows × 29 columns</p>\n",
       "</div>"
      ],
      "text/plain": [
       "       max_hand_distance  avg_l_hand_hip_distance  avg_r_hand_hip_distance  \\\n",
       "9936           -1.149301                 0.233348                 0.211389   \n",
       "3893            2.581260                -0.408311                 3.234576   \n",
       "12827          -2.173386                 1.050334                 0.477732   \n",
       "11951           1.916982                 2.425990                 2.283577   \n",
       "425            -1.115295                -0.824572                -1.022763   \n",
       "\n",
       "       max_stride_length  avg_l_hand_chest_distance  \\\n",
       "9936           -0.079304                  -0.059946   \n",
       "3893            0.753494                   0.703081   \n",
       "12827           0.034348                  -2.078248   \n",
       "11951          -1.199460                   0.165583   \n",
       "425            -0.191912                   0.058768   \n",
       "\n",
       "       avg_r_hand_chest_distance  avg_l_elbow_hip_distance  \\\n",
       "9936                   -0.117005                 -0.456167   \n",
       "3893                    1.764749                  0.645747   \n",
       "12827                  -2.468015                 -1.299380   \n",
       "11951                   0.417854                  1.100160   \n",
       "425                    -0.327020                 -0.080924   \n",
       "\n",
       "       avg_r_elbow_hip_distance  avg_chest_pelvis_distance  \\\n",
       "9936                  -0.449316                  -0.127851   \n",
       "3893                   3.020891                   1.434214   \n",
       "12827                 -2.373126                  -0.678797   \n",
       "11951                  1.621533                  -0.184807   \n",
       "425                   -0.667017                  -0.615821   \n",
       "\n",
       "       avg_neck_chest_distance  ...  l_foot_speed  r_foot_speed  neck_speed  \\\n",
       "9936                  0.070074  ...     -0.320147     -0.194905   -0.408895   \n",
       "3893                 -1.214415  ...     -0.457826     -0.475159   -0.328679   \n",
       "12827                 0.466083  ...     -0.399411     -0.377877   -0.376962   \n",
       "11951                -0.024756  ...     -0.441711     -0.630356   -0.461776   \n",
       "425                  -0.308718  ...     -0.905519     -0.953059   -0.790633   \n",
       "\n",
       "       l_hand_acceleration_magnitude  r_hand_acceleration_magnitude  \\\n",
       "9936                        0.542524                       0.425948   \n",
       "3893                        0.226667                       1.192581   \n",
       "12827                      -0.796957                      -0.657035   \n",
       "11951                      -0.700927                       1.217194   \n",
       "425                        -1.032980                      -1.113897   \n",
       "\n",
       "       l_foot_acceleration_magnitude  r_foot_acceleration_magnitude  \\\n",
       "9936                       -0.438664                      -0.605953   \n",
       "3893                        0.395796                       0.088395   \n",
       "12827                      -0.801047                      -0.820340   \n",
       "11951                       0.346297                       0.018627   \n",
       "425                        -0.624840                      -0.589100   \n",
       "\n",
       "       neck_acceleration_magnitude  average upper_body_volume  \\\n",
       "9936                      0.038478                   0.083000   \n",
       "3893                     -0.805052                   2.306530   \n",
       "12827                    -0.509143                  -0.931912   \n",
       "11951                     0.291657                   1.014537   \n",
       "425                      -0.827470                  -0.953706   \n",
       "\n",
       "       average lower_body_volume  \n",
       "9936                    0.799910  \n",
       "3893                    2.345400  \n",
       "12827                  -1.152337  \n",
       "11951                  -0.857120  \n",
       "425                    -0.114581  \n",
       "\n",
       "[5 rows x 29 columns]"
      ]
     },
     "execution_count": 5,
     "metadata": {},
     "output_type": "execute_result"
    }
   ],
   "source": [
    "train_X.head()"
   ]
  },
  {
   "cell_type": "code",
   "execution_count": 6,
   "metadata": {
    "scrolled": false
   },
   "outputs": [
    {
     "data": {
      "text/html": [
       "<div>\n",
       "<style scoped>\n",
       "    .dataframe tbody tr th:only-of-type {\n",
       "        vertical-align: middle;\n",
       "    }\n",
       "\n",
       "    .dataframe tbody tr th {\n",
       "        vertical-align: top;\n",
       "    }\n",
       "\n",
       "    .dataframe thead th {\n",
       "        text-align: right;\n",
       "    }\n",
       "</style>\n",
       "<table border=\"1\" class=\"dataframe\">\n",
       "  <thead>\n",
       "    <tr style=\"text-align: right;\">\n",
       "      <th></th>\n",
       "      <th>EMOTION_P</th>\n",
       "      <th>EMOTION_A</th>\n",
       "      <th>EMOTION_D</th>\n",
       "    </tr>\n",
       "  </thead>\n",
       "  <tbody>\n",
       "    <tr>\n",
       "      <th>9936</th>\n",
       "      <td>0.60</td>\n",
       "      <td>0.50</td>\n",
       "      <td>0.2</td>\n",
       "    </tr>\n",
       "    <tr>\n",
       "      <th>3893</th>\n",
       "      <td>-0.50</td>\n",
       "      <td>0.60</td>\n",
       "      <td>0.9</td>\n",
       "    </tr>\n",
       "    <tr>\n",
       "      <th>12827</th>\n",
       "      <td>-0.40</td>\n",
       "      <td>0.25</td>\n",
       "      <td>-0.1</td>\n",
       "    </tr>\n",
       "    <tr>\n",
       "      <th>11951</th>\n",
       "      <td>0.60</td>\n",
       "      <td>0.50</td>\n",
       "      <td>0.2</td>\n",
       "    </tr>\n",
       "    <tr>\n",
       "      <th>425</th>\n",
       "      <td>-0.35</td>\n",
       "      <td>0.70</td>\n",
       "      <td>-0.8</td>\n",
       "    </tr>\n",
       "  </tbody>\n",
       "</table>\n",
       "</div>"
      ],
      "text/plain": [
       "       EMOTION_P  EMOTION_A  EMOTION_D\n",
       "9936        0.60       0.50        0.2\n",
       "3893       -0.50       0.60        0.9\n",
       "12827      -0.40       0.25       -0.1\n",
       "11951       0.60       0.50        0.2\n",
       "425        -0.35       0.70       -0.8"
      ]
     },
     "execution_count": 6,
     "metadata": {},
     "output_type": "execute_result"
    }
   ],
   "source": [
    "train_y.head()"
   ]
  },
  {
   "cell_type": "code",
   "execution_count": 7,
   "metadata": {
    "scrolled": true
   },
   "outputs": [
    {
     "data": {
      "text/html": [
       "<div>\n",
       "<style scoped>\n",
       "    .dataframe tbody tr th:only-of-type {\n",
       "        vertical-align: middle;\n",
       "    }\n",
       "\n",
       "    .dataframe tbody tr th {\n",
       "        vertical-align: top;\n",
       "    }\n",
       "\n",
       "    .dataframe thead th {\n",
       "        text-align: right;\n",
       "    }\n",
       "</style>\n",
       "<table border=\"1\" class=\"dataframe\">\n",
       "  <thead>\n",
       "    <tr style=\"text-align: right;\">\n",
       "      <th></th>\n",
       "      <th>mean</th>\n",
       "      <th>std</th>\n",
       "    </tr>\n",
       "  </thead>\n",
       "  <tbody>\n",
       "    <tr>\n",
       "      <th>max_hand_distance</th>\n",
       "      <td>0.005090</td>\n",
       "      <td>1.001583</td>\n",
       "    </tr>\n",
       "    <tr>\n",
       "      <th>avg_l_hand_hip_distance</th>\n",
       "      <td>0.000180</td>\n",
       "      <td>1.001166</td>\n",
       "    </tr>\n",
       "    <tr>\n",
       "      <th>avg_r_hand_hip_distance</th>\n",
       "      <td>0.000325</td>\n",
       "      <td>0.998942</td>\n",
       "    </tr>\n",
       "    <tr>\n",
       "      <th>max_stride_length</th>\n",
       "      <td>0.001231</td>\n",
       "      <td>1.001363</td>\n",
       "    </tr>\n",
       "    <tr>\n",
       "      <th>avg_l_hand_chest_distance</th>\n",
       "      <td>0.002311</td>\n",
       "      <td>0.998030</td>\n",
       "    </tr>\n",
       "    <tr>\n",
       "      <th>avg_r_hand_chest_distance</th>\n",
       "      <td>-0.000104</td>\n",
       "      <td>1.000631</td>\n",
       "    </tr>\n",
       "    <tr>\n",
       "      <th>avg_l_elbow_hip_distance</th>\n",
       "      <td>0.001891</td>\n",
       "      <td>0.998028</td>\n",
       "    </tr>\n",
       "    <tr>\n",
       "      <th>avg_r_elbow_hip_distance</th>\n",
       "      <td>-0.000346</td>\n",
       "      <td>0.999937</td>\n",
       "    </tr>\n",
       "    <tr>\n",
       "      <th>avg_chest_pelvis_distance</th>\n",
       "      <td>0.000229</td>\n",
       "      <td>0.987058</td>\n",
       "    </tr>\n",
       "    <tr>\n",
       "      <th>avg_neck_chest_distance</th>\n",
       "      <td>-0.004117</td>\n",
       "      <td>1.011678</td>\n",
       "    </tr>\n",
       "    <tr>\n",
       "      <th>avg_neck_rotation_w</th>\n",
       "      <td>-0.000106</td>\n",
       "      <td>1.002123</td>\n",
       "    </tr>\n",
       "    <tr>\n",
       "      <th>avg_neck_rotation_x</th>\n",
       "      <td>-0.000994</td>\n",
       "      <td>0.998193</td>\n",
       "    </tr>\n",
       "    <tr>\n",
       "      <th>avg_neck_rotation_y</th>\n",
       "      <td>0.004034</td>\n",
       "      <td>0.995548</td>\n",
       "    </tr>\n",
       "    <tr>\n",
       "      <th>avg_neck_rotation_z</th>\n",
       "      <td>0.002895</td>\n",
       "      <td>0.999283</td>\n",
       "    </tr>\n",
       "    <tr>\n",
       "      <th>avg_total_body_volume</th>\n",
       "      <td>-0.004319</td>\n",
       "      <td>0.997811</td>\n",
       "    </tr>\n",
       "    <tr>\n",
       "      <th>avg_triangle_area_hands_neck</th>\n",
       "      <td>-0.000195</td>\n",
       "      <td>1.000560</td>\n",
       "    </tr>\n",
       "    <tr>\n",
       "      <th>avg_triangle_area_feet_hips</th>\n",
       "      <td>0.000481</td>\n",
       "      <td>1.001209</td>\n",
       "    </tr>\n",
       "    <tr>\n",
       "      <th>l_hand_speed</th>\n",
       "      <td>0.004741</td>\n",
       "      <td>1.001796</td>\n",
       "    </tr>\n",
       "    <tr>\n",
       "      <th>r_hand_speed</th>\n",
       "      <td>0.003233</td>\n",
       "      <td>1.000114</td>\n",
       "    </tr>\n",
       "    <tr>\n",
       "      <th>l_foot_speed</th>\n",
       "      <td>-0.000037</td>\n",
       "      <td>0.999819</td>\n",
       "    </tr>\n",
       "    <tr>\n",
       "      <th>r_foot_speed</th>\n",
       "      <td>0.002354</td>\n",
       "      <td>1.002621</td>\n",
       "    </tr>\n",
       "    <tr>\n",
       "      <th>neck_speed</th>\n",
       "      <td>-0.000786</td>\n",
       "      <td>1.000583</td>\n",
       "    </tr>\n",
       "    <tr>\n",
       "      <th>l_hand_acceleration_magnitude</th>\n",
       "      <td>0.003806</td>\n",
       "      <td>1.000809</td>\n",
       "    </tr>\n",
       "    <tr>\n",
       "      <th>r_hand_acceleration_magnitude</th>\n",
       "      <td>0.000365</td>\n",
       "      <td>0.999755</td>\n",
       "    </tr>\n",
       "    <tr>\n",
       "      <th>l_foot_acceleration_magnitude</th>\n",
       "      <td>-0.003595</td>\n",
       "      <td>0.998822</td>\n",
       "    </tr>\n",
       "    <tr>\n",
       "      <th>r_foot_acceleration_magnitude</th>\n",
       "      <td>-0.003726</td>\n",
       "      <td>0.995189</td>\n",
       "    </tr>\n",
       "    <tr>\n",
       "      <th>neck_acceleration_magnitude</th>\n",
       "      <td>-0.002051</td>\n",
       "      <td>1.002066</td>\n",
       "    </tr>\n",
       "    <tr>\n",
       "      <th>average upper_body_volume</th>\n",
       "      <td>-0.006464</td>\n",
       "      <td>0.998511</td>\n",
       "    </tr>\n",
       "    <tr>\n",
       "      <th>average lower_body_volume</th>\n",
       "      <td>0.000384</td>\n",
       "      <td>0.995311</td>\n",
       "    </tr>\n",
       "  </tbody>\n",
       "</table>\n",
       "</div>"
      ],
      "text/plain": [
       "                                   mean       std\n",
       "max_hand_distance              0.005090  1.001583\n",
       "avg_l_hand_hip_distance        0.000180  1.001166\n",
       "avg_r_hand_hip_distance        0.000325  0.998942\n",
       "max_stride_length              0.001231  1.001363\n",
       "avg_l_hand_chest_distance      0.002311  0.998030\n",
       "avg_r_hand_chest_distance     -0.000104  1.000631\n",
       "avg_l_elbow_hip_distance       0.001891  0.998028\n",
       "avg_r_elbow_hip_distance      -0.000346  0.999937\n",
       "avg_chest_pelvis_distance      0.000229  0.987058\n",
       "avg_neck_chest_distance       -0.004117  1.011678\n",
       "avg_neck_rotation_w           -0.000106  1.002123\n",
       "avg_neck_rotation_x           -0.000994  0.998193\n",
       "avg_neck_rotation_y            0.004034  0.995548\n",
       "avg_neck_rotation_z            0.002895  0.999283\n",
       "avg_total_body_volume         -0.004319  0.997811\n",
       "avg_triangle_area_hands_neck  -0.000195  1.000560\n",
       "avg_triangle_area_feet_hips    0.000481  1.001209\n",
       "l_hand_speed                   0.004741  1.001796\n",
       "r_hand_speed                   0.003233  1.000114\n",
       "l_foot_speed                  -0.000037  0.999819\n",
       "r_foot_speed                   0.002354  1.002621\n",
       "neck_speed                    -0.000786  1.000583\n",
       "l_hand_acceleration_magnitude  0.003806  1.000809\n",
       "r_hand_acceleration_magnitude  0.000365  0.999755\n",
       "l_foot_acceleration_magnitude -0.003595  0.998822\n",
       "r_foot_acceleration_magnitude -0.003726  0.995189\n",
       "neck_acceleration_magnitude   -0.002051  1.002066\n",
       "average upper_body_volume     -0.006464  0.998511\n",
       "average lower_body_volume      0.000384  0.995311"
      ]
     },
     "execution_count": 7,
     "metadata": {},
     "output_type": "execute_result"
    }
   ],
   "source": [
    "train_X.describe().transpose()[['mean', 'std']]"
   ]
  },
  {
   "cell_type": "markdown",
   "metadata": {},
   "source": [
    "## Define Model"
   ]
  },
  {
   "cell_type": "code",
   "execution_count": 8,
   "metadata": {},
   "outputs": [],
   "source": [
    "xgbr = xgb.XGBRegressor(verbosity=1) \n",
    "\n",
    "params = {\n",
    "        'eta': [0.01, 0.05, 0.1],\n",
    "        'min_child_weight': [1, 5, 11, 21],\n",
    "        'max_depth': [3, 6, 10, 15],\n",
    "        'gamma': [0, 0.001, 0.01],\n",
    "        'subsample': [0.75, 1],\n",
    "        'colsample_bytree': [0.75, 1],\n",
    "        'lambda': [1, 1.25],\n",
    "        'alpha': [0.0, 0.25]\n",
    "        }\n",
    "\n",
    "\n",
    "\n",
    "model_p = xgb.XGBRegressor(\n",
    "                    n_estimators=1500, learning_rate=0.05, max_depth=10, min_child_weight=5, \n",
    "                    reg_alpha=0.1, reg_lambda=1.0, gamma=0.0,\n",
    "                    subsample=0.75, colsample_bytree=0.75, objective=\"reg:squarederror\",\n",
    "                    tree_method='gpu_hist'\n",
    "                )\n",
    "\n",
    "\n",
    "model_a = xgb.XGBRegressor(\n",
    "                    n_estimators=1500, learning_rate=0.05, max_depth=15, min_child_weight=21, \n",
    "                    reg_alpha=0.1, reg_lambda=1.25, gamma=0.0,\n",
    "                    subsample=0.75, colsample_bytree=0.75, objective=\"reg:squarederror\",\n",
    "                    tree_method='gpu_hist'\n",
    "                )\n",
    "                \n",
    "\n",
    "model_d = xgb.XGBRegressor(\n",
    "                    n_estimators=1500, learning_rate=0.05, max_depth=10, min_child_weight=5, \n",
    "                    reg_alpha=0.1, reg_lambda=1.0, gamma=0.0,\n",
    "                    subsample=0.75, colsample_bytree=0.75, objective=\"reg:squarederror\",\n",
    "                    tree_method='gpu_hist'\n",
    "                )"
   ]
  },
  {
   "cell_type": "markdown",
   "metadata": {},
   "source": [
    "## Train Model"
   ]
  },
  {
   "cell_type": "markdown",
   "metadata": {},
   "source": [
    "### Pleasure Regression"
   ]
  },
  {
   "cell_type": "code",
   "execution_count": 9,
   "metadata": {},
   "outputs": [
    {
     "data": {
      "text/plain": [
       "XGBRegressor(base_score=0.5, booster='gbtree', colsample_bylevel=1,\n",
       "             colsample_bynode=1, colsample_bytree=0.75,\n",
       "             enable_categorical=False, gamma=0.0, gpu_id=0,\n",
       "             importance_type=None, interaction_constraints='',\n",
       "             learning_rate=0.05, max_delta_step=0, max_depth=10,\n",
       "             min_child_weight=5, missing=nan, monotone_constraints='()',\n",
       "             n_estimators=1500, n_jobs=12, num_parallel_tree=1,\n",
       "             predictor='auto', random_state=0, reg_alpha=0.1, reg_lambda=1.0,\n",
       "             scale_pos_weight=1, subsample=0.75, tree_method='gpu_hist',\n",
       "             validate_parameters=1, verbosity=None)"
      ]
     },
     "execution_count": 9,
     "metadata": {},
     "output_type": "execute_result"
    }
   ],
   "source": [
    "model_p.fit(train_X, train_y_p)"
   ]
  },
  {
   "cell_type": "markdown",
   "metadata": {},
   "source": [
    "### Arousal Regression"
   ]
  },
  {
   "cell_type": "code",
   "execution_count": 10,
   "metadata": {
    "scrolled": true
   },
   "outputs": [
    {
     "data": {
      "text/plain": [
       "XGBRegressor(base_score=0.5, booster='gbtree', colsample_bylevel=1,\n",
       "             colsample_bynode=1, colsample_bytree=0.75,\n",
       "             enable_categorical=False, gamma=0.0, gpu_id=0,\n",
       "             importance_type=None, interaction_constraints='',\n",
       "             learning_rate=0.05, max_delta_step=0, max_depth=15,\n",
       "             min_child_weight=21, missing=nan, monotone_constraints='()',\n",
       "             n_estimators=1500, n_jobs=12, num_parallel_tree=1,\n",
       "             predictor='auto', random_state=0, reg_alpha=0.1, reg_lambda=1.25,\n",
       "             scale_pos_weight=1, subsample=0.75, tree_method='gpu_hist',\n",
       "             validate_parameters=1, verbosity=None)"
      ]
     },
     "execution_count": 10,
     "metadata": {},
     "output_type": "execute_result"
    }
   ],
   "source": [
    "model_a.fit(train_X, train_y_a)"
   ]
  },
  {
   "cell_type": "markdown",
   "metadata": {},
   "source": [
    "### Dominance Regression"
   ]
  },
  {
   "cell_type": "code",
   "execution_count": 11,
   "metadata": {
    "scrolled": true
   },
   "outputs": [
    {
     "data": {
      "text/plain": [
       "XGBRegressor(base_score=0.5, booster='gbtree', colsample_bylevel=1,\n",
       "             colsample_bynode=1, colsample_bytree=0.75,\n",
       "             enable_categorical=False, gamma=0.0, gpu_id=0,\n",
       "             importance_type=None, interaction_constraints='',\n",
       "             learning_rate=0.05, max_delta_step=0, max_depth=10,\n",
       "             min_child_weight=5, missing=nan, monotone_constraints='()',\n",
       "             n_estimators=1500, n_jobs=12, num_parallel_tree=1,\n",
       "             predictor='auto', random_state=0, reg_alpha=0.1, reg_lambda=1.0,\n",
       "             scale_pos_weight=1, subsample=0.75, tree_method='gpu_hist',\n",
       "             validate_parameters=1, verbosity=None)"
      ]
     },
     "execution_count": 11,
     "metadata": {},
     "output_type": "execute_result"
    }
   ],
   "source": [
    "model_d.fit(train_X, train_y_d)"
   ]
  },
  {
   "cell_type": "markdown",
   "metadata": {},
   "source": [
    "## Test Model"
   ]
  },
  {
   "cell_type": "markdown",
   "metadata": {},
   "source": [
    "### Training Score"
   ]
  },
  {
   "cell_type": "code",
   "execution_count": 12,
   "metadata": {},
   "outputs": [
    {
     "name": "stdout",
     "output_type": "stream",
     "text": [
      "Pleasure\n",
      "Training score:  0.9999278385169481\n",
      "\n",
      "Arousal\n",
      "Training score:  0.9998690439476002\n",
      "\n",
      "Dominance\n",
      "Training score:  0.9999541100040741\n"
     ]
    }
   ],
   "source": [
    "score = model_p.score(train_X, train_y_p)  \n",
    "\n",
    "print(\"Pleasure\")\n",
    "print(\"Training score: \", score)\n",
    "\n",
    "print()\n",
    "\n",
    "score = model_a.score(train_X, train_y_a)  \n",
    "\n",
    "print(\"Arousal\")\n",
    "print(\"Training score: \", score)\n",
    "\n",
    "score = model_d.score(train_X, train_y_d)  \n",
    "\n",
    "print()\n",
    "\n",
    "print(\"Dominance\")\n",
    "print(\"Training score: \", score)"
   ]
  },
  {
   "cell_type": "markdown",
   "metadata": {},
   "source": [
    "### Test Set MAE & MSE"
   ]
  },
  {
   "cell_type": "code",
   "execution_count": 13,
   "metadata": {},
   "outputs": [
    {
     "name": "stdout",
     "output_type": "stream",
     "text": [
      "Pleasure\n",
      "MSE: 0.13\n",
      "MAE: 0.26\n",
      "\n",
      "Arousal\n",
      "MSE: 0.08\n",
      "MAE: 0.22\n",
      "\n",
      "Dominance\n",
      "MSE: 0.21\n",
      "MAE: 0.35\n"
     ]
    }
   ],
   "source": [
    "pred_y_p = model_p.predict(test_X)\n",
    "mse = mean_squared_error(test_y_p, pred_y_p)\n",
    "mae = mean_absolute_error(test_y_p, pred_y_p)\n",
    "print(\"Pleasure\")\n",
    "print(\"MSE: %.2f\" % mse)\n",
    "print(\"MAE: %.2f\" % mae)\n",
    "\n",
    "\n",
    "pred_y_a = model_a.predict(test_X)\n",
    "mse = mean_squared_error(test_y_a, pred_y_a)\n",
    "mae = mean_absolute_error(test_y_a, pred_y_a)\n",
    "print(\"\\nArousal\")\n",
    "print(\"MSE: %.2f\" % mse)\n",
    "print(\"MAE: %.2f\" % mae)\n",
    "\n",
    "\n",
    "pred_y_d = model_d.predict(test_X)\n",
    "mse = mean_squared_error(test_y_d, pred_y_d)\n",
    "mae = mean_absolute_error(test_y_d, pred_y_d)\n",
    "print(\"\\nDominance\")\n",
    "print(\"MSE: %.2f\" % mse)\n",
    "print(\"MAE: %.2f\" % mae)"
   ]
  },
  {
   "cell_type": "markdown",
   "metadata": {},
   "source": [
    "### 10-Fold Cross Validation Average Score"
   ]
  },
  {
   "cell_type": "markdown",
   "metadata": {},
   "source": [
    "### Graphs"
   ]
  },
  {
   "cell_type": "code",
   "execution_count": 14,
   "metadata": {},
   "outputs": [
    {
     "data": {
      "image/png": "[encoded data removed]",
      "text/plain": [
       "<Figure size 432x288 with 1 Axes>"
      ]
     },
     "metadata": {
      "needs_background": "light"
     },
     "output_type": "display_data"
    }
   ],
   "source": [
    "x_ax = range(100)\n",
    "plt.plot(x_ax, test_y_p[0:100], label=\"original\")\n",
    "\n",
    "plt.title(\"Pleasure predictions\")\n",
    "\n",
    "plt.legend()\n",
    "plt.show()"
   ]
  },
  {
   "cell_type": "code",
   "execution_count": 15,
   "metadata": {},
   "outputs": [
    {
     "data": {
      "image/png": "[encoded data removed]",
      "text/plain": [
       "<Figure size 432x288 with 1 Axes>"
      ]
     },
     "metadata": {
      "needs_background": "light"
     },
     "output_type": "display_data"
    }
   ],
   "source": [
    "x_ax = range(100)\n",
    "plt.plot(x_ax, pred_y_p[0:100], label=\"predicted\")\n",
    "\n",
    "plt.title(\"Pleasure predictions\")\n",
    "\n",
    "plt.legend()\n",
    "plt.show()"
   ]
  },
  {
   "cell_type": "code",
   "execution_count": 16,
   "metadata": {},
   "outputs": [
    {
     "data": {
      "image/png": "[encoded data removed]",
      "text/plain": [
       "<Figure size 432x288 with 1 Axes>"
      ]
     },
     "metadata": {
      "needs_background": "light"
     },
     "output_type": "display_data"
    }
   ],
   "source": [
    "x_ax = range(len(test_y_a))\n",
    "plt.plot(x_ax, test_y_a, label=\"original\")\n",
    "plt.plot(x_ax, pred_y_a, label=\"predicted\")\n",
    "\n",
    "plt.title(\"Arousal predictions\")\n",
    "\n",
    "plt.legend()\n",
    "plt.show()"
   ]
  },
  {
   "cell_type": "markdown",
   "metadata": {},
   "source": [
    "### Prediction Examples"
   ]
  },
  {
   "cell_type": "code",
   "execution_count": 17,
   "metadata": {},
   "outputs": [
    {
     "name": "stdout",
     "output_type": "stream",
     "text": [
      "Real: [0.6 0.5 0.2]\n",
      "Predicted: [0.36919835, 0.481793, 0.073732086]\n"
     ]
    }
   ],
   "source": [
    "row=test_X.iloc[1]\n",
    "\n",
    "x = np.asarray([row])\n",
    "\n",
    "y_p = model_p.predict(x)\n",
    "y_a = model_a.predict(x)\n",
    "y_d = model_d.predict(x)\n",
    "\n",
    "print('Real: %s' % np.asarray(test_y.iloc[1]))\n",
    "print('Predicted: %s' % [y_p[0], y_a[0], y_d[0]])"
   ]
  },
  {
   "cell_type": "code",
   "execution_count": 18,
   "metadata": {},
   "outputs": [
    {
     "name": "stdout",
     "output_type": "stream",
     "text": [
      "Real: [-0.35  0.7  -0.8 ]\n",
      "Predicted: [-0.13406685, 0.3928816, -0.05206738]\n"
     ]
    }
   ],
   "source": [
    "row=test_X.iloc[421]\n",
    "\n",
    "x = np.asarray([row])\n",
    "\n",
    "y_p = model_p.predict(x)\n",
    "y_a = model_a.predict(x)\n",
    "y_d = model_d.predict(x)\n",
    "\n",
    "print('Real: %s' % np.asarray(test_y.iloc[421]))\n",
    "print('Predicted: %s' % [y_p[0], y_a[0], y_d[0]])"
   ]
  },
  {
   "cell_type": "code",
   "execution_count": 19,
   "metadata": {},
   "outputs": [
    {
     "name": "stdout",
     "output_type": "stream",
     "text": [
      "Real: [-0.5  0.6  0.9]\n",
      "Predicted: [-0.45573688, 0.31314325, 0.07819758]\n"
     ]
    }
   ],
   "source": [
    "row=test_X.iloc[999]\n",
    "\n",
    "x = np.asarray([row])\n",
    "\n",
    "y_p = model_p.predict(x)\n",
    "y_a = model_a.predict(x)\n",
    "y_d = model_d.predict(x)\n",
    "\n",
    "print('Real: %s' % np.asarray(test_y.iloc[999]))\n",
    "print('Predicted: %s' % [y_p[0], y_a[0], y_d[0]])"
   ]
  },
  {
   "cell_type": "markdown",
   "metadata": {},
   "source": [
    "## Save Models"
   ]
  },
  {
   "cell_type": "code",
   "execution_count": 185,
   "metadata": {},
   "outputs": [],
   "source": [
    "# save to JSON\n",
    "model_p.save_model(\"models/l2p_dance_model_Fs2_O.json\")\n",
    "model_a.save_model(\"models/l2a_dance_model_Fs2_O.json\")\n",
    "model_d.save_model(\"models/l2d_dance_model_Fs2_O.json\")"
   ]
  },
  {
   "cell_type": "markdown",
   "metadata": {},
   "source": [
    "## Load Models"
   ]
  },
  {
   "cell_type": "code",
   "execution_count": 155,
   "metadata": {},
   "outputs": [],
   "source": [
    "model_p = xgb.XGBRegressor(verbosity=0)\n",
    "model_p.load_model(\"models/l2p_dance_model.json\")\n",
    "\n",
    "model_a = xgb.XGBRegressor(verbosity=0)\n",
    "model_a.load_model(\"models/l2a_dance_model.json\")\n",
    "\n",
    "model_d = xgb.XGBRegressor(verbosity=0)\n",
    "model_d.load_model(\"models/l2d_dance_model.json\")"
   ]
  },
  {
   "cell_type": "markdown",
   "metadata": {},
   "source": [
    "### Graphs"
   ]
  },
  {
   "cell_type": "code",
   "execution_count": 172,
   "metadata": {},
   "outputs": [
    {
     "name": "stdout",
     "output_type": "stream",
     "text": [
      "Pleasure\n",
      "MSE: 0.03\n",
      "MAE: 0.06\n",
      "\n",
      "Arousal\n",
      "MSE: 0.02\n",
      "MAE: 0.05\n",
      "\n",
      "Arousal\n",
      "MSE: 0.04\n",
      "MAE: 0.07\n"
     ]
    }
   ],
   "source": [
    "pred_y_p = model_p.predict(test_X)\n",
    "mse = mean_squared_error(test_y_p, pred_y_p)\n",
    "mae = mean_absolute_error(test_y_p, pred_y_p)\n",
    "print(\"Pleasure\")\n",
    "print(\"MSE: %.2f\" % mse)\n",
    "print(\"MAE: %.2f\" % mae)\n",
    "\n",
    "\n",
    "pred_y_a = model_a.predict(test_X)\n",
    "mse = mean_squared_error(test_y_a, pred_y_a)\n",
    "mae = mean_absolute_error(test_y_a, pred_y_a)\n",
    "print(\"\\nArousal\")\n",
    "print(\"MSE: %.2f\" % mse)\n",
    "print(\"MAE: %.2f\" % mae)\n",
    "\n",
    "pred_y_d = model_d.predict(test_X)\n",
    "mse = mean_squared_error(test_y_d, pred_y_d)\n",
    "mae = mean_absolute_error(test_y_d, pred_y_d)\n",
    "print(\"\\nArousal\")\n",
    "print(\"MSE: %.2f\" % mse)\n",
    "print(\"MAE: %.2f\" % mae)"
   ]
  },
  {
   "cell_type": "code",
   "execution_count": 20,
   "metadata": {},
   "outputs": [
    {
     "data": {
      "image/png": "[encoded data removed]",
      "text/plain": [
       "<Figure size 720x720 with 1 Axes>"
      ]
     },
     "metadata": {
      "needs_background": "light"
     },
     "output_type": "display_data"
    }
   ],
   "source": [
    "x = pred_y_p[0:300]\n",
    "y = pred_y_a[0:300]\n",
    "\n",
    "x_reference = [-0.5, 0.6, -0.6, \n",
    "               -0.4, \n",
    "               -0.35, 0.0, 0.7, -0.5, 0.1, 0.6, 0.5, -0.85, -0.3, 0.9]\n",
    "y_reference = [0.6, 0.5, -0.3, \n",
    "               0.25, \n",
    "               0.7, 0.0, 0.2, -0.7, -0.7, -0.55, 0.7, -0.1, -0.66, -0.25]\n",
    "colors_reference = [\"crimson\", \"springgreen\", \"cornflowerblue\", \n",
    "                    \"darkorange\", \n",
    "                    \"gold\", \"olive\", \n",
    "                    \"lightseagreen\", \"plum\", \"chocolate\", \"olivedrab\", \"purple\", \"lightslategray\",\n",
    "                    \"lightpink\", \"aquamarine\"]\n",
    "\n",
    "colors = []\n",
    "\n",
    "color_map = {\n",
    "    (-0.5, 0.6): \"crimson\",\n",
    "    (0.6, 0.5): \"springgreen\",\n",
    "    (-0.6, -0.3): \"cornflowerblue\",\n",
    "    (-0.4, 0.25): \"darkorange\" ,\n",
    "    (-0.35, 0.7): \"gold\",\n",
    "    (0.0, 0.0): \"olive\", \n",
    "    (0.7, 0.2): \"lightseagreen\",\n",
    "    (-0.5, -0.7): \"plum\",\n",
    "    (0.1, -0.7): \"chocolate\",\n",
    "    (0.6, -0.55): \"olivedrab\",\n",
    "    (0.5, 0.7): \"purple\",\n",
    "    (-0.85, -0.1): \"lightslategray\",\n",
    "    (-0.3, -0.66): \"lightpink\",\n",
    "    (0.9, -0.25): \"aquamarine\",\n",
    "}\n",
    "\n",
    "conv_dict = {\n",
    "    (-0.5, 0.6): \"angry\",\n",
    "    (0.6, 0.5): \"happy\",\n",
    "    (-0.6, -0.3): \"sad\",\n",
    "    (-0.4, 0.25): \"disgusted\" ,\n",
    "    (-0.35, 0.7): \"afraid\",\n",
    "    (0.0, 0.0): \"neutral\", \n",
    "    (0.7, 0.2): \"pleased\",\n",
    "    (-0.5, -0.7): \"bored\",\n",
    "    (0.1, -0.7): \"tired\",\n",
    "    (0.6, -0.55): \"relaxed\",\n",
    "    (0.5, 0.7): \"excited\",\n",
    "    (-0.85, -0.1): \"miserable\",\n",
    "    (-0.3, -0.66): \"nervous\",\n",
    "    (0.9, -0.25): \"satisfied\",\n",
    "    \n",
    "}\n",
    "\n",
    "for i in range(len(x)):\n",
    "    point_coords = (test_y_p.iloc[i], test_y_a.iloc[i])\n",
    "    \n",
    "    colors.append(color_map[point_coords])\n",
    "\n",
    "fig, ax = plt.subplots(figsize=(10,10))\n",
    "\n",
    "for i in range(len(x_reference)):\n",
    "    ax.scatter(x_reference[i], y_reference[i], c=colors_reference[i], label=conv_dict[(x_reference[i], y_reference[i])] , marker=\"x\", linewidths=3)\n",
    "\n",
    "ax.legend()\n",
    "\n",
    "ax.scatter(x, y, c=colors, alpha=0.6)\n",
    "\n",
    "\n",
    "line = mlines.Line2D([-1, 1], [0, 0], color='black')\n",
    "line_2 = mlines.Line2D([0, 0], [-1, 1], color='black')\n",
    "ax.add_line(line)\n",
    "ax.add_line(line_2)\n",
    "\n",
    "\n",
    "plt.ylim([-1,1])\n",
    "plt.xlim([-1,1])\n",
    "\n",
    "\n",
    "plt.xlabel('Pleasure')\n",
    "plt.ylabel('Arousal')\n",
    "plt.grid(True)\n",
    "\n",
    "plt.show()\n",
    "\n"
   ]
  },
  {
   "cell_type": "code",
   "execution_count": 174,
   "metadata": {},
   "outputs": [
    {
     "data": {
      "image/png": "[encoded data removed]",
      "text/plain": [
       "<Figure size 936x936 with 1 Axes>"
      ]
     },
     "metadata": {
      "needs_background": "light"
     },
     "output_type": "display_data"
    }
   ],
   "source": [
    "x = pred_y_p[0:300]\n",
    "y = pred_y_a[0:300]\n",
    "z = pred_y_d[0:300]\n",
    "\n",
    "x_reference = [-0.5, 0.6, -0.6, \n",
    "               -0.4, \n",
    "               -0.35, 0.0, 0.7, -0.5, 0.1, 0.6, 0.5, -0.85, -0.3, 0.9]\n",
    "\n",
    "y_reference = [0.6, 0.5, -0.3, \n",
    "               0.25, \n",
    "               0.7, 0.0, 0.2, -0.7, -0.7, -0.55, 0.7, -0.1, -0.66, -0.25]\n",
    "\n",
    "z_reference = [ 0.9, 0.2, -0.3,\n",
    "                -0.1,\n",
    "                -0.8, 0.0, 0.2, -0.25, -0.2, 0.1, 0.4, -0.8, -0.7, 0.65]\n",
    "\n",
    "colors_reference = [\"crimson\", \"springgreen\", \"cornflowerblue\", \n",
    "                    \"darkorange\", \n",
    "                    \"gold\", \"olive\", \n",
    "                    \"lightseagreen\", \"plum\", \"chocolate\", \"olivedrab\", \"purple\", \"lightslategray\",\n",
    "                    \"lightpink\", \"aquamarine\"]\n",
    "\n",
    "colors = []\n",
    "\n",
    "color_map = {\n",
    "    (-0.5, 0.6, 0.9): \"crimson\",\n",
    "    (0.6, 0.5, 0.2): \"springgreen\",\n",
    "    (-0.6, -0.3, -0.3): \"cornflowerblue\",\n",
    "    (-0.4, 0.25, -0.1): \"darkorange\" ,\n",
    "    (-0.35, 0.7, -0.8): \"gold\",\n",
    "    (0.0, 0.0, 0.0): \"olive\", \n",
    "    (0.7, 0.2, 0.2): \"lightseagreen\",\n",
    "    (-0.5, -0.7, -0.25): \"plum\",\n",
    "    (0.1, -0.7, -0.2): \"chocolate\",\n",
    "    (0.6, -0.55, 0.1): \"olivedrab\",\n",
    "    (0.5, 0.7, 0.4): \"purple\",\n",
    "    (-0.85, -0.1, -0.8): \"lightslategray\",\n",
    "    (-0.3, -0.66, -0.7): \"lightpink\",\n",
    "    (0.9, -0.25, 0.65): \"aquamarine\",\n",
    "}\n",
    "\n",
    "conv_dict = {\n",
    "    (-0.5, 0.6, 0.9): \"angry\",\n",
    "    (0.6, 0.5, 0.2): \"happy\",\n",
    "    (-0.6, -0.3, -0.3): \"sad\",\n",
    "    (-0.4, 0.25, -0.1): \"disgusted\" ,\n",
    "    (-0.35, 0.7, -0.8): \"afraid\",\n",
    "    (0.7, 0.2, 0.2): \"pleased\",\n",
    "    (0.0, 0.0, 0.0): \"neutral\",\n",
    "    (-0.5, -0.7, -0.25): \"bored\",\n",
    "    (0.1, -0.7, -0.2): \"tired\",\n",
    "    (0.6, -0.55, 0.1): \"relaxed\",\n",
    "    (0.5, 0.7, 0.4): \"excited\",\n",
    "    (-0.85, -0.1, -0.8): \"miserable\",\n",
    "    (-0.3, -0.66, -0.7): \"nervous\",\n",
    "    (0.9, -0.25, 0.65): \"satisfied\",   \n",
    "}\n",
    "\n",
    "for i in range(len(x)):\n",
    "    point_coords = (test_y_p.iloc[i], test_y_a.iloc[i], test_y_d.iloc[i])\n",
    "    \n",
    "    colors.append(color_map[point_coords])\n",
    "\n",
    "fig = plt.figure(figsize = (13, 13))\n",
    "ax = plt.axes(projection =\"3d\")\n",
    "\n",
    "\n",
    "for i in range(len(x_reference)):\n",
    "    ax.scatter3D(x_reference[i], y_reference[i], z_reference[i], \n",
    "               c=colors_reference[i], \n",
    "               label=conv_dict[(x_reference[i], y_reference[i], z_reference[i])],\n",
    "               marker=\"x\", linewidths=3)\n",
    "\n",
    "ax.legend()\n",
    "\n",
    "ax.scatter(x, y, z, c=colors, alpha=0.6)\n",
    "\n",
    "\n",
    "line = mplot3d.art3d.Line3D([-1, 1], [0, 0], [0,0], color='black', alpha=0.5)\n",
    "line_2 = mplot3d.art3d.Line3D([0, 0], [-1, 1], [0,0], color='black', alpha = 0.5)\n",
    "line_3 = mplot3d.art3d.Line3D([0, 0], [0, 0], [-1,1], color='black', alpha = 0.5)\n",
    "\n",
    "ax.add_line(line)\n",
    "ax.add_line(line_2)\n",
    "ax.add_line(line_3)\n",
    "\n",
    "\n",
    "ax.set_xlim([-1,1])\n",
    "ax.set_ylim([-1,1])\n",
    "ax.set_zlim([-1,1])\n",
    "\n",
    "ax.set_xlabel('Pleasure')\n",
    "ax.set_ylabel('Arousal')\n",
    "ax.set_zlabel('Dominance')\n",
    "plt.grid(True)\n",
    "\n",
    "plt.show()\n",
    "\n"
   ]
  },
  {
   "cell_type": "markdown",
   "metadata": {},
   "source": [
    "\n"
   ]
  },
  {
   "cell_type": "markdown",
   "metadata": {},
   "source": [
    "# Hyperparameter Grid Search with XGBoost"
   ]
  },
  {
   "cell_type": "code",
   "execution_count": 36,
   "metadata": {},
   "outputs": [],
   "source": [
    "from datetime import datetime\n",
    "from sklearn.model_selection import GridSearchCV\n",
    "from sklearn.model_selection import RandomizedSearchCV\n",
    "import time\n",
    "\n",
    "import matplotlib.pyplot as plt\n",
    "import numpy as np\n",
    "import pandas as pd\n",
    "import seaborn as sns\n",
    "\n",
    "import tensorflow as tf\n",
    "\n",
    "import sklearn\n",
    "from sklearn.model_selection import cross_val_score, KFold\n",
    "from sklearn.metrics import mean_absolute_error\n",
    "\n",
    "\n",
    "import xgboost as xgb\n",
    "\n",
    "xgb.set_config(verbosity=2)\n",
    "\n",
    "from sklearn.metrics import mean_squared_error"
   ]
  },
  {
   "cell_type": "markdown",
   "metadata": {},
   "source": [
    "## Load Data"
   ]
  },
  {
   "cell_type": "code",
   "execution_count": 22,
   "metadata": {},
   "outputs": [],
   "source": [
    "dataset = pd.read_csv('datasets/Fs_O_S_KIN_FULL.csv')"
   ]
  },
  {
   "cell_type": "markdown",
   "metadata": {},
   "source": [
    "### Split into Test and Train data"
   ]
  },
  {
   "cell_type": "code",
   "execution_count": 23,
   "metadata": {},
   "outputs": [
    {
     "name": "stdout",
     "output_type": "stream",
     "text": [
      "No Training Samples: 12759\n",
      "No Test Samples: 3190\n"
     ]
    }
   ],
   "source": [
    "train_dataset = dataset.sample(frac=0.8, random_state=42)\n",
    "test_dataset = dataset.drop(train_dataset.index)\n",
    "\n",
    "print(\"No Training Samples:\",train_dataset.shape[0])\n",
    "print(\"No Test Samples:\",test_dataset.shape[0])\n",
    "\n",
    "train_dataset = shuffle(train_dataset)\n",
    "test_dataset = shuffle(test_dataset)"
   ]
  },
  {
   "cell_type": "markdown",
   "metadata": {},
   "source": [
    "### Split Features from Targets"
   ]
  },
  {
   "cell_type": "code",
   "execution_count": 24,
   "metadata": {},
   "outputs": [],
   "source": [
    "train_X = train_dataset.copy()\n",
    "test_X = test_dataset.copy()\n",
    "\n",
    "train_y = pd.concat([train_X.pop(x) for x in ['EMOTION_P', 'EMOTION_A', \"EMOTION_D\"]], axis=1)\n",
    "test_y = pd.concat([test_X.pop(x) for x in ['EMOTION_P', 'EMOTION_A', \"EMOTION_D\"]], axis=1)\n",
    "\n",
    "test_y_p = test_y.iloc[:,0]\n",
    "train_y_p = train_y.iloc[:,0]\n",
    "\n",
    "test_y_a = test_y.iloc[:,1]\n",
    "train_y_a = train_y.iloc[:,1]\n",
    "\n",
    "test_y_d = test_y.iloc[:,2]\n",
    "train_y_d = train_y.iloc[:,2]"
   ]
  },
  {
   "cell_type": "code",
   "execution_count": 25,
   "metadata": {},
   "outputs": [
    {
     "data": {
      "text/html": [
       "<div>\n",
       "<style scoped>\n",
       "    .dataframe tbody tr th:only-of-type {\n",
       "        vertical-align: middle;\n",
       "    }\n",
       "\n",
       "    .dataframe tbody tr th {\n",
       "        vertical-align: top;\n",
       "    }\n",
       "\n",
       "    .dataframe thead th {\n",
       "        text-align: right;\n",
       "    }\n",
       "</style>\n",
       "<table border=\"1\" class=\"dataframe\">\n",
       "  <thead>\n",
       "    <tr style=\"text-align: right;\">\n",
       "      <th></th>\n",
       "      <th>max_hand_distance</th>\n",
       "      <th>avg_l_hand_hip_distance</th>\n",
       "      <th>avg_r_hand_hip_distance</th>\n",
       "      <th>max_stride_length</th>\n",
       "      <th>avg_l_hand_chest_distance</th>\n",
       "      <th>avg_r_hand_chest_distance</th>\n",
       "      <th>avg_l_elbow_hip_distance</th>\n",
       "      <th>avg_r_elbow_hip_distance</th>\n",
       "      <th>avg_chest_pelvis_distance</th>\n",
       "      <th>avg_neck_chest_distance</th>\n",
       "      <th>...</th>\n",
       "      <th>l_foot_speed</th>\n",
       "      <th>r_foot_speed</th>\n",
       "      <th>neck_speed</th>\n",
       "      <th>l_hand_acceleration_magnitude</th>\n",
       "      <th>r_hand_acceleration_magnitude</th>\n",
       "      <th>l_foot_acceleration_magnitude</th>\n",
       "      <th>r_foot_acceleration_magnitude</th>\n",
       "      <th>neck_acceleration_magnitude</th>\n",
       "      <th>average upper_body_volume</th>\n",
       "      <th>average lower_body_volume</th>\n",
       "    </tr>\n",
       "  </thead>\n",
       "  <tbody>\n",
       "    <tr>\n",
       "      <th>7445</th>\n",
       "      <td>1.114663</td>\n",
       "      <td>-0.887695</td>\n",
       "      <td>2.163802</td>\n",
       "      <td>1.179503</td>\n",
       "      <td>-0.319814</td>\n",
       "      <td>0.352967</td>\n",
       "      <td>0.272238</td>\n",
       "      <td>0.611437</td>\n",
       "      <td>-1.440289</td>\n",
       "      <td>0.358610</td>\n",
       "      <td>...</td>\n",
       "      <td>-0.660194</td>\n",
       "      <td>-0.554406</td>\n",
       "      <td>-0.085022</td>\n",
       "      <td>-1.153331</td>\n",
       "      <td>0.660109</td>\n",
       "      <td>-0.863834</td>\n",
       "      <td>-0.818913</td>\n",
       "      <td>-0.604026</td>\n",
       "      <td>0.043098</td>\n",
       "      <td>1.161091</td>\n",
       "    </tr>\n",
       "    <tr>\n",
       "      <th>14385</th>\n",
       "      <td>-0.459723</td>\n",
       "      <td>-0.714570</td>\n",
       "      <td>-0.887570</td>\n",
       "      <td>1.328990</td>\n",
       "      <td>0.565833</td>\n",
       "      <td>0.403955</td>\n",
       "      <td>0.319680</td>\n",
       "      <td>0.050488</td>\n",
       "      <td>0.318924</td>\n",
       "      <td>0.479999</td>\n",
       "      <td>...</td>\n",
       "      <td>1.009108</td>\n",
       "      <td>3.295503</td>\n",
       "      <td>2.433219</td>\n",
       "      <td>1.268149</td>\n",
       "      <td>0.873656</td>\n",
       "      <td>0.548101</td>\n",
       "      <td>2.436761</td>\n",
       "      <td>1.839166</td>\n",
       "      <td>-0.885098</td>\n",
       "      <td>-0.626656</td>\n",
       "    </tr>\n",
       "    <tr>\n",
       "      <th>4414</th>\n",
       "      <td>0.659229</td>\n",
       "      <td>0.084030</td>\n",
       "      <td>-0.424660</td>\n",
       "      <td>-1.499180</td>\n",
       "      <td>0.656154</td>\n",
       "      <td>0.727224</td>\n",
       "      <td>0.704592</td>\n",
       "      <td>0.439598</td>\n",
       "      <td>0.219734</td>\n",
       "      <td>0.560903</td>\n",
       "      <td>...</td>\n",
       "      <td>-0.171996</td>\n",
       "      <td>-0.415768</td>\n",
       "      <td>-0.438213</td>\n",
       "      <td>0.161646</td>\n",
       "      <td>-0.899342</td>\n",
       "      <td>-0.387776</td>\n",
       "      <td>-0.524189</td>\n",
       "      <td>-0.564792</td>\n",
       "      <td>0.314907</td>\n",
       "      <td>-1.344552</td>\n",
       "    </tr>\n",
       "    <tr>\n",
       "      <th>461</th>\n",
       "      <td>0.081677</td>\n",
       "      <td>-0.666926</td>\n",
       "      <td>0.602858</td>\n",
       "      <td>-0.540178</td>\n",
       "      <td>-0.739698</td>\n",
       "      <td>-1.574996</td>\n",
       "      <td>0.367129</td>\n",
       "      <td>-1.062141</td>\n",
       "      <td>-0.044651</td>\n",
       "      <td>-0.777566</td>\n",
       "      <td>...</td>\n",
       "      <td>-0.906952</td>\n",
       "      <td>-0.897176</td>\n",
       "      <td>-0.224219</td>\n",
       "      <td>-0.960332</td>\n",
       "      <td>-0.329011</td>\n",
       "      <td>-0.954841</td>\n",
       "      <td>-1.014810</td>\n",
       "      <td>-0.320567</td>\n",
       "      <td>0.244564</td>\n",
       "      <td>0.145996</td>\n",
       "    </tr>\n",
       "    <tr>\n",
       "      <th>6163</th>\n",
       "      <td>0.037908</td>\n",
       "      <td>-0.226237</td>\n",
       "      <td>-0.671017</td>\n",
       "      <td>0.282118</td>\n",
       "      <td>0.779046</td>\n",
       "      <td>-0.082937</td>\n",
       "      <td>0.641417</td>\n",
       "      <td>-0.485273</td>\n",
       "      <td>0.111937</td>\n",
       "      <td>0.228093</td>\n",
       "      <td>...</td>\n",
       "      <td>-0.615593</td>\n",
       "      <td>0.808544</td>\n",
       "      <td>-0.297885</td>\n",
       "      <td>0.044912</td>\n",
       "      <td>0.060806</td>\n",
       "      <td>0.211820</td>\n",
       "      <td>0.291286</td>\n",
       "      <td>0.951318</td>\n",
       "      <td>-0.525188</td>\n",
       "      <td>-0.551235</td>\n",
       "    </tr>\n",
       "  </tbody>\n",
       "</table>\n",
       "<p>5 rows × 29 columns</p>\n",
       "</div>"
      ],
      "text/plain": [
       "       max_hand_distance  avg_l_hand_hip_distance  avg_r_hand_hip_distance  \\\n",
       "7445            1.114663                -0.887695                 2.163802   \n",
       "14385          -0.459723                -0.714570                -0.887570   \n",
       "4414            0.659229                 0.084030                -0.424660   \n",
       "461             0.081677                -0.666926                 0.602858   \n",
       "6163            0.037908                -0.226237                -0.671017   \n",
       "\n",
       "       max_stride_length  avg_l_hand_chest_distance  \\\n",
       "7445            1.179503                  -0.319814   \n",
       "14385           1.328990                   0.565833   \n",
       "4414           -1.499180                   0.656154   \n",
       "461            -0.540178                  -0.739698   \n",
       "6163            0.282118                   0.779046   \n",
       "\n",
       "       avg_r_hand_chest_distance  avg_l_elbow_hip_distance  \\\n",
       "7445                    0.352967                  0.272238   \n",
       "14385                   0.403955                  0.319680   \n",
       "4414                    0.727224                  0.704592   \n",
       "461                    -1.574996                  0.367129   \n",
       "6163                   -0.082937                  0.641417   \n",
       "\n",
       "       avg_r_elbow_hip_distance  avg_chest_pelvis_distance  \\\n",
       "7445                   0.611437                  -1.440289   \n",
       "14385                  0.050488                   0.318924   \n",
       "4414                   0.439598                   0.219734   \n",
       "461                   -1.062141                  -0.044651   \n",
       "6163                  -0.485273                   0.111937   \n",
       "\n",
       "       avg_neck_chest_distance  ...  l_foot_speed  r_foot_speed  neck_speed  \\\n",
       "7445                  0.358610  ...     -0.660194     -0.554406   -0.085022   \n",
       "14385                 0.479999  ...      1.009108      3.295503    2.433219   \n",
       "4414                  0.560903  ...     -0.171996     -0.415768   -0.438213   \n",
       "461                  -0.777566  ...     -0.906952     -0.897176   -0.224219   \n",
       "6163                  0.228093  ...     -0.615593      0.808544   -0.297885   \n",
       "\n",
       "       l_hand_acceleration_magnitude  r_hand_acceleration_magnitude  \\\n",
       "7445                       -1.153331                       0.660109   \n",
       "14385                       1.268149                       0.873656   \n",
       "4414                        0.161646                      -0.899342   \n",
       "461                        -0.960332                      -0.329011   \n",
       "6163                        0.044912                       0.060806   \n",
       "\n",
       "       l_foot_acceleration_magnitude  r_foot_acceleration_magnitude  \\\n",
       "7445                       -0.863834                      -0.818913   \n",
       "14385                       0.548101                       2.436761   \n",
       "4414                       -0.387776                      -0.524189   \n",
       "461                        -0.954841                      -1.014810   \n",
       "6163                        0.211820                       0.291286   \n",
       "\n",
       "       neck_acceleration_magnitude  average upper_body_volume  \\\n",
       "7445                     -0.604026                   0.043098   \n",
       "14385                     1.839166                  -0.885098   \n",
       "4414                     -0.564792                   0.314907   \n",
       "461                      -0.320567                   0.244564   \n",
       "6163                      0.951318                  -0.525188   \n",
       "\n",
       "       average lower_body_volume  \n",
       "7445                    1.161091  \n",
       "14385                  -0.626656  \n",
       "4414                   -1.344552  \n",
       "461                     0.145996  \n",
       "6163                   -0.551235  \n",
       "\n",
       "[5 rows x 29 columns]"
      ]
     },
     "execution_count": 25,
     "metadata": {},
     "output_type": "execute_result"
    }
   ],
   "source": [
    "train_X.head()"
   ]
  },
  {
   "cell_type": "code",
   "execution_count": 26,
   "metadata": {
    "scrolled": false
   },
   "outputs": [
    {
     "data": {
      "text/html": [
       "<div>\n",
       "<style scoped>\n",
       "    .dataframe tbody tr th:only-of-type {\n",
       "        vertical-align: middle;\n",
       "    }\n",
       "\n",
       "    .dataframe tbody tr th {\n",
       "        vertical-align: top;\n",
       "    }\n",
       "\n",
       "    .dataframe thead th {\n",
       "        text-align: right;\n",
       "    }\n",
       "</style>\n",
       "<table border=\"1\" class=\"dataframe\">\n",
       "  <thead>\n",
       "    <tr style=\"text-align: right;\">\n",
       "      <th></th>\n",
       "      <th>EMOTION_P</th>\n",
       "      <th>EMOTION_A</th>\n",
       "      <th>EMOTION_D</th>\n",
       "    </tr>\n",
       "  </thead>\n",
       "  <tbody>\n",
       "    <tr>\n",
       "      <th>7445</th>\n",
       "      <td>-0.6</td>\n",
       "      <td>-0.30</td>\n",
       "      <td>-0.3</td>\n",
       "    </tr>\n",
       "    <tr>\n",
       "      <th>14385</th>\n",
       "      <td>-0.5</td>\n",
       "      <td>0.60</td>\n",
       "      <td>0.9</td>\n",
       "    </tr>\n",
       "    <tr>\n",
       "      <th>4414</th>\n",
       "      <td>-0.4</td>\n",
       "      <td>0.25</td>\n",
       "      <td>-0.1</td>\n",
       "    </tr>\n",
       "    <tr>\n",
       "      <th>461</th>\n",
       "      <td>-0.6</td>\n",
       "      <td>-0.30</td>\n",
       "      <td>-0.3</td>\n",
       "    </tr>\n",
       "    <tr>\n",
       "      <th>6163</th>\n",
       "      <td>0.6</td>\n",
       "      <td>0.50</td>\n",
       "      <td>0.2</td>\n",
       "    </tr>\n",
       "  </tbody>\n",
       "</table>\n",
       "</div>"
      ],
      "text/plain": [
       "       EMOTION_P  EMOTION_A  EMOTION_D\n",
       "7445        -0.6      -0.30       -0.3\n",
       "14385       -0.5       0.60        0.9\n",
       "4414        -0.4       0.25       -0.1\n",
       "461         -0.6      -0.30       -0.3\n",
       "6163         0.6       0.50        0.2"
      ]
     },
     "execution_count": 26,
     "metadata": {},
     "output_type": "execute_result"
    }
   ],
   "source": [
    "train_y.head()"
   ]
  },
  {
   "cell_type": "code",
   "execution_count": 27,
   "metadata": {
    "scrolled": true
   },
   "outputs": [
    {
     "data": {
      "text/html": [
       "<div>\n",
       "<style scoped>\n",
       "    .dataframe tbody tr th:only-of-type {\n",
       "        vertical-align: middle;\n",
       "    }\n",
       "\n",
       "    .dataframe tbody tr th {\n",
       "        vertical-align: top;\n",
       "    }\n",
       "\n",
       "    .dataframe thead th {\n",
       "        text-align: right;\n",
       "    }\n",
       "</style>\n",
       "<table border=\"1\" class=\"dataframe\">\n",
       "  <thead>\n",
       "    <tr style=\"text-align: right;\">\n",
       "      <th></th>\n",
       "      <th>mean</th>\n",
       "      <th>std</th>\n",
       "    </tr>\n",
       "  </thead>\n",
       "  <tbody>\n",
       "    <tr>\n",
       "      <th>max_hand_distance</th>\n",
       "      <td>0.005090</td>\n",
       "      <td>1.001583</td>\n",
       "    </tr>\n",
       "    <tr>\n",
       "      <th>avg_l_hand_hip_distance</th>\n",
       "      <td>0.000180</td>\n",
       "      <td>1.001166</td>\n",
       "    </tr>\n",
       "    <tr>\n",
       "      <th>avg_r_hand_hip_distance</th>\n",
       "      <td>0.000325</td>\n",
       "      <td>0.998942</td>\n",
       "    </tr>\n",
       "    <tr>\n",
       "      <th>max_stride_length</th>\n",
       "      <td>0.001231</td>\n",
       "      <td>1.001363</td>\n",
       "    </tr>\n",
       "    <tr>\n",
       "      <th>avg_l_hand_chest_distance</th>\n",
       "      <td>0.002311</td>\n",
       "      <td>0.998030</td>\n",
       "    </tr>\n",
       "    <tr>\n",
       "      <th>avg_r_hand_chest_distance</th>\n",
       "      <td>-0.000104</td>\n",
       "      <td>1.000631</td>\n",
       "    </tr>\n",
       "    <tr>\n",
       "      <th>avg_l_elbow_hip_distance</th>\n",
       "      <td>0.001891</td>\n",
       "      <td>0.998028</td>\n",
       "    </tr>\n",
       "    <tr>\n",
       "      <th>avg_r_elbow_hip_distance</th>\n",
       "      <td>-0.000346</td>\n",
       "      <td>0.999937</td>\n",
       "    </tr>\n",
       "    <tr>\n",
       "      <th>avg_chest_pelvis_distance</th>\n",
       "      <td>0.000229</td>\n",
       "      <td>0.987058</td>\n",
       "    </tr>\n",
       "    <tr>\n",
       "      <th>avg_neck_chest_distance</th>\n",
       "      <td>-0.004117</td>\n",
       "      <td>1.011678</td>\n",
       "    </tr>\n",
       "    <tr>\n",
       "      <th>avg_neck_rotation_w</th>\n",
       "      <td>-0.000106</td>\n",
       "      <td>1.002123</td>\n",
       "    </tr>\n",
       "    <tr>\n",
       "      <th>avg_neck_rotation_x</th>\n",
       "      <td>-0.000994</td>\n",
       "      <td>0.998193</td>\n",
       "    </tr>\n",
       "    <tr>\n",
       "      <th>avg_neck_rotation_y</th>\n",
       "      <td>0.004034</td>\n",
       "      <td>0.995548</td>\n",
       "    </tr>\n",
       "    <tr>\n",
       "      <th>avg_neck_rotation_z</th>\n",
       "      <td>0.002895</td>\n",
       "      <td>0.999283</td>\n",
       "    </tr>\n",
       "    <tr>\n",
       "      <th>avg_total_body_volume</th>\n",
       "      <td>-0.004319</td>\n",
       "      <td>0.997811</td>\n",
       "    </tr>\n",
       "    <tr>\n",
       "      <th>avg_triangle_area_hands_neck</th>\n",
       "      <td>-0.000195</td>\n",
       "      <td>1.000560</td>\n",
       "    </tr>\n",
       "    <tr>\n",
       "      <th>avg_triangle_area_feet_hips</th>\n",
       "      <td>0.000481</td>\n",
       "      <td>1.001209</td>\n",
       "    </tr>\n",
       "    <tr>\n",
       "      <th>l_hand_speed</th>\n",
       "      <td>0.004741</td>\n",
       "      <td>1.001796</td>\n",
       "    </tr>\n",
       "    <tr>\n",
       "      <th>r_hand_speed</th>\n",
       "      <td>0.003233</td>\n",
       "      <td>1.000114</td>\n",
       "    </tr>\n",
       "    <tr>\n",
       "      <th>l_foot_speed</th>\n",
       "      <td>-0.000037</td>\n",
       "      <td>0.999819</td>\n",
       "    </tr>\n",
       "    <tr>\n",
       "      <th>r_foot_speed</th>\n",
       "      <td>0.002354</td>\n",
       "      <td>1.002621</td>\n",
       "    </tr>\n",
       "    <tr>\n",
       "      <th>neck_speed</th>\n",
       "      <td>-0.000786</td>\n",
       "      <td>1.000583</td>\n",
       "    </tr>\n",
       "    <tr>\n",
       "      <th>l_hand_acceleration_magnitude</th>\n",
       "      <td>0.003806</td>\n",
       "      <td>1.000809</td>\n",
       "    </tr>\n",
       "    <tr>\n",
       "      <th>r_hand_acceleration_magnitude</th>\n",
       "      <td>0.000365</td>\n",
       "      <td>0.999755</td>\n",
       "    </tr>\n",
       "    <tr>\n",
       "      <th>l_foot_acceleration_magnitude</th>\n",
       "      <td>-0.003595</td>\n",
       "      <td>0.998822</td>\n",
       "    </tr>\n",
       "    <tr>\n",
       "      <th>r_foot_acceleration_magnitude</th>\n",
       "      <td>-0.003726</td>\n",
       "      <td>0.995189</td>\n",
       "    </tr>\n",
       "    <tr>\n",
       "      <th>neck_acceleration_magnitude</th>\n",
       "      <td>-0.002051</td>\n",
       "      <td>1.002066</td>\n",
       "    </tr>\n",
       "    <tr>\n",
       "      <th>average upper_body_volume</th>\n",
       "      <td>-0.006464</td>\n",
       "      <td>0.998511</td>\n",
       "    </tr>\n",
       "    <tr>\n",
       "      <th>average lower_body_volume</th>\n",
       "      <td>0.000384</td>\n",
       "      <td>0.995311</td>\n",
       "    </tr>\n",
       "  </tbody>\n",
       "</table>\n",
       "</div>"
      ],
      "text/plain": [
       "                                   mean       std\n",
       "max_hand_distance              0.005090  1.001583\n",
       "avg_l_hand_hip_distance        0.000180  1.001166\n",
       "avg_r_hand_hip_distance        0.000325  0.998942\n",
       "max_stride_length              0.001231  1.001363\n",
       "avg_l_hand_chest_distance      0.002311  0.998030\n",
       "avg_r_hand_chest_distance     -0.000104  1.000631\n",
       "avg_l_elbow_hip_distance       0.001891  0.998028\n",
       "avg_r_elbow_hip_distance      -0.000346  0.999937\n",
       "avg_chest_pelvis_distance      0.000229  0.987058\n",
       "avg_neck_chest_distance       -0.004117  1.011678\n",
       "avg_neck_rotation_w           -0.000106  1.002123\n",
       "avg_neck_rotation_x           -0.000994  0.998193\n",
       "avg_neck_rotation_y            0.004034  0.995548\n",
       "avg_neck_rotation_z            0.002895  0.999283\n",
       "avg_total_body_volume         -0.004319  0.997811\n",
       "avg_triangle_area_hands_neck  -0.000195  1.000560\n",
       "avg_triangle_area_feet_hips    0.000481  1.001209\n",
       "l_hand_speed                   0.004741  1.001796\n",
       "r_hand_speed                   0.003233  1.000114\n",
       "l_foot_speed                  -0.000037  0.999819\n",
       "r_foot_speed                   0.002354  1.002621\n",
       "neck_speed                    -0.000786  1.000583\n",
       "l_hand_acceleration_magnitude  0.003806  1.000809\n",
       "r_hand_acceleration_magnitude  0.000365  0.999755\n",
       "l_foot_acceleration_magnitude -0.003595  0.998822\n",
       "r_foot_acceleration_magnitude -0.003726  0.995189\n",
       "neck_acceleration_magnitude   -0.002051  1.002066\n",
       "average upper_body_volume     -0.006464  0.998511\n",
       "average lower_body_volume      0.000384  0.995311"
      ]
     },
     "execution_count": 27,
     "metadata": {},
     "output_type": "execute_result"
    }
   ],
   "source": [
    "train_X.describe().transpose()[['mean', 'std']]"
   ]
  },
  {
   "cell_type": "markdown",
   "metadata": {},
   "source": [
    "## RandomSearchCV"
   ]
  },
  {
   "cell_type": "code",
   "execution_count": 38,
   "metadata": {},
   "outputs": [],
   "source": [
    "# A parameter grid for XGBoost\n",
    "# https://www.analyticsvidhya.com/blog/2016/03/complete-guide-parameter-tuning-xgboost-with-codes-python/\n",
    "params = {\n",
    "        'eta': [0.01, 0.05, 0.1],\n",
    "        'min_child_weight': [1, 5, 11, 21],\n",
    "        'max_depth': [3, 6, 10, 15],\n",
    "        'gamma': [0, 0.001, 0.01],\n",
    "        'subsample': [0.75, 1],\n",
    "        'colsample_bytree': [0.75, 1],\n",
    "        'lambda': [1, 1.25],\n",
    "        'alpha': [0.0, 0.25]\n",
    "        }\n",
    "\n",
    "n_iter = 150"
   ]
  },
  {
   "cell_type": "code",
   "execution_count": 39,
   "metadata": {},
   "outputs": [],
   "source": [
    "model_p = xgb.XGBRegressor(\n",
    "                    n_estimators=1500,\n",
    "                    objective=\"reg:squarederror\",\n",
    "                    tree_method='gpu_hist'\n",
    "                )\n",
    "\n",
    "model_a = xgb.XGBRegressor(\n",
    "                    n_estimators=1500,\n",
    "                    objective=\"reg:squarederror\",\n",
    "                    tree_method='gpu_hist'\n",
    "                )\n",
    "\n",
    "model_d = xgb.XGBRegressor(\n",
    "                    n_estimators=1500,\n",
    "                    objective=\"reg:squarederror\",\n",
    "                    tree_method='gpu_hist'\n",
    "                )"
   ]
  },
  {
   "cell_type": "code",
   "execution_count": null,
   "metadata": {},
   "outputs": [],
   "source": [
    "# Pleasure\n",
    "# run randomized search\n",
    "kfold = KFold(n_splits=5, shuffle=True)\n",
    "\n",
    "random_search_p = RandomizedSearchCV(model_p, param_distributions=params,\n",
    "                               cv=kfold, scoring='neg_mean_squared_error', n_iter = n_iter)\n",
    "\n",
    "start = time.time()\n",
    "random_search_p.fit(train_X, train_y_p)\n",
    "\n",
    "\n",
    "print(\"GridSearchCV took %.2f seconds\"\n",
    "      \" parameter settings.\" % ((time.time() - start)))"
   ]
  },
  {
   "cell_type": "code",
   "execution_count": null,
   "metadata": {},
   "outputs": [],
   "source": [
    "# Arousal\n",
    "kfold = KFold(n_splits=5, shuffle=True)\n",
    "\n",
    "random_search_a = RandomizedSearchCV(model_a, param_distributions=params,\n",
    "                               cv=kfold, scoring='neg_mean_squared_error', n_iter = n_iter)\n",
    "\n",
    "start = time.time()\n",
    "random_search_a.fit(train_X, train_y_a)\n",
    "\n",
    "\n",
    "print(\"RandomizedSearchCV took %.2f seconds for %d candidates\"\n",
    "      \" parameter settings.\" % ((time.time() - start), n_iter_search))"
   ]
  },
  {
   "cell_type": "code",
   "execution_count": null,
   "metadata": {},
   "outputs": [],
   "source": [
    "# Dominance\n",
    "kfold = KFold(n_splits=5, shuffle=True)\n",
    "\n",
    "random_search_d = RandomizedSearchCV(model_d, param_distributions=params,\n",
    "                               cv=kfold, scoring='neg_mean_squared_error', n_iter = n_iter)\n",
    "\n",
    "start = time.time()\n",
    "random_search_d.fit(train_X, train_y_d)\n",
    "\n",
    "\n",
    "print(\"RandomizedSearchCV took %.2f seconds for %d candidates\"\n",
    "      \" parameter settings.\" % ((time.time() - start), n_iter_search))"
   ]
  },
  {
   "cell_type": "markdown",
   "metadata": {},
   "source": [
    "### Results"
   ]
  },
  {
   "cell_type": "code",
   "execution_count": null,
   "metadata": {},
   "outputs": [],
   "source": [
    "best_regressor_p = random_search_p.best_estimator_\n",
    "\n",
    "print(best_regressor_p.get_params())"
   ]
  },
  {
   "cell_type": "code",
   "execution_count": null,
   "metadata": {},
   "outputs": [],
   "source": [
    "best_regressor_a = random_search_a.best_estimator_\n",
    "\n",
    "print(best_regressor_a.get_params())"
   ]
  },
  {
   "cell_type": "code",
   "execution_count": null,
   "metadata": {},
   "outputs": [],
   "source": [
    "best_regressor_d = random_search_d.best_estimator_\n",
    "\n",
    "print(best_regressor_d.get_params())"
   ]
  },
  {
   "cell_type": "code",
   "execution_count": null,
   "metadata": {},
   "outputs": [],
   "source": [
    "pred_y_p = best_regressor_p.predict(test_X)\n",
    "mse = mean_squared_error(test_y_p, pred_y_p)\n",
    "mae = mean_absolute_error(test_y_p, pred_y_p)\n",
    "print(\"Pleasure\")\n",
    "print(\"MSE: %.2f\" % mse)\n",
    "print(\"MAE: %.2f\" % mae)\n",
    "\n",
    "pred_y_a = best_regressor_a.predict(test_X)\n",
    "mse = mean_squared_error(test_y_a, pred_y_a)\n",
    "mae = mean_absolute_error(test_y_a, pred_y_a)\n",
    "print(\"\\n\\nArousal\")\n",
    "print(\"MSE: %.2f\" % mse)\n",
    "print(\"MAE: %.2f\" % mae)\n",
    "\n",
    "pred_y_d = best_regressor_d.predict(test_X)\n",
    "mse = mean_squared_error(test_y_d, pred_y_d)\n",
    "mae = mean_absolute_error(test_y_d, pred_y_d)\n",
    "print(\"\\n\\nArousal\")\n",
    "print(\"MSE: %.2f\" % mse)\n",
    "print(\"MAE: %.2f\" % mae)"
   ]
  },
  {
   "cell_type": "markdown",
   "metadata": {},
   "source": [
    "### Predictions"
   ]
  },
  {
   "cell_type": "code",
   "execution_count": null,
   "metadata": {
    "scrolled": true
   },
   "outputs": [],
   "source": [
    "sample_no = 6\n",
    "row=test_X.iloc[sample_no]\n",
    "\n",
    "x = np.asarray([row])\n",
    "\n",
    "y_p = best_regressor_p.predict(x)\n",
    "y_a = best_regressor_a.predict(x)\n",
    "y_d = best_regressor_d.predict(x)\n",
    "\n",
    "\n",
    "print('Real: %s' % np.asarray(test_y.iloc[sample_no]))\n",
    "print('Predicted: %s' % [y_p[0], y_a[0], y_d[0]])"
   ]
  },
  {
   "cell_type": "markdown",
   "metadata": {},
   "source": [
    "## GridSearchCV"
   ]
  },
  {
   "cell_type": "code",
   "execution_count": 128,
   "metadata": {},
   "outputs": [],
   "source": [
    "# A parameter grid for XGBoost\n",
    "# https://www.analyticsvidhya.com/blog/2016/03/complete-guide-parameter-tuning-xgboost-with-codes-python/\n",
    "params = {\n",
    "        'eta': [0.01, 0.05, 0.1],\n",
    "        'min_child_weight': [1, 5, 11, 21],\n",
    "        'max_depth': [3, 6, 10, 15],\n",
    "        'gamma': [0, 0.001, 0.01],\n",
    "        'subsample': [0.75, 1],\n",
    "        'colsample_bytree': [0.75, 1],\n",
    "        'lambda': [1, 1.25],\n",
    "        'alpha': [0.0, 0.25]\n",
    "        }\n",
    "#params = {\n",
    "#        'n_estimators': [1000, 2000],\n",
    "#        'min_child_weight': [10, 25],\n",
    "#        'gamma': [0, 0.005, 0.01],\n",
    "#        'learning_rate': [0.01, 0.07, 0.1],\n",
    "#        'max_depth': [10, 20],\n",
    "#        'lambda': [1, 1.25],\n",
    "#        'alpha': [0.0, 0.25]\n",
    "#        }"
   ]
  },
  {
   "cell_type": "code",
   "execution_count": 129,
   "metadata": {},
   "outputs": [],
   "source": [
    "model_p = xgb.XGBRegressor(\n",
    "                    n_estimators=1500,\n",
    "                    objective=\"reg:squarederror\",\n",
    "                    tree_method='gpu_hist'\n",
    "                )\n",
    "\n",
    "model_a = xgb.XGBRegressor(\n",
    "                    n_estimators=1500,\n",
    "                    objective=\"reg:squarederror\",\n",
    "                    tree_method='gpu_hist'\n",
    "                )\n",
    "\n",
    "model_d = xgb.XGBRegressor(\n",
    "                    n_estimators=1500,\n",
    "                    objective=\"reg:squarederror\",\n",
    "                    tree_method='gpu_hist'\n",
    "                )"
   ]
  },
  {
   "cell_type": "code",
   "execution_count": 130,
   "metadata": {},
   "outputs": [
    {
     "name": "stdout",
     "output_type": "stream",
     "text": [
      "GridSearchCV took 34187.72 seconds parameter settings.\n"
     ]
    }
   ],
   "source": [
    "# Pleasure\n",
    "# run randomized search\n",
    "kfold = KFold(n_splits=5, shuffle=True)\n",
    "\n",
    "random_search_p = GridSearchCV(model_p, param_grid=params,\n",
    "                               cv=kfold, scoring='neg_mean_squared_error')\n",
    "\n",
    "start = time.time()\n",
    "random_search_p.fit(train_X, train_y_p)\n",
    "\n",
    "\n",
    "print(\"GridSearchCV took %.2f seconds\"\n",
    "      \" parameter settings.\" % ((time.time() - start)))"
   ]
  },
  {
   "cell_type": "code",
   "execution_count": 131,
   "metadata": {},
   "outputs": [
    {
     "name": "stdout",
     "output_type": "stream",
     "text": [
      "RandomizedSearchCV took 33562.72 seconds for 100 candidates parameter settings.\n"
     ]
    }
   ],
   "source": [
    "# Arousal\n",
    "kfold = KFold(n_splits=5, shuffle=True)\n",
    "\n",
    "random_search_a = GridSearchCV(model_a, param_grid=params,\n",
    "                               cv=kfold, scoring='neg_mean_squared_error')\n",
    "\n",
    "start = time.time()\n",
    "random_search_a.fit(train_X, train_y_a)\n",
    "\n",
    "\n",
    "print(\"RandomizedSearchCV took %.2f seconds for %d candidates\"\n",
    "      \" parameter settings.\" % ((time.time() - start), n_iter_search))"
   ]
  },
  {
   "cell_type": "code",
   "execution_count": null,
   "metadata": {},
   "outputs": [],
   "source": [
    "# Dominance\n",
    "kfold = KFold(n_splits=5, shuffle=True)\n",
    "\n",
    "random_search_d = GridSearchCV(model_d, param_grid=params,\n",
    "                               cv=kfold, scoring='neg_mean_squared_error')\n",
    "\n",
    "start = time.time()\n",
    "random_search_d.fit(train_X, train_y_d)\n",
    "\n",
    "\n",
    "print(\"RandomizedSearchCV took %.2f seconds for %d candidates\"\n",
    "      \" parameter settings.\" % ((time.time() - start), n_iter_search))"
   ]
  },
  {
   "cell_type": "markdown",
   "metadata": {},
   "source": [
    "### Results"
   ]
  },
  {
   "cell_type": "code",
   "execution_count": 83,
   "metadata": {},
   "outputs": [
    {
     "name": "stdout",
     "output_type": "stream",
     "text": [
      "{'objective': 'reg:squarederror', 'base_score': 0.5, 'booster': 'gbtree', 'colsample_bylevel': 1, 'colsample_bynode': 1, 'colsample_bytree': 1, 'enable_categorical': False, 'gamma': 0, 'gpu_id': 0, 'importance_type': None, 'interaction_constraints': '', 'learning_rate': 0.0500000007, 'max_delta_step': 0, 'max_depth': 15, 'min_child_weight': 21, 'missing': nan, 'monotone_constraints': '()', 'n_estimators': 1500, 'n_jobs': 12, 'num_parallel_tree': 1, 'predictor': 'auto', 'random_state': 0, 'reg_alpha': 0.25, 'reg_lambda': 1.25, 'scale_pos_weight': 1, 'subsample': 0.75, 'tree_method': 'gpu_hist', 'validate_parameters': 1, 'verbosity': None, 'lambda': 1.25, 'eta': 0.05, 'alpha': 0.25}\n"
     ]
    }
   ],
   "source": [
    "best_regressor_p = random_search_p.best_estimator_\n",
    "\n",
    "print(best_regressor_p.get_params())"
   ]
  },
  {
   "cell_type": "code",
   "execution_count": 84,
   "metadata": {},
   "outputs": [
    {
     "name": "stdout",
     "output_type": "stream",
     "text": [
      "{'objective': 'reg:squarederror', 'base_score': 0.5, 'booster': 'gbtree', 'colsample_bylevel': 1, 'colsample_bynode': 1, 'colsample_bytree': 0.75, 'enable_categorical': False, 'gamma': 0, 'gpu_id': 0, 'importance_type': None, 'interaction_constraints': '', 'learning_rate': 0.0500000007, 'max_delta_step': 0, 'max_depth': 15, 'min_child_weight': 21, 'missing': nan, 'monotone_constraints': '()', 'n_estimators': 1500, 'n_jobs': 12, 'num_parallel_tree': 1, 'predictor': 'auto', 'random_state': 0, 'reg_alpha': 0, 'reg_lambda': 1.25, 'scale_pos_weight': 1, 'subsample': 0.75, 'tree_method': 'gpu_hist', 'validate_parameters': 1, 'verbosity': None, 'lambda': 1.25, 'eta': 0.05, 'alpha': 0.0}\n"
     ]
    }
   ],
   "source": [
    "best_regressor_a = random_search_a.best_estimator_\n",
    "\n",
    "print(best_regressor_a.get_params())"
   ]
  },
  {
   "cell_type": "code",
   "execution_count": 85,
   "metadata": {},
   "outputs": [
    {
     "name": "stdout",
     "output_type": "stream",
     "text": [
      "{'objective': 'reg:squarederror', 'base_score': 0.5, 'booster': 'gbtree', 'colsample_bylevel': 1, 'colsample_bynode': 1, 'colsample_bytree': 1, 'enable_categorical': False, 'gamma': 0, 'gpu_id': 0, 'importance_type': None, 'interaction_constraints': '', 'learning_rate': 0.0500000007, 'max_delta_step': 0, 'max_depth': 15, 'min_child_weight': 21, 'missing': nan, 'monotone_constraints': '()', 'n_estimators': 1500, 'n_jobs': 12, 'num_parallel_tree': 1, 'predictor': 'auto', 'random_state': 0, 'reg_alpha': 0.25, 'reg_lambda': 1.25, 'scale_pos_weight': 1, 'subsample': 0.75, 'tree_method': 'gpu_hist', 'validate_parameters': 1, 'verbosity': None, 'lambda': 1.25, 'eta': 0.05, 'alpha': 0.25}\n"
     ]
    }
   ],
   "source": [
    "best_regressor_d = random_search_d.best_estimator_\n",
    "\n",
    "print(best_regressor_d.get_params())"
   ]
  },
  {
   "cell_type": "code",
   "execution_count": 86,
   "metadata": {},
   "outputs": [
    {
     "name": "stdout",
     "output_type": "stream",
     "text": [
      "Pleasure\n",
      "MSE: 0.03\n",
      "MAE: 0.06\n",
      "\n",
      "\n",
      "Arousal\n",
      "MSE: 0.02\n",
      "MAE: 0.05\n",
      "\n",
      "\n",
      "Arousal\n",
      "MSE: 0.04\n",
      "MAE: 0.07\n"
     ]
    }
   ],
   "source": [
    "pred_y_p = best_regressor_p.predict(test_X)\n",
    "mse = mean_squared_error(test_y_p, pred_y_p)\n",
    "mae = mean_absolute_error(test_y_p, pred_y_p)\n",
    "print(\"Pleasure\")\n",
    "print(\"MSE: %.2f\" % mse)\n",
    "print(\"MAE: %.2f\" % mae)\n",
    "\n",
    "pred_y_a = best_regressor_a.predict(test_X)\n",
    "mse = mean_squared_error(test_y_a, pred_y_a)\n",
    "mae = mean_absolute_error(test_y_a, pred_y_a)\n",
    "print(\"\\n\\nArousal\")\n",
    "print(\"MSE: %.2f\" % mse)\n",
    "print(\"MAE: %.2f\" % mae)\n",
    "\n",
    "pred_y_d = best_regressor_d.predict(test_X)\n",
    "mse = mean_squared_error(test_y_d, pred_y_d)\n",
    "mae = mean_absolute_error(test_y_d, pred_y_d)\n",
    "print(\"\\n\\nArousal\")\n",
    "print(\"MSE: %.2f\" % mse)\n",
    "print(\"MAE: %.2f\" % mae)"
   ]
  },
  {
   "cell_type": "markdown",
   "metadata": {},
   "source": [
    "### Predictions"
   ]
  },
  {
   "cell_type": "code",
   "execution_count": 144,
   "metadata": {
    "scrolled": true
   },
   "outputs": [
    {
     "name": "stdout",
     "output_type": "stream",
     "text": [
      "Real: [-0.5 -0.7]\n",
      "Predicted: [-0.542336, -0.690465]\n"
     ]
    }
   ],
   "source": [
    "sample_no = 6\n",
    "row=test_X.iloc[sample_no]\n",
    "\n",
    "x = np.asarray([row])\n",
    "\n",
    "y_p = best_regressor_p.predict(x)\n",
    "y_a = best_regressor_a.predict(x)\n",
    "y_d = best_regressor_d.predict(x)\n",
    "\n",
    "\n",
    "print('Real: %s' % np.asarray(test_y.iloc[sample_no]))\n",
    "print('Predicted: %s' % [y_p[0], y_a[0], y_d[0]])"
   ]
  },
  {
   "cell_type": "markdown",
   "metadata": {},
   "source": [
    "\n"
   ]
  },
  {
   "cell_type": "markdown",
   "metadata": {},
   "source": [
    "\n"
   ]
  },
  {
   "cell_type": "markdown",
   "metadata": {},
   "source": [
    "\n"
   ]
  },
  {
   "cell_type": "markdown",
   "metadata": {},
   "source": [
    "\n"
   ]
  },
  {
   "cell_type": "markdown",
   "metadata": {},
   "source": [
    "\n"
   ]
  },
  {
   "cell_type": "markdown",
   "metadata": {},
   "source": [
    "\n"
   ]
  },
  {
   "cell_type": "markdown",
   "metadata": {},
   "source": [
    "\n"
   ]
  },
  {
   "cell_type": "markdown",
   "metadata": {},
   "source": [
    "\n"
   ]
  },
  {
   "cell_type": "markdown",
   "metadata": {},
   "source": [
    "\n"
   ]
  },
  {
   "cell_type": "markdown",
   "metadata": {},
   "source": [
    "\n"
   ]
  },
  {
   "cell_type": "markdown",
   "metadata": {},
   "source": [
    "\n"
   ]
  },
  {
   "cell_type": "markdown",
   "metadata": {},
   "source": [
    "\n"
   ]
  },
  {
   "cell_type": "markdown",
   "metadata": {},
   "source": [
    "\n"
   ]
  },
  {
   "cell_type": "markdown",
   "metadata": {},
   "source": [
    "\n"
   ]
  },
  {
   "cell_type": "markdown",
   "metadata": {},
   "source": [
    "\n"
   ]
  },
  {
   "cell_type": "markdown",
   "metadata": {},
   "source": [
    "\n"
   ]
  },
  {
   "cell_type": "markdown",
   "metadata": {},
   "source": [
    "\n"
   ]
  },
  {
   "cell_type": "markdown",
   "metadata": {},
   "source": [
    "\n"
   ]
  },
  {
   "cell_type": "markdown",
   "metadata": {},
   "source": [
    "\n"
   ]
  }
 ],
 "metadata": {
  "kernelspec": {
   "display_name": "Python 3",
   "language": "python",
   "name": "python3"
  },
  "language_info": {
   "codemirror_mode": {
    "name": "ipython",
    "version": 3
   },
   "file_extension": ".py",
   "mimetype": "text/x-python",
   "name": "python",
   "nbconvert_exporter": "python",
   "pygments_lexer": "ipython3",
   "version": "3.7.5"
  }
 },
 "nbformat": 4,
 "nbformat_minor": 5
}
