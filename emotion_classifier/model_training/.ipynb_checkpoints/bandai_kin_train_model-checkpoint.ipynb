{
 "cells": [
  {
   "cell_type": "markdown",
   "metadata": {},
   "source": [
    "# XGBRegression (LMA features to P,A,D coordinates)"
   ]
  },
  {
   "cell_type": "code",
   "execution_count": 1,
   "metadata": {},
   "outputs": [],
   "source": [
    "# Current best:\n",
    "#{'objective': 'reg:squarederror', 'base_score': 0.5, 'booster': 'gbtree', 'colsample_bylevel': 1, 'colsample_bynode': 1, 'colsample_bytree': 0.75, 'enable_categorical': False, 'gamma': 0, 'gpu_id': 0, 'importance_type': None, 'interaction_constraints': '', 'learning_rate': 0.0500000007, 'max_delta_step': 0, 'max_depth': 15, 'min_child_weight': 5, 'missing': nan, 'monotone_constraints': '()', 'n_estimators': 1500, 'n_jobs': 12, 'num_parallel_tree': 1, 'predictor': 'auto', 'random_state': 0, 'reg_alpha': 0.25, 'reg_lambda': 1.25, 'scale_pos_weight': 1, 'subsample': 0.75, 'tree_method': 'gpu_hist', 'validate_parameters': 1, 'verbosity': None, 'lambda': 1.25, 'eta': 0.05, 'alpha': 0.25}\n",
    "#{'objective': 'reg:squarederror', 'base_score': 0.5, 'booster': 'gbtree', 'colsample_bylevel': 1, 'colsample_bynode': 1, 'colsample_bytree': 0.75, 'enable_categorical': False, 'gamma': 0, 'gpu_id': 0, 'importance_type': None, 'interaction_constraints': '', 'learning_rate': 0.00999999978, 'max_delta_step': 0, 'max_depth': 15, 'min_child_weight': 11, 'missing': nan, 'monotone_constraints': '()', 'n_estimators': 1500, 'n_jobs': 12, 'num_parallel_tree': 1, 'predictor': 'auto', 'random_state': 0, 'reg_alpha': 0.25, 'reg_lambda': 1.25, 'scale_pos_weight': 1, 'subsample': 1, 'tree_method': 'gpu_hist', 'validate_parameters': 1, 'verbosity': None, 'lambda': 1.25, 'eta': 0.01, 'alpha': 0.25}\n",
    "#{'objective': 'reg:squarederror', 'base_score': 0.5, 'booster': 'gbtree', 'colsample_bylevel': 1, 'colsample_bynode': 1, 'colsample_bytree': 0.75, 'enable_categorical': False, 'gamma': 0, 'gpu_id': 0, 'importance_type': None, 'interaction_constraints': '', 'learning_rate': 0.0500000007, 'max_delta_step': 0, 'max_depth': 10, 'min_child_weight': 5, 'missing': nan, 'monotone_constraints': '()', 'n_estimators': 1500, 'n_jobs': 12, 'num_parallel_tree': 1, 'predictor': 'auto', 'random_state': 0, 'reg_alpha': 0.25, 'reg_lambda': 1, 'scale_pos_weight': 1, 'subsample': 1, 'tree_method': 'gpu_hist', 'validate_parameters': 1, 'verbosity': None, 'lambda': 1, 'eta': 0.05, 'alpha': 0.25}"
   ]
  },
  {
   "cell_type": "markdown",
   "metadata": {},
   "source": [
    "## Imports"
   ]
  },
  {
   "cell_type": "code",
   "execution_count": 1,
   "metadata": {},
   "outputs": [],
   "source": [
    "import matplotlib.pyplot as plt\n",
    "import numpy as np\n",
    "import pandas as pd\n",
    "import seaborn as sns\n",
    "import matplotlib.lines as mlines\n",
    "\n",
    "import tensorflow as tf\n",
    "\n",
    "import sklearn\n",
    "from sklearn.model_selection import cross_val_score, KFold, StratifiedKFold\n",
    "\n",
    "import xgboost as xgb\n",
    "\n",
    "xgb.set_config(verbosity=0)\n",
    "\n",
    "from sklearn.metrics import mean_squared_error, mean_absolute_error\n",
    "from sklearn.preprocessing import normalize\n",
    "\n",
    "from sklearn.utils import shuffle\n",
    "from mpl_toolkits import mplot3d"
   ]
  },
  {
   "cell_type": "markdown",
   "metadata": {},
   "source": [
    "## Load Data"
   ]
  },
  {
   "cell_type": "code",
   "execution_count": 2,
   "metadata": {},
   "outputs": [
    {
     "name": "stdout",
     "output_type": "stream",
     "text": [
      "(132847, 28)\n"
     ]
    }
   ],
   "source": [
    "dataset = pd.read_csv('datasets/O_S_BANDAI_KIN5_5frame.csv')\n",
    "print(dataset.shape)"
   ]
  },
  {
   "cell_type": "markdown",
   "metadata": {},
   "source": [
    "### Split into Test and Train data"
   ]
  },
  {
   "cell_type": "code",
   "execution_count": 3,
   "metadata": {},
   "outputs": [
    {
     "name": "stdout",
     "output_type": "stream",
     "text": [
      "No Training Samples: 106278\n",
      "No Test Samples: 26569\n"
     ]
    }
   ],
   "source": [
    "train_dataset = dataset.sample(frac=0.8, random_state=42)\n",
    "test_dataset = dataset.drop(train_dataset.index)\n",
    "\n",
    "print(\"No Training Samples:\",train_dataset.shape[0])\n",
    "print(\"No Test Samples:\",test_dataset.shape[0])\n",
    "\n",
    "train_dataset = shuffle(train_dataset)\n",
    "test_dataset = shuffle(test_dataset)"
   ]
  },
  {
   "cell_type": "markdown",
   "metadata": {},
   "source": [
    "### Split Features from Targets"
   ]
  },
  {
   "cell_type": "code",
   "execution_count": 4,
   "metadata": {},
   "outputs": [],
   "source": [
    "train_X = train_dataset.copy()\n",
    "test_X = test_dataset.copy()\n",
    "\n",
    "train_y = pd.concat([train_X.pop(x) for x in ['EMOTION_P', 'EMOTION_A', 'EMOTION_D']], axis=1)\n",
    "test_y = pd.concat([test_X.pop(x) for x in ['EMOTION_P', 'EMOTION_A', 'EMOTION_D']], axis=1)\n",
    "\n",
    "test_y_p = test_y.iloc[:,0]\n",
    "train_y_p = train_y.iloc[:,0]\n",
    "\n",
    "test_y_a = test_y.iloc[:,1]\n",
    "train_y_a = train_y.iloc[:,1]\n",
    "\n",
    "test_y_d = test_y.iloc[:,2]\n",
    "train_y_d = train_y.iloc[:,2]"
   ]
  },
  {
   "cell_type": "code",
   "execution_count": 5,
   "metadata": {},
   "outputs": [
    {
     "data": {
      "text/html": [
       "<div>\n",
       "<style scoped>\n",
       "    .dataframe tbody tr th:only-of-type {\n",
       "        vertical-align: middle;\n",
       "    }\n",
       "\n",
       "    .dataframe tbody tr th {\n",
       "        vertical-align: top;\n",
       "    }\n",
       "\n",
       "    .dataframe thead th {\n",
       "        text-align: right;\n",
       "    }\n",
       "</style>\n",
       "<table border=\"1\" class=\"dataframe\">\n",
       "  <thead>\n",
       "    <tr style=\"text-align: right;\">\n",
       "      <th></th>\n",
       "      <th>max_hand_distance</th>\n",
       "      <th>avg_l_hand_hip_distance</th>\n",
       "      <th>avg_r_hand_hip_distance</th>\n",
       "      <th>max_stride_length</th>\n",
       "      <th>avg_l_hand_chest_distance</th>\n",
       "      <th>avg_r_hand_chest_distance</th>\n",
       "      <th>avg_l_elbow_hip_distance</th>\n",
       "      <th>avg_r_elbow_hip_distance</th>\n",
       "      <th>avg_chest_pelvis_distance</th>\n",
       "      <th>avg_neck_chest_distance</th>\n",
       "      <th>...</th>\n",
       "      <th>l_hand_speed</th>\n",
       "      <th>r_hand_speed</th>\n",
       "      <th>l_foot_speed</th>\n",
       "      <th>r_foot_speed</th>\n",
       "      <th>neck_speed</th>\n",
       "      <th>l_hand_acceleration_magnitude</th>\n",
       "      <th>r_hand_acceleration_magnitude</th>\n",
       "      <th>l_foot_acceleration_magnitude</th>\n",
       "      <th>r_foot_acceleration_magnitude</th>\n",
       "      <th>neck_acceleration_magnitude</th>\n",
       "    </tr>\n",
       "  </thead>\n",
       "  <tbody>\n",
       "    <tr>\n",
       "      <th>129829</th>\n",
       "      <td>-2.238547</td>\n",
       "      <td>-0.074934</td>\n",
       "      <td>-0.311225</td>\n",
       "      <td>-0.499075</td>\n",
       "      <td>-1.030521</td>\n",
       "      <td>-1.651423</td>\n",
       "      <td>-0.941704</td>\n",
       "      <td>-0.391272</td>\n",
       "      <td>0.193529</td>\n",
       "      <td>-0.455833</td>\n",
       "      <td>...</td>\n",
       "      <td>0.546115</td>\n",
       "      <td>0.817486</td>\n",
       "      <td>0.785736</td>\n",
       "      <td>0.777741</td>\n",
       "      <td>0.874237</td>\n",
       "      <td>-0.098441</td>\n",
       "      <td>-0.707429</td>\n",
       "      <td>-0.852207</td>\n",
       "      <td>-0.865165</td>\n",
       "      <td>-0.791058</td>\n",
       "    </tr>\n",
       "    <tr>\n",
       "      <th>115650</th>\n",
       "      <td>-0.580299</td>\n",
       "      <td>-0.987055</td>\n",
       "      <td>-0.721442</td>\n",
       "      <td>-0.022120</td>\n",
       "      <td>-0.145368</td>\n",
       "      <td>0.071038</td>\n",
       "      <td>-0.424198</td>\n",
       "      <td>-0.438682</td>\n",
       "      <td>1.279148</td>\n",
       "      <td>-0.218522</td>\n",
       "      <td>...</td>\n",
       "      <td>0.720759</td>\n",
       "      <td>0.768745</td>\n",
       "      <td>0.792733</td>\n",
       "      <td>0.563307</td>\n",
       "      <td>0.666667</td>\n",
       "      <td>-0.540780</td>\n",
       "      <td>-0.228615</td>\n",
       "      <td>-0.649995</td>\n",
       "      <td>-0.077696</td>\n",
       "      <td>-0.202870</td>\n",
       "    </tr>\n",
       "    <tr>\n",
       "      <th>63514</th>\n",
       "      <td>-0.739363</td>\n",
       "      <td>0.116664</td>\n",
       "      <td>-0.675405</td>\n",
       "      <td>0.073087</td>\n",
       "      <td>-0.330999</td>\n",
       "      <td>-1.046061</td>\n",
       "      <td>-1.759293</td>\n",
       "      <td>-1.478181</td>\n",
       "      <td>-0.817117</td>\n",
       "      <td>-0.257403</td>\n",
       "      <td>...</td>\n",
       "      <td>-1.295003</td>\n",
       "      <td>0.486023</td>\n",
       "      <td>-0.536165</td>\n",
       "      <td>-1.371421</td>\n",
       "      <td>-0.433123</td>\n",
       "      <td>0.854654</td>\n",
       "      <td>-0.249983</td>\n",
       "      <td>0.518678</td>\n",
       "      <td>0.209203</td>\n",
       "      <td>1.130711</td>\n",
       "    </tr>\n",
       "    <tr>\n",
       "      <th>72749</th>\n",
       "      <td>1.359396</td>\n",
       "      <td>2.204318</td>\n",
       "      <td>2.322937</td>\n",
       "      <td>0.585271</td>\n",
       "      <td>1.517478</td>\n",
       "      <td>1.752678</td>\n",
       "      <td>1.815223</td>\n",
       "      <td>1.578034</td>\n",
       "      <td>0.623970</td>\n",
       "      <td>-0.955106</td>\n",
       "      <td>...</td>\n",
       "      <td>0.503018</td>\n",
       "      <td>0.171714</td>\n",
       "      <td>0.088582</td>\n",
       "      <td>0.465475</td>\n",
       "      <td>0.226965</td>\n",
       "      <td>0.637915</td>\n",
       "      <td>-0.045188</td>\n",
       "      <td>0.032612</td>\n",
       "      <td>-0.325288</td>\n",
       "      <td>-0.593045</td>\n",
       "    </tr>\n",
       "    <tr>\n",
       "      <th>34659</th>\n",
       "      <td>-1.669117</td>\n",
       "      <td>-0.290538</td>\n",
       "      <td>-0.661312</td>\n",
       "      <td>-0.407343</td>\n",
       "      <td>-2.727090</td>\n",
       "      <td>-2.769640</td>\n",
       "      <td>0.132228</td>\n",
       "      <td>0.801379</td>\n",
       "      <td>0.347450</td>\n",
       "      <td>-0.710139</td>\n",
       "      <td>...</td>\n",
       "      <td>0.285305</td>\n",
       "      <td>0.277718</td>\n",
       "      <td>0.234072</td>\n",
       "      <td>0.489629</td>\n",
       "      <td>0.185165</td>\n",
       "      <td>-0.905557</td>\n",
       "      <td>-0.829089</td>\n",
       "      <td>-0.391011</td>\n",
       "      <td>-0.842448</td>\n",
       "      <td>-0.835407</td>\n",
       "    </tr>\n",
       "  </tbody>\n",
       "</table>\n",
       "<p>5 rows × 25 columns</p>\n",
       "</div>"
      ],
      "text/plain": [
       "        max_hand_distance  avg_l_hand_hip_distance  avg_r_hand_hip_distance  \\\n",
       "129829          -2.238547                -0.074934                -0.311225   \n",
       "115650          -0.580299                -0.987055                -0.721442   \n",
       "63514           -0.739363                 0.116664                -0.675405   \n",
       "72749            1.359396                 2.204318                 2.322937   \n",
       "34659           -1.669117                -0.290538                -0.661312   \n",
       "\n",
       "        max_stride_length  avg_l_hand_chest_distance  \\\n",
       "129829          -0.499075                  -1.030521   \n",
       "115650          -0.022120                  -0.145368   \n",
       "63514            0.073087                  -0.330999   \n",
       "72749            0.585271                   1.517478   \n",
       "34659           -0.407343                  -2.727090   \n",
       "\n",
       "        avg_r_hand_chest_distance  avg_l_elbow_hip_distance  \\\n",
       "129829                  -1.651423                 -0.941704   \n",
       "115650                   0.071038                 -0.424198   \n",
       "63514                   -1.046061                 -1.759293   \n",
       "72749                    1.752678                  1.815223   \n",
       "34659                   -2.769640                  0.132228   \n",
       "\n",
       "        avg_r_elbow_hip_distance  avg_chest_pelvis_distance  \\\n",
       "129829                 -0.391272                   0.193529   \n",
       "115650                 -0.438682                   1.279148   \n",
       "63514                  -1.478181                  -0.817117   \n",
       "72749                   1.578034                   0.623970   \n",
       "34659                   0.801379                   0.347450   \n",
       "\n",
       "        avg_neck_chest_distance  ...  l_hand_speed  r_hand_speed  \\\n",
       "129829                -0.455833  ...      0.546115      0.817486   \n",
       "115650                -0.218522  ...      0.720759      0.768745   \n",
       "63514                 -0.257403  ...     -1.295003      0.486023   \n",
       "72749                 -0.955106  ...      0.503018      0.171714   \n",
       "34659                 -0.710139  ...      0.285305      0.277718   \n",
       "\n",
       "        l_foot_speed  r_foot_speed  neck_speed  l_hand_acceleration_magnitude  \\\n",
       "129829      0.785736      0.777741    0.874237                      -0.098441   \n",
       "115650      0.792733      0.563307    0.666667                      -0.540780   \n",
       "63514      -0.536165     -1.371421   -0.433123                       0.854654   \n",
       "72749       0.088582      0.465475    0.226965                       0.637915   \n",
       "34659       0.234072      0.489629    0.185165                      -0.905557   \n",
       "\n",
       "        r_hand_acceleration_magnitude  l_foot_acceleration_magnitude  \\\n",
       "129829                      -0.707429                      -0.852207   \n",
       "115650                      -0.228615                      -0.649995   \n",
       "63514                       -0.249983                       0.518678   \n",
       "72749                       -0.045188                       0.032612   \n",
       "34659                       -0.829089                      -0.391011   \n",
       "\n",
       "        r_foot_acceleration_magnitude  neck_acceleration_magnitude  \n",
       "129829                      -0.865165                    -0.791058  \n",
       "115650                      -0.077696                    -0.202870  \n",
       "63514                        0.209203                     1.130711  \n",
       "72749                       -0.325288                    -0.593045  \n",
       "34659                       -0.842448                    -0.835407  \n",
       "\n",
       "[5 rows x 25 columns]"
      ]
     },
     "execution_count": 5,
     "metadata": {},
     "output_type": "execute_result"
    }
   ],
   "source": [
    "train_X.head()"
   ]
  },
  {
   "cell_type": "code",
   "execution_count": 6,
   "metadata": {
    "scrolled": false
   },
   "outputs": [
    {
     "data": {
      "text/html": [
       "<div>\n",
       "<style scoped>\n",
       "    .dataframe tbody tr th:only-of-type {\n",
       "        vertical-align: middle;\n",
       "    }\n",
       "\n",
       "    .dataframe tbody tr th {\n",
       "        vertical-align: top;\n",
       "    }\n",
       "\n",
       "    .dataframe thead th {\n",
       "        text-align: right;\n",
       "    }\n",
       "</style>\n",
       "<table border=\"1\" class=\"dataframe\">\n",
       "  <thead>\n",
       "    <tr style=\"text-align: right;\">\n",
       "      <th></th>\n",
       "      <th>EMOTION_P</th>\n",
       "      <th>EMOTION_A</th>\n",
       "      <th>EMOTION_D</th>\n",
       "    </tr>\n",
       "  </thead>\n",
       "  <tbody>\n",
       "    <tr>\n",
       "      <th>129829</th>\n",
       "      <td>0.6</td>\n",
       "      <td>0.5</td>\n",
       "      <td>0.20</td>\n",
       "    </tr>\n",
       "    <tr>\n",
       "      <th>115650</th>\n",
       "      <td>-0.5</td>\n",
       "      <td>0.7</td>\n",
       "      <td>-0.80</td>\n",
       "    </tr>\n",
       "    <tr>\n",
       "      <th>63514</th>\n",
       "      <td>-0.1</td>\n",
       "      <td>-0.6</td>\n",
       "      <td>-0.15</td>\n",
       "    </tr>\n",
       "    <tr>\n",
       "      <th>72749</th>\n",
       "      <td>-0.5</td>\n",
       "      <td>0.7</td>\n",
       "      <td>0.90</td>\n",
       "    </tr>\n",
       "    <tr>\n",
       "      <th>34659</th>\n",
       "      <td>-0.6</td>\n",
       "      <td>0.7</td>\n",
       "      <td>-0.80</td>\n",
       "    </tr>\n",
       "  </tbody>\n",
       "</table>\n",
       "</div>"
      ],
      "text/plain": [
       "        EMOTION_P  EMOTION_A  EMOTION_D\n",
       "129829        0.6        0.5       0.20\n",
       "115650       -0.5        0.7      -0.80\n",
       "63514        -0.1       -0.6      -0.15\n",
       "72749        -0.5        0.7       0.90\n",
       "34659        -0.6        0.7      -0.80"
      ]
     },
     "execution_count": 6,
     "metadata": {},
     "output_type": "execute_result"
    }
   ],
   "source": [
    "train_y.head()"
   ]
  },
  {
   "cell_type": "code",
   "execution_count": 7,
   "metadata": {
    "scrolled": true
   },
   "outputs": [
    {
     "data": {
      "text/html": [
       "<div>\n",
       "<style scoped>\n",
       "    .dataframe tbody tr th:only-of-type {\n",
       "        vertical-align: middle;\n",
       "    }\n",
       "\n",
       "    .dataframe tbody tr th {\n",
       "        vertical-align: top;\n",
       "    }\n",
       "\n",
       "    .dataframe thead th {\n",
       "        text-align: right;\n",
       "    }\n",
       "</style>\n",
       "<table border=\"1\" class=\"dataframe\">\n",
       "  <thead>\n",
       "    <tr style=\"text-align: right;\">\n",
       "      <th></th>\n",
       "      <th>mean</th>\n",
       "      <th>std</th>\n",
       "    </tr>\n",
       "  </thead>\n",
       "  <tbody>\n",
       "    <tr>\n",
       "      <th>max_hand_distance</th>\n",
       "      <td>0.001745</td>\n",
       "      <td>1.000259</td>\n",
       "    </tr>\n",
       "    <tr>\n",
       "      <th>avg_l_hand_hip_distance</th>\n",
       "      <td>-0.000490</td>\n",
       "      <td>1.000161</td>\n",
       "    </tr>\n",
       "    <tr>\n",
       "      <th>avg_r_hand_hip_distance</th>\n",
       "      <td>0.000067</td>\n",
       "      <td>0.998979</td>\n",
       "    </tr>\n",
       "    <tr>\n",
       "      <th>max_stride_length</th>\n",
       "      <td>0.001729</td>\n",
       "      <td>0.999916</td>\n",
       "    </tr>\n",
       "    <tr>\n",
       "      <th>avg_l_hand_chest_distance</th>\n",
       "      <td>0.001489</td>\n",
       "      <td>0.999759</td>\n",
       "    </tr>\n",
       "    <tr>\n",
       "      <th>avg_r_hand_chest_distance</th>\n",
       "      <td>0.001386</td>\n",
       "      <td>1.000232</td>\n",
       "    </tr>\n",
       "    <tr>\n",
       "      <th>avg_l_elbow_hip_distance</th>\n",
       "      <td>0.000377</td>\n",
       "      <td>0.998941</td>\n",
       "    </tr>\n",
       "    <tr>\n",
       "      <th>avg_r_elbow_hip_distance</th>\n",
       "      <td>-0.001221</td>\n",
       "      <td>0.998973</td>\n",
       "    </tr>\n",
       "    <tr>\n",
       "      <th>avg_chest_pelvis_distance</th>\n",
       "      <td>-0.002155</td>\n",
       "      <td>1.000382</td>\n",
       "    </tr>\n",
       "    <tr>\n",
       "      <th>avg_neck_chest_distance</th>\n",
       "      <td>0.001550</td>\n",
       "      <td>0.999911</td>\n",
       "    </tr>\n",
       "    <tr>\n",
       "      <th>avg_total_body_volume</th>\n",
       "      <td>0.001235</td>\n",
       "      <td>1.000363</td>\n",
       "    </tr>\n",
       "    <tr>\n",
       "      <th>avg_lower_body_volume</th>\n",
       "      <td>0.000444</td>\n",
       "      <td>1.000790</td>\n",
       "    </tr>\n",
       "    <tr>\n",
       "      <th>avg_upper_body_volume</th>\n",
       "      <td>0.001515</td>\n",
       "      <td>1.000285</td>\n",
       "    </tr>\n",
       "    <tr>\n",
       "      <th>avg_triangle_area_hands_neck</th>\n",
       "      <td>0.002466</td>\n",
       "      <td>1.000524</td>\n",
       "    </tr>\n",
       "    <tr>\n",
       "      <th>avg_triangle_area_feet_hips</th>\n",
       "      <td>0.002325</td>\n",
       "      <td>0.999380</td>\n",
       "    </tr>\n",
       "    <tr>\n",
       "      <th>l_hand_speed</th>\n",
       "      <td>0.000976</td>\n",
       "      <td>0.998738</td>\n",
       "    </tr>\n",
       "    <tr>\n",
       "      <th>r_hand_speed</th>\n",
       "      <td>0.001490</td>\n",
       "      <td>0.998073</td>\n",
       "    </tr>\n",
       "    <tr>\n",
       "      <th>l_foot_speed</th>\n",
       "      <td>0.000938</td>\n",
       "      <td>0.997812</td>\n",
       "    </tr>\n",
       "    <tr>\n",
       "      <th>r_foot_speed</th>\n",
       "      <td>-0.000348</td>\n",
       "      <td>0.999685</td>\n",
       "    </tr>\n",
       "    <tr>\n",
       "      <th>neck_speed</th>\n",
       "      <td>0.001404</td>\n",
       "      <td>0.997795</td>\n",
       "    </tr>\n",
       "    <tr>\n",
       "      <th>l_hand_acceleration_magnitude</th>\n",
       "      <td>-0.001282</td>\n",
       "      <td>0.998137</td>\n",
       "    </tr>\n",
       "    <tr>\n",
       "      <th>r_hand_acceleration_magnitude</th>\n",
       "      <td>-0.000737</td>\n",
       "      <td>0.999206</td>\n",
       "    </tr>\n",
       "    <tr>\n",
       "      <th>l_foot_acceleration_magnitude</th>\n",
       "      <td>0.000201</td>\n",
       "      <td>0.999820</td>\n",
       "    </tr>\n",
       "    <tr>\n",
       "      <th>r_foot_acceleration_magnitude</th>\n",
       "      <td>0.000011</td>\n",
       "      <td>1.000472</td>\n",
       "    </tr>\n",
       "    <tr>\n",
       "      <th>neck_acceleration_magnitude</th>\n",
       "      <td>-0.000549</td>\n",
       "      <td>0.999326</td>\n",
       "    </tr>\n",
       "  </tbody>\n",
       "</table>\n",
       "</div>"
      ],
      "text/plain": [
       "                                   mean       std\n",
       "max_hand_distance              0.001745  1.000259\n",
       "avg_l_hand_hip_distance       -0.000490  1.000161\n",
       "avg_r_hand_hip_distance        0.000067  0.998979\n",
       "max_stride_length              0.001729  0.999916\n",
       "avg_l_hand_chest_distance      0.001489  0.999759\n",
       "avg_r_hand_chest_distance      0.001386  1.000232\n",
       "avg_l_elbow_hip_distance       0.000377  0.998941\n",
       "avg_r_elbow_hip_distance      -0.001221  0.998973\n",
       "avg_chest_pelvis_distance     -0.002155  1.000382\n",
       "avg_neck_chest_distance        0.001550  0.999911\n",
       "avg_total_body_volume          0.001235  1.000363\n",
       "avg_lower_body_volume          0.000444  1.000790\n",
       "avg_upper_body_volume          0.001515  1.000285\n",
       "avg_triangle_area_hands_neck   0.002466  1.000524\n",
       "avg_triangle_area_feet_hips    0.002325  0.999380\n",
       "l_hand_speed                   0.000976  0.998738\n",
       "r_hand_speed                   0.001490  0.998073\n",
       "l_foot_speed                   0.000938  0.997812\n",
       "r_foot_speed                  -0.000348  0.999685\n",
       "neck_speed                     0.001404  0.997795\n",
       "l_hand_acceleration_magnitude -0.001282  0.998137\n",
       "r_hand_acceleration_magnitude -0.000737  0.999206\n",
       "l_foot_acceleration_magnitude  0.000201  0.999820\n",
       "r_foot_acceleration_magnitude  0.000011  1.000472\n",
       "neck_acceleration_magnitude   -0.000549  0.999326"
      ]
     },
     "execution_count": 7,
     "metadata": {},
     "output_type": "execute_result"
    }
   ],
   "source": [
    "train_X.describe().transpose()[['mean', 'std']]"
   ]
  },
  {
   "cell_type": "markdown",
   "metadata": {},
   "source": [
    "## Define Model"
   ]
  },
  {
   "cell_type": "code",
   "execution_count": 8,
   "metadata": {},
   "outputs": [],
   "source": [
    "xgbr = xgb.XGBRegressor(verbosity=1) \n",
    "\n",
    "params = {\n",
    "        'eta': [0.01, 0.05, 0.1],\n",
    "        'min_child_weight': [1, 5, 11, 21],\n",
    "        'max_depth': [3, 6, 10, 15],\n",
    "        'gamma': [0, 0.001, 0.01],\n",
    "        'subsample': [0.75, 1],\n",
    "        'colsample_bytree': [0.75, 1],\n",
    "        'lambda': [1, 1.25],\n",
    "        'alpha': [0.0, 0.25]\n",
    "        }\n",
    "\n",
    "## Higher Gamma\n",
    "## Higher estimators\n",
    "\n",
    "model_p = xgb.XGBRegressor(\n",
    "                    n_estimators=1500, learning_rate=0.05, max_depth=15, min_child_weight=11, \n",
    "                    reg_alpha=0.0, reg_lambda=1.25, gamma=0.0,\n",
    "                    subsample=0.75, colsample_bytree=1.0, objective=\"reg:squarederror\",\n",
    "                    tree_method='gpu_hist', gpu_id=1\n",
    "                )\n",
    "\n",
    "\n",
    "model_a = xgb.XGBRegressor(\n",
    "                    n_estimators=1500, learning_rate=0.01, max_depth=15, min_child_weight=5, \n",
    "                    reg_alpha=0.25, reg_lambda=1.0, gamma=0.0,\n",
    "                    subsample=0.75, colsample_bytree=0.75, objective=\"reg:squarederror\",\n",
    "                    tree_method='gpu_hist', gpu_id=1\n",
    "                )\n",
    "        \n",
    "#hist', 'validate_parameters': 1, 'verbosity': None, 'lambda': 1, 'eta': 0.01, 'alpha': 0.25}\n",
    "model_d = xgb.XGBRegressor(\n",
    "                    n_estimators=1500, learning_rate=0.01, max_depth=15, min_child_weight=5, \n",
    "                    reg_alpha=0.25, reg_lambda=1.0, gamma=0.0,\n",
    "                    subsample=0.75, colsample_bytree=1.0, objective=\"reg:squarederror\",\n",
    "                    tree_method='gpu_hist', gpu_id=1\n",
    "                )"
   ]
  },
  {
   "cell_type": "markdown",
   "metadata": {},
   "source": [
    "## Train Model"
   ]
  },
  {
   "cell_type": "markdown",
   "metadata": {},
   "source": [
    "### Pleasure Regression"
   ]
  },
  {
   "cell_type": "code",
   "execution_count": 9,
   "metadata": {},
   "outputs": [
    {
     "data": {
      "text/plain": [
       "XGBRegressor(base_score=0.5, booster='gbtree', colsample_bylevel=1,\n",
       "             colsample_bynode=1, colsample_bytree=1.0, enable_categorical=False,\n",
       "             gamma=0.0, gpu_id=1, importance_type=None,\n",
       "             interaction_constraints='', learning_rate=0.05, max_delta_step=0,\n",
       "             max_depth=15, min_child_weight=11, missing=nan,\n",
       "             monotone_constraints='()', n_estimators=1500, n_jobs=12,\n",
       "             num_parallel_tree=1, predictor='auto', random_state=0,\n",
       "             reg_alpha=0.0, reg_lambda=1.25, scale_pos_weight=1, subsample=0.75,\n",
       "             tree_method='gpu_hist', validate_parameters=1, verbosity=None)"
      ]
     },
     "execution_count": 9,
     "metadata": {},
     "output_type": "execute_result"
    }
   ],
   "source": [
    "model_p.fit(train_X, train_y_p)"
   ]
  },
  {
   "cell_type": "markdown",
   "metadata": {},
   "source": [
    "### Arousal Regression"
   ]
  },
  {
   "cell_type": "code",
   "execution_count": 10,
   "metadata": {
    "scrolled": true
   },
   "outputs": [
    {
     "data": {
      "text/plain": [
       "XGBRegressor(base_score=0.5, booster='gbtree', colsample_bylevel=1,\n",
       "             colsample_bynode=1, colsample_bytree=0.75,\n",
       "             enable_categorical=False, gamma=0.0, gpu_id=1,\n",
       "             importance_type=None, interaction_constraints='',\n",
       "             learning_rate=0.01, max_delta_step=0, max_depth=15,\n",
       "             min_child_weight=5, missing=nan, monotone_constraints='()',\n",
       "             n_estimators=1500, n_jobs=12, num_parallel_tree=1,\n",
       "             predictor='auto', random_state=0, reg_alpha=0.25, reg_lambda=1.0,\n",
       "             scale_pos_weight=1, subsample=0.75, tree_method='gpu_hist',\n",
       "             validate_parameters=1, verbosity=None)"
      ]
     },
     "execution_count": 10,
     "metadata": {},
     "output_type": "execute_result"
    }
   ],
   "source": [
    "model_a.fit(train_X, train_y_a)"
   ]
  },
  {
   "cell_type": "markdown",
   "metadata": {},
   "source": [
    "### Dominance Regression"
   ]
  },
  {
   "cell_type": "code",
   "execution_count": 11,
   "metadata": {
    "scrolled": true
   },
   "outputs": [
    {
     "data": {
      "text/plain": [
       "XGBRegressor(base_score=0.5, booster='gbtree', colsample_bylevel=1,\n",
       "             colsample_bynode=1, colsample_bytree=1.0, enable_categorical=False,\n",
       "             gamma=0.0, gpu_id=1, importance_type=None,\n",
       "             interaction_constraints='', learning_rate=0.01, max_delta_step=0,\n",
       "             max_depth=15, min_child_weight=5, missing=nan,\n",
       "             monotone_constraints='()', n_estimators=1500, n_jobs=12,\n",
       "             num_parallel_tree=1, predictor='auto', random_state=0,\n",
       "             reg_alpha=0.25, reg_lambda=1.0, scale_pos_weight=1, subsample=0.75,\n",
       "             tree_method='gpu_hist', validate_parameters=1, verbosity=None)"
      ]
     },
     "execution_count": 11,
     "metadata": {},
     "output_type": "execute_result"
    }
   ],
   "source": [
    "model_d.fit(train_X, train_y_d)"
   ]
  },
  {
   "cell_type": "markdown",
   "metadata": {},
   "source": [
    "## Test Model"
   ]
  },
  {
   "cell_type": "markdown",
   "metadata": {},
   "source": [
    "### Training Score"
   ]
  },
  {
   "cell_type": "code",
   "execution_count": 12,
   "metadata": {},
   "outputs": [
    {
     "name": "stdout",
     "output_type": "stream",
     "text": [
      "Pleasure\n",
      "Training score:  0.9999922298751844\n",
      "\n",
      "Arousal\n",
      "Training score:  0.9972657951947856\n",
      "\n",
      "Dominance\n",
      "Training score:  0.9963183238681972\n"
     ]
    }
   ],
   "source": [
    "score = model_p.score(train_X, train_y_p)  \n",
    "\n",
    "print(\"Pleasure\")\n",
    "print(\"Training score: \", score)\n",
    "\n",
    "print()\n",
    "\n",
    "score = model_a.score(train_X, train_y_a)  \n",
    "\n",
    "print(\"Arousal\")\n",
    "print(\"Training score: \", score)\n",
    "\n",
    "score = model_d.score(train_X, train_y_d)  \n",
    "\n",
    "print()\n",
    "\n",
    "print(\"Dominance\")\n",
    "print(\"Training score: \", score)"
   ]
  },
  {
   "cell_type": "markdown",
   "metadata": {},
   "source": [
    "### Test Set MAE & MSE"
   ]
  },
  {
   "cell_type": "code",
   "execution_count": 13,
   "metadata": {},
   "outputs": [
    {
     "name": "stdout",
     "output_type": "stream",
     "text": [
      "Pleasure\n",
      "MSE: 0.0170\n",
      "MAE: 0.0622\n",
      "\n",
      "Arousal\n",
      "MSE: 0.0169\n",
      "MAE: 0.0742\n",
      "\n",
      "Dominance\n",
      "MSE: 0.0217\n",
      "MAE: 0.0715\n"
     ]
    }
   ],
   "source": [
    "pred_y_p = model_p.predict(test_X)\n",
    "mse = mean_squared_error(test_y_p, pred_y_p)\n",
    "mae = mean_absolute_error(test_y_p, pred_y_p)\n",
    "print(\"Pleasure\")\n",
    "print(\"MSE: %.4f\" % mse)\n",
    "print(\"MAE: %.4f\" % mae)\n",
    "\n",
    "\n",
    "pred_y_a = model_a.predict(test_X)\n",
    "mse = mean_squared_error(test_y_a, pred_y_a)\n",
    "mae = mean_absolute_error(test_y_a, pred_y_a)\n",
    "print(\"\\nArousal\")\n",
    "print(\"MSE: %.4f\" % mse)\n",
    "print(\"MAE: %.4f\" % mae)\n",
    "\n",
    "\n",
    "pred_y_d = model_d.predict(test_X)\n",
    "mse = mean_squared_error(test_y_d, pred_y_d)\n",
    "mae = mean_absolute_error(test_y_d, pred_y_d)\n",
    "print(\"\\nDominance\")\n",
    "print(\"MSE: %.4f\" % mse)\n",
    "print(\"MAE: %.4f\" % mae)"
   ]
  },
  {
   "cell_type": "markdown",
   "metadata": {},
   "source": [
    "### Graphs"
   ]
  },
  {
   "cell_type": "code",
   "execution_count": 14,
   "metadata": {},
   "outputs": [
    {
     "data": {
      "image/png": "[encoded data removed]",
      "text/plain": [
       "<Figure size 432x288 with 1 Axes>"
      ]
     },
     "metadata": {
      "needs_background": "light"
     },
     "output_type": "display_data"
    }
   ],
   "source": [
    "x_ax = range(100)\n",
    "plt.plot(x_ax, test_y_p[0:100], label=\"original\")\n",
    "\n",
    "plt.title(\"Pleasure values\")\n",
    "\n",
    "plt.legend()\n",
    "plt.show()"
   ]
  },
  {
   "cell_type": "code",
   "execution_count": 15,
   "metadata": {},
   "outputs": [
    {
     "data": {
      "image/png": "[encoded data removed]",
      "text/plain": [
       "<Figure size 432x288 with 1 Axes>"
      ]
     },
     "metadata": {
      "needs_background": "light"
     },
     "output_type": "display_data"
    }
   ],
   "source": [
    "x_ax = range(100)\n",
    "plt.plot(x_ax, pred_y_p[0:100], label=\"predicted\")\n",
    "\n",
    "plt.title(\"Pleasure predictions\")\n",
    "\n",
    "plt.legend()\n",
    "plt.show()"
   ]
  },
  {
   "cell_type": "code",
   "execution_count": 16,
   "metadata": {},
   "outputs": [
    {
     "data": {
      "image/png": "[encoded data removed]",
      "text/plain": [
       "<Figure size 432x288 with 1 Axes>"
      ]
     },
     "metadata": {
      "needs_background": "light"
     },
     "output_type": "display_data"
    }
   ],
   "source": [
    "x_ax = range(len(test_y_a))\n",
    "plt.plot(x_ax, test_y_a, label=\"original\")\n",
    "plt.plot(x_ax, pred_y_a, label=\"predicted\")\n",
    "\n",
    "plt.title(\"Arousal predictions\")\n",
    "\n",
    "plt.legend()\n",
    "plt.show()"
   ]
  },
  {
   "cell_type": "markdown",
   "metadata": {},
   "source": [
    "### Prediction Examples"
   ]
  },
  {
   "cell_type": "code",
   "execution_count": 17,
   "metadata": {},
   "outputs": [
    {
     "name": "stdout",
     "output_type": "stream",
     "text": [
      "Real: [-0.6 -0.3 -0.3]\n",
      "Predicted: [-0.48242268, 0.6961012, 0.67379045]\n"
     ]
    }
   ],
   "source": [
    "row=test_X.iloc[69]\n",
    "\n",
    "x = np.asarray([row])\n",
    "\n",
    "y_p = model_p.predict(x)\n",
    "y_a = model_a.predict(x)\n",
    "y_d = model_d.predict(x)\n",
    "\n",
    "print('Real: %s' % np.asarray(test_y.iloc[1]))\n",
    "print('Predicted: %s' % [y_p[0], y_a[0], y_d[0]])"
   ]
  },
  {
   "cell_type": "code",
   "execution_count": 18,
   "metadata": {},
   "outputs": [
    {
     "name": "stdout",
     "output_type": "stream",
     "text": [
      "Real: [-0.1  -0.6  -0.15]\n",
      "Predicted: [0.27944952, 0.38911372, 0.59813106]\n"
     ]
    }
   ],
   "source": [
    "row=test_X.iloc[420]\n",
    "\n",
    "x = np.asarray([row])\n",
    "\n",
    "y_p = model_p.predict(x)\n",
    "y_a = model_a.predict(x)\n",
    "y_d = model_d.predict(x)\n",
    "\n",
    "print('Real: %s' % np.asarray(test_y.iloc[421]))\n",
    "print('Predicted: %s' % [y_p[0], y_a[0], y_d[0]])"
   ]
  },
  {
   "cell_type": "code",
   "execution_count": 19,
   "metadata": {},
   "outputs": [
    {
     "name": "stdout",
     "output_type": "stream",
     "text": [
      "Real: [0.3 0.3 0.9]\n",
      "Predicted: [0.29990864, 0.29796508, 0.8949627]\n"
     ]
    }
   ],
   "source": [
    "row=test_X.iloc[999]\n",
    "\n",
    "x = np.asarray([row])\n",
    "\n",
    "y_p = model_p.predict(x)\n",
    "y_a = model_a.predict(x)\n",
    "y_d = model_d.predict(x)\n",
    "\n",
    "print('Real: %s' % np.asarray(test_y.iloc[999]))\n",
    "print('Predicted: %s' % [y_p[0], y_a[0], y_d[0]])"
   ]
  },
  {
   "cell_type": "markdown",
   "metadata": {},
   "source": [
    "## Save Models"
   ]
  },
  {
   "cell_type": "code",
   "execution_count": 20,
   "metadata": {},
   "outputs": [],
   "source": [
    "# save to JSON\n",
    "model_p.save_model(\"models/bandai_kin5O_l2p_model.json\")\n",
    "model_a.save_model(\"models/bandai_kin5O_l2a_model.json\")\n",
    "model_d.save_model(\"models/bandai_kin5O_l2d_model.json\")"
   ]
  },
  {
   "cell_type": "markdown",
   "metadata": {},
   "source": [
    "## Load Models"
   ]
  },
  {
   "cell_type": "code",
   "execution_count": 126,
   "metadata": {},
   "outputs": [],
   "source": [
    "model_p = xgb.XGBRegressor(verbosity=0)\n",
    "model_p.load_model(\"models/bandai_kin5_l2p_model.json\")\n",
    "\n",
    "model_a = xgb.XGBRegressor(verbosity=0)\n",
    "model_a.load_model(\"models/bandai_kin5_l2a_model.json\")\n",
    "\n",
    "model_d = xgb.XGBRegressor(verbosity=0)\n",
    "model_d.load_model(\"models/bandai_kin5_l2d_model.json\")"
   ]
  },
  {
   "cell_type": "markdown",
   "metadata": {},
   "source": [
    "### Graphs"
   ]
  },
  {
   "cell_type": "code",
   "execution_count": 127,
   "metadata": {},
   "outputs": [
    {
     "name": "stdout",
     "output_type": "stream",
     "text": [
      "Pleasure\n",
      "MSE: 0.02\n",
      "MAE: 0.06\n",
      "\n",
      "Arousal\n",
      "MSE: 0.02\n",
      "MAE: 0.07\n",
      "\n",
      "Arousal\n",
      "MSE: 0.02\n",
      "MAE: 0.07\n"
     ]
    }
   ],
   "source": [
    "pred_y_p = model_p.predict(test_X)\n",
    "mse = mean_squared_error(test_y_p, pred_y_p)\n",
    "mae = mean_absolute_error(test_y_p, pred_y_p)\n",
    "print(\"Pleasure\")\n",
    "print(\"MSE: %.2f\" % mse)\n",
    "print(\"MAE: %.2f\" % mae)\n",
    "\n",
    "\n",
    "pred_y_a = model_a.predict(test_X)\n",
    "mse = mean_squared_error(test_y_a, pred_y_a)\n",
    "mae = mean_absolute_error(test_y_a, pred_y_a)\n",
    "print(\"\\nArousal\")\n",
    "print(\"MSE: %.2f\" % mse)\n",
    "print(\"MAE: %.2f\" % mae)\n",
    "\n",
    "pred_y_d = model_d.predict(test_X)\n",
    "mse = mean_squared_error(test_y_d, pred_y_d)\n",
    "mae = mean_absolute_error(test_y_d, pred_y_d)\n",
    "print(\"\\nArousal\")\n",
    "print(\"MSE: %.2f\" % mse)\n",
    "print(\"MAE: %.2f\" % mae)"
   ]
  },
  {
   "cell_type": "code",
   "execution_count": 128,
   "metadata": {
    "scrolled": false
   },
   "outputs": [
    {
     "data": {
      "image/png": "[encoded data removed]",
      "text/plain": [
       "<Figure size 720x720 with 1 Axes>"
      ]
     },
     "metadata": {
      "needs_background": "light"
     },
     "output_type": "display_data"
    }
   ],
   "source": [
    "x = pred_y_p[0:1000]\n",
    "y = pred_y_a[0:1000]\n",
    "z = pred_y_d[0:1000]\n",
    "\n",
    "x_reference = [\n",
    "    ## Bandai ## \n",
    "    0.05,\n",
    "    \n",
    "    0.1,\n",
    "    0.1,\n",
    "    -0.1,\n",
    "    \n",
    "    -0.5,\n",
    "    \n",
    "    0.8,\n",
    "    0.6,\n",
    "    \n",
    "    -0.6,\n",
    "    \n",
    "    0.4,\n",
    "    0.3,\n",
    "    0.25,\n",
    "    0.3,\n",
    "    \n",
    "    -0.6,\n",
    "    \n",
    "    0.1,\n",
    "    \n",
    "    ## Kin ##\n",
    "    -0.5, \n",
    "    0.6,\n",
    "    -0.6, \n",
    "    -0.4, \n",
    "    -0.5, \n",
    "    0.0,\n",
    "]\n",
    "\n",
    "y_reference = [\n",
    "    ## Bandai ## \n",
    "    -0.1,\n",
    "    \n",
    "    -0.7,\n",
    "    -0.75,\n",
    "    -0.6,\n",
    "    \n",
    "    0.8,\n",
    "    \n",
    "    0.5,\n",
    "    0.4,\n",
    "    \n",
    "    -0.4,\n",
    "    \n",
    "    0.2,\n",
    "    0.3,\n",
    "    0.15,\n",
    "    0.4,\n",
    "    \n",
    "    0.7,\n",
    "    \n",
    "    0.6,\n",
    "    \n",
    "    ## Kin ##\n",
    "    0.7, \n",
    "    0.5,\n",
    "    -0.3, \n",
    "    0.25, \n",
    "    0.7, \n",
    "    0.0,\n",
    "]\n",
    "\n",
    "z_reference = [\n",
    "    ## Bandai ## \n",
    "    0.0,\n",
    "    \n",
    "    -0.2,\n",
    "    -0.25,\n",
    "    -0.15,\n",
    "    \n",
    "    0.9,\n",
    "    \n",
    "    0.15,\n",
    "    0.1,\n",
    "    \n",
    "    -0.3,\n",
    "    \n",
    "    0.35,\n",
    "    0.9,\n",
    "    0.4,\n",
    "    0.6,\n",
    "    \n",
    "    -0.8,\n",
    "    \n",
    "    0.4,\n",
    "    \n",
    "    ## Kin ##\n",
    "    0.9, \n",
    "    0.2,\n",
    "    -0.3, \n",
    "    -0.1, \n",
    "    -0.8, \n",
    "    0.0,\n",
    "]\n",
    "\n",
    "colors_reference = [\"royalblue\", \n",
    "                    \"fuchsia\", \"magenta\", \"orchid\", \n",
    "                    \"crimson\", \n",
    "                    \"springgreen\", \"aquamarine\", \n",
    "                    \"steelblue\",\n",
    "                    \"rebeccapurple\", \"darkviolet\", \"indigo\", \"blueviolet\",\n",
    "                    \"gold\", \n",
    "                    \"chocolate\", \n",
    "                    \n",
    "                    \"deeppink\",\"lime\",\"dodgerblue\", \"orange\", \"yellow\", \"cornflowerblue\"]\n",
    "\n",
    "colors = []\n",
    "\n",
    "# P, A\n",
    "color_map = {\n",
    "    ## Bandai ## \n",
    "    (0.05, -0.1): \"royalblue\", # Normal bandai 1/2\n",
    "    \n",
    "    (0.1, -0.7): \"fuchsia\", # Tired bandai 1\n",
    "    (0.1, -0.75): \"magenta\", # Exhausted bandai 2\n",
    "    (-0.1, -0.6): \"orchid\", # Old bandai 1 & Elderly bandai 2\n",
    "    \n",
    "    (-0.5, 0.8): \"crimson\", # Angry bandai 1\n",
    "    \n",
    "    (0.8, 0.5): \"springgreen\", # Happy bandai 1\n",
    "    (0.6, 0.4): \"aquamarine\", # Youthful bandai 2\n",
    "    \n",
    "    (-0.6, -0.4): \"steelblue\", # Sad bandai 1\n",
    "    \n",
    "    (0.4, 0.2): \"rebeccapurple\", # Proud bandai 1\n",
    "    (0.3, 0.3): \"darkviolet\", # Giant bandai 1 \n",
    "    (0.25, 0.15): \"indigo\", # Masculine / Masculinity bandai 1\n",
    "    (0.3, 0.4): \"blueviolet\", # Masculine bandai 2\n",
    "    \n",
    "    (-0.6, 0.7): \"gold\", # Not confident bandai 1\n",
    "    \n",
    "    (0.1, 0.6): \"chocolate\", # Active bandai 1/2\n",
    "    \n",
    "    ## Kin ##\n",
    "    (-0.5, 0.7): \"deeppink\", \n",
    "    (0.6, 0.5): \"lime\", \n",
    "    (-0.6, -0.3): \"dodgerblue\", \n",
    "    (-0.4, 0.25): \"orange\" , \n",
    "    (-0.5, 0.7): \"yellow\", \n",
    "    (0.0, 0.0): \"cornflowerblue\" \n",
    "}\n",
    "\n",
    "\n",
    "conv_dict = {\n",
    "    ## Bandai ## \n",
    "    (0.05, -0.1): \"b_neutral\", # Normal bandai 1/2\n",
    "    \n",
    "    (0.1, -0.7): \"b_tired\", # Tired bandai 1\n",
    "    (0.1, -0.75): \"b_tired_2\", # Exhausted bandai 2\n",
    "    (-0.1, -0.6): \"b_exhausted\", # Old bandai 1 & Elderly bandai 2\n",
    "    \n",
    "    (-0.5, 0.8): \"b_angry\", # Angry bandai 1\n",
    "    \n",
    "    (0.8, 0.5): \"b_happy\", # Happy bandai 1\n",
    "    (0.6, 0.4): \"b_happy_2\", # Youthful bandai 2\n",
    "    \n",
    "    (-0.6, -0.4): \"b_sad\", # Sad bandai 1\n",
    "    \n",
    "    (0.4, 0.2): \"b_proud\", # Proud bandai 1\n",
    "    (0.3, 0.3): \"b_confident\", # Giant bandai 1 \n",
    "    (0.25, 0.15): \"b_confident_2\", # Masculine / Masculinity bandai 1\n",
    "    (0.3, 0.4): \"b_confident_3\", # Masculine bandai 2\n",
    "    \n",
    "    (-0.6, 0.7): \"b_afraid\", # Not confident bandai 1\n",
    "    \n",
    "    (0.1, 0.6): \"b_active\", # Active bandai 1/2\n",
    "    \n",
    "    ## Kin ##\n",
    "    (-0.5, 0.7): \"k_angry\", \n",
    "    (0.6, 0.5): \"k_happy\", \n",
    "    (-0.6, -0.3): \"k_sad\", \n",
    "    (-0.4, 0.25): \"k_disgusted\" , \n",
    "    (-0.5, 0.7): \"k_afraid\", \n",
    "    (0.0, 0.0): \"k_neutral\" \n",
    "}\n",
    "\n",
    "\"\"\"\n",
    "# P, D\n",
    "color_map = {\n",
    "    ## Bandai ## \n",
    "    (0.05,0.0): \"royalblue\", # Normal bandai 1/2\n",
    "    \n",
    "    (0.1, -0.2): \"fuchsia\", # Tired bandai 1\n",
    "    (0.1, -0.25): \"magenta\", # Exhausted bandai 2\n",
    "    (-0.1, -0.15): \"orchid\", # Old bandai 1 & Elderly bandai 2\n",
    "    \n",
    "    (-0.5, 0.9): \"crimson\", # Angry bandai 1\n",
    "    \n",
    "    (0.8, 0.15): \"springgreen\", # Happy bandai 1\n",
    "    (0.6, 0.1): \"aquamarine\", # Youthful bandai 2\n",
    "    \n",
    "    (-0.6, -0.3): \"steelblue\", # Sad bandai 1\n",
    "    \n",
    "    (0.4, 0.35): \"rebeccapurple\", # Proud bandai 1\n",
    "    (0.3, 0.9): \"darkviolet\", # Giant bandai 1 \n",
    "    (0.25, 0.4): \"indigo\", # Masculine / Masculinity bandai 1\n",
    "    (0.3, 0.6): \"blueviolet\", # Masculine bandai 2\n",
    "    \n",
    "    (-0.6, -0.8): \"gold\", # Not confident bandai 1\n",
    "    \n",
    "    (0.1, 0.4): \"chocolate\", # Active bandai 1/2\n",
    "    \n",
    "    ## Kin ##\n",
    "    (-0.5, 0.9): \"deeppink\", \n",
    "    (0.6, 0.2): \"lime\", \n",
    "    (-0.6, -0.3): \"dodgerblue\", \n",
    "    (-0.4, -0.1): \"orange\" , \n",
    "    (-0.5, -0.8): \"yellow\", \n",
    "    (0.0, 0.0): \"cornflowerblue\" \n",
    "}\n",
    "\n",
    "\n",
    "conv_dict = {\n",
    "    ## Bandai ## \n",
    "    (0.05,0.0): \"b_neutral\", # Normal bandai 1/2\n",
    "    \n",
    "    (0.1,-0.2): \"b_tired\", # Tired bandai 1\n",
    "    (0.1,-0.25): \"b_tired_2\", # Exhausted bandai 2\n",
    "    (-0.1,-0.15): \"b_exhausted\", # Old bandai 1 & Elderly bandai 2\n",
    "    \n",
    "    (-0.5,0.9): \"b_angry\", # Angry bandai 1\n",
    "    \n",
    "    (0.8,0.15): \"b_happy\", # Happy bandai 1\n",
    "    (0.6,0.1): \"b_happy_2\", # Youthful bandai 2\n",
    "    \n",
    "    (-0.6,-0.3): \"b_sad\", # Sad bandai 1\n",
    "    \n",
    "    (0.4,0.35): \"b_proud\", # Proud bandai 1\n",
    "    (0.3,0.9): \"b_confident\", # Giant bandai 1 \n",
    "    (0.25,0.4): \"b_confident_2\", # Masculine / Masculinity bandai 1\n",
    "    (0.3,0.6): \"b_confident_3\", # Masculine bandai 2\n",
    "    \n",
    "    (-0.6,-0.8): \"b_afraid\", # Not confident bandai 1\n",
    "    \n",
    "    (0.1,0.4): \"b_active\", # Active bandai 1/2\n",
    "    \n",
    "    ## Kin ##\n",
    "    (-0.5,0.9): \"k_angry\", \n",
    "    (0.6,0.2): \"k_happy\", \n",
    "    (-0.6,-0.3): \"k_sad\", \n",
    "    (-0.4,-0.1): \"k_disgusted\" , \n",
    "    (-0.5,-0.8): \"k_afraid\", \n",
    "    (0.0,0.0): \"k_neutral\" \n",
    "}\n",
    "\"\"\"\n",
    "\n",
    "\"\"\"\n",
    "# A, D\n",
    "color_map = {\n",
    "    ## Bandai ## \n",
    "    (-0.1, 0.0): \"royalblue\", # Normal bandai 1/2\n",
    "    \n",
    "    (-0.7, -0.2): \"fuchsia\", # Tired bandai 1\n",
    "    (-0.75, -0.25): \"magenta\", # Exhausted bandai 2\n",
    "    (-0.6, -0.15): \"orchid\", # Old bandai 1 & Elderly bandai 2\n",
    "    \n",
    "    (0.8, 0.9): \"crimson\", # Angry bandai 1\n",
    "    \n",
    "    (0.5, 0.15): \"springgreen\", # Happy bandai 1\n",
    "    (0.4, 0.1): \"aquamarine\", # Youthful bandai 2\n",
    "    \n",
    "    (-0.4, -0.3): \"steelblue\", # Sad bandai 1\n",
    "    \n",
    "    (0.2, 0.35): \"rebeccapurple\", # Proud bandai 1\n",
    "    (0.3, 0.9): \"darkviolet\", # Giant bandai 1 \n",
    "    (0.15, 0.4): \"indigo\", # Masculine / Masculinity bandai 1\n",
    "    (0.4, 0.6): \"blueviolet\", # Masculine bandai 2\n",
    "    \n",
    "    (0.7, -0.8): \"gold\", # Not confident bandai 1\n",
    "    \n",
    "    (0.6, 0.4): \"chocolate\", # Active bandai 1/2\n",
    "    \n",
    "    ## Kin ##\n",
    "    (0.7, 0.9): \"deeppink\", \n",
    "    (0.5, 0.2): \"lime\", \n",
    "    (-0.3, -0.3): \"dodgerblue\", \n",
    "    (0.25, -0.1): \"orange\" , \n",
    "    (0.7, -0.8): \"yellow\", \n",
    "    (0.0, 0.0): \"cornflowerblue\" \n",
    "}\n",
    "\n",
    "\n",
    "conv_dict = {\n",
    "    ## Bandai ## \n",
    "    (-0.1, 0.0): \"b_neutral\", # Normal bandai 1/2\n",
    "    \n",
    "    (-0.7, -0.2): \"b_tired\", # Tired bandai 1\n",
    "    (-0.75, -0.25): \"b_tired_2\", # Exhausted bandai 2\n",
    "    (-0.6, -0.15): \"b_exhausted\", # Old bandai 1 & Elderly bandai 2\n",
    "    \n",
    "    (0.8, 0.9): \"b_angry\", # Angry bandai 1\n",
    "    \n",
    "    (0.5, 0.15): \"b_happy\", # Happy bandai 1\n",
    "    (0.4, 0.1): \"b_happy_2\", # Youthful bandai 2\n",
    "    \n",
    "    (-0.4, -0.3): \"b_sad\", # Sad bandai 1\n",
    "    \n",
    "    (0.2, 0.35): \"b_proud\", # Proud bandai 1\n",
    "    (0.3, 0.9): \"b_confident\", # Giant bandai 1 \n",
    "    (0.15, 0.4): \"b_confident_2\", # Masculine / Masculinity bandai 1\n",
    "    (0.4, 0.6): \"b_confident_3\", # Masculine bandai 2\n",
    "    \n",
    "    (0.7, -0.8): \"b_afraid\", # Not confident bandai 1\n",
    "    \n",
    "    (0.6, 0.4): \"b_active\", # Active bandai 1/2\n",
    "    \n",
    "    ## Kin ##\n",
    "    (0.7, 0.9): \"k_angry\", \n",
    "    (0.5, 0.2): \"k_happy\", \n",
    "    (-0.3, -0.3): \"k_sad\", \n",
    "    (0.25, -0.1): \"k_disgusted\" , \n",
    "    (0.7, -0.8): \"k_afraid\", \n",
    "    (0.0, 0.0): \"k_neutral\" \n",
    "}\n",
    "\"\"\"\n",
    "\n",
    "\n",
    "for i in range(len(x)):\n",
    "    point_coords = (test_y_p.iloc[i], test_y_a.iloc[i])\n",
    "    colors.append(color_map[point_coords])\n",
    "\n",
    "fig, ax = plt.subplots(figsize=(10,10))\n",
    "\n",
    "for i in range(len(x_reference)):\n",
    "    ax.scatter(x_reference[i], y_reference[i], c=colors_reference[i], label=conv_dict[(x_reference[i], y_reference[i])] , marker=\"x\", linewidths=3)\n",
    "\n",
    "ax.legend()\n",
    "\n",
    "ax.scatter(x, y, c=colors, alpha=0.6)\n",
    "\n",
    "\n",
    "line = mlines.Line2D([-1, 1], [0, 0], color='black')\n",
    "line_2 = mlines.Line2D([0, 0], [-1, 1], color='black')\n",
    "ax.add_line(line)\n",
    "ax.add_line(line_2)\n",
    "\n",
    "\n",
    "plt.ylim([-1,1])\n",
    "plt.xlim([-1,1])\n",
    "\n",
    "\n",
    "plt.xlabel('Pleasure')\n",
    "plt.ylabel('Arousal')\n",
    "plt.grid(True)\n",
    "\n",
    "plt.show()\n",
    "\n"
   ]
  },
  {
   "cell_type": "code",
   "execution_count": 130,
   "metadata": {},
   "outputs": [
    {
     "data": {
      "image/png": "[encoded data removed]",
      "text/plain": [
       "<Figure size 936x936 with 1 Axes>"
      ]
     },
     "metadata": {
      "needs_background": "light"
     },
     "output_type": "display_data"
    }
   ],
   "source": [
    "x = pred_y_p[0:1000]\n",
    "y = pred_y_a[0:1000]\n",
    "z = pred_y_d[0:1000]\n",
    "\n",
    "x_reference = [\n",
    "    ## Bandai ## \n",
    "    0.05,\n",
    "    \n",
    "    0.1,\n",
    "    0.1,\n",
    "    -0.1,\n",
    "    \n",
    "    -0.5,\n",
    "    \n",
    "    0.8,\n",
    "    0.6,\n",
    "    \n",
    "    -0.6,\n",
    "    \n",
    "    0.4,\n",
    "    0.3,\n",
    "    0.25,\n",
    "    0.3,\n",
    "    \n",
    "    -0.6,\n",
    "    \n",
    "    0.1,\n",
    "    \n",
    "    ## Kin ##\n",
    "    -0.5, \n",
    "    0.6,\n",
    "    -0.6, \n",
    "    -0.4, \n",
    "    -0.5, \n",
    "    0.0,\n",
    "]\n",
    "\n",
    "y_reference = [\n",
    "    ## Bandai ## \n",
    "    -0.1,\n",
    "    \n",
    "    -0.7,\n",
    "    -0.75,\n",
    "    -0.6,\n",
    "    \n",
    "    0.8,\n",
    "    \n",
    "    0.5,\n",
    "    0.4,\n",
    "    \n",
    "    -0.4,\n",
    "    \n",
    "    0.2,\n",
    "    0.3,\n",
    "    0.15,\n",
    "    0.4,\n",
    "    \n",
    "    0.7,\n",
    "    \n",
    "    0.6,\n",
    "    \n",
    "    ## Kin ##\n",
    "    0.7, \n",
    "    0.5,\n",
    "    -0.3, \n",
    "    0.25, \n",
    "    0.7, \n",
    "    0.0,\n",
    "]\n",
    "\n",
    "z_reference = [\n",
    "    ## Bandai ## \n",
    "    0.0,\n",
    "    \n",
    "    -0.2,\n",
    "    -0.25,\n",
    "    -0.15,\n",
    "    \n",
    "    0.9,\n",
    "    \n",
    "    0.15,\n",
    "    0.1,\n",
    "    \n",
    "    -0.3,\n",
    "    \n",
    "    0.35,\n",
    "    0.9,\n",
    "    0.4,\n",
    "    0.6,\n",
    "    \n",
    "    -0.8,\n",
    "    \n",
    "    0.4,\n",
    "    \n",
    "    ## Kin ##\n",
    "    0.9, \n",
    "    0.2,\n",
    "    -0.3, \n",
    "    -0.1, \n",
    "    -0.8, \n",
    "    0.0,\n",
    "]\n",
    "\n",
    "colors_reference = [\"royalblue\", \n",
    "                    \"fuchsia\", \"magenta\", \"orchid\", \n",
    "                    \"crimson\", \n",
    "                    \"springgreen\", \"aquamarine\", \n",
    "                    \"steelblue\",\n",
    "                    \"rebeccapurple\", \"darkviolet\", \"indigo\", \"blueviolet\",\n",
    "                    \"gold\", \n",
    "                    \"chocolate\", \n",
    "                    \n",
    "                    \"deeppink\",\"lime\",\"dodgerblue\", \"orange\", \"yellow\", \"cornflowerblue\"]\n",
    "\n",
    "colors = []\n",
    "\n",
    "\n",
    "color_map = {\n",
    "    ## Bandai ## \n",
    "    (0.05, -0.1, 0.0): \"royalblue\", # Normal bandai 1/2\n",
    "    \n",
    "    (0.1, -0.7, -0.2): \"fuchsia\", # Tired bandai 1\n",
    "    (0.1, -0.75, -0.25): \"magenta\", # Exhausted bandai 2\n",
    "    (-0.1, -0.6, -0.15): \"orchid\", # Old bandai 1 & Elderly bandai 2\n",
    "    \n",
    "    (-0.5, 0.8, 0.9): \"crimson\", # Angry bandai 1\n",
    "    \n",
    "    (0.8, 0.5, 0.15): \"springgreen\", # Happy bandai 1\n",
    "    (0.6, 0.4, 0.1): \"aquamarine\", # Youthful bandai 2\n",
    "    \n",
    "    (-0.6, -0.4, -0.3): \"steelblue\", # Sad bandai 1\n",
    "    \n",
    "    (0.4, 0.2, 0.35): \"rebeccapurple\", # Proud bandai 1\n",
    "    (0.3, 0.3, 0.9): \"darkviolet\", # Giant bandai 1 \n",
    "    (0.25, 0.15, 0.4): \"indigo\", # Masculine / Masculinity bandai 1\n",
    "    (0.3, 0.4, 0.6): \"blueviolet\", # Masculine bandai 2\n",
    "    \n",
    "    (-0.6, 0.7, -0.8): \"gold\", # Not confident bandai 1\n",
    "    \n",
    "    (0.1, 0.6, 0.4): \"chocolate\", # Active bandai 1/2\n",
    "    \n",
    "    ## Kin ##\n",
    "    (-0.5, 0.7, 0.9): \"deeppink\", \n",
    "    (0.6, 0.5, 0.2): \"lime\", \n",
    "    (-0.6, -0.3, -0.3): \"dodgerblue\", \n",
    "    (-0.4, 0.25, -0.1): \"orange\" , \n",
    "    (-0.5, 0.7, -0.8): \"yellow\", \n",
    "    (0.0, 0.0, 0.0): \"cornflowerblue\" \n",
    "}\n",
    "\n",
    "\n",
    "conv_dict = {\n",
    "    ## Bandai ## \n",
    "    (0.05, -0.1, 0.0): \"b_neutral\", # Normal bandai 1/2\n",
    "    \n",
    "    (0.1, -0.7, -0.2): \"b_tired\", # Tired bandai 1\n",
    "    (0.1, -0.75, -0.25): \"b_tired_2\", # Exhausted bandai 2\n",
    "    (-0.1, -0.6, -0.15): \"b_exhausted\", # Old bandai 1 & Elderly bandai 2\n",
    "    \n",
    "    (-0.5, 0.8, 0.9): \"b_angry\", # Angry bandai 1\n",
    "    \n",
    "    (0.8, 0.5, 0.15): \"b_happy\", # Happy bandai 1\n",
    "    (0.6, 0.4, 0.1): \"b_happy_2\", # Youthful bandai 2\n",
    "    \n",
    "    (-0.6, -0.4, -0.3): \"b_sad\", # Sad bandai 1\n",
    "    \n",
    "    (0.4, 0.2, 0.35): \"b_proud\", # Proud bandai 1\n",
    "    (0.3, 0.3, 0.9): \"b_confident\", # Giant bandai 1 \n",
    "    (0.25, 0.15, 0.4): \"b_confident_2\", # Masculine / Masculinity bandai 1\n",
    "    (0.3, 0.4, 0.6): \"b_confident_3\", # Masculine bandai 2\n",
    "    \n",
    "    (-0.6, 0.7, -0.8): \"b_afraid\", # Not confident bandai 1\n",
    "    \n",
    "    (0.1, 0.6, 0.4): \"b_active\", # Active bandai 1/2\n",
    "    \n",
    "    ## Kin ##\n",
    "    (-0.5, 0.7, 0.9): \"k_angry\", \n",
    "    (0.6, 0.5, 0.2): \"k_happy\", \n",
    "    (-0.6, -0.3, -0.3): \"k_sad\", \n",
    "    (-0.4, 0.25, -0.1): \"k_disgusted\" , \n",
    "    (-0.5, 0.7, -0.8): \"k_afraid\", \n",
    "    (0.0, 0.0, 0.0): \"k_neutral\" \n",
    "}\n",
    "\n",
    "for i in range(len(x)):\n",
    "    point_coords = (test_y_p.iloc[i], test_y_a.iloc[i], test_y_d.iloc[i])\n",
    "    \n",
    "    colors.append(color_map[point_coords])\n",
    "\n",
    "fig = plt.figure(figsize = (13, 13))\n",
    "ax = plt.axes(projection =\"3d\")\n",
    "\n",
    "\n",
    "for i in range(len(x_reference)):\n",
    "    ax.scatter3D(x_reference[i], y_reference[i], z_reference[i], \n",
    "               c=colors_reference[i], \n",
    "               label=conv_dict[(x_reference[i], y_reference[i], z_reference[i])],\n",
    "               marker=\"x\", linewidths=3)\n",
    "\n",
    "ax.legend()\n",
    "\n",
    "ax.scatter(x, y, z, c=colors, alpha=0.6)\n",
    "\n",
    "\n",
    "line = mplot3d.art3d.Line3D([-1, 1], [0, 0], [0,0], color='black', alpha=0.5)\n",
    "line_2 = mplot3d.art3d.Line3D([0, 0], [-1, 1], [0,0], color='black', alpha = 0.5)\n",
    "line_3 = mplot3d.art3d.Line3D([0, 0], [0, 0], [-1,1], color='black', alpha = 0.5)\n",
    "\n",
    "ax.add_line(line)\n",
    "ax.add_line(line_2)\n",
    "ax.add_line(line_3)\n",
    "\n",
    "\n",
    "ax.set_xlim([-1,1])\n",
    "ax.set_ylim([-1,1])\n",
    "ax.set_zlim([-1,1])\n",
    "\n",
    "ax.set_xlabel('Pleasure')\n",
    "ax.set_ylabel('Arousal')\n",
    "ax.set_zlabel('Dominance')\n",
    "plt.grid(True)\n",
    "\n",
    "plt.show()\n",
    "\n"
   ]
  },
  {
   "cell_type": "markdown",
   "metadata": {},
   "source": [
    "\n"
   ]
  },
  {
   "cell_type": "markdown",
   "metadata": {},
   "source": [
    "# Hyperparameter Grid Search with XGBoost"
   ]
  },
  {
   "cell_type": "code",
   "execution_count": 3,
   "metadata": {},
   "outputs": [],
   "source": [
    "from datetime import datetime\n",
    "from sklearn.model_selection import GridSearchCV\n",
    "from sklearn.model_selection import RandomizedSearchCV\n",
    "import time\n",
    "\n",
    "import matplotlib.pyplot as plt\n",
    "import numpy as np\n",
    "import pandas as pd\n",
    "import seaborn as sns\n",
    "\n",
    "import tensorflow as tf\n",
    "\n",
    "import sklearn\n",
    "from sklearn.model_selection import cross_val_score, KFold\n",
    "from sklearn.metrics import mean_absolute_error\n",
    "\n",
    "\n",
    "import xgboost as xgb\n",
    "\n",
    "xgb.set_config(verbosity=2)\n",
    "\n",
    "from sklearn.metrics import mean_squared_error"
   ]
  },
  {
   "cell_type": "markdown",
   "metadata": {},
   "source": [
    "## TODO: \n",
    "## 5 FRAME [DOING]\n",
    "\n",
    "## TRY OUTLIERS"
   ]
  },
  {
   "cell_type": "markdown",
   "metadata": {},
   "source": [
    "## Load Data"
   ]
  },
  {
   "cell_type": "code",
   "execution_count": 64,
   "metadata": {},
   "outputs": [],
   "source": [
    "dataset = pd.read_csv('datasets/S_BANDAI_KIN5_5frame.csv')"
   ]
  },
  {
   "cell_type": "markdown",
   "metadata": {},
   "source": [
    "### Split into Test and Train data"
   ]
  },
  {
   "cell_type": "code",
   "execution_count": 65,
   "metadata": {},
   "outputs": [
    {
     "name": "stdout",
     "output_type": "stream",
     "text": [
      "No Training Samples: 120072\n",
      "No Test Samples: 30018\n"
     ]
    }
   ],
   "source": [
    "train_dataset = dataset.sample(frac=0.8, random_state=42)\n",
    "test_dataset = dataset.drop(train_dataset.index)\n",
    "\n",
    "print(\"No Training Samples:\",train_dataset.shape[0])\n",
    "print(\"No Test Samples:\",test_dataset.shape[0])\n",
    "\n",
    "train_dataset = shuffle(train_dataset)\n",
    "test_dataset = shuffle(test_dataset)"
   ]
  },
  {
   "cell_type": "markdown",
   "metadata": {},
   "source": [
    "### Split Features from Targets"
   ]
  },
  {
   "cell_type": "code",
   "execution_count": 66,
   "metadata": {},
   "outputs": [],
   "source": [
    "train_X = train_dataset.copy()\n",
    "test_X = test_dataset.copy()\n",
    "\n",
    "train_y = pd.concat([train_X.pop(x) for x in ['EMOTION_P', 'EMOTION_A', \"EMOTION_D\"]], axis=1)\n",
    "test_y = pd.concat([test_X.pop(x) for x in ['EMOTION_P', 'EMOTION_A', \"EMOTION_D\"]], axis=1)\n",
    "\n",
    "test_y_p = test_y.iloc[:,0]\n",
    "train_y_p = train_y.iloc[:,0]\n",
    "\n",
    "test_y_a = test_y.iloc[:,1]\n",
    "train_y_a = train_y.iloc[:,1]\n",
    "\n",
    "test_y_d = test_y.iloc[:,2]\n",
    "train_y_d = train_y.iloc[:,2]"
   ]
  },
  {
   "cell_type": "code",
   "execution_count": 67,
   "metadata": {},
   "outputs": [
    {
     "data": {
      "text/html": [
       "<div>\n",
       "<style scoped>\n",
       "    .dataframe tbody tr th:only-of-type {\n",
       "        vertical-align: middle;\n",
       "    }\n",
       "\n",
       "    .dataframe tbody tr th {\n",
       "        vertical-align: top;\n",
       "    }\n",
       "\n",
       "    .dataframe thead th {\n",
       "        text-align: right;\n",
       "    }\n",
       "</style>\n",
       "<table border=\"1\" class=\"dataframe\">\n",
       "  <thead>\n",
       "    <tr style=\"text-align: right;\">\n",
       "      <th></th>\n",
       "      <th>max_hand_distance</th>\n",
       "      <th>avg_l_hand_hip_distance</th>\n",
       "      <th>avg_r_hand_hip_distance</th>\n",
       "      <th>max_stride_length</th>\n",
       "      <th>avg_l_hand_chest_distance</th>\n",
       "      <th>avg_r_hand_chest_distance</th>\n",
       "      <th>avg_l_elbow_hip_distance</th>\n",
       "      <th>avg_r_elbow_hip_distance</th>\n",
       "      <th>avg_chest_pelvis_distance</th>\n",
       "      <th>avg_neck_chest_distance</th>\n",
       "      <th>...</th>\n",
       "      <th>l_hand_speed</th>\n",
       "      <th>r_hand_speed</th>\n",
       "      <th>l_foot_speed</th>\n",
       "      <th>r_foot_speed</th>\n",
       "      <th>neck_speed</th>\n",
       "      <th>l_hand_acceleration_magnitude</th>\n",
       "      <th>r_hand_acceleration_magnitude</th>\n",
       "      <th>l_foot_acceleration_magnitude</th>\n",
       "      <th>r_foot_acceleration_magnitude</th>\n",
       "      <th>neck_acceleration_magnitude</th>\n",
       "    </tr>\n",
       "  </thead>\n",
       "  <tbody>\n",
       "    <tr>\n",
       "      <th>136217</th>\n",
       "      <td>-0.758057</td>\n",
       "      <td>-1.079184</td>\n",
       "      <td>-0.794764</td>\n",
       "      <td>-0.961539</td>\n",
       "      <td>-0.249931</td>\n",
       "      <td>-0.049489</td>\n",
       "      <td>-0.687925</td>\n",
       "      <td>-0.480964</td>\n",
       "      <td>0.198250</td>\n",
       "      <td>0.201970</td>\n",
       "      <td>...</td>\n",
       "      <td>0.908042</td>\n",
       "      <td>0.912384</td>\n",
       "      <td>0.781384</td>\n",
       "      <td>0.786250</td>\n",
       "      <td>0.866236</td>\n",
       "      <td>-0.556131</td>\n",
       "      <td>-0.551092</td>\n",
       "      <td>-0.529227</td>\n",
       "      <td>-0.520264</td>\n",
       "      <td>-0.378344</td>\n",
       "    </tr>\n",
       "    <tr>\n",
       "      <th>112412</th>\n",
       "      <td>-1.600568</td>\n",
       "      <td>-0.324387</td>\n",
       "      <td>-0.279082</td>\n",
       "      <td>-0.790297</td>\n",
       "      <td>-2.104928</td>\n",
       "      <td>-1.743300</td>\n",
       "      <td>-0.287131</td>\n",
       "      <td>0.449777</td>\n",
       "      <td>0.339182</td>\n",
       "      <td>0.112109</td>\n",
       "      <td>...</td>\n",
       "      <td>0.889379</td>\n",
       "      <td>0.923982</td>\n",
       "      <td>0.758480</td>\n",
       "      <td>0.757635</td>\n",
       "      <td>0.813533</td>\n",
       "      <td>-0.565545</td>\n",
       "      <td>-0.579379</td>\n",
       "      <td>-0.618817</td>\n",
       "      <td>-0.580165</td>\n",
       "      <td>-0.454389</td>\n",
       "    </tr>\n",
       "    <tr>\n",
       "      <th>14241</th>\n",
       "      <td>-0.027915</td>\n",
       "      <td>-0.581148</td>\n",
       "      <td>-0.352175</td>\n",
       "      <td>1.440560</td>\n",
       "      <td>-0.834316</td>\n",
       "      <td>-0.274319</td>\n",
       "      <td>0.801089</td>\n",
       "      <td>0.621286</td>\n",
       "      <td>-0.164020</td>\n",
       "      <td>0.032186</td>\n",
       "      <td>...</td>\n",
       "      <td>-1.459667</td>\n",
       "      <td>-2.916470</td>\n",
       "      <td>-3.261311</td>\n",
       "      <td>-0.926476</td>\n",
       "      <td>-1.918150</td>\n",
       "      <td>0.596808</td>\n",
       "      <td>0.475241</td>\n",
       "      <td>1.188281</td>\n",
       "      <td>0.825707</td>\n",
       "      <td>0.451872</td>\n",
       "    </tr>\n",
       "    <tr>\n",
       "      <th>865</th>\n",
       "      <td>0.085795</td>\n",
       "      <td>-0.216995</td>\n",
       "      <td>-0.009253</td>\n",
       "      <td>2.507052</td>\n",
       "      <td>-1.039351</td>\n",
       "      <td>-0.608712</td>\n",
       "      <td>0.457060</td>\n",
       "      <td>-1.901922</td>\n",
       "      <td>-0.918344</td>\n",
       "      <td>-0.027348</td>\n",
       "      <td>...</td>\n",
       "      <td>-1.818274</td>\n",
       "      <td>-2.260411</td>\n",
       "      <td>-1.506817</td>\n",
       "      <td>-2.775861</td>\n",
       "      <td>-2.386142</td>\n",
       "      <td>0.527252</td>\n",
       "      <td>0.654342</td>\n",
       "      <td>1.002867</td>\n",
       "      <td>-0.365013</td>\n",
       "      <td>0.661926</td>\n",
       "    </tr>\n",
       "    <tr>\n",
       "      <th>71920</th>\n",
       "      <td>-0.674586</td>\n",
       "      <td>-0.966245</td>\n",
       "      <td>0.372844</td>\n",
       "      <td>3.348539</td>\n",
       "      <td>-3.024273</td>\n",
       "      <td>0.078871</td>\n",
       "      <td>-0.231212</td>\n",
       "      <td>-1.360225</td>\n",
       "      <td>-1.184725</td>\n",
       "      <td>0.317534</td>\n",
       "      <td>...</td>\n",
       "      <td>-1.432845</td>\n",
       "      <td>-3.038042</td>\n",
       "      <td>-1.989207</td>\n",
       "      <td>-1.439797</td>\n",
       "      <td>-2.502631</td>\n",
       "      <td>0.241151</td>\n",
       "      <td>0.070925</td>\n",
       "      <td>1.449371</td>\n",
       "      <td>3.005227</td>\n",
       "      <td>0.180035</td>\n",
       "    </tr>\n",
       "  </tbody>\n",
       "</table>\n",
       "<p>5 rows × 25 columns</p>\n",
       "</div>"
      ],
      "text/plain": [
       "        max_hand_distance  avg_l_hand_hip_distance  avg_r_hand_hip_distance  \\\n",
       "136217          -0.758057                -1.079184                -0.794764   \n",
       "112412          -1.600568                -0.324387                -0.279082   \n",
       "14241           -0.027915                -0.581148                -0.352175   \n",
       "865              0.085795                -0.216995                -0.009253   \n",
       "71920           -0.674586                -0.966245                 0.372844   \n",
       "\n",
       "        max_stride_length  avg_l_hand_chest_distance  \\\n",
       "136217          -0.961539                  -0.249931   \n",
       "112412          -0.790297                  -2.104928   \n",
       "14241            1.440560                  -0.834316   \n",
       "865              2.507052                  -1.039351   \n",
       "71920            3.348539                  -3.024273   \n",
       "\n",
       "        avg_r_hand_chest_distance  avg_l_elbow_hip_distance  \\\n",
       "136217                  -0.049489                 -0.687925   \n",
       "112412                  -1.743300                 -0.287131   \n",
       "14241                   -0.274319                  0.801089   \n",
       "865                     -0.608712                  0.457060   \n",
       "71920                    0.078871                 -0.231212   \n",
       "\n",
       "        avg_r_elbow_hip_distance  avg_chest_pelvis_distance  \\\n",
       "136217                 -0.480964                   0.198250   \n",
       "112412                  0.449777                   0.339182   \n",
       "14241                   0.621286                  -0.164020   \n",
       "865                    -1.901922                  -0.918344   \n",
       "71920                  -1.360225                  -1.184725   \n",
       "\n",
       "        avg_neck_chest_distance  ...  l_hand_speed  r_hand_speed  \\\n",
       "136217                 0.201970  ...      0.908042      0.912384   \n",
       "112412                 0.112109  ...      0.889379      0.923982   \n",
       "14241                  0.032186  ...     -1.459667     -2.916470   \n",
       "865                   -0.027348  ...     -1.818274     -2.260411   \n",
       "71920                  0.317534  ...     -1.432845     -3.038042   \n",
       "\n",
       "        l_foot_speed  r_foot_speed  neck_speed  l_hand_acceleration_magnitude  \\\n",
       "136217      0.781384      0.786250    0.866236                      -0.556131   \n",
       "112412      0.758480      0.757635    0.813533                      -0.565545   \n",
       "14241      -3.261311     -0.926476   -1.918150                       0.596808   \n",
       "865        -1.506817     -2.775861   -2.386142                       0.527252   \n",
       "71920      -1.989207     -1.439797   -2.502631                       0.241151   \n",
       "\n",
       "        r_hand_acceleration_magnitude  l_foot_acceleration_magnitude  \\\n",
       "136217                      -0.551092                      -0.529227   \n",
       "112412                      -0.579379                      -0.618817   \n",
       "14241                        0.475241                       1.188281   \n",
       "865                          0.654342                       1.002867   \n",
       "71920                        0.070925                       1.449371   \n",
       "\n",
       "        r_foot_acceleration_magnitude  neck_acceleration_magnitude  \n",
       "136217                      -0.520264                    -0.378344  \n",
       "112412                      -0.580165                    -0.454389  \n",
       "14241                        0.825707                     0.451872  \n",
       "865                         -0.365013                     0.661926  \n",
       "71920                        3.005227                     0.180035  \n",
       "\n",
       "[5 rows x 25 columns]"
      ]
     },
     "execution_count": 67,
     "metadata": {},
     "output_type": "execute_result"
    }
   ],
   "source": [
    "train_X.head()"
   ]
  },
  {
   "cell_type": "code",
   "execution_count": 68,
   "metadata": {
    "scrolled": false
   },
   "outputs": [
    {
     "data": {
      "text/html": [
       "<div>\n",
       "<style scoped>\n",
       "    .dataframe tbody tr th:only-of-type {\n",
       "        vertical-align: middle;\n",
       "    }\n",
       "\n",
       "    .dataframe tbody tr th {\n",
       "        vertical-align: top;\n",
       "    }\n",
       "\n",
       "    .dataframe thead th {\n",
       "        text-align: right;\n",
       "    }\n",
       "</style>\n",
       "<table border=\"1\" class=\"dataframe\">\n",
       "  <thead>\n",
       "    <tr style=\"text-align: right;\">\n",
       "      <th></th>\n",
       "      <th>EMOTION_P</th>\n",
       "      <th>EMOTION_A</th>\n",
       "      <th>EMOTION_D</th>\n",
       "    </tr>\n",
       "  </thead>\n",
       "  <tbody>\n",
       "    <tr>\n",
       "      <th>136217</th>\n",
       "      <td>-0.50</td>\n",
       "      <td>0.7</td>\n",
       "      <td>0.9</td>\n",
       "    </tr>\n",
       "    <tr>\n",
       "      <th>112412</th>\n",
       "      <td>-0.50</td>\n",
       "      <td>0.7</td>\n",
       "      <td>-0.8</td>\n",
       "    </tr>\n",
       "    <tr>\n",
       "      <th>14241</th>\n",
       "      <td>0.05</td>\n",
       "      <td>-0.1</td>\n",
       "      <td>0.0</td>\n",
       "    </tr>\n",
       "    <tr>\n",
       "      <th>865</th>\n",
       "      <td>0.30</td>\n",
       "      <td>0.4</td>\n",
       "      <td>0.6</td>\n",
       "    </tr>\n",
       "    <tr>\n",
       "      <th>71920</th>\n",
       "      <td>0.10</td>\n",
       "      <td>0.6</td>\n",
       "      <td>0.4</td>\n",
       "    </tr>\n",
       "  </tbody>\n",
       "</table>\n",
       "</div>"
      ],
      "text/plain": [
       "        EMOTION_P  EMOTION_A  EMOTION_D\n",
       "136217      -0.50        0.7        0.9\n",
       "112412      -0.50        0.7       -0.8\n",
       "14241        0.05       -0.1        0.0\n",
       "865          0.30        0.4        0.6\n",
       "71920        0.10        0.6        0.4"
      ]
     },
     "execution_count": 68,
     "metadata": {},
     "output_type": "execute_result"
    }
   ],
   "source": [
    "train_y.head()"
   ]
  },
  {
   "cell_type": "code",
   "execution_count": 69,
   "metadata": {
    "scrolled": true
   },
   "outputs": [
    {
     "data": {
      "text/html": [
       "<div>\n",
       "<style scoped>\n",
       "    .dataframe tbody tr th:only-of-type {\n",
       "        vertical-align: middle;\n",
       "    }\n",
       "\n",
       "    .dataframe tbody tr th {\n",
       "        vertical-align: top;\n",
       "    }\n",
       "\n",
       "    .dataframe thead th {\n",
       "        text-align: right;\n",
       "    }\n",
       "</style>\n",
       "<table border=\"1\" class=\"dataframe\">\n",
       "  <thead>\n",
       "    <tr style=\"text-align: right;\">\n",
       "      <th></th>\n",
       "      <th>mean</th>\n",
       "      <th>std</th>\n",
       "    </tr>\n",
       "  </thead>\n",
       "  <tbody>\n",
       "    <tr>\n",
       "      <th>max_hand_distance</th>\n",
       "      <td>-0.001886</td>\n",
       "      <td>0.999107</td>\n",
       "    </tr>\n",
       "    <tr>\n",
       "      <th>avg_l_hand_hip_distance</th>\n",
       "      <td>-0.001280</td>\n",
       "      <td>0.998796</td>\n",
       "    </tr>\n",
       "    <tr>\n",
       "      <th>avg_r_hand_hip_distance</th>\n",
       "      <td>-0.001436</td>\n",
       "      <td>0.999175</td>\n",
       "    </tr>\n",
       "    <tr>\n",
       "      <th>max_stride_length</th>\n",
       "      <td>-0.000464</td>\n",
       "      <td>0.999711</td>\n",
       "    </tr>\n",
       "    <tr>\n",
       "      <th>avg_l_hand_chest_distance</th>\n",
       "      <td>-0.002006</td>\n",
       "      <td>1.000082</td>\n",
       "    </tr>\n",
       "    <tr>\n",
       "      <th>avg_r_hand_chest_distance</th>\n",
       "      <td>-0.000787</td>\n",
       "      <td>0.999703</td>\n",
       "    </tr>\n",
       "    <tr>\n",
       "      <th>avg_l_elbow_hip_distance</th>\n",
       "      <td>-0.001798</td>\n",
       "      <td>0.998593</td>\n",
       "    </tr>\n",
       "    <tr>\n",
       "      <th>avg_r_elbow_hip_distance</th>\n",
       "      <td>-0.001116</td>\n",
       "      <td>0.999541</td>\n",
       "    </tr>\n",
       "    <tr>\n",
       "      <th>avg_chest_pelvis_distance</th>\n",
       "      <td>-0.001640</td>\n",
       "      <td>1.000508</td>\n",
       "    </tr>\n",
       "    <tr>\n",
       "      <th>avg_neck_chest_distance</th>\n",
       "      <td>-0.001431</td>\n",
       "      <td>1.002017</td>\n",
       "    </tr>\n",
       "    <tr>\n",
       "      <th>avg_total_body_volume</th>\n",
       "      <td>-0.000146</td>\n",
       "      <td>1.000384</td>\n",
       "    </tr>\n",
       "    <tr>\n",
       "      <th>avg_lower_body_volume</th>\n",
       "      <td>0.000087</td>\n",
       "      <td>1.001048</td>\n",
       "    </tr>\n",
       "    <tr>\n",
       "      <th>avg_upper_body_volume</th>\n",
       "      <td>-0.000276</td>\n",
       "      <td>0.999246</td>\n",
       "    </tr>\n",
       "    <tr>\n",
       "      <th>avg_triangle_area_hands_neck</th>\n",
       "      <td>-0.000126</td>\n",
       "      <td>0.999388</td>\n",
       "    </tr>\n",
       "    <tr>\n",
       "      <th>avg_triangle_area_feet_hips</th>\n",
       "      <td>-0.000276</td>\n",
       "      <td>0.999631</td>\n",
       "    </tr>\n",
       "    <tr>\n",
       "      <th>l_hand_speed</th>\n",
       "      <td>-0.000224</td>\n",
       "      <td>0.999893</td>\n",
       "    </tr>\n",
       "    <tr>\n",
       "      <th>r_hand_speed</th>\n",
       "      <td>-0.000130</td>\n",
       "      <td>0.999340</td>\n",
       "    </tr>\n",
       "    <tr>\n",
       "      <th>l_foot_speed</th>\n",
       "      <td>0.000414</td>\n",
       "      <td>0.999882</td>\n",
       "    </tr>\n",
       "    <tr>\n",
       "      <th>r_foot_speed</th>\n",
       "      <td>0.000047</td>\n",
       "      <td>0.999533</td>\n",
       "    </tr>\n",
       "    <tr>\n",
       "      <th>neck_speed</th>\n",
       "      <td>0.000240</td>\n",
       "      <td>0.999214</td>\n",
       "    </tr>\n",
       "    <tr>\n",
       "      <th>l_hand_acceleration_magnitude</th>\n",
       "      <td>0.000173</td>\n",
       "      <td>0.999644</td>\n",
       "    </tr>\n",
       "    <tr>\n",
       "      <th>r_hand_acceleration_magnitude</th>\n",
       "      <td>0.001443</td>\n",
       "      <td>1.004067</td>\n",
       "    </tr>\n",
       "    <tr>\n",
       "      <th>l_foot_acceleration_magnitude</th>\n",
       "      <td>0.000272</td>\n",
       "      <td>0.993850</td>\n",
       "    </tr>\n",
       "    <tr>\n",
       "      <th>r_foot_acceleration_magnitude</th>\n",
       "      <td>0.000306</td>\n",
       "      <td>1.000902</td>\n",
       "    </tr>\n",
       "    <tr>\n",
       "      <th>neck_acceleration_magnitude</th>\n",
       "      <td>0.000590</td>\n",
       "      <td>0.999024</td>\n",
       "    </tr>\n",
       "  </tbody>\n",
       "</table>\n",
       "</div>"
      ],
      "text/plain": [
       "                                   mean       std\n",
       "max_hand_distance             -0.001886  0.999107\n",
       "avg_l_hand_hip_distance       -0.001280  0.998796\n",
       "avg_r_hand_hip_distance       -0.001436  0.999175\n",
       "max_stride_length             -0.000464  0.999711\n",
       "avg_l_hand_chest_distance     -0.002006  1.000082\n",
       "avg_r_hand_chest_distance     -0.000787  0.999703\n",
       "avg_l_elbow_hip_distance      -0.001798  0.998593\n",
       "avg_r_elbow_hip_distance      -0.001116  0.999541\n",
       "avg_chest_pelvis_distance     -0.001640  1.000508\n",
       "avg_neck_chest_distance       -0.001431  1.002017\n",
       "avg_total_body_volume         -0.000146  1.000384\n",
       "avg_lower_body_volume          0.000087  1.001048\n",
       "avg_upper_body_volume         -0.000276  0.999246\n",
       "avg_triangle_area_hands_neck  -0.000126  0.999388\n",
       "avg_triangle_area_feet_hips   -0.000276  0.999631\n",
       "l_hand_speed                  -0.000224  0.999893\n",
       "r_hand_speed                  -0.000130  0.999340\n",
       "l_foot_speed                   0.000414  0.999882\n",
       "r_foot_speed                   0.000047  0.999533\n",
       "neck_speed                     0.000240  0.999214\n",
       "l_hand_acceleration_magnitude  0.000173  0.999644\n",
       "r_hand_acceleration_magnitude  0.001443  1.004067\n",
       "l_foot_acceleration_magnitude  0.000272  0.993850\n",
       "r_foot_acceleration_magnitude  0.000306  1.000902\n",
       "neck_acceleration_magnitude    0.000590  0.999024"
      ]
     },
     "execution_count": 69,
     "metadata": {},
     "output_type": "execute_result"
    }
   ],
   "source": [
    "train_X.describe().transpose()[['mean', 'std']]"
   ]
  },
  {
   "cell_type": "markdown",
   "metadata": {},
   "source": [
    "## RandomSearchCV"
   ]
  },
  {
   "cell_type": "code",
   "execution_count": 73,
   "metadata": {},
   "outputs": [],
   "source": [
    "# A parameter grid for XGBoost\n",
    "# https://www.analyticsvidhya.com/blog/2016/03/complete-guide-parameter-tuning-xgboost-with-codes-python/\n",
    "params = {\n",
    "        'eta': [0.01, 0.05, 0.1],\n",
    "        'min_child_weight': [1, 5, 11, 21],\n",
    "        'max_depth': [3, 6, 10, 15],\n",
    "        'subsample': [0.75, 1],\n",
    "        'colsample_bytree': [0.75, 1],\n",
    "        'lambda': [1, 1.25],\n",
    "        'alpha': [0.0, 0.25]\n",
    "        }\n",
    "\n",
    "n_iter = 150"
   ]
  },
  {
   "cell_type": "code",
   "execution_count": 74,
   "metadata": {},
   "outputs": [],
   "source": [
    "model_p = xgb.XGBRegressor(\n",
    "                    n_estimators=1500,\n",
    "                    objective=\"reg:squarederror\",\n",
    "                    tree_method='gpu_hist', gpu_id=1\n",
    "                )\n",
    "\n",
    "model_a = xgb.XGBRegressor(\n",
    "                    n_estimators=1500,\n",
    "                    objective=\"reg:squarederror\",\n",
    "                    tree_method='gpu_hist', gpu_id=1\n",
    "                )\n",
    "\n",
    "model_d = xgb.XGBRegressor(\n",
    "                    n_estimators=1500,\n",
    "                    objective=\"reg:squarederror\",\n",
    "                    tree_method='gpu_hist', gpu_id=1\n",
    "                )"
   ]
  },
  {
   "cell_type": "code",
   "execution_count": 75,
   "metadata": {},
   "outputs": [
    {
     "name": "stdout",
     "output_type": "stream",
     "text": [
      "RandomizedSearchCV took 10678.53 seconds for 150 candidates parameter settings.\n"
     ]
    }
   ],
   "source": [
    "# Pleasure\n",
    "# run randomized search\n",
    "kfold = KFold(n_splits=2, shuffle=True)\n",
    "\n",
    "random_search_p = RandomizedSearchCV(model_p, param_distributions=params,\n",
    "                               cv=kfold, scoring='neg_mean_squared_error', n_iter = n_iter)\n",
    "\n",
    "start = time.time()\n",
    "random_search_p.fit(train_X, train_y_p)\n",
    "\n",
    "\n",
    "print(\"RandomizedSearchCV took %.2f seconds for %d candidates\"\n",
    "      \" parameter settings.\" % ((time.time() - start), n_iter))"
   ]
  },
  {
   "cell_type": "code",
   "execution_count": 76,
   "metadata": {},
   "outputs": [
    {
     "name": "stdout",
     "output_type": "stream",
     "text": [
      "RandomizedSearchCV took 11760.43 seconds for 150 candidates parameter settings.\n"
     ]
    }
   ],
   "source": [
    "# Arousal\n",
    "# run randomized search\n",
    "kfold = KFold(n_splits=2, shuffle=True)\n",
    "\n",
    "random_search_a = RandomizedSearchCV(model_a, param_distributions=params,\n",
    "                               cv=kfold, scoring='neg_mean_squared_error', n_iter = n_iter)\n",
    "\n",
    "start = time.time()\n",
    "random_search_a.fit(train_X, train_y_a)\n",
    "\n",
    "\n",
    "print(\"RandomizedSearchCV took %.2f seconds for %d candidates\"\n",
    "      \" parameter settings.\" % ((time.time() - start), n_iter))"
   ]
  },
  {
   "cell_type": "code",
   "execution_count": 77,
   "metadata": {},
   "outputs": [
    {
     "name": "stdout",
     "output_type": "stream",
     "text": [
      "RandomizedSearchCV took 12151.64 seconds for 150 candidates parameter settings.\n"
     ]
    }
   ],
   "source": [
    "# Dominance\n",
    "# run randomized search\n",
    "kfold = KFold(n_splits=2, shuffle=True)\n",
    "\n",
    "random_search_d = RandomizedSearchCV(model_d, param_distributions=params,\n",
    "                               cv=kfold, scoring='neg_mean_squared_error', n_iter = n_iter)\n",
    "\n",
    "start = time.time()\n",
    "random_search_d.fit(train_X, train_y_d)\n",
    "\n",
    "\n",
    "print(\"RandomizedSearchCV took %.2f seconds for %d candidates\"\n",
    "      \" parameter settings.\" % ((time.time() - start), n_iter))"
   ]
  },
  {
   "cell_type": "markdown",
   "metadata": {},
   "source": [
    "### Results"
   ]
  },
  {
   "cell_type": "code",
   "execution_count": 78,
   "metadata": {},
   "outputs": [
    {
     "name": "stdout",
     "output_type": "stream",
     "text": [
      "{'objective': 'reg:squarederror', 'base_score': 0.5, 'booster': 'gbtree', 'colsample_bylevel': 1, 'colsample_bynode': 1, 'colsample_bytree': 1, 'enable_categorical': False, 'gamma': 0, 'gpu_id': 1, 'importance_type': None, 'interaction_constraints': '', 'learning_rate': 0.0500000007, 'max_delta_step': 0, 'max_depth': 15, 'min_child_weight': 11, 'missing': nan, 'monotone_constraints': '()', 'n_estimators': 1500, 'n_jobs': 12, 'num_parallel_tree': 1, 'predictor': 'auto', 'random_state': 0, 'reg_alpha': 0, 'reg_lambda': 1.25, 'scale_pos_weight': 1, 'subsample': 0.75, 'tree_method': 'gpu_hist', 'validate_parameters': 1, 'verbosity': None, 'lambda': 1.25, 'eta': 0.05, 'alpha': 0.0}\n"
     ]
    }
   ],
   "source": [
    "best_regressor_p = random_search_p.best_estimator_\n",
    "\n",
    "print(best_regressor_p.get_params())"
   ]
  },
  {
   "cell_type": "code",
   "execution_count": 79,
   "metadata": {},
   "outputs": [
    {
     "name": "stdout",
     "output_type": "stream",
     "text": [
      "{'objective': 'reg:squarederror', 'base_score': 0.5, 'booster': 'gbtree', 'colsample_bylevel': 1, 'colsample_bynode': 1, 'colsample_bytree': 0.75, 'enable_categorical': False, 'gamma': 0, 'gpu_id': 1, 'importance_type': None, 'interaction_constraints': '', 'learning_rate': 0.00999999978, 'max_delta_step': 0, 'max_depth': 15, 'min_child_weight': 5, 'missing': nan, 'monotone_constraints': '()', 'n_estimators': 1500, 'n_jobs': 12, 'num_parallel_tree': 1, 'predictor': 'auto', 'random_state': 0, 'reg_alpha': 0.25, 'reg_lambda': 1, 'scale_pos_weight': 1, 'subsample': 0.75, 'tree_method': 'gpu_hist', 'validate_parameters': 1, 'verbosity': None, 'lambda': 1, 'eta': 0.01, 'alpha': 0.25}\n"
     ]
    }
   ],
   "source": [
    "best_regressor_a = random_search_a.best_estimator_\n",
    "\n",
    "print(best_regressor_a.get_params())"
   ]
  },
  {
   "cell_type": "code",
   "execution_count": 80,
   "metadata": {},
   "outputs": [
    {
     "name": "stdout",
     "output_type": "stream",
     "text": [
      "{'objective': 'reg:squarederror', 'base_score': 0.5, 'booster': 'gbtree', 'colsample_bylevel': 1, 'colsample_bynode': 1, 'colsample_bytree': 1, 'enable_categorical': False, 'gamma': 0, 'gpu_id': 1, 'importance_type': None, 'interaction_constraints': '', 'learning_rate': 0.00999999978, 'max_delta_step': 0, 'max_depth': 15, 'min_child_weight': 5, 'missing': nan, 'monotone_constraints': '()', 'n_estimators': 1500, 'n_jobs': 12, 'num_parallel_tree': 1, 'predictor': 'auto', 'random_state': 0, 'reg_alpha': 0.25, 'reg_lambda': 1, 'scale_pos_weight': 1, 'subsample': 0.75, 'tree_method': 'gpu_hist', 'validate_parameters': 1, 'verbosity': None, 'lambda': 1, 'eta': 0.01, 'alpha': 0.25}\n"
     ]
    }
   ],
   "source": [
    "best_regressor_d = random_search_d.best_estimator_\n",
    "\n",
    "print(best_regressor_d.get_params())"
   ]
  },
  {
   "cell_type": "code",
   "execution_count": 81,
   "metadata": {},
   "outputs": [
    {
     "name": "stdout",
     "output_type": "stream",
     "text": [
      "Pleasure\n",
      "MSE: 0.02\n",
      "MAE: 0.06\n",
      "\n",
      "\n",
      "Arousal\n",
      "MSE: 0.02\n",
      "MAE: 0.07\n",
      "\n",
      "\n",
      "Arousal\n",
      "MSE: 0.02\n",
      "MAE: 0.07\n"
     ]
    }
   ],
   "source": [
    "pred_y_p = best_regressor_p.predict(test_X)\n",
    "mse = mean_squared_error(test_y_p, pred_y_p)\n",
    "mae = mean_absolute_error(test_y_p, pred_y_p)\n",
    "print(\"Pleasure\")\n",
    "print(\"MSE: %.2f\" % mse)\n",
    "print(\"MAE: %.2f\" % mae)\n",
    "\n",
    "pred_y_a = best_regressor_a.predict(test_X)\n",
    "mse = mean_squared_error(test_y_a, pred_y_a)\n",
    "mae = mean_absolute_error(test_y_a, pred_y_a)\n",
    "print(\"\\n\\nArousal\")\n",
    "print(\"MSE: %.2f\" % mse)\n",
    "print(\"MAE: %.2f\" % mae)\n",
    "\n",
    "pred_y_d = best_regressor_d.predict(test_X)\n",
    "mse = mean_squared_error(test_y_d, pred_y_d)\n",
    "mae = mean_absolute_error(test_y_d, pred_y_d)\n",
    "print(\"\\n\\nArousal\")\n",
    "print(\"MSE: %.2f\" % mse)\n",
    "print(\"MAE: %.2f\" % mae)"
   ]
  },
  {
   "cell_type": "markdown",
   "metadata": {},
   "source": [
    "### Predictions"
   ]
  },
  {
   "cell_type": "code",
   "execution_count": 82,
   "metadata": {
    "scrolled": true
   },
   "outputs": [
    {
     "name": "stdout",
     "output_type": "stream",
     "text": [
      "Real: [0.6 0.4 0.1]\n",
      "Predicted: [0.48161542, 0.4080721, 0.113249935]\n"
     ]
    }
   ],
   "source": [
    "sample_no = 9\n",
    "row=test_X.iloc[sample_no]\n",
    "\n",
    "x = np.asarray([row])\n",
    "\n",
    "y_p = best_regressor_p.predict(x)\n",
    "y_a = best_regressor_a.predict(x)\n",
    "y_d = best_regressor_d.predict(x)\n",
    "\n",
    "\n",
    "print('Real: %s' % np.asarray(test_y.iloc[sample_no]))\n",
    "print('Predicted: %s' % [y_p[0], y_a[0], y_d[0]])"
   ]
  },
  {
   "cell_type": "code",
   "execution_count": 83,
   "metadata": {},
   "outputs": [],
   "source": [
    "# save to JSON\n",
    "best_regressor_p.save_model(\"models/bandai_kin5_l2p_model.json\")\n",
    "best_regressor_a.save_model(\"models/bandai_kin5_l2a_model.json\")\n",
    "best_regressor_d.save_model(\"models/bandai_kin5_l2d_model.json\")"
   ]
  },
  {
   "cell_type": "markdown",
   "metadata": {},
   "source": [
    "\n"
   ]
  },
  {
   "cell_type": "markdown",
   "metadata": {},
   "source": [
    "\n"
   ]
  },
  {
   "cell_type": "markdown",
   "metadata": {},
   "source": [
    "\n"
   ]
  },
  {
   "cell_type": "markdown",
   "metadata": {},
   "source": [
    "\n"
   ]
  },
  {
   "cell_type": "markdown",
   "metadata": {},
   "source": [
    "\n"
   ]
  },
  {
   "cell_type": "markdown",
   "metadata": {},
   "source": [
    "\n"
   ]
  },
  {
   "cell_type": "markdown",
   "metadata": {},
   "source": [
    "\n"
   ]
  },
  {
   "cell_type": "markdown",
   "metadata": {},
   "source": [
    "\n"
   ]
  },
  {
   "cell_type": "markdown",
   "metadata": {},
   "source": [
    "\n"
   ]
  },
  {
   "cell_type": "markdown",
   "metadata": {},
   "source": [
    "\n"
   ]
  },
  {
   "cell_type": "markdown",
   "metadata": {},
   "source": [
    "\n"
   ]
  },
  {
   "cell_type": "markdown",
   "metadata": {},
   "source": [
    "\n"
   ]
  },
  {
   "cell_type": "markdown",
   "metadata": {},
   "source": [
    "\n"
   ]
  },
  {
   "cell_type": "markdown",
   "metadata": {},
   "source": [
    "\n"
   ]
  },
  {
   "cell_type": "markdown",
   "metadata": {},
   "source": [
    "\n"
   ]
  },
  {
   "cell_type": "markdown",
   "metadata": {},
   "source": [
    "\n"
   ]
  },
  {
   "cell_type": "markdown",
   "metadata": {},
   "source": [
    "\n"
   ]
  },
  {
   "cell_type": "markdown",
   "metadata": {},
   "source": [
    "\n"
   ]
  },
  {
   "cell_type": "markdown",
   "metadata": {},
   "source": [
    "\n"
   ]
  }
 ],
 "metadata": {
  "kernelspec": {
   "display_name": "Python 3",
   "language": "python",
   "name": "python3"
  },
  "language_info": {
   "codemirror_mode": {
    "name": "ipython",
    "version": 3
   },
   "file_extension": ".py",
   "mimetype": "text/x-python",
   "name": "python",
   "nbconvert_exporter": "python",
   "pygments_lexer": "ipython3",
   "version": "3.7.5"
  }
 },
 "nbformat": 4,
 "nbformat_minor": 5
}
