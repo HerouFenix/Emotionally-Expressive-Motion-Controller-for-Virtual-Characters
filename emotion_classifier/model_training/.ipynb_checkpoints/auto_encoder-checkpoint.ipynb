{
 "cells": [
  {
   "cell_type": "code",
   "execution_count": 8,
   "metadata": {},
   "outputs": [],
   "source": [
    "import numpy as np\n",
    "import pandas as pd\n",
    "\n",
    "import tensorflow as tf\n",
    "from tensorflow import keras\n",
    "from tensorflow.keras import layers\n",
    "import keras.backend as K\n"
   ]
  },
  {
   "cell_type": "markdown",
   "metadata": {},
   "source": [
    "## Load Data"
   ]
  },
  {
   "cell_type": "code",
   "execution_count": 9,
   "metadata": {},
   "outputs": [],
   "source": [
    "dataset = pd.read_csv('datasets/Fs_B_S_DANCE_WALK_0.5sec.csv')"
   ]
  },
  {
   "cell_type": "markdown",
   "metadata": {},
   "source": [
    "### Remove Emotions from dataset"
   ]
  },
  {
   "cell_type": "code",
   "execution_count": 10,
   "metadata": {},
   "outputs": [],
   "source": [
    "dataset = dataset.drop(columns=['EMOTION_P', 'EMOTION_A', 'EMOTION_D'])"
   ]
  },
  {
   "cell_type": "code",
   "execution_count": 11,
   "metadata": {},
   "outputs": [
    {
     "data": {
      "text/html": [
       "<div>\n",
       "<style scoped>\n",
       "    .dataframe tbody tr th:only-of-type {\n",
       "        vertical-align: middle;\n",
       "    }\n",
       "\n",
       "    .dataframe tbody tr th {\n",
       "        vertical-align: top;\n",
       "    }\n",
       "\n",
       "    .dataframe thead th {\n",
       "        text-align: right;\n",
       "    }\n",
       "</style>\n",
       "<table border=\"1\" class=\"dataframe\">\n",
       "  <thead>\n",
       "    <tr style=\"text-align: right;\">\n",
       "      <th></th>\n",
       "      <th>max_hand_distance</th>\n",
       "      <th>avg_l_hand_hip_distance</th>\n",
       "      <th>avg_r_hand_hip_distance</th>\n",
       "      <th>max_stride_length</th>\n",
       "      <th>avg_l_hand_chest_distance</th>\n",
       "      <th>avg_r_hand_chest_distance</th>\n",
       "      <th>avg_l_elbow_hip_distance</th>\n",
       "      <th>avg_r_elbow_hip_distance</th>\n",
       "      <th>avg_chest_pelvis_distance</th>\n",
       "      <th>avg_neck_chest_distance</th>\n",
       "      <th>...</th>\n",
       "      <th>l_hand_speed</th>\n",
       "      <th>r_hand_speed</th>\n",
       "      <th>l_foot_speed</th>\n",
       "      <th>r_foot_speed</th>\n",
       "      <th>neck_speed</th>\n",
       "      <th>l_hand_acceleration_magnitude</th>\n",
       "      <th>r_hand_acceleration_magnitude</th>\n",
       "      <th>l_foot_acceleration_magnitude</th>\n",
       "      <th>r_foot_acceleration_magnitude</th>\n",
       "      <th>neck_acceleration_magnitude</th>\n",
       "    </tr>\n",
       "  </thead>\n",
       "  <tbody>\n",
       "    <tr>\n",
       "      <th>0</th>\n",
       "      <td>1.903753</td>\n",
       "      <td>1.588572</td>\n",
       "      <td>1.678763</td>\n",
       "      <td>-1.187357</td>\n",
       "      <td>1.800153</td>\n",
       "      <td>2.039692</td>\n",
       "      <td>1.861975</td>\n",
       "      <td>2.153641</td>\n",
       "      <td>-0.494162</td>\n",
       "      <td>0.828131</td>\n",
       "      <td>...</td>\n",
       "      <td>-1.317222</td>\n",
       "      <td>-1.305853</td>\n",
       "      <td>-1.145622</td>\n",
       "      <td>-1.150469</td>\n",
       "      <td>-1.354722</td>\n",
       "      <td>-1.204255</td>\n",
       "      <td>-1.147149</td>\n",
       "      <td>-1.163977</td>\n",
       "      <td>-1.170814</td>\n",
       "      <td>-1.157166</td>\n",
       "    </tr>\n",
       "    <tr>\n",
       "      <th>1</th>\n",
       "      <td>1.906745</td>\n",
       "      <td>1.590201</td>\n",
       "      <td>1.682317</td>\n",
       "      <td>-1.191447</td>\n",
       "      <td>1.800693</td>\n",
       "      <td>2.041915</td>\n",
       "      <td>1.862519</td>\n",
       "      <td>2.156182</td>\n",
       "      <td>-0.494601</td>\n",
       "      <td>0.815993</td>\n",
       "      <td>...</td>\n",
       "      <td>-1.293165</td>\n",
       "      <td>-1.297497</td>\n",
       "      <td>-1.127662</td>\n",
       "      <td>-1.137195</td>\n",
       "      <td>-1.362549</td>\n",
       "      <td>-1.177056</td>\n",
       "      <td>-1.143493</td>\n",
       "      <td>-1.177174</td>\n",
       "      <td>-1.196791</td>\n",
       "      <td>-1.166618</td>\n",
       "    </tr>\n",
       "    <tr>\n",
       "      <th>2</th>\n",
       "      <td>1.896304</td>\n",
       "      <td>1.597945</td>\n",
       "      <td>1.686069</td>\n",
       "      <td>-1.193879</td>\n",
       "      <td>1.801296</td>\n",
       "      <td>2.043146</td>\n",
       "      <td>1.863016</td>\n",
       "      <td>2.157581</td>\n",
       "      <td>-0.492221</td>\n",
       "      <td>0.797046</td>\n",
       "      <td>...</td>\n",
       "      <td>-1.296381</td>\n",
       "      <td>-1.299952</td>\n",
       "      <td>-1.128823</td>\n",
       "      <td>-1.134306</td>\n",
       "      <td>-1.349971</td>\n",
       "      <td>-1.205267</td>\n",
       "      <td>-1.147625</td>\n",
       "      <td>-1.188233</td>\n",
       "      <td>-1.200799</td>\n",
       "      <td>-1.162996</td>\n",
       "    </tr>\n",
       "    <tr>\n",
       "      <th>3</th>\n",
       "      <td>1.893984</td>\n",
       "      <td>1.594455</td>\n",
       "      <td>1.675127</td>\n",
       "      <td>-1.192609</td>\n",
       "      <td>1.797257</td>\n",
       "      <td>2.035315</td>\n",
       "      <td>1.858726</td>\n",
       "      <td>2.148670</td>\n",
       "      <td>-0.494535</td>\n",
       "      <td>0.805367</td>\n",
       "      <td>...</td>\n",
       "      <td>-1.288287</td>\n",
       "      <td>-1.289756</td>\n",
       "      <td>-1.108338</td>\n",
       "      <td>-1.091173</td>\n",
       "      <td>-1.344425</td>\n",
       "      <td>-1.160342</td>\n",
       "      <td>-1.143008</td>\n",
       "      <td>-1.147106</td>\n",
       "      <td>-1.146426</td>\n",
       "      <td>-1.151700</td>\n",
       "    </tr>\n",
       "    <tr>\n",
       "      <th>4</th>\n",
       "      <td>1.893703</td>\n",
       "      <td>1.557052</td>\n",
       "      <td>1.645349</td>\n",
       "      <td>-1.193006</td>\n",
       "      <td>1.784555</td>\n",
       "      <td>2.015532</td>\n",
       "      <td>1.844656</td>\n",
       "      <td>2.126216</td>\n",
       "      <td>-0.491558</td>\n",
       "      <td>0.830400</td>\n",
       "      <td>...</td>\n",
       "      <td>-1.232484</td>\n",
       "      <td>-1.289702</td>\n",
       "      <td>-1.143171</td>\n",
       "      <td>-1.135303</td>\n",
       "      <td>-1.359488</td>\n",
       "      <td>-1.175658</td>\n",
       "      <td>-1.135941</td>\n",
       "      <td>-1.171698</td>\n",
       "      <td>-1.148640</td>\n",
       "      <td>-1.158215</td>\n",
       "    </tr>\n",
       "  </tbody>\n",
       "</table>\n",
       "<p>5 rows × 27 columns</p>\n",
       "</div>"
      ],
      "text/plain": [
       "   max_hand_distance  avg_l_hand_hip_distance  avg_r_hand_hip_distance  \\\n",
       "0           1.903753                 1.588572                 1.678763   \n",
       "1           1.906745                 1.590201                 1.682317   \n",
       "2           1.896304                 1.597945                 1.686069   \n",
       "3           1.893984                 1.594455                 1.675127   \n",
       "4           1.893703                 1.557052                 1.645349   \n",
       "\n",
       "   max_stride_length  avg_l_hand_chest_distance  avg_r_hand_chest_distance  \\\n",
       "0          -1.187357                   1.800153                   2.039692   \n",
       "1          -1.191447                   1.800693                   2.041915   \n",
       "2          -1.193879                   1.801296                   2.043146   \n",
       "3          -1.192609                   1.797257                   2.035315   \n",
       "4          -1.193006                   1.784555                   2.015532   \n",
       "\n",
       "   avg_l_elbow_hip_distance  avg_r_elbow_hip_distance  \\\n",
       "0                  1.861975                  2.153641   \n",
       "1                  1.862519                  2.156182   \n",
       "2                  1.863016                  2.157581   \n",
       "3                  1.858726                  2.148670   \n",
       "4                  1.844656                  2.126216   \n",
       "\n",
       "   avg_chest_pelvis_distance  avg_neck_chest_distance  ...  l_hand_speed  \\\n",
       "0                  -0.494162                 0.828131  ...     -1.317222   \n",
       "1                  -0.494601                 0.815993  ...     -1.293165   \n",
       "2                  -0.492221                 0.797046  ...     -1.296381   \n",
       "3                  -0.494535                 0.805367  ...     -1.288287   \n",
       "4                  -0.491558                 0.830400  ...     -1.232484   \n",
       "\n",
       "   r_hand_speed  l_foot_speed  r_foot_speed  neck_speed  \\\n",
       "0     -1.305853     -1.145622     -1.150469   -1.354722   \n",
       "1     -1.297497     -1.127662     -1.137195   -1.362549   \n",
       "2     -1.299952     -1.128823     -1.134306   -1.349971   \n",
       "3     -1.289756     -1.108338     -1.091173   -1.344425   \n",
       "4     -1.289702     -1.143171     -1.135303   -1.359488   \n",
       "\n",
       "   l_hand_acceleration_magnitude  r_hand_acceleration_magnitude  \\\n",
       "0                      -1.204255                      -1.147149   \n",
       "1                      -1.177056                      -1.143493   \n",
       "2                      -1.205267                      -1.147625   \n",
       "3                      -1.160342                      -1.143008   \n",
       "4                      -1.175658                      -1.135941   \n",
       "\n",
       "   l_foot_acceleration_magnitude  r_foot_acceleration_magnitude  \\\n",
       "0                      -1.163977                      -1.170814   \n",
       "1                      -1.177174                      -1.196791   \n",
       "2                      -1.188233                      -1.200799   \n",
       "3                      -1.147106                      -1.146426   \n",
       "4                      -1.171698                      -1.148640   \n",
       "\n",
       "   neck_acceleration_magnitude  \n",
       "0                    -1.157166  \n",
       "1                    -1.166618  \n",
       "2                    -1.162996  \n",
       "3                    -1.151700  \n",
       "4                    -1.158215  \n",
       "\n",
       "[5 rows x 27 columns]"
      ]
     },
     "execution_count": 11,
     "metadata": {},
     "output_type": "execute_result"
    }
   ],
   "source": [
    "dataset.head()"
   ]
  },
  {
   "cell_type": "code",
   "execution_count": 12,
   "metadata": {},
   "outputs": [
    {
     "data": {
      "text/plain": [
       "(18418, 27)"
      ]
     },
     "execution_count": 12,
     "metadata": {},
     "output_type": "execute_result"
    }
   ],
   "source": [
    "dataset.shape"
   ]
  },
  {
   "cell_type": "markdown",
   "metadata": {},
   "source": [
    "## Build Model"
   ]
  },
  {
   "cell_type": "markdown",
   "metadata": {},
   "source": [
    "### Settings"
   ]
  },
  {
   "cell_type": "code",
   "execution_count": 13,
   "metadata": {},
   "outputs": [],
   "source": [
    "latent_dim = 10\n",
    "input_shape = (dataset.shape[1],)"
   ]
  },
  {
   "cell_type": "markdown",
   "metadata": {},
   "source": [
    "### Sampler"
   ]
  },
  {
   "cell_type": "code",
   "execution_count": 14,
   "metadata": {},
   "outputs": [],
   "source": [
    "class Sampling(layers.Layer):\n",
    "    \"\"\"Uses (z_mean, z_log_var) to sample z, the vector encoding an LMA feature set\"\"\"\n",
    "\n",
    "    def call(self, inputs):\n",
    "        z_mean, z_log_var = inputs\n",
    "        batch = tf.shape(z_mean)[0]\n",
    "        dim = tf.shape(z_mean)[1]\n",
    "        epsilon = tf.keras.backend.random_normal(shape=(batch, dim))\n",
    "        return z_mean + tf.exp(0.5 * z_log_var) * epsilon"
   ]
  },
  {
   "cell_type": "markdown",
   "metadata": {},
   "source": [
    "### Encoder"
   ]
  },
  {
   "cell_type": "code",
   "execution_count": 15,
   "metadata": {},
   "outputs": [
    {
     "name": "stdout",
     "output_type": "stream",
     "text": [
      "Model: \"Encoder\"\n",
      "__________________________________________________________________________________________________\n",
      " Layer (type)                   Output Shape         Param #     Connected to                     \n",
      "==================================================================================================\n",
      " Encoder_Input (InputLayer)     [(None, 27)]         0           []                               \n",
      "                                                                                                  \n",
      " dense_6 (Dense)                (None, 27)           756         ['Encoder_Input[0][0]']          \n",
      "                                                                                                  \n",
      " Z_Mean (Dense)                 (None, 10)           280         ['dense_6[0][0]']                \n",
      "                                                                                                  \n",
      " Z_Log_Var (Dense)              (None, 10)           280         ['dense_6[0][0]']                \n",
      "                                                                                                  \n",
      " sampling (Sampling)            (None, 10)           0           ['Z_Mean[0][0]',                 \n",
      "                                                                  'Z_Log_Var[0][0]']              \n",
      "                                                                                                  \n",
      "==================================================================================================\n",
      "Total params: 1,316\n",
      "Trainable params: 1,316\n",
      "Non-trainable params: 0\n",
      "__________________________________________________________________________________________________\n"
     ]
    }
   ],
   "source": [
    "encoder_inputs = keras.Input(shape=input_shape, name=\"Encoder_Input\")\n",
    "\n",
    "x = layers.Dense(27, activation=\"relu\")(encoder_inputs)\n",
    "\n",
    "z_mean = layers.Dense(latent_dim, name=\"Z_Mean\")(x)\n",
    "z_log_var = layers.Dense(latent_dim, name=\"Z_Log_Var\")(x)\n",
    "z = Sampling()([z_mean, z_log_var])\n",
    "\n",
    "\n",
    "encoder = keras.Model(encoder_inputs, [z_mean, z_log_var, z], name=\"Encoder\")\n",
    "encoder.summary()"
   ]
  },
  {
   "cell_type": "markdown",
   "metadata": {},
   "source": [
    "### Decoder"
   ]
  },
  {
   "cell_type": "code",
   "execution_count": 16,
   "metadata": {},
   "outputs": [
    {
     "name": "stdout",
     "output_type": "stream",
     "text": [
      "Model: \"decoder\"\n",
      "_________________________________________________________________\n",
      " Layer (type)                Output Shape              Param #   \n",
      "=================================================================\n",
      " decoder_input (InputLayer)  [(None, 10)]              0         \n",
      "                                                                 \n",
      " dense_7 (Dense)             (None, 27)                297       \n",
      "                                                                 \n",
      " dense_8 (Dense)             (None, 27)                756       \n",
      "                                                                 \n",
      "=================================================================\n",
      "Total params: 1,053\n",
      "Trainable params: 1,053\n",
      "Non-trainable params: 0\n",
      "_________________________________________________________________\n"
     ]
    }
   ],
   "source": [
    "latent_inputs = keras.Input(shape = (latent_dim,), name = 'decoder_input')\n",
    "\n",
    "x = layers.Dense(27, activation='relu')(latent_inputs)\n",
    "\n",
    "decoder_outputs = layers.Dense(input_shape[0], activation='sigmoid')(x)\n",
    "\n",
    "decoder = keras.Model(latent_inputs, decoder_outputs, name=\"decoder\")\n",
    "decoder.summary()"
   ]
  },
  {
   "cell_type": "markdown",
   "metadata": {},
   "source": [
    "### Define VAE as a model with a custom train_step"
   ]
  },
  {
   "cell_type": "code",
   "execution_count": 32,
   "metadata": {},
   "outputs": [],
   "source": [
    "class VAE(keras.Model):\n",
    "    def __init__(self, encoder, decoder, **kwargs):\n",
    "        super(VAE, self).__init__(**kwargs)\n",
    "        self.encoder = encoder\n",
    "        self.decoder = decoder\n",
    "        self.total_loss_tracker = keras.metrics.Mean(name=\"total_loss\")\n",
    "        self.reconstruction_loss_tracker = keras.metrics.Mean(\n",
    "            name=\"reconstruction_loss\"\n",
    "        )\n",
    "        self.kl_loss_tracker = keras.metrics.Mean(name=\"kl_loss\")\n",
    "\n",
    "    @property\n",
    "    def metrics(self):\n",
    "        return [\n",
    "            self.total_loss_tracker,\n",
    "            self.reconstruction_loss_tracker,\n",
    "            self.kl_loss_tracker,\n",
    "        ]\n",
    "\n",
    "    def train_step(self, data):\n",
    "        with tf.GradientTape() as tape:\n",
    "            z_mean, z_log_var, z = self.encoder(data)\n",
    "            reconstruction = self.decoder(z)\n",
    "            reconstruction_loss = tf.reduce_mean(\n",
    "                tf.reduce_sum(\n",
    "                    keras.losses.binary_crossentropy(data, reconstruction), axis=(1, 2)\n",
    "                )\n",
    "            )\n",
    "            kl_loss = -0.5 * (1 + z_log_var - tf.square(z_mean) - tf.exp(z_log_var))\n",
    "            kl_loss = tf.reduce_mean(tf.reduce_sum(kl_loss, axis=1))\n",
    "            total_loss = reconstruction_loss + kl_loss\n",
    "        grads = tape.gradient(total_loss, self.trainable_weights)\n",
    "        self.optimizer.apply_gradients(zip(grads, self.trainable_weights))\n",
    "        self.total_loss_tracker.update_state(total_loss)\n",
    "        self.reconstruction_loss_tracker.update_state(reconstruction_loss)\n",
    "        self.kl_loss_tracker.update_state(kl_loss)\n",
    "        return {\n",
    "            \"loss\": self.total_loss_tracker.result(),\n",
    "            \"reconstruction_loss\": self.reconstruction_loss_tracker.result(),\n",
    "            \"kl_loss\": self.kl_loss_tracker.result(),\n",
    "        }\n"
   ]
  },
  {
   "cell_type": "markdown",
   "metadata": {},
   "source": [
    "## Train VAE"
   ]
  },
  {
   "cell_type": "code",
   "execution_count": 31,
   "metadata": {
    "scrolled": true
   },
   "outputs": [
    {
     "name": "stdout",
     "output_type": "stream",
     "text": [
      "Epoch 1/64\n"
     ]
    },
    {
     "ename": "ValueError",
     "evalue": "in user code:\n\n    File \"/home/diogosilva/.local/lib/python3.7/site-packages/keras/engine/training.py\", line 1021, in train_function  *\n        return step_function(self, iterator)\n    File \"/home/diogosilva/.local/lib/python3.7/site-packages/keras/engine/training.py\", line 1010, in step_function  **\n        outputs = model.distribute_strategy.run(run_step, args=(data,))\n    File \"/home/diogosilva/.local/lib/python3.7/site-packages/keras/engine/training.py\", line 1000, in run_step  **\n        outputs = model.train_step(data)\n    File \"/home/diogosilva/.local/lib/python3.7/site-packages/keras/engine/training.py\", line 859, in train_step\n        y_pred = self(x, training=True)\n    File \"/home/diogosilva/.local/lib/python3.7/site-packages/keras/utils/traceback_utils.py\", line 67, in error_handler\n        raise e.with_traceback(filtered_tb) from None\n    File \"/home/diogosilva/.local/lib/python3.7/site-packages/keras/engine/input_spec.py\", line 200, in assert_input_compatibility\n        raise ValueError(f'Layer \"{layer_name}\" expects {len(input_spec)} input(s),'\n\n    ValueError: Exception encountered when calling layer \"VAE\" (type Functional).\n    \n    Layer \"decoder\" expects 1 input(s), but it received 3 input tensors. Inputs received: [<tf.Tensor 'VAE/Encoder/Z_Mean/BiasAdd:0' shape=(None, 10) dtype=float32>, <tf.Tensor 'VAE/Encoder/Z_Log_Var/BiasAdd:0' shape=(None, 10) dtype=float32>, <tf.Tensor 'VAE/Encoder/sampling/add:0' shape=(None, 10) dtype=float32>]\n    \n    Call arguments received:\n      • inputs=tf.Tensor(shape=(None, 27), dtype=float64)\n      • training=True\n      • mask=None\n",
     "output_type": "error",
     "traceback": [
      "\u001b[0;31m---------------------------------------------------------------------------\u001b[0m",
      "\u001b[0;31mValueError\u001b[0m                                Traceback (most recent call last)",
      "\u001b[0;32m<ipython-input-31-c94b08960377>\u001b[0m in \u001b[0;36m<module>\u001b[0;34m\u001b[0m\n\u001b[0;32m----> 1\u001b[0;31m \u001b[0mvae\u001b[0m\u001b[0;34m.\u001b[0m\u001b[0mfit\u001b[0m\u001b[0;34m(\u001b[0m\u001b[0mdataset\u001b[0m\u001b[0;34m,\u001b[0m \u001b[0mepochs\u001b[0m\u001b[0;34m=\u001b[0m\u001b[0;36m64\u001b[0m\u001b[0;34m,\u001b[0m \u001b[0mbatch_size\u001b[0m\u001b[0;34m=\u001b[0m\u001b[0;36m128\u001b[0m\u001b[0;34m)\u001b[0m\u001b[0;34m\u001b[0m\u001b[0;34m\u001b[0m\u001b[0m\n\u001b[0m",
      "\u001b[0;32m~/.local/lib/python3.7/site-packages/keras/utils/traceback_utils.py\u001b[0m in \u001b[0;36merror_handler\u001b[0;34m(*args, **kwargs)\u001b[0m\n\u001b[1;32m     65\u001b[0m     \u001b[0;32mexcept\u001b[0m \u001b[0mException\u001b[0m \u001b[0;32mas\u001b[0m \u001b[0me\u001b[0m\u001b[0;34m:\u001b[0m  \u001b[0;31m# pylint: disable=broad-except\u001b[0m\u001b[0;34m\u001b[0m\u001b[0;34m\u001b[0m\u001b[0m\n\u001b[1;32m     66\u001b[0m       \u001b[0mfiltered_tb\u001b[0m \u001b[0;34m=\u001b[0m \u001b[0m_process_traceback_frames\u001b[0m\u001b[0;34m(\u001b[0m\u001b[0me\u001b[0m\u001b[0;34m.\u001b[0m\u001b[0m__traceback__\u001b[0m\u001b[0;34m)\u001b[0m\u001b[0;34m\u001b[0m\u001b[0;34m\u001b[0m\u001b[0m\n\u001b[0;32m---> 67\u001b[0;31m       \u001b[0;32mraise\u001b[0m \u001b[0me\u001b[0m\u001b[0;34m.\u001b[0m\u001b[0mwith_traceback\u001b[0m\u001b[0;34m(\u001b[0m\u001b[0mfiltered_tb\u001b[0m\u001b[0;34m)\u001b[0m \u001b[0;32mfrom\u001b[0m \u001b[0;32mNone\u001b[0m\u001b[0;34m\u001b[0m\u001b[0;34m\u001b[0m\u001b[0m\n\u001b[0m\u001b[1;32m     68\u001b[0m     \u001b[0;32mfinally\u001b[0m\u001b[0;34m:\u001b[0m\u001b[0;34m\u001b[0m\u001b[0;34m\u001b[0m\u001b[0m\n\u001b[1;32m     69\u001b[0m       \u001b[0;32mdel\u001b[0m \u001b[0mfiltered_tb\u001b[0m\u001b[0;34m\u001b[0m\u001b[0;34m\u001b[0m\u001b[0m\n",
      "\u001b[0;32m~/.local/lib/python3.7/site-packages/tensorflow/python/framework/func_graph.py\u001b[0m in \u001b[0;36mautograph_handler\u001b[0;34m(*args, **kwargs)\u001b[0m\n\u001b[1;32m   1145\u001b[0m           \u001b[0;32mexcept\u001b[0m \u001b[0mException\u001b[0m \u001b[0;32mas\u001b[0m \u001b[0me\u001b[0m\u001b[0;34m:\u001b[0m  \u001b[0;31m# pylint:disable=broad-except\u001b[0m\u001b[0;34m\u001b[0m\u001b[0;34m\u001b[0m\u001b[0m\n\u001b[1;32m   1146\u001b[0m             \u001b[0;32mif\u001b[0m \u001b[0mhasattr\u001b[0m\u001b[0;34m(\u001b[0m\u001b[0me\u001b[0m\u001b[0;34m,\u001b[0m \u001b[0;34m\"ag_error_metadata\"\u001b[0m\u001b[0;34m)\u001b[0m\u001b[0;34m:\u001b[0m\u001b[0;34m\u001b[0m\u001b[0;34m\u001b[0m\u001b[0m\n\u001b[0;32m-> 1147\u001b[0;31m               \u001b[0;32mraise\u001b[0m \u001b[0me\u001b[0m\u001b[0;34m.\u001b[0m\u001b[0mag_error_metadata\u001b[0m\u001b[0;34m.\u001b[0m\u001b[0mto_exception\u001b[0m\u001b[0;34m(\u001b[0m\u001b[0me\u001b[0m\u001b[0;34m)\u001b[0m\u001b[0;34m\u001b[0m\u001b[0;34m\u001b[0m\u001b[0m\n\u001b[0m\u001b[1;32m   1148\u001b[0m             \u001b[0;32melse\u001b[0m\u001b[0;34m:\u001b[0m\u001b[0;34m\u001b[0m\u001b[0;34m\u001b[0m\u001b[0m\n\u001b[1;32m   1149\u001b[0m               \u001b[0;32mraise\u001b[0m\u001b[0;34m\u001b[0m\u001b[0;34m\u001b[0m\u001b[0m\n",
      "\u001b[0;31mValueError\u001b[0m: in user code:\n\n    File \"/home/diogosilva/.local/lib/python3.7/site-packages/keras/engine/training.py\", line 1021, in train_function  *\n        return step_function(self, iterator)\n    File \"/home/diogosilva/.local/lib/python3.7/site-packages/keras/engine/training.py\", line 1010, in step_function  **\n        outputs = model.distribute_strategy.run(run_step, args=(data,))\n    File \"/home/diogosilva/.local/lib/python3.7/site-packages/keras/engine/training.py\", line 1000, in run_step  **\n        outputs = model.train_step(data)\n    File \"/home/diogosilva/.local/lib/python3.7/site-packages/keras/engine/training.py\", line 859, in train_step\n        y_pred = self(x, training=True)\n    File \"/home/diogosilva/.local/lib/python3.7/site-packages/keras/utils/traceback_utils.py\", line 67, in error_handler\n        raise e.with_traceback(filtered_tb) from None\n    File \"/home/diogosilva/.local/lib/python3.7/site-packages/keras/engine/input_spec.py\", line 200, in assert_input_compatibility\n        raise ValueError(f'Layer \"{layer_name}\" expects {len(input_spec)} input(s),'\n\n    ValueError: Exception encountered when calling layer \"VAE\" (type Functional).\n    \n    Layer \"decoder\" expects 1 input(s), but it received 3 input tensors. Inputs received: [<tf.Tensor 'VAE/Encoder/Z_Mean/BiasAdd:0' shape=(None, 10) dtype=float32>, <tf.Tensor 'VAE/Encoder/Z_Log_Var/BiasAdd:0' shape=(None, 10) dtype=float32>, <tf.Tensor 'VAE/Encoder/sampling/add:0' shape=(None, 10) dtype=float32>]\n    \n    Call arguments received:\n      • inputs=tf.Tensor(shape=(None, 27), dtype=float64)\n      • training=True\n      • mask=None\n"
     ]
    }
   ],
   "source": [
    "vae = VAE(encoder, decoder)\n",
    "vae.compile(optimizer=keras.optimizers.Adam())\n",
    "vae.fit(dataset, epochs=64, batch_size=128)"
   ]
  },
  {
   "cell_type": "markdown",
   "metadata": {},
   "source": [
    "### Test"
   ]
  },
  {
   "cell_type": "code",
   "execution_count": 23,
   "metadata": {},
   "outputs": [
    {
     "name": "stdout",
     "output_type": "stream",
     "text": [
      "[[ 1.90674523  1.59020122  1.68231661 -1.19144724  1.80069267  2.04191481\n",
      "   1.86251926  2.15618245 -0.4946007   0.81599296  0.16219381 -0.27271371\n",
      "   0.45883186  0.79817861  1.0308105   1.59196849 -0.72312935 -1.29316523\n",
      "  -1.29749707 -1.12766175 -1.13719529 -1.36254905 -1.17705573 -1.14349296\n",
      "  -1.17717406 -1.19679061 -1.16661812]]\n"
     ]
    }
   ],
   "source": [
    "sample = np.asarray(dataset.iloc[1])\n",
    "sample = sample.reshape(1,-1)\n",
    "print(sample)"
   ]
  },
  {
   "cell_type": "code",
   "execution_count": 24,
   "metadata": {},
   "outputs": [],
   "source": [
    "z_mean, z_log_var, z = vae.encoder.predict(sample)"
   ]
  },
  {
   "cell_type": "code",
   "execution_count": 25,
   "metadata": {},
   "outputs": [
    {
     "name": "stdout",
     "output_type": "stream",
     "text": [
      "[[0.         0.         0.         0.         0.         0.\n",
      "  0.         0.         0.         0.         0.         0.\n",
      "  0.         0.98900294 0.         0.         0.         0.\n",
      "  0.         0.         0.         0.         0.         0.\n",
      "  0.         0.         0.        ]]\n"
     ]
    }
   ],
   "source": [
    "regen = vae.decoder.predict(z)\n",
    "print(regen)"
   ]
  },
  {
   "cell_type": "markdown",
   "metadata": {},
   "source": [
    "\n"
   ]
  },
  {
   "cell_type": "markdown",
   "metadata": {},
   "source": [
    "\n"
   ]
  },
  {
   "cell_type": "markdown",
   "metadata": {},
   "source": [
    "\n"
   ]
  },
  {
   "cell_type": "markdown",
   "metadata": {},
   "source": [
    "\n"
   ]
  },
  {
   "cell_type": "code",
   "execution_count": null,
   "metadata": {},
   "outputs": [],
   "source": []
  }
 ],
 "metadata": {
  "kernelspec": {
   "display_name": "Python 3",
   "language": "python",
   "name": "python3"
  },
  "language_info": {
   "codemirror_mode": {
    "name": "ipython",
    "version": 3
   },
   "file_extension": ".py",
   "mimetype": "text/x-python",
   "name": "python",
   "nbconvert_exporter": "python",
   "pygments_lexer": "ipython3",
   "version": "3.7.5"
  }
 },
 "nbformat": 4,
 "nbformat_minor": 4
}
