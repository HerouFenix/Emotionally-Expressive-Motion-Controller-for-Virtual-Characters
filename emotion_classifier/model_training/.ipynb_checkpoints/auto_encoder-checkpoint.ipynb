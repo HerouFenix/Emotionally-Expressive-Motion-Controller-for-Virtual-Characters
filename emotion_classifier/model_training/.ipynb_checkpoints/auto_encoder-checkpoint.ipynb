{
 "cells": [
  {
   "cell_type": "code",
   "execution_count": 88,
   "metadata": {},
   "outputs": [],
   "source": [
    "import numpy as np\n",
    "import pandas as pd\n",
    "\n",
    "import tensorflow as tf\n",
    "from tensorflow import keras\n",
    "from tensorflow.keras import layers\n",
    "import keras.backend as K\n",
    "from sklearn.utils import shuffle\n"
   ]
  },
  {
   "cell_type": "markdown",
   "metadata": {},
   "source": [
    "## Load Data"
   ]
  },
  {
   "cell_type": "code",
   "execution_count": 89,
   "metadata": {},
   "outputs": [],
   "source": [
    "dataset = pd.read_csv('datasets/Fs_B_DANCE_WALK_1sec.csv')"
   ]
  },
  {
   "cell_type": "markdown",
   "metadata": {},
   "source": [
    "### Remove Emotions from dataset & Split into Train/Test sets"
   ]
  },
  {
   "cell_type": "code",
   "execution_count": 90,
   "metadata": {},
   "outputs": [
    {
     "name": "stdout",
     "output_type": "stream",
     "text": [
      "No Training Samples: 3840\n",
      "No Test Samples: 960\n",
      "27\n"
     ]
    }
   ],
   "source": [
    "dataset = dataset.drop(columns=['EMOTION_P', 'EMOTION_A', 'EMOTION_D'])\n",
    "\n",
    "train_dataset = dataset.sample(frac=0.8, random_state=42)\n",
    "test_dataset = dataset.drop(train_dataset.index)\n",
    "\n",
    "print(\"No Training Samples:\",train_dataset.shape[0])\n",
    "print(\"No Test Samples:\",test_dataset.shape[0])\n",
    "\n",
    "train_dataset = shuffle(train_dataset)\n",
    "test_dataset = shuffle(test_dataset)\n",
    "\n",
    "train_dataset = np.asarray(train_dataset)\n",
    "test_dataset = np.asarray(test_dataset)\n",
    "\n",
    "x_train = train_dataset.reshape((len(train_dataset), np.prod(train_dataset.shape[1:])))\n",
    "x_test = test_dataset.reshape((len(test_dataset), np.prod(test_dataset.shape[1:])))\n",
    "\n",
    "print(len(x_train[0]))"
   ]
  },
  {
   "cell_type": "markdown",
   "metadata": {},
   "source": [
    "## Build Model"
   ]
  },
  {
   "cell_type": "markdown",
   "metadata": {},
   "source": [
    "### Settings"
   ]
  },
  {
   "cell_type": "code",
   "execution_count": 91,
   "metadata": {},
   "outputs": [],
   "source": [
    "latent_dim = 5\n",
    "intermediate_dim = 12\n",
    "input_shape = (dataset.shape[1],)"
   ]
  },
  {
   "cell_type": "markdown",
   "metadata": {},
   "source": [
    "### Sampler"
   ]
  },
  {
   "cell_type": "code",
   "execution_count": 92,
   "metadata": {},
   "outputs": [],
   "source": [
    "class Sampling(layers.Layer):\n",
    "    \"\"\"Uses (z_mean, z_log_var) to sample z, the vector encoding a digit.\"\"\"\n",
    "\n",
    "    def call(self, inputs):\n",
    "        z_mean, z_log_var = inputs\n",
    "        \n",
    "        batch = tf.shape(z_mean)[0]\n",
    "        \n",
    "        dim = tf.shape(z_mean)[1]\n",
    "        \n",
    "        epsilon = tf.keras.backend.random_normal(shape=(batch, dim))\n",
    "        return z_mean + tf.exp(0.5 * z_log_var) * epsilon\n",
    "\n",
    "    \n",
    "def sample_point_from_normal_distribution(args):\n",
    "    mu, log_variance = args\n",
    "    epsilon = K.random_normal(shape=K.shape(mu), mean=0.0, stddev=1.0)\n",
    "    sampled_point = mu + K.exp(log_variance / 2) * epsilon\n",
    "    return sampled_point"
   ]
  },
  {
   "cell_type": "markdown",
   "metadata": {},
   "source": [
    "### Encoder"
   ]
  },
  {
   "cell_type": "code",
   "execution_count": 93,
   "metadata": {},
   "outputs": [
    {
     "name": "stdout",
     "output_type": "stream",
     "text": [
      "Model: \"encoder\"\n",
      "__________________________________________________________________________________________________\n",
      " Layer (type)                   Output Shape         Param #     Connected to                     \n",
      "==================================================================================================\n",
      " input_7 (InputLayer)           [(None, 27)]         0           []                               \n",
      "                                                                                                  \n",
      " dense_8 (Dense)                (None, 12)           336         ['input_7[0][0]']                \n",
      "                                                                                                  \n",
      " z_mean (Dense)                 (None, 5)            65          ['dense_8[0][0]']                \n",
      "                                                                                                  \n",
      " z_log_var (Dense)              (None, 5)            65          ['dense_8[0][0]']                \n",
      "                                                                                                  \n",
      " sampling_3 (Sampling)          (None, 5)            0           ['z_mean[0][0]',                 \n",
      "                                                                  'z_log_var[0][0]']              \n",
      "                                                                                                  \n",
      "==================================================================================================\n",
      "Total params: 466\n",
      "Trainable params: 466\n",
      "Non-trainable params: 0\n",
      "__________________________________________________________________________________________________\n"
     ]
    }
   ],
   "source": [
    "encoder_inputs = keras.Input(shape=input_shape)\n",
    "x = layers.Dense(intermediate_dim, activation=\"relu\")(encoder_inputs)\n",
    "\n",
    "z_mean = layers.Dense(latent_dim, name=\"z_mean\")(x)\n",
    "z_log_var = layers.Dense(latent_dim, name=\"z_log_var\")(x)\n",
    "\n",
    "z = Sampling()([z_mean, z_log_var])\n",
    "\n",
    "encoder = keras.Model(encoder_inputs, [z_mean, z_log_var, z], name=\"encoder\")\n",
    "encoder.summary()"
   ]
  },
  {
   "cell_type": "markdown",
   "metadata": {},
   "source": [
    "### Decoder"
   ]
  },
  {
   "cell_type": "code",
   "execution_count": 94,
   "metadata": {},
   "outputs": [
    {
     "name": "stdout",
     "output_type": "stream",
     "text": [
      "Model: \"decoder\"\n",
      "_________________________________________________________________\n",
      " Layer (type)                Output Shape              Param #   \n",
      "=================================================================\n",
      " input_8 (InputLayer)        [(None, 5)]               0         \n",
      "                                                                 \n",
      " dense_9 (Dense)             (None, 12)                72        \n",
      "                                                                 \n",
      " dense_10 (Dense)            (None, 27)                351       \n",
      "                                                                 \n",
      "=================================================================\n",
      "Total params: 423\n",
      "Trainable params: 423\n",
      "Non-trainable params: 0\n",
      "_________________________________________________________________\n"
     ]
    }
   ],
   "source": [
    "latent_inputs = keras.Input(shape=(latent_dim,))\n",
    "\n",
    "x = layers.Dense(intermediate_dim, activation=\"relu\")(latent_inputs)\n",
    "\n",
    "decoder_outputs = layers.Dense(input_shape[0], activation=\"sigmoid\")(x)\n",
    "\n",
    "decoder = keras.Model(latent_inputs, decoder_outputs, name=\"decoder\")\n",
    "decoder.summary()"
   ]
  },
  {
   "cell_type": "markdown",
   "metadata": {},
   "source": [
    "### Define VAE as a model with a custom train_step"
   ]
  },
  {
   "cell_type": "code",
   "execution_count": 112,
   "metadata": {},
   "outputs": [],
   "source": [
    "class VAE(keras.Model):\n",
    "    def __init__(self, encoder, decoder, **kwargs):\n",
    "        super(VAE, self).__init__(**kwargs)\n",
    "        self.encoder = encoder\n",
    "        self.decoder = decoder\n",
    "        \n",
    "        self.total_loss_tracker = keras.metrics.Mean(name=\"total_loss\")\n",
    "        \n",
    "        self.reconstruction_loss_tracker = keras.metrics.Mean(\n",
    "            name=\"reconstruction_loss\"\n",
    "        )\n",
    "        \n",
    "        self.kl_loss_tracker = keras.metrics.Mean(name=\"kl_loss\")\n",
    "\n",
    "    @property\n",
    "    def metrics(self):\n",
    "        return [\n",
    "            self.total_loss_tracker,\n",
    "            self.reconstruction_loss_tracker,\n",
    "            self.kl_loss_tracker,\n",
    "        ]\n",
    "\n",
    "    def train_step(self, data):\n",
    "        with tf.GradientTape() as tape:\n",
    "            z_mean, z_log_var, z = self.encoder(data)\n",
    "            \n",
    "            reconstruction = self.decoder(z)\n",
    "            reconstruction_loss = tf.reduce_mean(\n",
    "                tf.reduce_sum(\n",
    "                    keras.losses.binary_crossentropy(data, reconstruction)\n",
    "                )\n",
    "            )\n",
    "            \n",
    "            kl_loss = -0.5 * (1 + z_log_var - tf.square(z_mean) - tf.exp(z_log_var))\n",
    "            kl_loss = tf.reduce_mean(tf.reduce_sum(kl_loss, axis=1))\n",
    "            \n",
    "            total_loss = reconstruction_loss + kl_loss\n",
    "            \n",
    "        grads = tape.gradient(total_loss, self.trainable_weights)\n",
    "        self.optimizer.apply_gradients(zip(grads, self.trainable_weights))\n",
    "        self.total_loss_tracker.update_state(total_loss)\n",
    "        self.reconstruction_loss_tracker.update_state(reconstruction_loss)\n",
    "        self.kl_loss_tracker.update_state(kl_loss)\n",
    "        \n",
    "        return {\n",
    "            \"loss\": self.total_loss_tracker.result(),\n",
    "            \"reconstruction_loss\": self.reconstruction_loss_tracker.result(),\n",
    "            \"kl_loss\": self.kl_loss_tracker.result(),\n",
    "        }\n"
   ]
  },
  {
   "cell_type": "code",
   "execution_count": 117,
   "metadata": {},
   "outputs": [],
   "source": []
  },
  {
   "cell_type": "markdown",
   "metadata": {},
   "source": [
    "## Train VAE"
   ]
  },
  {
   "cell_type": "code",
   "execution_count": 118,
   "metadata": {},
   "outputs": [
    {
     "name": "stdout",
     "output_type": "stream",
     "text": [
      "Epoch 1/50\n",
      "120/120 [==============================] - 1s 2ms/step - loss: 39076.5664 - val_loss: 39076.3906\n",
      "Epoch 2/50\n",
      "120/120 [==============================] - 0s 1ms/step - loss: 39076.6406 - val_loss: 39076.5586\n",
      "Epoch 3/50\n",
      "120/120 [==============================] - 0s 1ms/step - loss: 39076.6641 - val_loss: 39076.4414\n",
      "Epoch 4/50\n",
      "120/120 [==============================] - 0s 2ms/step - loss: 39076.5000 - val_loss: 39076.3633\n",
      "Epoch 5/50\n",
      "120/120 [==============================] - 0s 1ms/step - loss: 39076.4492 - val_loss: 39076.3477\n",
      "Epoch 6/50\n",
      "120/120 [==============================] - 0s 1ms/step - loss: 39076.4883 - val_loss: 39076.3711\n",
      "Epoch 7/50\n",
      "120/120 [==============================] - 0s 1ms/step - loss: 39076.4336 - val_loss: 39076.3320\n",
      "Epoch 8/50\n",
      "120/120 [==============================] - 0s 1ms/step - loss: 39076.4453 - val_loss: 39076.3242\n",
      "Epoch 9/50\n",
      "120/120 [==============================] - 0s 2ms/step - loss: 39076.4219 - val_loss: 39076.2070\n",
      "Epoch 10/50\n",
      "120/120 [==============================] - 0s 1ms/step - loss: 39076.3555 - val_loss: 39076.2227\n",
      "Epoch 11/50\n",
      "120/120 [==============================] - 0s 2ms/step - loss: 39076.3125 - val_loss: 39076.1367\n",
      "Epoch 12/50\n",
      "120/120 [==============================] - 0s 1ms/step - loss: 39076.1875 - val_loss: 39075.9883\n",
      "Epoch 13/50\n",
      "120/120 [==============================] - 0s 1ms/step - loss: 39076.0703 - val_loss: 39075.9531\n",
      "Epoch 14/50\n",
      "120/120 [==============================] - 0s 1ms/step - loss: 39076.0469 - val_loss: 39075.9297\n",
      "Epoch 15/50\n",
      "120/120 [==============================] - 0s 1ms/step - loss: 39075.9414 - val_loss: 39075.7305\n",
      "Epoch 16/50\n",
      "120/120 [==============================] - 0s 2ms/step - loss: 39075.8398 - val_loss: 39075.7852\n",
      "Epoch 17/50\n",
      "120/120 [==============================] - 0s 1ms/step - loss: 39075.8789 - val_loss: 39075.7617\n",
      "Epoch 18/50\n",
      "120/120 [==============================] - 0s 1ms/step - loss: 39075.8398 - val_loss: 39075.7148\n",
      "Epoch 19/50\n",
      "120/120 [==============================] - 0s 1ms/step - loss: 39075.7852 - val_loss: 39075.6836\n",
      "Epoch 20/50\n",
      "120/120 [==============================] - 0s 1ms/step - loss: 39075.7617 - val_loss: 39075.6602\n",
      "Epoch 21/50\n",
      "120/120 [==============================] - 0s 2ms/step - loss: 39075.7031 - val_loss: 39075.5977\n",
      "Epoch 22/50\n",
      "120/120 [==============================] - 0s 1ms/step - loss: 39075.6172 - val_loss: 39075.5039\n",
      "Epoch 23/50\n",
      "120/120 [==============================] - 0s 1ms/step - loss: 39075.5234 - val_loss: 39075.4141\n",
      "Epoch 24/50\n",
      "120/120 [==============================] - 0s 1ms/step - loss: 39075.4766 - val_loss: 39075.4102\n",
      "Epoch 25/50\n",
      "120/120 [==============================] - 0s 1ms/step - loss: 39075.4219 - val_loss: 39075.2578\n",
      "Epoch 26/50\n",
      "120/120 [==============================] - 0s 1ms/step - loss: 39075.3047 - val_loss: 39075.2461\n",
      "Epoch 27/50\n",
      "120/120 [==============================] - 0s 1ms/step - loss: 39075.2930 - val_loss: 39075.2344\n",
      "Epoch 28/50\n",
      "120/120 [==============================] - 0s 1ms/step - loss: 39075.2852 - val_loss: 39075.2383\n",
      "Epoch 29/50\n",
      "120/120 [==============================] - 0s 1ms/step - loss: 39075.2734 - val_loss: 39075.2305\n",
      "Epoch 30/50\n",
      "120/120 [==============================] - 0s 1ms/step - loss: 39075.2617 - val_loss: 39075.2305\n",
      "Epoch 31/50\n",
      "120/120 [==============================] - 0s 1ms/step - loss: 39075.2539 - val_loss: 39075.1914\n",
      "Epoch 32/50\n",
      "120/120 [==============================] - 0s 1ms/step - loss: 39075.2500 - val_loss: 39075.1953\n",
      "Epoch 33/50\n",
      "120/120 [==============================] - 0s 1ms/step - loss: 39075.2305 - val_loss: 39075.1875\n",
      "Epoch 34/50\n",
      "120/120 [==============================] - 0s 1ms/step - loss: 39075.2344 - val_loss: 39075.2031\n",
      "Epoch 35/50\n",
      "120/120 [==============================] - 0s 1ms/step - loss: 39075.2266 - val_loss: 39075.1406\n",
      "Epoch 36/50\n",
      "120/120 [==============================] - 0s 1ms/step - loss: 39075.1367 - val_loss: 39075.1016\n",
      "Epoch 37/50\n",
      "120/120 [==============================] - 0s 1ms/step - loss: 39075.1211 - val_loss: 39075.0586\n",
      "Epoch 38/50\n",
      "120/120 [==============================] - 0s 1ms/step - loss: 39075.0703 - val_loss: 39075.0000\n",
      "Epoch 39/50\n",
      "120/120 [==============================] - 0s 1ms/step - loss: 39075.0586 - val_loss: 39074.9531\n",
      "Epoch 40/50\n",
      "120/120 [==============================] - 0s 1ms/step - loss: 39075.0391 - val_loss: 39074.9219\n",
      "Epoch 41/50\n",
      "120/120 [==============================] - 0s 1ms/step - loss: 39074.9922 - val_loss: 39074.8906\n",
      "Epoch 42/50\n",
      "120/120 [==============================] - 0s 1ms/step - loss: 39074.9375 - val_loss: 39074.8828\n",
      "Epoch 43/50\n",
      "120/120 [==============================] - 0s 1ms/step - loss: 39074.9648 - val_loss: 39074.8750\n",
      "Epoch 44/50\n",
      "120/120 [==============================] - 0s 1ms/step - loss: 39074.9570 - val_loss: 39074.8789\n",
      "Epoch 45/50\n",
      "120/120 [==============================] - 0s 1ms/step - loss: 39074.9375 - val_loss: 39074.8242\n",
      "Epoch 46/50\n",
      "120/120 [==============================] - 0s 1ms/step - loss: 39074.8750 - val_loss: 39074.8164\n",
      "Epoch 47/50\n",
      "120/120 [==============================] - 0s 1ms/step - loss: 39074.8516 - val_loss: 39074.8047\n",
      "Epoch 48/50\n",
      "120/120 [==============================] - 0s 1ms/step - loss: 39074.8477 - val_loss: 39074.8086\n",
      "Epoch 49/50\n",
      "120/120 [==============================] - 0s 1ms/step - loss: 39074.8281 - val_loss: 39074.7773\n",
      "Epoch 50/50\n",
      "120/120 [==============================] - 0s 2ms/step - loss: 39074.8164 - val_loss: 39074.7500\n"
     ]
    },
    {
     "data": {
      "text/plain": [
       "<keras.callbacks.History at 0x7f820878b390>"
      ]
     },
     "execution_count": 118,
     "metadata": {},
     "output_type": "execute_result"
    }
   ],
   "source": [
    "vae = VAE(encoder, decoder)\n",
    "vae.compile(optimizer=keras.optimizers.Adam())\n",
    "vae.fit(dataset, epochs=30, batch_size=128)"
   ]
  },
  {
   "cell_type": "markdown",
   "metadata": {},
   "source": [
    "### Test"
   ]
  },
  {
   "cell_type": "code",
   "execution_count": 119,
   "metadata": {},
   "outputs": [
    {
     "name": "stdout",
     "output_type": "stream",
     "text": [
      "[[ 0.32803145  0.16344059  0.23296083  0.32319513  0.4165411   0.45243546\n",
      "   0.295855    0.32972974  0.286151    0.27292065 -0.17473445  0.00446567\n",
      "  -0.33494135  0.92557049  0.22393783  0.10442776  0.03750376  0.1268874\n",
      "   0.05702575  0.12193758  0.29428763  0.04635692  0.08562997  0.02835034\n",
      "   0.12710496  0.28694534  0.06570215]]\n"
     ]
    }
   ],
   "source": [
    "sample = np.asarray(dataset.iloc[1])\n",
    "sample = sample.reshape(1,-1)\n",
    "print(sample)"
   ]
  },
  {
   "cell_type": "code",
   "execution_count": 122,
   "metadata": {},
   "outputs": [],
   "source": [
    "z_mean, z_log_var, z = vae.encoder.predict(sample)"
   ]
  },
  {
   "cell_type": "code",
   "execution_count": 123,
   "metadata": {},
   "outputs": [
    {
     "name": "stdout",
     "output_type": "stream",
     "text": [
      "[[5.87805688e-01 2.93179452e-01 3.04016978e-01 5.21048129e-01\n",
      "  4.11051273e-01 4.15717572e-01 3.14966768e-01 3.21503758e-01\n",
      "  2.86111832e-01 2.75454938e-01 2.91687954e-38 8.32346082e-03\n",
      "  1.12921836e-04 8.14915419e-01 3.39755714e-01 1.01985008e-01\n",
      "  1.63266033e-01 4.14855570e-01 4.38008755e-01 3.27816665e-01\n",
      "  3.71380925e-01 3.08105528e-01 6.63352489e-01 6.87188685e-01\n",
      "  4.96380389e-01 5.69266737e-01 4.04612035e-01]]\n"
     ]
    }
   ],
   "source": [
    "regen = vae.decoder.predict(z)\n",
    "print(regen)"
   ]
  },
  {
   "cell_type": "markdown",
   "metadata": {},
   "source": [
    "\n"
   ]
  },
  {
   "cell_type": "markdown",
   "metadata": {},
   "source": [
    "\n"
   ]
  },
  {
   "cell_type": "markdown",
   "metadata": {},
   "source": [
    "\n"
   ]
  },
  {
   "cell_type": "markdown",
   "metadata": {},
   "source": [
    "\n"
   ]
  },
  {
   "cell_type": "markdown",
   "metadata": {},
   "source": [
    "\n"
   ]
  },
  {
   "cell_type": "markdown",
   "metadata": {},
   "source": [
    "\n"
   ]
  },
  {
   "cell_type": "markdown",
   "metadata": {},
   "source": [
    "\n"
   ]
  },
  {
   "cell_type": "markdown",
   "metadata": {},
   "source": [
    "\n"
   ]
  },
  {
   "cell_type": "markdown",
   "metadata": {},
   "source": [
    "\n"
   ]
  },
  {
   "cell_type": "markdown",
   "metadata": {},
   "source": [
    "\n"
   ]
  },
  {
   "cell_type": "markdown",
   "metadata": {},
   "source": [
    "\n"
   ]
  },
  {
   "cell_type": "markdown",
   "metadata": {},
   "source": [
    "\n"
   ]
  },
  {
   "cell_type": "markdown",
   "metadata": {},
   "source": [
    "\n"
   ]
  },
  {
   "cell_type": "markdown",
   "metadata": {},
   "source": [
    "\n"
   ]
  },
  {
   "cell_type": "markdown",
   "metadata": {},
   "source": [
    "\n"
   ]
  },
  {
   "cell_type": "markdown",
   "metadata": {},
   "source": [
    "\n"
   ]
  },
  {
   "cell_type": "markdown",
   "metadata": {},
   "source": [
    "\n"
   ]
  },
  {
   "cell_type": "markdown",
   "metadata": {},
   "source": [
    "\n"
   ]
  },
  {
   "cell_type": "markdown",
   "metadata": {},
   "source": [
    "\n"
   ]
  },
  {
   "cell_type": "markdown",
   "metadata": {},
   "source": [
    "\n"
   ]
  },
  {
   "cell_type": "markdown",
   "metadata": {},
   "source": [
    "\n"
   ]
  },
  {
   "cell_type": "markdown",
   "metadata": {},
   "source": [
    "\n"
   ]
  },
  {
   "cell_type": "markdown",
   "metadata": {},
   "source": [
    "\n"
   ]
  },
  {
   "cell_type": "markdown",
   "metadata": {},
   "source": [
    "\n"
   ]
  },
  {
   "cell_type": "markdown",
   "metadata": {},
   "source": [
    "\n"
   ]
  },
  {
   "cell_type": "markdown",
   "metadata": {},
   "source": [
    "\n"
   ]
  },
  {
   "cell_type": "code",
   "execution_count": 10,
   "metadata": {},
   "outputs": [],
   "source": [
    "def vae_loss(input_vols, output_vols):\n",
    "    beta = 1e-7\n",
    "    kl_loss = tf.keras.backend.sum(-1 - tf.keras.backend.log(tf.keras.backend.exp(z_log_var)) + tf.keras.backend.exp(z_log_var) + tf.keras.backend.square(z_mean))/2\n",
    "    return tf.keras.backend.mean((input_vols-output_vols)**2) + beta*kl_loss"
   ]
  },
  {
   "cell_type": "code",
   "execution_count": 220,
   "metadata": {},
   "outputs": [],
   "source": [
    "class VAE:\n",
    "    def __init__(self, encoder, decoder, encoder_input, z_mean, z_log_var):\n",
    "        self.encoder = encoder\n",
    "        self.decoder = decoder\n",
    "        \n",
    "        self._model_input = encoder_input\n",
    "        self.mu = z_mean\n",
    "        self.log_variance = z_log_var\n",
    "        \n",
    "        self.model = None\n",
    "        self._build_autoencoder()\n",
    "        \n",
    "        self.reconstruction_loss_weight = 1000\n",
    "        \n",
    "    def summary(self):\n",
    "        self.encoder.summary()\n",
    "        self.decoder.summary()\n",
    "        self.model.summary()\n",
    "        \n",
    "    def compile(self, learning_rate=0.0001):\n",
    "        optimizer = keras.optimizers.Adam(learning_rate=learning_rate)\n",
    "        self.model.compile(optimizer=optimizer,\n",
    "                          loss=self._calculate_combined_loss,\n",
    "                          metrics=[self._calculate_reconstruction_loss,\n",
    "                                   self._calculate_kl_loss])\n",
    "        \n",
    "    def train(self, train_set, batch_size, num_epochs):\n",
    "        self.model.fit(train_set, train_set,\n",
    "                      batch_size = batch_size,\n",
    "                      epochs=num_epochs,\n",
    "                      shuffle=True)\n",
    "        \n",
    "    def reconstruct(self, samples):\n",
    "        latent_representations = self.encoder.predict(samples)\n",
    "        reconstructed = self.decoder.predict(latent_representations)\n",
    "        return reconstructed, latent_representations\n",
    "    \n",
    "\n",
    "    \n",
    "    def _build_autoencoder(self):\n",
    "        model_output = self.decoder(self.encoder(self._model_input))\n",
    "        self.model = keras.Model(self._model_input, model_output, name=\"AutoEncoder\")\n",
    "        return\n",
    "    \n",
    "    def _calculate_combined_loss(self, y_target, y_predicted):\n",
    "        reconstruction_loss = self._calculate_reconstruction_loss(y_target, y_predicted)\n",
    "        kl_loss = self._calculate_kl_loss(y_target, y_predicted)\n",
    "        print(\"HIIIIIIIIIIII\")\n",
    "\n",
    "        combined_loss = (self.reconstruction_loss_weight * reconstruction_loss) + kl_loss\n",
    "        print(combined_loss)\n",
    "        return combined_loss\n",
    "    \n",
    "    def _calculate_reconstruction_loss(self, y_target, y_predicted):\n",
    "        error = y_target - y_predicted\n",
    "        reconstruction_loss = K.mean(K.square(error), axis=1) # this axis may be wrong\n",
    "        \n",
    "        return reconstruction_loss\n",
    "    \n",
    "    def _calculate_kl_loss(self, y_target, y_predicted):\n",
    "        kl_loss = -0.5 * K.sum(1 + self.log_variance - K.square(self.mu) - K.exp(self.log_variance), axis=1)\n",
    "        return kl_loss"
   ]
  },
  {
   "cell_type": "markdown",
   "metadata": {},
   "source": [
    "\n"
   ]
  },
  {
   "cell_type": "markdown",
   "metadata": {},
   "source": [
    "\n"
   ]
  },
  {
   "cell_type": "markdown",
   "metadata": {},
   "source": [
    "\n"
   ]
  }
 ],
 "metadata": {
  "kernelspec": {
   "display_name": "Python 3",
   "language": "python",
   "name": "python3"
  },
  "language_info": {
   "codemirror_mode": {
    "name": "ipython",
    "version": 3
   },
   "file_extension": ".py",
   "mimetype": "text/x-python",
   "name": "python",
   "nbconvert_exporter": "python",
   "pygments_lexer": "ipython3",
   "version": "3.7.5"
  }
 },
 "nbformat": 4,
 "nbformat_minor": 4
}
