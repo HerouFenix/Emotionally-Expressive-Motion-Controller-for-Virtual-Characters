{
 "cells": [
  {
   "cell_type": "markdown",
   "metadata": {},
   "source": [
    "# XGBRegression (LMA features to P,A,D coordinates)"
   ]
  },
  {
   "cell_type": "code",
   "execution_count": 1,
   "metadata": {},
   "outputs": [],
   "source": [
    "# Current best:\n",
    "#{'objective': 'reg:squarederror', 'base_score': 0.5, 'booster': 'gbtree', 'colsample_bylevel': 1, 'colsample_bynode': 1, 'colsample_bytree': 0.75, 'enable_categorical': False, 'gamma': 0, 'gpu_id': 0, 'importance_type': None, 'interaction_constraints': '', 'learning_rate': 0.0500000007, 'max_delta_step': 0, 'max_depth': 15, 'min_child_weight': 5, 'missing': nan, 'monotone_constraints': '()', 'n_estimators': 1500, 'n_jobs': 12, 'num_parallel_tree': 1, 'predictor': 'auto', 'random_state': 0, 'reg_alpha': 0.25, 'reg_lambda': 1.25, 'scale_pos_weight': 1, 'subsample': 0.75, 'tree_method': 'gpu_hist', 'validate_parameters': 1, 'verbosity': None, 'lambda': 1.25, 'eta': 0.05, 'alpha': 0.25}\n",
    "#{'objective': 'reg:squarederror', 'base_score': 0.5, 'booster': 'gbtree', 'colsample_bylevel': 1, 'colsample_bynode': 1, 'colsample_bytree': 0.75, 'enable_categorical': False, 'gamma': 0, 'gpu_id': 0, 'importance_type': None, 'interaction_constraints': '', 'learning_rate': 0.00999999978, 'max_delta_step': 0, 'max_depth': 15, 'min_child_weight': 11, 'missing': nan, 'monotone_constraints': '()', 'n_estimators': 1500, 'n_jobs': 12, 'num_parallel_tree': 1, 'predictor': 'auto', 'random_state': 0, 'reg_alpha': 0.25, 'reg_lambda': 1.25, 'scale_pos_weight': 1, 'subsample': 1, 'tree_method': 'gpu_hist', 'validate_parameters': 1, 'verbosity': None, 'lambda': 1.25, 'eta': 0.01, 'alpha': 0.25}\n",
    "#{'objective': 'reg:squarederror', 'base_score': 0.5, 'booster': 'gbtree', 'colsample_bylevel': 1, 'colsample_bynode': 1, 'colsample_bytree': 0.75, 'enable_categorical': False, 'gamma': 0, 'gpu_id': 0, 'importance_type': None, 'interaction_constraints': '', 'learning_rate': 0.0500000007, 'max_delta_step': 0, 'max_depth': 10, 'min_child_weight': 5, 'missing': nan, 'monotone_constraints': '()', 'n_estimators': 1500, 'n_jobs': 12, 'num_parallel_tree': 1, 'predictor': 'auto', 'random_state': 0, 'reg_alpha': 0.25, 'reg_lambda': 1, 'scale_pos_weight': 1, 'subsample': 1, 'tree_method': 'gpu_hist', 'validate_parameters': 1, 'verbosity': None, 'lambda': 1, 'eta': 0.05, 'alpha': 0.25}"
   ]
  },
  {
   "cell_type": "markdown",
   "metadata": {},
   "source": [
    "## Imports"
   ]
  },
  {
   "cell_type": "code",
   "execution_count": 2,
   "metadata": {},
   "outputs": [],
   "source": [
    "import matplotlib.pyplot as plt\n",
    "import numpy as np\n",
    "import pandas as pd\n",
    "import seaborn as sns\n",
    "import matplotlib.lines as mlines\n",
    "\n",
    "import tensorflow as tf\n",
    "\n",
    "import sklearn\n",
    "from sklearn.model_selection import cross_val_score, KFold, StratifiedKFold\n",
    "\n",
    "import xgboost as xgb\n",
    "\n",
    "xgb.set_config(verbosity=0)\n",
    "\n",
    "from sklearn.metrics import mean_squared_error, mean_absolute_error\n",
    "from sklearn.preprocessing import normalize\n",
    "\n",
    "from sklearn.utils import shuffle\n",
    "from mpl_toolkits import mplot3d"
   ]
  },
  {
   "cell_type": "markdown",
   "metadata": {},
   "source": [
    "## Load Data"
   ]
  },
  {
   "cell_type": "code",
   "execution_count": 68,
   "metadata": {},
   "outputs": [
    {
     "name": "stdout",
     "output_type": "stream",
     "text": [
      "(78551, 28)\n"
     ]
    }
   ],
   "source": [
    "dataset = pd.read_csv('datasets/S_BANDAI_5frame.csv')\n",
    "print(dataset.shape)"
   ]
  },
  {
   "cell_type": "markdown",
   "metadata": {},
   "source": [
    "### Split into Test and Train data"
   ]
  },
  {
   "cell_type": "code",
   "execution_count": 69,
   "metadata": {},
   "outputs": [
    {
     "name": "stdout",
     "output_type": "stream",
     "text": [
      "No Training Samples: 62841\n",
      "No Test Samples: 15710\n"
     ]
    }
   ],
   "source": [
    "train_dataset = dataset.sample(frac=0.8, random_state=42)\n",
    "test_dataset = dataset.drop(train_dataset.index)\n",
    "\n",
    "print(\"No Training Samples:\",train_dataset.shape[0])\n",
    "print(\"No Test Samples:\",test_dataset.shape[0])\n",
    "\n",
    "train_dataset = shuffle(train_dataset)\n",
    "test_dataset = shuffle(test_dataset)"
   ]
  },
  {
   "cell_type": "markdown",
   "metadata": {},
   "source": [
    "### Split Features from Targets"
   ]
  },
  {
   "cell_type": "code",
   "execution_count": 70,
   "metadata": {},
   "outputs": [],
   "source": [
    "train_X = train_dataset.copy()\n",
    "test_X = test_dataset.copy()\n",
    "\n",
    "train_y = pd.concat([train_X.pop(x) for x in ['EMOTION_P', 'EMOTION_A', 'EMOTION_D']], axis=1)\n",
    "test_y = pd.concat([test_X.pop(x) for x in ['EMOTION_P', 'EMOTION_A', 'EMOTION_D']], axis=1)\n",
    "\n",
    "test_y_p = test_y.iloc[:,0]\n",
    "train_y_p = train_y.iloc[:,0]\n",
    "\n",
    "test_y_a = test_y.iloc[:,1]\n",
    "train_y_a = train_y.iloc[:,1]\n",
    "\n",
    "test_y_d = test_y.iloc[:,2]\n",
    "train_y_d = train_y.iloc[:,2]"
   ]
  },
  {
   "cell_type": "code",
   "execution_count": 71,
   "metadata": {},
   "outputs": [
    {
     "data": {
      "text/html": [
       "<div>\n",
       "<style scoped>\n",
       "    .dataframe tbody tr th:only-of-type {\n",
       "        vertical-align: middle;\n",
       "    }\n",
       "\n",
       "    .dataframe tbody tr th {\n",
       "        vertical-align: top;\n",
       "    }\n",
       "\n",
       "    .dataframe thead th {\n",
       "        text-align: right;\n",
       "    }\n",
       "</style>\n",
       "<table border=\"1\" class=\"dataframe\">\n",
       "  <thead>\n",
       "    <tr style=\"text-align: right;\">\n",
       "      <th></th>\n",
       "      <th>max_hand_distance</th>\n",
       "      <th>avg_l_hand_hip_distance</th>\n",
       "      <th>avg_r_hand_hip_distance</th>\n",
       "      <th>max_stride_length</th>\n",
       "      <th>avg_l_hand_chest_distance</th>\n",
       "      <th>avg_r_hand_chest_distance</th>\n",
       "      <th>avg_l_elbow_hip_distance</th>\n",
       "      <th>avg_r_elbow_hip_distance</th>\n",
       "      <th>avg_chest_pelvis_distance</th>\n",
       "      <th>avg_neck_chest_distance</th>\n",
       "      <th>...</th>\n",
       "      <th>l_hand_speed</th>\n",
       "      <th>r_hand_speed</th>\n",
       "      <th>l_foot_speed</th>\n",
       "      <th>r_foot_speed</th>\n",
       "      <th>neck_speed</th>\n",
       "      <th>l_hand_acceleration_magnitude</th>\n",
       "      <th>r_hand_acceleration_magnitude</th>\n",
       "      <th>l_foot_acceleration_magnitude</th>\n",
       "      <th>r_foot_acceleration_magnitude</th>\n",
       "      <th>neck_acceleration_magnitude</th>\n",
       "    </tr>\n",
       "  </thead>\n",
       "  <tbody>\n",
       "    <tr>\n",
       "      <th>50734</th>\n",
       "      <td>0.978826</td>\n",
       "      <td>0.427425</td>\n",
       "      <td>0.392438</td>\n",
       "      <td>0.756491</td>\n",
       "      <td>0.752715</td>\n",
       "      <td>0.623426</td>\n",
       "      <td>1.013916</td>\n",
       "      <td>1.274149</td>\n",
       "      <td>-0.924601</td>\n",
       "      <td>1.051017</td>\n",
       "      <td>...</td>\n",
       "      <td>-1.170816</td>\n",
       "      <td>0.273663</td>\n",
       "      <td>0.325015</td>\n",
       "      <td>-1.036919</td>\n",
       "      <td>-0.451909</td>\n",
       "      <td>-0.280749</td>\n",
       "      <td>0.447351</td>\n",
       "      <td>0.692738</td>\n",
       "      <td>0.294315</td>\n",
       "      <td>0.567723</td>\n",
       "    </tr>\n",
       "    <tr>\n",
       "      <th>8870</th>\n",
       "      <td>-1.101695</td>\n",
       "      <td>0.181290</td>\n",
       "      <td>-0.225902</td>\n",
       "      <td>0.821939</td>\n",
       "      <td>-1.796820</td>\n",
       "      <td>-1.137734</td>\n",
       "      <td>0.404256</td>\n",
       "      <td>1.000075</td>\n",
       "      <td>0.029912</td>\n",
       "      <td>-0.281061</td>\n",
       "      <td>...</td>\n",
       "      <td>-0.750322</td>\n",
       "      <td>-1.049168</td>\n",
       "      <td>-0.615087</td>\n",
       "      <td>-1.800641</td>\n",
       "      <td>-1.092560</td>\n",
       "      <td>0.388676</td>\n",
       "      <td>0.173730</td>\n",
       "      <td>0.162494</td>\n",
       "      <td>-0.647959</td>\n",
       "      <td>0.588796</td>\n",
       "    </tr>\n",
       "    <tr>\n",
       "      <th>11509</th>\n",
       "      <td>-1.431537</td>\n",
       "      <td>-1.698142</td>\n",
       "      <td>-1.099739</td>\n",
       "      <td>-0.853137</td>\n",
       "      <td>-0.498640</td>\n",
       "      <td>-0.468623</td>\n",
       "      <td>-1.008096</td>\n",
       "      <td>-1.481157</td>\n",
       "      <td>-0.315165</td>\n",
       "      <td>1.837487</td>\n",
       "      <td>...</td>\n",
       "      <td>1.063422</td>\n",
       "      <td>0.772745</td>\n",
       "      <td>0.360614</td>\n",
       "      <td>0.676438</td>\n",
       "      <td>0.930886</td>\n",
       "      <td>-0.408881</td>\n",
       "      <td>-0.644108</td>\n",
       "      <td>-0.399393</td>\n",
       "      <td>0.048397</td>\n",
       "      <td>-0.426712</td>\n",
       "    </tr>\n",
       "    <tr>\n",
       "      <th>46434</th>\n",
       "      <td>0.051500</td>\n",
       "      <td>1.812325</td>\n",
       "      <td>-1.071641</td>\n",
       "      <td>1.091226</td>\n",
       "      <td>1.056201</td>\n",
       "      <td>-2.456353</td>\n",
       "      <td>-0.299331</td>\n",
       "      <td>0.440760</td>\n",
       "      <td>-0.404336</td>\n",
       "      <td>0.825524</td>\n",
       "      <td>...</td>\n",
       "      <td>-0.053384</td>\n",
       "      <td>0.145253</td>\n",
       "      <td>-0.627625</td>\n",
       "      <td>-0.197685</td>\n",
       "      <td>-0.134911</td>\n",
       "      <td>-0.017781</td>\n",
       "      <td>-0.383797</td>\n",
       "      <td>-0.166287</td>\n",
       "      <td>1.367851</td>\n",
       "      <td>-0.047687</td>\n",
       "    </tr>\n",
       "    <tr>\n",
       "      <th>28755</th>\n",
       "      <td>-0.789648</td>\n",
       "      <td>-0.161113</td>\n",
       "      <td>-1.649374</td>\n",
       "      <td>-1.146002</td>\n",
       "      <td>0.121548</td>\n",
       "      <td>-0.468207</td>\n",
       "      <td>-1.004421</td>\n",
       "      <td>-1.009679</td>\n",
       "      <td>-0.923031</td>\n",
       "      <td>0.276979</td>\n",
       "      <td>...</td>\n",
       "      <td>0.997452</td>\n",
       "      <td>0.044978</td>\n",
       "      <td>0.358415</td>\n",
       "      <td>0.977733</td>\n",
       "      <td>0.639104</td>\n",
       "      <td>-0.672903</td>\n",
       "      <td>-0.562858</td>\n",
       "      <td>-0.565411</td>\n",
       "      <td>-0.266213</td>\n",
       "      <td>-0.517294</td>\n",
       "    </tr>\n",
       "  </tbody>\n",
       "</table>\n",
       "<p>5 rows × 25 columns</p>\n",
       "</div>"
      ],
      "text/plain": [
       "       max_hand_distance  avg_l_hand_hip_distance  avg_r_hand_hip_distance  \\\n",
       "50734           0.978826                 0.427425                 0.392438   \n",
       "8870           -1.101695                 0.181290                -0.225902   \n",
       "11509          -1.431537                -1.698142                -1.099739   \n",
       "46434           0.051500                 1.812325                -1.071641   \n",
       "28755          -0.789648                -0.161113                -1.649374   \n",
       "\n",
       "       max_stride_length  avg_l_hand_chest_distance  \\\n",
       "50734           0.756491                   0.752715   \n",
       "8870            0.821939                  -1.796820   \n",
       "11509          -0.853137                  -0.498640   \n",
       "46434           1.091226                   1.056201   \n",
       "28755          -1.146002                   0.121548   \n",
       "\n",
       "       avg_r_hand_chest_distance  avg_l_elbow_hip_distance  \\\n",
       "50734                   0.623426                  1.013916   \n",
       "8870                   -1.137734                  0.404256   \n",
       "11509                  -0.468623                 -1.008096   \n",
       "46434                  -2.456353                 -0.299331   \n",
       "28755                  -0.468207                 -1.004421   \n",
       "\n",
       "       avg_r_elbow_hip_distance  avg_chest_pelvis_distance  \\\n",
       "50734                  1.274149                  -0.924601   \n",
       "8870                   1.000075                   0.029912   \n",
       "11509                 -1.481157                  -0.315165   \n",
       "46434                  0.440760                  -0.404336   \n",
       "28755                 -1.009679                  -0.923031   \n",
       "\n",
       "       avg_neck_chest_distance  ...  l_hand_speed  r_hand_speed  l_foot_speed  \\\n",
       "50734                 1.051017  ...     -1.170816      0.273663      0.325015   \n",
       "8870                 -0.281061  ...     -0.750322     -1.049168     -0.615087   \n",
       "11509                 1.837487  ...      1.063422      0.772745      0.360614   \n",
       "46434                 0.825524  ...     -0.053384      0.145253     -0.627625   \n",
       "28755                 0.276979  ...      0.997452      0.044978      0.358415   \n",
       "\n",
       "       r_foot_speed  neck_speed  l_hand_acceleration_magnitude  \\\n",
       "50734     -1.036919   -0.451909                      -0.280749   \n",
       "8870      -1.800641   -1.092560                       0.388676   \n",
       "11509      0.676438    0.930886                      -0.408881   \n",
       "46434     -0.197685   -0.134911                      -0.017781   \n",
       "28755      0.977733    0.639104                      -0.672903   \n",
       "\n",
       "       r_hand_acceleration_magnitude  l_foot_acceleration_magnitude  \\\n",
       "50734                       0.447351                       0.692738   \n",
       "8870                        0.173730                       0.162494   \n",
       "11509                      -0.644108                      -0.399393   \n",
       "46434                      -0.383797                      -0.166287   \n",
       "28755                      -0.562858                      -0.565411   \n",
       "\n",
       "       r_foot_acceleration_magnitude  neck_acceleration_magnitude  \n",
       "50734                       0.294315                     0.567723  \n",
       "8870                       -0.647959                     0.588796  \n",
       "11509                       0.048397                    -0.426712  \n",
       "46434                       1.367851                    -0.047687  \n",
       "28755                      -0.266213                    -0.517294  \n",
       "\n",
       "[5 rows x 25 columns]"
      ]
     },
     "execution_count": 71,
     "metadata": {},
     "output_type": "execute_result"
    }
   ],
   "source": [
    "train_X.head()"
   ]
  },
  {
   "cell_type": "code",
   "execution_count": 72,
   "metadata": {
    "scrolled": false
   },
   "outputs": [
    {
     "data": {
      "text/html": [
       "<div>\n",
       "<style scoped>\n",
       "    .dataframe tbody tr th:only-of-type {\n",
       "        vertical-align: middle;\n",
       "    }\n",
       "\n",
       "    .dataframe tbody tr th {\n",
       "        vertical-align: top;\n",
       "    }\n",
       "\n",
       "    .dataframe thead th {\n",
       "        text-align: right;\n",
       "    }\n",
       "</style>\n",
       "<table border=\"1\" class=\"dataframe\">\n",
       "  <thead>\n",
       "    <tr style=\"text-align: right;\">\n",
       "      <th></th>\n",
       "      <th>EMOTION_P</th>\n",
       "      <th>EMOTION_A</th>\n",
       "      <th>EMOTION_D</th>\n",
       "    </tr>\n",
       "  </thead>\n",
       "  <tbody>\n",
       "    <tr>\n",
       "      <th>50734</th>\n",
       "      <td>0.30</td>\n",
       "      <td>0.30</td>\n",
       "      <td>0.90</td>\n",
       "    </tr>\n",
       "    <tr>\n",
       "      <th>8870</th>\n",
       "      <td>0.20</td>\n",
       "      <td>-0.75</td>\n",
       "      <td>-0.30</td>\n",
       "    </tr>\n",
       "    <tr>\n",
       "      <th>11509</th>\n",
       "      <td>-0.10</td>\n",
       "      <td>-0.55</td>\n",
       "      <td>-0.15</td>\n",
       "    </tr>\n",
       "    <tr>\n",
       "      <th>46434</th>\n",
       "      <td>0.10</td>\n",
       "      <td>0.60</td>\n",
       "      <td>0.40</td>\n",
       "    </tr>\n",
       "    <tr>\n",
       "      <th>28755</th>\n",
       "      <td>0.05</td>\n",
       "      <td>-0.40</td>\n",
       "      <td>0.00</td>\n",
       "    </tr>\n",
       "  </tbody>\n",
       "</table>\n",
       "</div>"
      ],
      "text/plain": [
       "       EMOTION_P  EMOTION_A  EMOTION_D\n",
       "50734       0.30       0.30       0.90\n",
       "8870        0.20      -0.75      -0.30\n",
       "11509      -0.10      -0.55      -0.15\n",
       "46434       0.10       0.60       0.40\n",
       "28755       0.05      -0.40       0.00"
      ]
     },
     "execution_count": 72,
     "metadata": {},
     "output_type": "execute_result"
    }
   ],
   "source": [
    "train_y.head()"
   ]
  },
  {
   "cell_type": "code",
   "execution_count": 73,
   "metadata": {
    "scrolled": true
   },
   "outputs": [
    {
     "data": {
      "text/html": [
       "<div>\n",
       "<style scoped>\n",
       "    .dataframe tbody tr th:only-of-type {\n",
       "        vertical-align: middle;\n",
       "    }\n",
       "\n",
       "    .dataframe tbody tr th {\n",
       "        vertical-align: top;\n",
       "    }\n",
       "\n",
       "    .dataframe thead th {\n",
       "        text-align: right;\n",
       "    }\n",
       "</style>\n",
       "<table border=\"1\" class=\"dataframe\">\n",
       "  <thead>\n",
       "    <tr style=\"text-align: right;\">\n",
       "      <th></th>\n",
       "      <th>mean</th>\n",
       "      <th>std</th>\n",
       "    </tr>\n",
       "  </thead>\n",
       "  <tbody>\n",
       "    <tr>\n",
       "      <th>max_hand_distance</th>\n",
       "      <td>-0.002797</td>\n",
       "      <td>0.999650</td>\n",
       "    </tr>\n",
       "    <tr>\n",
       "      <th>avg_l_hand_hip_distance</th>\n",
       "      <td>0.001174</td>\n",
       "      <td>1.000542</td>\n",
       "    </tr>\n",
       "    <tr>\n",
       "      <th>avg_r_hand_hip_distance</th>\n",
       "      <td>-0.001272</td>\n",
       "      <td>0.998894</td>\n",
       "    </tr>\n",
       "    <tr>\n",
       "      <th>max_stride_length</th>\n",
       "      <td>-0.001829</td>\n",
       "      <td>0.999228</td>\n",
       "    </tr>\n",
       "    <tr>\n",
       "      <th>avg_l_hand_chest_distance</th>\n",
       "      <td>-0.002029</td>\n",
       "      <td>1.000883</td>\n",
       "    </tr>\n",
       "    <tr>\n",
       "      <th>avg_r_hand_chest_distance</th>\n",
       "      <td>-0.003010</td>\n",
       "      <td>1.002036</td>\n",
       "    </tr>\n",
       "    <tr>\n",
       "      <th>avg_l_elbow_hip_distance</th>\n",
       "      <td>-0.000239</td>\n",
       "      <td>0.998970</td>\n",
       "    </tr>\n",
       "    <tr>\n",
       "      <th>avg_r_elbow_hip_distance</th>\n",
       "      <td>0.000372</td>\n",
       "      <td>1.000448</td>\n",
       "    </tr>\n",
       "    <tr>\n",
       "      <th>avg_chest_pelvis_distance</th>\n",
       "      <td>-0.001018</td>\n",
       "      <td>0.993583</td>\n",
       "    </tr>\n",
       "    <tr>\n",
       "      <th>avg_neck_chest_distance</th>\n",
       "      <td>-0.000657</td>\n",
       "      <td>0.999284</td>\n",
       "    </tr>\n",
       "    <tr>\n",
       "      <th>avg_total_body_volume</th>\n",
       "      <td>-0.001724</td>\n",
       "      <td>0.999537</td>\n",
       "    </tr>\n",
       "    <tr>\n",
       "      <th>avg_lower_body_volume</th>\n",
       "      <td>-0.000709</td>\n",
       "      <td>0.999795</td>\n",
       "    </tr>\n",
       "    <tr>\n",
       "      <th>avg_upper_body_volume</th>\n",
       "      <td>-0.002222</td>\n",
       "      <td>0.998376</td>\n",
       "    </tr>\n",
       "    <tr>\n",
       "      <th>avg_triangle_area_hands_neck</th>\n",
       "      <td>-0.002855</td>\n",
       "      <td>0.999999</td>\n",
       "    </tr>\n",
       "    <tr>\n",
       "      <th>avg_triangle_area_feet_hips</th>\n",
       "      <td>-0.001322</td>\n",
       "      <td>0.999213</td>\n",
       "    </tr>\n",
       "    <tr>\n",
       "      <th>l_hand_speed</th>\n",
       "      <td>0.000722</td>\n",
       "      <td>0.999947</td>\n",
       "    </tr>\n",
       "    <tr>\n",
       "      <th>r_hand_speed</th>\n",
       "      <td>-0.000060</td>\n",
       "      <td>0.997772</td>\n",
       "    </tr>\n",
       "    <tr>\n",
       "      <th>l_foot_speed</th>\n",
       "      <td>0.000658</td>\n",
       "      <td>0.997584</td>\n",
       "    </tr>\n",
       "    <tr>\n",
       "      <th>r_foot_speed</th>\n",
       "      <td>0.000712</td>\n",
       "      <td>1.000298</td>\n",
       "    </tr>\n",
       "    <tr>\n",
       "      <th>neck_speed</th>\n",
       "      <td>0.000994</td>\n",
       "      <td>0.998318</td>\n",
       "    </tr>\n",
       "    <tr>\n",
       "      <th>l_hand_acceleration_magnitude</th>\n",
       "      <td>0.000716</td>\n",
       "      <td>1.001624</td>\n",
       "    </tr>\n",
       "    <tr>\n",
       "      <th>r_hand_acceleration_magnitude</th>\n",
       "      <td>0.002149</td>\n",
       "      <td>1.005473</td>\n",
       "    </tr>\n",
       "    <tr>\n",
       "      <th>l_foot_acceleration_magnitude</th>\n",
       "      <td>-0.000264</td>\n",
       "      <td>1.000582</td>\n",
       "    </tr>\n",
       "    <tr>\n",
       "      <th>r_foot_acceleration_magnitude</th>\n",
       "      <td>0.000484</td>\n",
       "      <td>1.001117</td>\n",
       "    </tr>\n",
       "    <tr>\n",
       "      <th>neck_acceleration_magnitude</th>\n",
       "      <td>0.001360</td>\n",
       "      <td>1.005387</td>\n",
       "    </tr>\n",
       "  </tbody>\n",
       "</table>\n",
       "</div>"
      ],
      "text/plain": [
       "                                   mean       std\n",
       "max_hand_distance             -0.002797  0.999650\n",
       "avg_l_hand_hip_distance        0.001174  1.000542\n",
       "avg_r_hand_hip_distance       -0.001272  0.998894\n",
       "max_stride_length             -0.001829  0.999228\n",
       "avg_l_hand_chest_distance     -0.002029  1.000883\n",
       "avg_r_hand_chest_distance     -0.003010  1.002036\n",
       "avg_l_elbow_hip_distance      -0.000239  0.998970\n",
       "avg_r_elbow_hip_distance       0.000372  1.000448\n",
       "avg_chest_pelvis_distance     -0.001018  0.993583\n",
       "avg_neck_chest_distance       -0.000657  0.999284\n",
       "avg_total_body_volume         -0.001724  0.999537\n",
       "avg_lower_body_volume         -0.000709  0.999795\n",
       "avg_upper_body_volume         -0.002222  0.998376\n",
       "avg_triangle_area_hands_neck  -0.002855  0.999999\n",
       "avg_triangle_area_feet_hips   -0.001322  0.999213\n",
       "l_hand_speed                   0.000722  0.999947\n",
       "r_hand_speed                  -0.000060  0.997772\n",
       "l_foot_speed                   0.000658  0.997584\n",
       "r_foot_speed                   0.000712  1.000298\n",
       "neck_speed                     0.000994  0.998318\n",
       "l_hand_acceleration_magnitude  0.000716  1.001624\n",
       "r_hand_acceleration_magnitude  0.002149  1.005473\n",
       "l_foot_acceleration_magnitude -0.000264  1.000582\n",
       "r_foot_acceleration_magnitude  0.000484  1.001117\n",
       "neck_acceleration_magnitude    0.001360  1.005387"
      ]
     },
     "execution_count": 73,
     "metadata": {},
     "output_type": "execute_result"
    }
   ],
   "source": [
    "train_X.describe().transpose()[['mean', 'std']]"
   ]
  },
  {
   "cell_type": "markdown",
   "metadata": {},
   "source": [
    "## Define Model"
   ]
  },
  {
   "cell_type": "code",
   "execution_count": 74,
   "metadata": {},
   "outputs": [],
   "source": [
    "xgbr = xgb.XGBRegressor(verbosity=1) \n",
    "\n",
    "params = {\n",
    "        'eta': [0.01, 0.05, 0.1],\n",
    "        'min_child_weight': [1, 5, 11, 21],\n",
    "        'max_depth': [3, 6, 10, 15],\n",
    "        'gamma': [0, 0.001, 0.01],\n",
    "        'subsample': [0.75, 1],\n",
    "        'colsample_bytree': [0.75, 1],\n",
    "        'lambda': [1, 1.25],\n",
    "        'alpha': [0.0, 0.25]\n",
    "        }\n",
    "\n",
    "\n",
    "model_p = xgb.XGBRegressor(\n",
    "                    n_estimators=1500, learning_rate=0.05, max_depth=15, min_child_weight=5, \n",
    "                    reg_alpha=0.25, reg_lambda=1.25, gamma=0.0,\n",
    "                    subsample=0.75, colsample_bytree=0.75, objective=\"reg:squarederror\",\n",
    "                    tree_method='gpu_hist'\n",
    "                )\n",
    "\n",
    "\n",
    "#{'subsample': 1,'lambda': 1.25, 'eta': 0.01, 'alpha': 0.25}\n",
    "model_a = xgb.XGBRegressor(\n",
    "                    n_estimators=1500, learning_rate=0.01, max_depth=15, min_child_weight=11, \n",
    "                    reg_alpha=0.25, reg_lambda=1.25, gamma=0.0,\n",
    "                    subsample=1.0, colsample_bytree=0.75, objective=\"reg:squarederror\",\n",
    "                    tree_method='gpu_hist'\n",
    "                )\n",
    "        \n",
    "    \n",
    "#{subsample': 1}\n",
    "model_d = xgb.XGBRegressor(\n",
    "                    n_estimators=1500, learning_rate=0.05, max_depth=10, min_child_weight=5, \n",
    "                    reg_alpha=0.25, reg_lambda=1.0, gamma=0.0,\n",
    "                    subsample=1.0, colsample_bytree=0.75, objective=\"reg:squarederror\",\n",
    "                    tree_method='gpu_hist'\n",
    "                )"
   ]
  },
  {
   "cell_type": "markdown",
   "metadata": {},
   "source": [
    "## Train Model"
   ]
  },
  {
   "cell_type": "markdown",
   "metadata": {},
   "source": [
    "### Pleasure Regression"
   ]
  },
  {
   "cell_type": "code",
   "execution_count": 75,
   "metadata": {},
   "outputs": [
    {
     "data": {
      "text/plain": [
       "XGBRegressor(base_score=0.5, booster='gbtree', colsample_bylevel=1,\n",
       "             colsample_bynode=1, colsample_bytree=0.75,\n",
       "             enable_categorical=False, gamma=0.0, gpu_id=0,\n",
       "             importance_type=None, interaction_constraints='',\n",
       "             learning_rate=0.05, max_delta_step=0, max_depth=15,\n",
       "             min_child_weight=5, missing=nan, monotone_constraints='()',\n",
       "             n_estimators=1500, n_jobs=12, num_parallel_tree=1,\n",
       "             predictor='auto', random_state=0, reg_alpha=0.25, reg_lambda=1.25,\n",
       "             scale_pos_weight=1, subsample=0.75, tree_method='gpu_hist',\n",
       "             validate_parameters=1, verbosity=None)"
      ]
     },
     "execution_count": 75,
     "metadata": {},
     "output_type": "execute_result"
    }
   ],
   "source": [
    "model_p.fit(train_X, train_y_p)"
   ]
  },
  {
   "cell_type": "markdown",
   "metadata": {},
   "source": [
    "### Arousal Regression"
   ]
  },
  {
   "cell_type": "code",
   "execution_count": 76,
   "metadata": {
    "scrolled": true
   },
   "outputs": [
    {
     "data": {
      "text/plain": [
       "XGBRegressor(base_score=0.5, booster='gbtree', colsample_bylevel=1,\n",
       "             colsample_bynode=1, colsample_bytree=0.75,\n",
       "             enable_categorical=False, gamma=0.0, gpu_id=0,\n",
       "             importance_type=None, interaction_constraints='',\n",
       "             learning_rate=0.01, max_delta_step=0, max_depth=15,\n",
       "             min_child_weight=11, missing=nan, monotone_constraints='()',\n",
       "             n_estimators=1500, n_jobs=12, num_parallel_tree=1,\n",
       "             predictor='auto', random_state=0, reg_alpha=0.25, reg_lambda=1.25,\n",
       "             scale_pos_weight=1, subsample=1.0, tree_method='gpu_hist',\n",
       "             validate_parameters=1, verbosity=None)"
      ]
     },
     "execution_count": 76,
     "metadata": {},
     "output_type": "execute_result"
    }
   ],
   "source": [
    "model_a.fit(train_X, train_y_a)"
   ]
  },
  {
   "cell_type": "markdown",
   "metadata": {},
   "source": [
    "### Dominance Regression"
   ]
  },
  {
   "cell_type": "code",
   "execution_count": 77,
   "metadata": {
    "scrolled": true
   },
   "outputs": [
    {
     "data": {
      "text/plain": [
       "XGBRegressor(base_score=0.5, booster='gbtree', colsample_bylevel=1,\n",
       "             colsample_bynode=1, colsample_bytree=0.75,\n",
       "             enable_categorical=False, gamma=0.0, gpu_id=0,\n",
       "             importance_type=None, interaction_constraints='',\n",
       "             learning_rate=0.05, max_delta_step=0, max_depth=10,\n",
       "             min_child_weight=5, missing=nan, monotone_constraints='()',\n",
       "             n_estimators=1500, n_jobs=12, num_parallel_tree=1,\n",
       "             predictor='auto', random_state=0, reg_alpha=0.25, reg_lambda=1.0,\n",
       "             scale_pos_weight=1, subsample=1.0, tree_method='gpu_hist',\n",
       "             validate_parameters=1, verbosity=None)"
      ]
     },
     "execution_count": 77,
     "metadata": {},
     "output_type": "execute_result"
    }
   ],
   "source": [
    "model_d.fit(train_X, train_y_d)"
   ]
  },
  {
   "cell_type": "markdown",
   "metadata": {},
   "source": [
    "## Test Model"
   ]
  },
  {
   "cell_type": "markdown",
   "metadata": {},
   "source": [
    "### Training Score"
   ]
  },
  {
   "cell_type": "code",
   "execution_count": 78,
   "metadata": {},
   "outputs": [
    {
     "name": "stdout",
     "output_type": "stream",
     "text": [
      "Pleasure\n",
      "Training score:  0.999560665784187\n",
      "\n",
      "Arousal\n",
      "Training score:  0.9984497770415866\n",
      "\n",
      "Dominance\n",
      "Training score:  0.9990429694128274\n"
     ]
    }
   ],
   "source": [
    "score = model_p.score(train_X, train_y_p)  \n",
    "\n",
    "print(\"Pleasure\")\n",
    "print(\"Training score: \", score)\n",
    "\n",
    "print()\n",
    "\n",
    "score = model_a.score(train_X, train_y_a)  \n",
    "\n",
    "print(\"Arousal\")\n",
    "print(\"Training score: \", score)\n",
    "\n",
    "score = model_d.score(train_X, train_y_d)  \n",
    "\n",
    "print()\n",
    "\n",
    "print(\"Dominance\")\n",
    "print(\"Training score: \", score)"
   ]
  },
  {
   "cell_type": "markdown",
   "metadata": {},
   "source": [
    "### Test Set MAE & MSE"
   ]
  },
  {
   "cell_type": "code",
   "execution_count": 79,
   "metadata": {},
   "outputs": [
    {
     "name": "stdout",
     "output_type": "stream",
     "text": [
      "Pleasure\n",
      "MSE: 0.00\n",
      "MAE: 0.02\n",
      "\n",
      "Arousal\n",
      "MSE: 0.01\n",
      "MAE: 0.05\n",
      "\n",
      "Dominance\n",
      "MSE: 0.01\n",
      "MAE: 0.04\n"
     ]
    }
   ],
   "source": [
    "pred_y_p = model_p.predict(test_X)\n",
    "mse = mean_squared_error(test_y_p, pred_y_p)\n",
    "mae = mean_absolute_error(test_y_p, pred_y_p)\n",
    "print(\"Pleasure\")\n",
    "print(\"MSE: %.2f\" % mse)\n",
    "print(\"MAE: %.2f\" % mae)\n",
    "\n",
    "\n",
    "pred_y_a = model_a.predict(test_X)\n",
    "mse = mean_squared_error(test_y_a, pred_y_a)\n",
    "mae = mean_absolute_error(test_y_a, pred_y_a)\n",
    "print(\"\\nArousal\")\n",
    "print(\"MSE: %.2f\" % mse)\n",
    "print(\"MAE: %.2f\" % mae)\n",
    "\n",
    "\n",
    "pred_y_d = model_d.predict(test_X)\n",
    "mse = mean_squared_error(test_y_d, pred_y_d)\n",
    "mae = mean_absolute_error(test_y_d, pred_y_d)\n",
    "print(\"\\nDominance\")\n",
    "print(\"MSE: %.2f\" % mse)\n",
    "print(\"MAE: %.2f\" % mae)"
   ]
  },
  {
   "cell_type": "markdown",
   "metadata": {},
   "source": [
    "### Graphs"
   ]
  },
  {
   "cell_type": "code",
   "execution_count": 80,
   "metadata": {},
   "outputs": [
    {
     "data": {
      "image/png": "[encoded data removed]",
      "text/plain": [
       "<Figure size 432x288 with 1 Axes>"
      ]
     },
     "metadata": {
      "needs_background": "light"
     },
     "output_type": "display_data"
    }
   ],
   "source": [
    "x_ax = range(100)\n",
    "plt.plot(x_ax, test_y_p[0:100], label=\"original\")\n",
    "\n",
    "plt.title(\"Pleasure predictions\")\n",
    "\n",
    "plt.legend()\n",
    "plt.show()"
   ]
  },
  {
   "cell_type": "code",
   "execution_count": 81,
   "metadata": {},
   "outputs": [
    {
     "data": {
      "image/png": "[encoded data removed]",
      "text/plain": [
       "<Figure size 432x288 with 1 Axes>"
      ]
     },
     "metadata": {
      "needs_background": "light"
     },
     "output_type": "display_data"
    }
   ],
   "source": [
    "x_ax = range(100)\n",
    "plt.plot(x_ax, pred_y_p[0:100], label=\"predicted\")\n",
    "\n",
    "plt.title(\"Pleasure predictions\")\n",
    "\n",
    "plt.legend()\n",
    "plt.show()"
   ]
  },
  {
   "cell_type": "code",
   "execution_count": 82,
   "metadata": {},
   "outputs": [
    {
     "data": {
      "image/png": "[encoded data removed]",
      "text/plain": [
       "<Figure size 432x288 with 1 Axes>"
      ]
     },
     "metadata": {
      "needs_background": "light"
     },
     "output_type": "display_data"
    }
   ],
   "source": [
    "x_ax = range(len(test_y_a))\n",
    "plt.plot(x_ax, test_y_a, label=\"original\")\n",
    "plt.plot(x_ax, pred_y_a, label=\"predicted\")\n",
    "\n",
    "plt.title(\"Arousal predictions\")\n",
    "\n",
    "plt.legend()\n",
    "plt.show()"
   ]
  },
  {
   "cell_type": "markdown",
   "metadata": {},
   "source": [
    "### Prediction Examples"
   ]
  },
  {
   "cell_type": "code",
   "execution_count": 83,
   "metadata": {},
   "outputs": [
    {
     "name": "stdout",
     "output_type": "stream",
     "text": [
      "Real: [0.6 0.4 0.1]\n",
      "Predicted: [0.30721137, -0.1618103, -0.079206444]\n"
     ]
    }
   ],
   "source": [
    "row=test_X.iloc[1]\n",
    "\n",
    "x = np.asarray([row])\n",
    "\n",
    "y_p = model_p.predict(x)\n",
    "y_a = model_a.predict(x)\n",
    "y_d = model_d.predict(x)\n",
    "\n",
    "print('Real: %s' % np.asarray(test_y.iloc[1]))\n",
    "print('Predicted: %s' % [y_p[0], y_a[0], y_d[0]])"
   ]
  },
  {
   "cell_type": "code",
   "execution_count": 84,
   "metadata": {},
   "outputs": [
    {
     "name": "stdout",
     "output_type": "stream",
     "text": [
      "Real: [-0.1  -0.55 -0.15]\n",
      "Predicted: [-0.09635818, -0.5331827, -0.12517358]\n"
     ]
    }
   ],
   "source": [
    "row=test_X.iloc[421]\n",
    "\n",
    "x = np.asarray([row])\n",
    "\n",
    "y_p = model_p.predict(x)\n",
    "y_a = model_a.predict(x)\n",
    "y_d = model_d.predict(x)\n",
    "\n",
    "print('Real: %s' % np.asarray(test_y.iloc[421]))\n",
    "print('Predicted: %s' % [y_p[0], y_a[0], y_d[0]])"
   ]
  },
  {
   "cell_type": "code",
   "execution_count": 85,
   "metadata": {},
   "outputs": [
    {
     "name": "stdout",
     "output_type": "stream",
     "text": [
      "Real: [0.6 0.4 0.1]\n",
      "Predicted: [0.48588234, 0.34835932, 0.13649821]\n"
     ]
    }
   ],
   "source": [
    "row=test_X.iloc[999]\n",
    "\n",
    "x = np.asarray([row])\n",
    "\n",
    "y_p = model_p.predict(x)\n",
    "y_a = model_a.predict(x)\n",
    "y_d = model_d.predict(x)\n",
    "\n",
    "print('Real: %s' % np.asarray(test_y.iloc[999]))\n",
    "print('Predicted: %s' % [y_p[0], y_a[0], y_d[0]])"
   ]
  },
  {
   "cell_type": "markdown",
   "metadata": {},
   "source": [
    "## Save Models"
   ]
  },
  {
   "cell_type": "code",
   "execution_count": 86,
   "metadata": {},
   "outputs": [],
   "source": [
    "# save to JSON\n",
    "model_p.save_model(\"models/bandai_l2p_model.json\")\n",
    "model_a.save_model(\"models/bandai_l2a_model.json\")\n",
    "model_d.save_model(\"models/bandai_l2d_model.json\")"
   ]
  },
  {
   "cell_type": "markdown",
   "metadata": {},
   "source": [
    "## Load Models"
   ]
  },
  {
   "cell_type": "code",
   "execution_count": 87,
   "metadata": {},
   "outputs": [],
   "source": [
    "model_p = xgb.XGBRegressor(verbosity=0)\n",
    "model_p.load_model(\"models/bandai_l2p_model.json\")\n",
    "\n",
    "model_a = xgb.XGBRegressor(verbosity=0)\n",
    "model_a.load_model(\"models/bandai_l2a_model.json\")\n",
    "\n",
    "model_d = xgb.XGBRegressor(verbosity=0)\n",
    "model_d.load_model(\"models/bandai_l2d_model.json\")"
   ]
  },
  {
   "cell_type": "markdown",
   "metadata": {},
   "source": [
    "### Graphs"
   ]
  },
  {
   "cell_type": "code",
   "execution_count": 88,
   "metadata": {},
   "outputs": [
    {
     "name": "stdout",
     "output_type": "stream",
     "text": [
      "Pleasure\n",
      "MSE: 0.00\n",
      "MAE: 0.02\n",
      "\n",
      "Arousal\n",
      "MSE: 0.01\n",
      "MAE: 0.05\n",
      "\n",
      "Arousal\n",
      "MSE: 0.01\n",
      "MAE: 0.04\n"
     ]
    }
   ],
   "source": [
    "pred_y_p = model_p.predict(test_X)\n",
    "mse = mean_squared_error(test_y_p, pred_y_p)\n",
    "mae = mean_absolute_error(test_y_p, pred_y_p)\n",
    "print(\"Pleasure\")\n",
    "print(\"MSE: %.2f\" % mse)\n",
    "print(\"MAE: %.2f\" % mae)\n",
    "\n",
    "\n",
    "pred_y_a = model_a.predict(test_X)\n",
    "mse = mean_squared_error(test_y_a, pred_y_a)\n",
    "mae = mean_absolute_error(test_y_a, pred_y_a)\n",
    "print(\"\\nArousal\")\n",
    "print(\"MSE: %.2f\" % mse)\n",
    "print(\"MAE: %.2f\" % mae)\n",
    "\n",
    "pred_y_d = model_d.predict(test_X)\n",
    "mse = mean_squared_error(test_y_d, pred_y_d)\n",
    "mae = mean_absolute_error(test_y_d, pred_y_d)\n",
    "print(\"\\nArousal\")\n",
    "print(\"MSE: %.2f\" % mse)\n",
    "print(\"MAE: %.2f\" % mae)"
   ]
  },
  {
   "cell_type": "code",
   "execution_count": 89,
   "metadata": {},
   "outputs": [
    {
     "data": {
      "image/png": "[encoded data removed]",
      "text/plain": [
       "<Figure size 720x720 with 1 Axes>"
      ]
     },
     "metadata": {
      "needs_background": "light"
     },
     "output_type": "display_data"
    }
   ],
   "source": [
    "x = pred_y_p[0:500]\n",
    "y = pred_y_a[0:500]\n",
    "z = pred_y_d[0:500]\n",
    "\n",
    "x_reference = [\n",
    "    0.05,\n",
    "    0.15,\n",
    "    -0.1,\n",
    "    0.2,\n",
    "    -0.5,\n",
    "    0.8,\n",
    "    0.6,\n",
    "    -0.6,\n",
    "    0.4,\n",
    "    0.3,\n",
    "    -0.6,\n",
    "    0.1,\n",
    "]\n",
    "\n",
    "y_reference = [\n",
    "    -0.4,\n",
    "    -0.7,\n",
    "    -0.55,\n",
    "    -0.75,\n",
    "    0.8,\n",
    "    0.5,\n",
    "    0.4,\n",
    "    -0.4,\n",
    "    0.2,\n",
    "    0.3,\n",
    "    0.7,\n",
    "    0.6,\n",
    "]\n",
    "\n",
    "\n",
    "colors_reference = [\"crimson\", \"springgreen\", \"cornflowerblue\", \n",
    "                    \"darkorange\", \n",
    "                    \"aquamarine\", \n",
    "                    \"lightseagreen\", \"plum\", \"chocolate\", \"purple\", \"olivedrab\", \"lightslategray\",\n",
    "                    \"lightpink\", \"gold\", \"slateblue\"]\n",
    "\n",
    "colors = []\n",
    "\n",
    "color_map = {\n",
    "    (0.05, -0.4): \"crimson\",\n",
    "    (0.15, -0.7): \"springgreen\",\n",
    "    (-0.1, -0.55): \"cornflowerblue\",\n",
    "    (0.2, -0.75): \"darkorange\",\n",
    "    (-0.5, 0.8): \"aquamarine\",\n",
    "    (0.8, 0.5): \"lightseagreen\",\n",
    "    (0.6, 0.4): \"plum\",\n",
    "    (-0.6, -0.4): \"chocolate\",\n",
    "    (0.4, 0.2): \"purple\", \n",
    "    (0.3, 0.3): \"olivedrab\", \n",
    "    (0.25, 0.15): \"lightslategray\",\n",
    "    (0.3, 0.4): \"lightpink\", \n",
    "    (-0.6, 0.7): \"gold\",\n",
    "    (0.1, 0.6): \"slateblue\", \n",
    "}\n",
    "\n",
    "\n",
    "conv_dict = {\n",
    "    (0.05, -0.4): \"neutral\",\n",
    "    (0.15, -0.7): \"tired\",\n",
    "    (-0.1, -0.55): \"exhausted\",\n",
    "    (0.2, -0.75): \"exhausted_2\",\n",
    "    (-0.1, -0.55): \"exhausted_3\", \n",
    "    (-0.5, 0.8): \"angry\",\n",
    "    (0.8, 0.5): \"happy\",\n",
    "    (0.6, 0.4): \"happy_2\",\n",
    "    (-0.6, -0.4): \"sad\",\n",
    "    (0.4, 0.2): \"proud\", \n",
    "    (0.3, 0.3): \"confident\", \n",
    "    (0.25, 0.15): \"confident_2\",\n",
    "    (0.25, 0.15): \"confident_3\",\n",
    "    (0.3, 0.4): \"confident_4\", \n",
    "    (-0.6, 0.7): \"afraid\",\n",
    "    (0.1, 0.6): \"active\", \n",
    "}\n",
    "\n",
    "\n",
    "for i in range(len(x)):\n",
    "    point_coords = (test_y_p.iloc[i], test_y_a.iloc[i])\n",
    "    colors.append(color_map[point_coords])\n",
    "\n",
    "fig, ax = plt.subplots(figsize=(10,10))\n",
    "\n",
    "for i in range(len(x_reference)):\n",
    "    ax.scatter(x_reference[i], y_reference[i], c=colors_reference[i], label=conv_dict[(x_reference[i], y_reference[i])] , marker=\"x\", linewidths=3)\n",
    "\n",
    "ax.legend()\n",
    "\n",
    "ax.scatter(x, y, c=colors, alpha=0.6)\n",
    "\n",
    "\n",
    "line = mlines.Line2D([-1, 1], [0, 0], color='black')\n",
    "line_2 = mlines.Line2D([0, 0], [-1, 1], color='black')\n",
    "ax.add_line(line)\n",
    "ax.add_line(line_2)\n",
    "\n",
    "\n",
    "plt.ylim([-1,1])\n",
    "plt.xlim([-1,1])\n",
    "\n",
    "\n",
    "plt.xlabel('Pleasure')\n",
    "plt.ylabel('Arousal')\n",
    "plt.grid(True)\n",
    "\n",
    "plt.show()\n",
    "\n"
   ]
  },
  {
   "cell_type": "code",
   "execution_count": 90,
   "metadata": {},
   "outputs": [
    {
     "data": {
      "image/png": "[encoded data removed]",
      "text/plain": [
       "<Figure size 936x936 with 1 Axes>"
      ]
     },
     "metadata": {
      "needs_background": "light"
     },
     "output_type": "display_data"
    }
   ],
   "source": [
    "x = pred_y_p[0:300]\n",
    "y = pred_y_a[0:300]\n",
    "z = pred_y_d[0:300]\n",
    "\n",
    "x_reference = [\n",
    "    0.05,\n",
    "    0.15,\n",
    "    -0.1,\n",
    "    0.2,\n",
    "    -0.5,\n",
    "    0.8,\n",
    "    0.6,\n",
    "    -0.6,\n",
    "    0.4,\n",
    "    0.3,\n",
    "    -0.6,\n",
    "    0.1,\n",
    "]\n",
    "\n",
    "y_reference = [\n",
    "    -0.4,\n",
    "    -0.7,\n",
    "    -0.55,\n",
    "    -0.75,\n",
    "    0.8,\n",
    "    0.5,\n",
    "    0.4,\n",
    "    -0.4,\n",
    "    0.2,\n",
    "    0.3,\n",
    "    0.7,\n",
    "    0.6,\n",
    "]\n",
    "\n",
    "z_reference = [\n",
    "    0.0,\n",
    "    -0.2,\n",
    "    -0.15,\n",
    "    -0.3,\n",
    "    0.9,\n",
    "    0.15,\n",
    "    0.1,\n",
    "    -0.3,\n",
    "    0.3,\n",
    "    0.9,\n",
    "    -0.8,\n",
    "    0.4,\n",
    "]\n",
    "\n",
    "colors_reference = [\"crimson\", \"springgreen\", \"cornflowerblue\", \n",
    "                    \"darkorange\", \n",
    "                    \"aquamarine\", \n",
    "                    \"lightseagreen\", \"plum\", \"chocolate\", \"purple\", \"olivedrab\", \"lightslategray\",\n",
    "                    \"lightpink\", \"gold\", \"slateblue\"]\n",
    "\n",
    "colors = []\n",
    "\n",
    "\n",
    "color_map = {\n",
    "    (0.05, -0.4, 0.0): \"crimson\",\n",
    "    (0.15, -0.7, -0.2): \"springgreen\",\n",
    "    (-0.1, -0.55, -0.15): \"cornflowerblue\",\n",
    "    (0.2, -0.75, -0.3): \"darkorange\",\n",
    "    (-0.5, 0.8, 0.9): \"aquamarine\",\n",
    "    (0.8, 0.5, 0.15): \"lightseagreen\",\n",
    "    (0.6, 0.4, 0.1): \"plum\",\n",
    "    (-0.6, -0.4, -0.3): \"chocolate\",\n",
    "    (0.4, 0.2, 0.3): \"purple\", \n",
    "    (0.3, 0.3, 0.9): \"olivedrab\", \n",
    "    (0.25, 0.15, 0.3): \"lightslategray\",\n",
    "    (0.3, 0.4, 0.6): \"lightpink\", \n",
    "    (-0.6, 0.7, -0.8): \"gold\",\n",
    "    (0.1, 0.6, 0.4): \"slateblue\", \n",
    "}\n",
    "\n",
    "\n",
    "conv_dict = {\n",
    "    (0.05, -0.4, 0.0): \"neutral\",\n",
    "    (0.15, -0.7, -0.2): \"tired\",\n",
    "    (-0.1, -0.55, -0.15): \"exhausted\",\n",
    "    (0.2, -0.75, -0.3): \"exhausted_2\",\n",
    "    (-0.1, -0.55, -0.15): \"exhausted_3\", \n",
    "    (-0.5, 0.8, 0.9): \"angry\",\n",
    "    (0.8, 0.5, 0.15): \"happy\",\n",
    "    (0.6, 0.4, 0.1): \"happy_2\",\n",
    "    (-0.6, -0.4, -0.3): \"sad\",\n",
    "    (0.4, 0.2, 0.3): \"proud\", \n",
    "    (0.3, 0.3, 0.9): \"confident\", \n",
    "    (0.25, 0.15, 0.3): \"confident_2\",\n",
    "    (0.25, 0.15, 0.3): \"confident_3\",\n",
    "    (0.3, 0.4, 0.6): \"confident_4\", \n",
    "    (-0.6, 0.7, -0.8): \"afraid\",\n",
    "    (0.1, 0.6, 0.4): \"active\", \n",
    "}\n",
    "\n",
    "for i in range(len(x)):\n",
    "    point_coords = (test_y_p.iloc[i], test_y_a.iloc[i], test_y_d.iloc[i])\n",
    "    \n",
    "    colors.append(color_map[point_coords])\n",
    "\n",
    "fig = plt.figure(figsize = (13, 13))\n",
    "ax = plt.axes(projection =\"3d\")\n",
    "\n",
    "\n",
    "for i in range(len(x_reference)):\n",
    "    ax.scatter3D(x_reference[i], y_reference[i], z_reference[i], \n",
    "               c=colors_reference[i], \n",
    "               label=conv_dict[(x_reference[i], y_reference[i], z_reference[i])],\n",
    "               marker=\"x\", linewidths=3)\n",
    "\n",
    "ax.legend()\n",
    "\n",
    "ax.scatter(x, y, z, c=colors, alpha=0.6)\n",
    "\n",
    "\n",
    "line = mplot3d.art3d.Line3D([-1, 1], [0, 0], [0,0], color='black', alpha=0.5)\n",
    "line_2 = mplot3d.art3d.Line3D([0, 0], [-1, 1], [0,0], color='black', alpha = 0.5)\n",
    "line_3 = mplot3d.art3d.Line3D([0, 0], [0, 0], [-1,1], color='black', alpha = 0.5)\n",
    "\n",
    "ax.add_line(line)\n",
    "ax.add_line(line_2)\n",
    "ax.add_line(line_3)\n",
    "\n",
    "\n",
    "ax.set_xlim([-1,1])\n",
    "ax.set_ylim([-1,1])\n",
    "ax.set_zlim([-1,1])\n",
    "\n",
    "ax.set_xlabel('Pleasure')\n",
    "ax.set_ylabel('Arousal')\n",
    "ax.set_zlabel('Dominance')\n",
    "plt.grid(True)\n",
    "\n",
    "plt.show()\n",
    "\n"
   ]
  },
  {
   "cell_type": "markdown",
   "metadata": {},
   "source": [
    "\n"
   ]
  },
  {
   "cell_type": "markdown",
   "metadata": {},
   "source": [
    "# Hyperparameter Grid Search with XGBoost"
   ]
  },
  {
   "cell_type": "code",
   "execution_count": 3,
   "metadata": {},
   "outputs": [],
   "source": [
    "from datetime import datetime\n",
    "from sklearn.model_selection import GridSearchCV\n",
    "from sklearn.model_selection import RandomizedSearchCV\n",
    "import time\n",
    "\n",
    "import matplotlib.pyplot as plt\n",
    "import numpy as np\n",
    "import pandas as pd\n",
    "import seaborn as sns\n",
    "\n",
    "import tensorflow as tf\n",
    "\n",
    "import sklearn\n",
    "from sklearn.model_selection import cross_val_score, KFold\n",
    "from sklearn.metrics import mean_absolute_error\n",
    "\n",
    "\n",
    "import xgboost as xgb\n",
    "\n",
    "xgb.set_config(verbosity=2)\n",
    "\n",
    "from sklearn.metrics import mean_squared_error"
   ]
  },
  {
   "cell_type": "markdown",
   "metadata": {},
   "source": [
    "## Load Data"
   ]
  },
  {
   "cell_type": "code",
   "execution_count": 4,
   "metadata": {},
   "outputs": [],
   "source": [
    "dataset = pd.read_csv('datasets/S_BANDAI_05sec.csv')"
   ]
  },
  {
   "cell_type": "markdown",
   "metadata": {},
   "source": [
    "### Split into Test and Train data"
   ]
  },
  {
   "cell_type": "code",
   "execution_count": 5,
   "metadata": {},
   "outputs": [
    {
     "name": "stdout",
     "output_type": "stream",
     "text": [
      "No Training Samples: 20829\n",
      "No Test Samples: 5207\n"
     ]
    }
   ],
   "source": [
    "train_dataset = dataset.sample(frac=0.8, random_state=42)\n",
    "test_dataset = dataset.drop(train_dataset.index)\n",
    "\n",
    "print(\"No Training Samples:\",train_dataset.shape[0])\n",
    "print(\"No Test Samples:\",test_dataset.shape[0])\n",
    "\n",
    "train_dataset = shuffle(train_dataset)\n",
    "test_dataset = shuffle(test_dataset)"
   ]
  },
  {
   "cell_type": "markdown",
   "metadata": {},
   "source": [
    "### Split Features from Targets"
   ]
  },
  {
   "cell_type": "code",
   "execution_count": 6,
   "metadata": {},
   "outputs": [],
   "source": [
    "train_X = train_dataset.copy()\n",
    "test_X = test_dataset.copy()\n",
    "\n",
    "train_y = pd.concat([train_X.pop(x) for x in ['EMOTION_P', 'EMOTION_A', \"EMOTION_D\"]], axis=1)\n",
    "test_y = pd.concat([test_X.pop(x) for x in ['EMOTION_P', 'EMOTION_A', \"EMOTION_D\"]], axis=1)\n",
    "\n",
    "test_y_p = test_y.iloc[:,0]\n",
    "train_y_p = train_y.iloc[:,0]\n",
    "\n",
    "test_y_a = test_y.iloc[:,1]\n",
    "train_y_a = train_y.iloc[:,1]\n",
    "\n",
    "test_y_d = test_y.iloc[:,2]\n",
    "train_y_d = train_y.iloc[:,2]"
   ]
  },
  {
   "cell_type": "code",
   "execution_count": 7,
   "metadata": {},
   "outputs": [
    {
     "data": {
      "text/html": [
       "<div>\n",
       "<style scoped>\n",
       "    .dataframe tbody tr th:only-of-type {\n",
       "        vertical-align: middle;\n",
       "    }\n",
       "\n",
       "    .dataframe tbody tr th {\n",
       "        vertical-align: top;\n",
       "    }\n",
       "\n",
       "    .dataframe thead th {\n",
       "        text-align: right;\n",
       "    }\n",
       "</style>\n",
       "<table border=\"1\" class=\"dataframe\">\n",
       "  <thead>\n",
       "    <tr style=\"text-align: right;\">\n",
       "      <th></th>\n",
       "      <th>max_hand_distance</th>\n",
       "      <th>avg_l_hand_hip_distance</th>\n",
       "      <th>avg_r_hand_hip_distance</th>\n",
       "      <th>max_stride_length</th>\n",
       "      <th>avg_l_hand_chest_distance</th>\n",
       "      <th>avg_r_hand_chest_distance</th>\n",
       "      <th>avg_l_elbow_hip_distance</th>\n",
       "      <th>avg_r_elbow_hip_distance</th>\n",
       "      <th>avg_chest_pelvis_distance</th>\n",
       "      <th>avg_neck_chest_distance</th>\n",
       "      <th>...</th>\n",
       "      <th>l_hand_speed</th>\n",
       "      <th>r_hand_speed</th>\n",
       "      <th>l_foot_speed</th>\n",
       "      <th>r_foot_speed</th>\n",
       "      <th>neck_speed</th>\n",
       "      <th>l_hand_acceleration_magnitude</th>\n",
       "      <th>r_hand_acceleration_magnitude</th>\n",
       "      <th>l_foot_acceleration_magnitude</th>\n",
       "      <th>r_foot_acceleration_magnitude</th>\n",
       "      <th>neck_acceleration_magnitude</th>\n",
       "    </tr>\n",
       "  </thead>\n",
       "  <tbody>\n",
       "    <tr>\n",
       "      <th>25444</th>\n",
       "      <td>-1.484877</td>\n",
       "      <td>-0.828347</td>\n",
       "      <td>-1.234174</td>\n",
       "      <td>-0.661269</td>\n",
       "      <td>-0.124149</td>\n",
       "      <td>-0.232081</td>\n",
       "      <td>-0.981639</td>\n",
       "      <td>-0.881532</td>\n",
       "      <td>-0.537928</td>\n",
       "      <td>-0.535852</td>\n",
       "      <td>...</td>\n",
       "      <td>-1.108413</td>\n",
       "      <td>0.020610</td>\n",
       "      <td>-0.136050</td>\n",
       "      <td>-0.963477</td>\n",
       "      <td>-0.637230</td>\n",
       "      <td>-0.592533</td>\n",
       "      <td>-0.406729</td>\n",
       "      <td>-0.252699</td>\n",
       "      <td>-0.140690</td>\n",
       "      <td>-0.626200</td>\n",
       "    </tr>\n",
       "    <tr>\n",
       "      <th>11015</th>\n",
       "      <td>-1.635016</td>\n",
       "      <td>-2.204550</td>\n",
       "      <td>-1.287023</td>\n",
       "      <td>-0.335370</td>\n",
       "      <td>-1.077325</td>\n",
       "      <td>-0.811338</td>\n",
       "      <td>-1.478880</td>\n",
       "      <td>-1.864274</td>\n",
       "      <td>0.187813</td>\n",
       "      <td>0.438460</td>\n",
       "      <td>...</td>\n",
       "      <td>-1.001587</td>\n",
       "      <td>-0.005483</td>\n",
       "      <td>0.008179</td>\n",
       "      <td>-1.014404</td>\n",
       "      <td>-0.442169</td>\n",
       "      <td>-0.253266</td>\n",
       "      <td>-0.450049</td>\n",
       "      <td>-0.008086</td>\n",
       "      <td>0.425267</td>\n",
       "      <td>-0.345013</td>\n",
       "    </tr>\n",
       "    <tr>\n",
       "      <th>6424</th>\n",
       "      <td>0.319941</td>\n",
       "      <td>-0.482794</td>\n",
       "      <td>0.705833</td>\n",
       "      <td>0.315663</td>\n",
       "      <td>0.256356</td>\n",
       "      <td>1.240658</td>\n",
       "      <td>0.323679</td>\n",
       "      <td>0.918516</td>\n",
       "      <td>-0.247325</td>\n",
       "      <td>-0.369521</td>\n",
       "      <td>...</td>\n",
       "      <td>-0.565608</td>\n",
       "      <td>-0.247005</td>\n",
       "      <td>-0.575852</td>\n",
       "      <td>-0.619057</td>\n",
       "      <td>-0.234824</td>\n",
       "      <td>-0.951172</td>\n",
       "      <td>-0.476015</td>\n",
       "      <td>-0.208034</td>\n",
       "      <td>0.210554</td>\n",
       "      <td>-0.319913</td>\n",
       "    </tr>\n",
       "    <tr>\n",
       "      <th>3090</th>\n",
       "      <td>-0.617475</td>\n",
       "      <td>0.842859</td>\n",
       "      <td>-0.913038</td>\n",
       "      <td>2.879592</td>\n",
       "      <td>-0.241820</td>\n",
       "      <td>-1.905904</td>\n",
       "      <td>-1.771665</td>\n",
       "      <td>0.566861</td>\n",
       "      <td>0.715976</td>\n",
       "      <td>1.765119</td>\n",
       "      <td>...</td>\n",
       "      <td>-1.555212</td>\n",
       "      <td>-1.538433</td>\n",
       "      <td>-1.413717</td>\n",
       "      <td>-1.422897</td>\n",
       "      <td>-1.693396</td>\n",
       "      <td>-1.274620</td>\n",
       "      <td>-1.222962</td>\n",
       "      <td>-1.285185</td>\n",
       "      <td>-1.295725</td>\n",
       "      <td>-1.136119</td>\n",
       "    </tr>\n",
       "    <tr>\n",
       "      <th>4656</th>\n",
       "      <td>-0.424755</td>\n",
       "      <td>-0.412196</td>\n",
       "      <td>-0.078287</td>\n",
       "      <td>0.994076</td>\n",
       "      <td>-0.934271</td>\n",
       "      <td>-0.659510</td>\n",
       "      <td>0.682060</td>\n",
       "      <td>0.667631</td>\n",
       "      <td>-0.360533</td>\n",
       "      <td>-0.012634</td>\n",
       "      <td>...</td>\n",
       "      <td>0.992739</td>\n",
       "      <td>1.734505</td>\n",
       "      <td>1.957553</td>\n",
       "      <td>0.203789</td>\n",
       "      <td>1.176809</td>\n",
       "      <td>0.286130</td>\n",
       "      <td>-0.743247</td>\n",
       "      <td>0.796868</td>\n",
       "      <td>1.162976</td>\n",
       "      <td>-0.088302</td>\n",
       "    </tr>\n",
       "  </tbody>\n",
       "</table>\n",
       "<p>5 rows × 25 columns</p>\n",
       "</div>"
      ],
      "text/plain": [
       "       max_hand_distance  avg_l_hand_hip_distance  avg_r_hand_hip_distance  \\\n",
       "25444          -1.484877                -0.828347                -1.234174   \n",
       "11015          -1.635016                -2.204550                -1.287023   \n",
       "6424            0.319941                -0.482794                 0.705833   \n",
       "3090           -0.617475                 0.842859                -0.913038   \n",
       "4656           -0.424755                -0.412196                -0.078287   \n",
       "\n",
       "       max_stride_length  avg_l_hand_chest_distance  \\\n",
       "25444          -0.661269                  -0.124149   \n",
       "11015          -0.335370                  -1.077325   \n",
       "6424            0.315663                   0.256356   \n",
       "3090            2.879592                  -0.241820   \n",
       "4656            0.994076                  -0.934271   \n",
       "\n",
       "       avg_r_hand_chest_distance  avg_l_elbow_hip_distance  \\\n",
       "25444                  -0.232081                 -0.981639   \n",
       "11015                  -0.811338                 -1.478880   \n",
       "6424                    1.240658                  0.323679   \n",
       "3090                   -1.905904                 -1.771665   \n",
       "4656                   -0.659510                  0.682060   \n",
       "\n",
       "       avg_r_elbow_hip_distance  avg_chest_pelvis_distance  \\\n",
       "25444                 -0.881532                  -0.537928   \n",
       "11015                 -1.864274                   0.187813   \n",
       "6424                   0.918516                  -0.247325   \n",
       "3090                   0.566861                   0.715976   \n",
       "4656                   0.667631                  -0.360533   \n",
       "\n",
       "       avg_neck_chest_distance  ...  l_hand_speed  r_hand_speed  l_foot_speed  \\\n",
       "25444                -0.535852  ...     -1.108413      0.020610     -0.136050   \n",
       "11015                 0.438460  ...     -1.001587     -0.005483      0.008179   \n",
       "6424                 -0.369521  ...     -0.565608     -0.247005     -0.575852   \n",
       "3090                  1.765119  ...     -1.555212     -1.538433     -1.413717   \n",
       "4656                 -0.012634  ...      0.992739      1.734505      1.957553   \n",
       "\n",
       "       r_foot_speed  neck_speed  l_hand_acceleration_magnitude  \\\n",
       "25444     -0.963477   -0.637230                      -0.592533   \n",
       "11015     -1.014404   -0.442169                      -0.253266   \n",
       "6424      -0.619057   -0.234824                      -0.951172   \n",
       "3090      -1.422897   -1.693396                      -1.274620   \n",
       "4656       0.203789    1.176809                       0.286130   \n",
       "\n",
       "       r_hand_acceleration_magnitude  l_foot_acceleration_magnitude  \\\n",
       "25444                      -0.406729                      -0.252699   \n",
       "11015                      -0.450049                      -0.008086   \n",
       "6424                       -0.476015                      -0.208034   \n",
       "3090                       -1.222962                      -1.285185   \n",
       "4656                       -0.743247                       0.796868   \n",
       "\n",
       "       r_foot_acceleration_magnitude  neck_acceleration_magnitude  \n",
       "25444                      -0.140690                    -0.626200  \n",
       "11015                       0.425267                    -0.345013  \n",
       "6424                        0.210554                    -0.319913  \n",
       "3090                       -1.295725                    -1.136119  \n",
       "4656                        1.162976                    -0.088302  \n",
       "\n",
       "[5 rows x 25 columns]"
      ]
     },
     "execution_count": 7,
     "metadata": {},
     "output_type": "execute_result"
    }
   ],
   "source": [
    "train_X.head()"
   ]
  },
  {
   "cell_type": "code",
   "execution_count": 8,
   "metadata": {
    "scrolled": false
   },
   "outputs": [
    {
     "data": {
      "text/html": [
       "<div>\n",
       "<style scoped>\n",
       "    .dataframe tbody tr th:only-of-type {\n",
       "        vertical-align: middle;\n",
       "    }\n",
       "\n",
       "    .dataframe tbody tr th {\n",
       "        vertical-align: top;\n",
       "    }\n",
       "\n",
       "    .dataframe thead th {\n",
       "        text-align: right;\n",
       "    }\n",
       "</style>\n",
       "<table border=\"1\" class=\"dataframe\">\n",
       "  <thead>\n",
       "    <tr style=\"text-align: right;\">\n",
       "      <th></th>\n",
       "      <th>EMOTION_P</th>\n",
       "      <th>EMOTION_A</th>\n",
       "      <th>EMOTION_D</th>\n",
       "    </tr>\n",
       "  </thead>\n",
       "  <tbody>\n",
       "    <tr>\n",
       "      <th>25444</th>\n",
       "      <td>0.05</td>\n",
       "      <td>-0.4</td>\n",
       "      <td>0.0</td>\n",
       "    </tr>\n",
       "    <tr>\n",
       "      <th>11015</th>\n",
       "      <td>0.30</td>\n",
       "      <td>0.4</td>\n",
       "      <td>0.6</td>\n",
       "    </tr>\n",
       "    <tr>\n",
       "      <th>6424</th>\n",
       "      <td>-0.50</td>\n",
       "      <td>0.8</td>\n",
       "      <td>0.9</td>\n",
       "    </tr>\n",
       "    <tr>\n",
       "      <th>3090</th>\n",
       "      <td>0.10</td>\n",
       "      <td>0.6</td>\n",
       "      <td>0.4</td>\n",
       "    </tr>\n",
       "    <tr>\n",
       "      <th>4656</th>\n",
       "      <td>0.05</td>\n",
       "      <td>-0.4</td>\n",
       "      <td>0.0</td>\n",
       "    </tr>\n",
       "  </tbody>\n",
       "</table>\n",
       "</div>"
      ],
      "text/plain": [
       "       EMOTION_P  EMOTION_A  EMOTION_D\n",
       "25444       0.05       -0.4        0.0\n",
       "11015       0.30        0.4        0.6\n",
       "6424       -0.50        0.8        0.9\n",
       "3090        0.10        0.6        0.4\n",
       "4656        0.05       -0.4        0.0"
      ]
     },
     "execution_count": 8,
     "metadata": {},
     "output_type": "execute_result"
    }
   ],
   "source": [
    "train_y.head()"
   ]
  },
  {
   "cell_type": "code",
   "execution_count": 9,
   "metadata": {
    "scrolled": true
   },
   "outputs": [
    {
     "data": {
      "text/html": [
       "<div>\n",
       "<style scoped>\n",
       "    .dataframe tbody tr th:only-of-type {\n",
       "        vertical-align: middle;\n",
       "    }\n",
       "\n",
       "    .dataframe tbody tr th {\n",
       "        vertical-align: top;\n",
       "    }\n",
       "\n",
       "    .dataframe thead th {\n",
       "        text-align: right;\n",
       "    }\n",
       "</style>\n",
       "<table border=\"1\" class=\"dataframe\">\n",
       "  <thead>\n",
       "    <tr style=\"text-align: right;\">\n",
       "      <th></th>\n",
       "      <th>mean</th>\n",
       "      <th>std</th>\n",
       "    </tr>\n",
       "  </thead>\n",
       "  <tbody>\n",
       "    <tr>\n",
       "      <th>max_hand_distance</th>\n",
       "      <td>0.000612</td>\n",
       "      <td>0.997648</td>\n",
       "    </tr>\n",
       "    <tr>\n",
       "      <th>avg_l_hand_hip_distance</th>\n",
       "      <td>0.004801</td>\n",
       "      <td>0.999230</td>\n",
       "    </tr>\n",
       "    <tr>\n",
       "      <th>avg_r_hand_hip_distance</th>\n",
       "      <td>0.001350</td>\n",
       "      <td>1.000538</td>\n",
       "    </tr>\n",
       "    <tr>\n",
       "      <th>max_stride_length</th>\n",
       "      <td>-0.000102</td>\n",
       "      <td>0.995341</td>\n",
       "    </tr>\n",
       "    <tr>\n",
       "      <th>avg_l_hand_chest_distance</th>\n",
       "      <td>0.002424</td>\n",
       "      <td>0.999286</td>\n",
       "    </tr>\n",
       "    <tr>\n",
       "      <th>avg_r_hand_chest_distance</th>\n",
       "      <td>-0.000689</td>\n",
       "      <td>1.002142</td>\n",
       "    </tr>\n",
       "    <tr>\n",
       "      <th>avg_l_elbow_hip_distance</th>\n",
       "      <td>0.004961</td>\n",
       "      <td>1.000104</td>\n",
       "    </tr>\n",
       "    <tr>\n",
       "      <th>avg_r_elbow_hip_distance</th>\n",
       "      <td>0.004294</td>\n",
       "      <td>0.997386</td>\n",
       "    </tr>\n",
       "    <tr>\n",
       "      <th>avg_chest_pelvis_distance</th>\n",
       "      <td>0.000335</td>\n",
       "      <td>1.004072</td>\n",
       "    </tr>\n",
       "    <tr>\n",
       "      <th>avg_neck_chest_distance</th>\n",
       "      <td>-0.000447</td>\n",
       "      <td>1.003000</td>\n",
       "    </tr>\n",
       "    <tr>\n",
       "      <th>avg_total_body_volume</th>\n",
       "      <td>0.002355</td>\n",
       "      <td>0.998693</td>\n",
       "    </tr>\n",
       "    <tr>\n",
       "      <th>avg_lower_body_volume</th>\n",
       "      <td>0.000453</td>\n",
       "      <td>0.996207</td>\n",
       "    </tr>\n",
       "    <tr>\n",
       "      <th>avg_upper_body_volume</th>\n",
       "      <td>0.000915</td>\n",
       "      <td>0.993762</td>\n",
       "    </tr>\n",
       "    <tr>\n",
       "      <th>avg_triangle_area_hands_neck</th>\n",
       "      <td>0.001408</td>\n",
       "      <td>0.998765</td>\n",
       "    </tr>\n",
       "    <tr>\n",
       "      <th>avg_triangle_area_feet_hips</th>\n",
       "      <td>0.000732</td>\n",
       "      <td>0.997469</td>\n",
       "    </tr>\n",
       "    <tr>\n",
       "      <th>l_hand_speed</th>\n",
       "      <td>-0.003436</td>\n",
       "      <td>0.997467</td>\n",
       "    </tr>\n",
       "    <tr>\n",
       "      <th>r_hand_speed</th>\n",
       "      <td>-0.004163</td>\n",
       "      <td>0.997438</td>\n",
       "    </tr>\n",
       "    <tr>\n",
       "      <th>l_foot_speed</th>\n",
       "      <td>-0.003773</td>\n",
       "      <td>0.998259</td>\n",
       "    </tr>\n",
       "    <tr>\n",
       "      <th>r_foot_speed</th>\n",
       "      <td>-0.003137</td>\n",
       "      <td>0.997721</td>\n",
       "    </tr>\n",
       "    <tr>\n",
       "      <th>neck_speed</th>\n",
       "      <td>-0.004219</td>\n",
       "      <td>0.998148</td>\n",
       "    </tr>\n",
       "    <tr>\n",
       "      <th>l_hand_acceleration_magnitude</th>\n",
       "      <td>-0.002947</td>\n",
       "      <td>0.999508</td>\n",
       "    </tr>\n",
       "    <tr>\n",
       "      <th>r_hand_acceleration_magnitude</th>\n",
       "      <td>-0.002644</td>\n",
       "      <td>1.000366</td>\n",
       "    </tr>\n",
       "    <tr>\n",
       "      <th>l_foot_acceleration_magnitude</th>\n",
       "      <td>0.001295</td>\n",
       "      <td>1.006457</td>\n",
       "    </tr>\n",
       "    <tr>\n",
       "      <th>r_foot_acceleration_magnitude</th>\n",
       "      <td>-0.001246</td>\n",
       "      <td>1.006705</td>\n",
       "    </tr>\n",
       "    <tr>\n",
       "      <th>neck_acceleration_magnitude</th>\n",
       "      <td>0.001230</td>\n",
       "      <td>1.007046</td>\n",
       "    </tr>\n",
       "  </tbody>\n",
       "</table>\n",
       "</div>"
      ],
      "text/plain": [
       "                                   mean       std\n",
       "max_hand_distance              0.000612  0.997648\n",
       "avg_l_hand_hip_distance        0.004801  0.999230\n",
       "avg_r_hand_hip_distance        0.001350  1.000538\n",
       "max_stride_length             -0.000102  0.995341\n",
       "avg_l_hand_chest_distance      0.002424  0.999286\n",
       "avg_r_hand_chest_distance     -0.000689  1.002142\n",
       "avg_l_elbow_hip_distance       0.004961  1.000104\n",
       "avg_r_elbow_hip_distance       0.004294  0.997386\n",
       "avg_chest_pelvis_distance      0.000335  1.004072\n",
       "avg_neck_chest_distance       -0.000447  1.003000\n",
       "avg_total_body_volume          0.002355  0.998693\n",
       "avg_lower_body_volume          0.000453  0.996207\n",
       "avg_upper_body_volume          0.000915  0.993762\n",
       "avg_triangle_area_hands_neck   0.001408  0.998765\n",
       "avg_triangle_area_feet_hips    0.000732  0.997469\n",
       "l_hand_speed                  -0.003436  0.997467\n",
       "r_hand_speed                  -0.004163  0.997438\n",
       "l_foot_speed                  -0.003773  0.998259\n",
       "r_foot_speed                  -0.003137  0.997721\n",
       "neck_speed                    -0.004219  0.998148\n",
       "l_hand_acceleration_magnitude -0.002947  0.999508\n",
       "r_hand_acceleration_magnitude -0.002644  1.000366\n",
       "l_foot_acceleration_magnitude  0.001295  1.006457\n",
       "r_foot_acceleration_magnitude -0.001246  1.006705\n",
       "neck_acceleration_magnitude    0.001230  1.007046"
      ]
     },
     "execution_count": 9,
     "metadata": {},
     "output_type": "execute_result"
    }
   ],
   "source": [
    "train_X.describe().transpose()[['mean', 'std']]"
   ]
  },
  {
   "cell_type": "markdown",
   "metadata": {},
   "source": [
    "## RandomSearchCV"
   ]
  },
  {
   "cell_type": "code",
   "execution_count": 10,
   "metadata": {},
   "outputs": [],
   "source": [
    "# A parameter grid for XGBoost\n",
    "# https://www.analyticsvidhya.com/blog/2016/03/complete-guide-parameter-tuning-xgboost-with-codes-python/\n",
    "params = {\n",
    "        'eta': [0.01, 0.05, 0.1],\n",
    "        'min_child_weight': [1, 5, 11, 21],\n",
    "        'max_depth': [3, 6, 10, 15],\n",
    "        'gamma': [0, 0.001, 0.01],\n",
    "        'subsample': [0.75, 1],\n",
    "        'colsample_bytree': [0.75, 1],\n",
    "        'lambda': [1, 1.25],\n",
    "        'alpha': [0.0, 0.25]\n",
    "        }\n",
    "\n",
    "n_iter = 150"
   ]
  },
  {
   "cell_type": "code",
   "execution_count": 11,
   "metadata": {},
   "outputs": [],
   "source": [
    "model_p = xgb.XGBRegressor(\n",
    "                    n_estimators=1500,\n",
    "                    objective=\"reg:squarederror\",\n",
    "                    tree_method='gpu_hist'\n",
    "                )\n",
    "\n",
    "model_a = xgb.XGBRegressor(\n",
    "                    n_estimators=1500,\n",
    "                    objective=\"reg:squarederror\",\n",
    "                    tree_method='gpu_hist'\n",
    "                )\n",
    "\n",
    "model_d = xgb.XGBRegressor(\n",
    "                    n_estimators=1500,\n",
    "                    objective=\"reg:squarederror\",\n",
    "                    tree_method='gpu_hist'\n",
    "                )"
   ]
  },
  {
   "cell_type": "code",
   "execution_count": null,
   "metadata": {},
   "outputs": [],
   "source": [
    "# Pleasure\n",
    "# run randomized search\n",
    "kfold = KFold(n_splits=5, shuffle=True)\n",
    "\n",
    "random_search_p = RandomizedSearchCV(model_p, param_distributions=params,\n",
    "                               cv=kfold, scoring='neg_mean_squared_error', n_iter = n_iter)\n",
    "\n",
    "start = time.time()\n",
    "random_search_p.fit(train_X, train_y_p)\n",
    "\n",
    "\n",
    "print(\"RandomizedSearchCV took %.2f seconds for %d candidates\"\n",
    "      \" parameter settings.\" % ((time.time() - start), n_iter))"
   ]
  },
  {
   "cell_type": "code",
   "execution_count": null,
   "metadata": {},
   "outputs": [],
   "source": [
    "# Arousal\n",
    "# run randomized search\n",
    "kfold = KFold(n_splits=5, shuffle=True)\n",
    "\n",
    "random_search_a = RandomizedSearchCV(model_a, param_distributions=params,\n",
    "                               cv=kfold, scoring='neg_mean_squared_error', n_iter = n_iter)\n",
    "\n",
    "start = time.time()\n",
    "random_search_a.fit(train_X, train_y_a)\n",
    "\n",
    "\n",
    "print(\"RandomizedSearchCV took %.2f seconds for %d candidates\"\n",
    "      \" parameter settings.\" % ((time.time() - start), n_iter))"
   ]
  },
  {
   "cell_type": "code",
   "execution_count": null,
   "metadata": {},
   "outputs": [],
   "source": [
    "# Dominance\n",
    "# run randomized search\n",
    "kfold = KFold(n_splits=5, shuffle=True)\n",
    "\n",
    "random_search_d = RandomizedSearchCV(model_d, param_distributions=params,\n",
    "                               cv=kfold, scoring='neg_mean_squared_error', n_iter = n_iter)\n",
    "\n",
    "start = time.time()\n",
    "random_search_d.fit(train_X, train_y_d)\n",
    "\n",
    "\n",
    "print(\"RandomizedSearchCV took %.2f seconds for %d candidates\"\n",
    "      \" parameter settings.\" % ((time.time() - start), n_iter))"
   ]
  },
  {
   "cell_type": "markdown",
   "metadata": {},
   "source": [
    "### Results"
   ]
  },
  {
   "cell_type": "code",
   "execution_count": null,
   "metadata": {},
   "outputs": [],
   "source": [
    "best_regressor_p = random_search_p.best_estimator_\n",
    "\n",
    "print(best_regressor_p.get_params())"
   ]
  },
  {
   "cell_type": "code",
   "execution_count": null,
   "metadata": {},
   "outputs": [],
   "source": [
    "best_regressor_a = random_search_a.best_estimator_\n",
    "\n",
    "print(best_regressor_a.get_params())"
   ]
  },
  {
   "cell_type": "code",
   "execution_count": null,
   "metadata": {},
   "outputs": [],
   "source": [
    "best_regressor_d = random_search_d.best_estimator_\n",
    "\n",
    "print(best_regressor_d.get_params())"
   ]
  },
  {
   "cell_type": "code",
   "execution_count": null,
   "metadata": {},
   "outputs": [],
   "source": [
    "pred_y_p = best_regressor_p.predict(test_X)\n",
    "mse = mean_squared_error(test_y_p, pred_y_p)\n",
    "mae = mean_absolute_error(test_y_p, pred_y_p)\n",
    "print(\"Pleasure\")\n",
    "print(\"MSE: %.2f\" % mse)\n",
    "print(\"MAE: %.2f\" % mae)\n",
    "\n",
    "pred_y_a = best_regressor_a.predict(test_X)\n",
    "mse = mean_squared_error(test_y_a, pred_y_a)\n",
    "mae = mean_absolute_error(test_y_a, pred_y_a)\n",
    "print(\"\\n\\nArousal\")\n",
    "print(\"MSE: %.2f\" % mse)\n",
    "print(\"MAE: %.2f\" % mae)\n",
    "\n",
    "pred_y_d = best_regressor_d.predict(test_X)\n",
    "mse = mean_squared_error(test_y_d, pred_y_d)\n",
    "mae = mean_absolute_error(test_y_d, pred_y_d)\n",
    "print(\"\\n\\nArousal\")\n",
    "print(\"MSE: %.2f\" % mse)\n",
    "print(\"MAE: %.2f\" % mae)"
   ]
  },
  {
   "cell_type": "markdown",
   "metadata": {},
   "source": [
    "### Predictions"
   ]
  },
  {
   "cell_type": "code",
   "execution_count": null,
   "metadata": {
    "scrolled": true
   },
   "outputs": [],
   "source": [
    "sample_no = 6\n",
    "row=test_X.iloc[sample_no]\n",
    "\n",
    "x = np.asarray([row])\n",
    "\n",
    "y_p = best_regressor_p.predict(x)\n",
    "y_a = best_regressor_a.predict(x)\n",
    "y_d = best_regressor_d.predict(x)\n",
    "\n",
    "\n",
    "print('Real: %s' % np.asarray(test_y.iloc[sample_no]))\n",
    "print('Predicted: %s' % [y_p[0], y_a[0], y_d[0]])"
   ]
  },
  {
   "cell_type": "code",
   "execution_count": null,
   "metadata": {},
   "outputs": [],
   "source": [
    "# save to JSON\n",
    "best_regressor_p.save_model(\"models/bandai_l2p_model_05sec.json\")\n",
    "best_regressor_a.save_model(\"models/bandai_l2a_model_05sec.json\")\n",
    "best_regressor_d.save_model(\"models/bandai_l2d_model_05sec.json\")"
   ]
  },
  {
   "cell_type": "markdown",
   "metadata": {},
   "source": [
    "## GridSearchCV"
   ]
  },
  {
   "cell_type": "code",
   "execution_count": 128,
   "metadata": {},
   "outputs": [],
   "source": [
    "# A parameter grid for XGBoost\n",
    "# https://www.analyticsvidhya.com/blog/2016/03/complete-guide-parameter-tuning-xgboost-with-codes-python/\n",
    "params = {\n",
    "        'eta': [0.01, 0.05, 0.1],\n",
    "        'min_child_weight': [1, 5, 11, 21],\n",
    "        'max_depth': [3, 6, 10, 15],\n",
    "        'gamma': [0, 0.001, 0.01],\n",
    "        'subsample': [0.75, 1],\n",
    "        'colsample_bytree': [0.75, 1],\n",
    "        'lambda': [1, 1.25],\n",
    "        'alpha': [0.0, 0.25]\n",
    "        }\n",
    "#params = {\n",
    "#        'n_estimators': [1000, 2000],\n",
    "#        'min_child_weight': [10, 25],\n",
    "#        'gamma': [0, 0.005, 0.01],\n",
    "#        'learning_rate': [0.01, 0.07, 0.1],\n",
    "#        'max_depth': [10, 20],\n",
    "#        'lambda': [1, 1.25],\n",
    "#        'alpha': [0.0, 0.25]\n",
    "#        }"
   ]
  },
  {
   "cell_type": "code",
   "execution_count": 129,
   "metadata": {},
   "outputs": [],
   "source": [
    "model_p = xgb.XGBRegressor(\n",
    "                    n_estimators=1500,\n",
    "                    objective=\"reg:squarederror\",\n",
    "                    tree_method='gpu_hist'\n",
    "                )\n",
    "\n",
    "model_a = xgb.XGBRegressor(\n",
    "                    n_estimators=1500,\n",
    "                    objective=\"reg:squarederror\",\n",
    "                    tree_method='gpu_hist'\n",
    "                )\n",
    "\n",
    "model_d = xgb.XGBRegressor(\n",
    "                    n_estimators=1500,\n",
    "                    objective=\"reg:squarederror\",\n",
    "                    tree_method='gpu_hist'\n",
    "                )"
   ]
  },
  {
   "cell_type": "code",
   "execution_count": 130,
   "metadata": {},
   "outputs": [
    {
     "name": "stdout",
     "output_type": "stream",
     "text": [
      "GridSearchCV took 34187.72 seconds parameter settings.\n"
     ]
    }
   ],
   "source": [
    "# Pleasure\n",
    "# run randomized search\n",
    "kfold = KFold(n_splits=5, shuffle=True)\n",
    "\n",
    "random_search_p = GridSearchCV(model_p, param_grid=params,\n",
    "                               cv=kfold, scoring='neg_mean_squared_error')\n",
    "\n",
    "start = time.time()\n",
    "random_search_p.fit(train_X, train_y_p)\n",
    "\n",
    "\n",
    "print(\"GridSearchCV took %.2f seconds\"\n",
    "      \" parameter settings.\" % ((time.time() - start)))"
   ]
  },
  {
   "cell_type": "code",
   "execution_count": 131,
   "metadata": {},
   "outputs": [
    {
     "name": "stdout",
     "output_type": "stream",
     "text": [
      "RandomizedSearchCV took 33562.72 seconds for 100 candidates parameter settings.\n"
     ]
    }
   ],
   "source": [
    "# Arousal\n",
    "kfold = KFold(n_splits=5, shuffle=True)\n",
    "\n",
    "random_search_a = GridSearchCV(model_a, param_grid=params,\n",
    "                               cv=kfold, scoring='neg_mean_squared_error')\n",
    "\n",
    "start = time.time()\n",
    "random_search_a.fit(train_X, train_y_a)\n",
    "\n",
    "\n",
    "print(\"RandomizedSearchCV took %.2f seconds for %d candidates\"\n",
    "      \" parameter settings.\" % ((time.time() - start), n_iter_search))"
   ]
  },
  {
   "cell_type": "code",
   "execution_count": null,
   "metadata": {},
   "outputs": [],
   "source": [
    "# Dominance\n",
    "kfold = KFold(n_splits=5, shuffle=True)\n",
    "\n",
    "random_search_d = GridSearchCV(model_d, param_grid=params,\n",
    "                               cv=kfold, scoring='neg_mean_squared_error')\n",
    "\n",
    "start = time.time()\n",
    "random_search_d.fit(train_X, train_y_d)\n",
    "\n",
    "\n",
    "print(\"RandomizedSearchCV took %.2f seconds for %d candidates\"\n",
    "      \" parameter settings.\" % ((time.time() - start), n_iter_search))"
   ]
  },
  {
   "cell_type": "markdown",
   "metadata": {},
   "source": [
    "### Results"
   ]
  },
  {
   "cell_type": "code",
   "execution_count": 83,
   "metadata": {},
   "outputs": [
    {
     "name": "stdout",
     "output_type": "stream",
     "text": [
      "{'objective': 'reg:squarederror', 'base_score': 0.5, 'booster': 'gbtree', 'colsample_bylevel': 1, 'colsample_bynode': 1, 'colsample_bytree': 1, 'enable_categorical': False, 'gamma': 0, 'gpu_id': 0, 'importance_type': None, 'interaction_constraints': '', 'learning_rate': 0.0500000007, 'max_delta_step': 0, 'max_depth': 15, 'min_child_weight': 21, 'missing': nan, 'monotone_constraints': '()', 'n_estimators': 1500, 'n_jobs': 12, 'num_parallel_tree': 1, 'predictor': 'auto', 'random_state': 0, 'reg_alpha': 0.25, 'reg_lambda': 1.25, 'scale_pos_weight': 1, 'subsample': 0.75, 'tree_method': 'gpu_hist', 'validate_parameters': 1, 'verbosity': None, 'lambda': 1.25, 'eta': 0.05, 'alpha': 0.25}\n"
     ]
    }
   ],
   "source": [
    "best_regressor_p = random_search_p.best_estimator_\n",
    "\n",
    "print(best_regressor_p.get_params())"
   ]
  },
  {
   "cell_type": "code",
   "execution_count": 84,
   "metadata": {},
   "outputs": [
    {
     "name": "stdout",
     "output_type": "stream",
     "text": [
      "{'objective': 'reg:squarederror', 'base_score': 0.5, 'booster': 'gbtree', 'colsample_bylevel': 1, 'colsample_bynode': 1, 'colsample_bytree': 0.75, 'enable_categorical': False, 'gamma': 0, 'gpu_id': 0, 'importance_type': None, 'interaction_constraints': '', 'learning_rate': 0.0500000007, 'max_delta_step': 0, 'max_depth': 15, 'min_child_weight': 21, 'missing': nan, 'monotone_constraints': '()', 'n_estimators': 1500, 'n_jobs': 12, 'num_parallel_tree': 1, 'predictor': 'auto', 'random_state': 0, 'reg_alpha': 0, 'reg_lambda': 1.25, 'scale_pos_weight': 1, 'subsample': 0.75, 'tree_method': 'gpu_hist', 'validate_parameters': 1, 'verbosity': None, 'lambda': 1.25, 'eta': 0.05, 'alpha': 0.0}\n"
     ]
    }
   ],
   "source": [
    "best_regressor_a = random_search_a.best_estimator_\n",
    "\n",
    "print(best_regressor_a.get_params())"
   ]
  },
  {
   "cell_type": "code",
   "execution_count": 85,
   "metadata": {},
   "outputs": [
    {
     "name": "stdout",
     "output_type": "stream",
     "text": [
      "{'objective': 'reg:squarederror', 'base_score': 0.5, 'booster': 'gbtree', 'colsample_bylevel': 1, 'colsample_bynode': 1, 'colsample_bytree': 1, 'enable_categorical': False, 'gamma': 0, 'gpu_id': 0, 'importance_type': None, 'interaction_constraints': '', 'learning_rate': 0.0500000007, 'max_delta_step': 0, 'max_depth': 15, 'min_child_weight': 21, 'missing': nan, 'monotone_constraints': '()', 'n_estimators': 1500, 'n_jobs': 12, 'num_parallel_tree': 1, 'predictor': 'auto', 'random_state': 0, 'reg_alpha': 0.25, 'reg_lambda': 1.25, 'scale_pos_weight': 1, 'subsample': 0.75, 'tree_method': 'gpu_hist', 'validate_parameters': 1, 'verbosity': None, 'lambda': 1.25, 'eta': 0.05, 'alpha': 0.25}\n"
     ]
    }
   ],
   "source": [
    "best_regressor_d = random_search_d.best_estimator_\n",
    "\n",
    "print(best_regressor_d.get_params())"
   ]
  },
  {
   "cell_type": "code",
   "execution_count": 86,
   "metadata": {},
   "outputs": [
    {
     "name": "stdout",
     "output_type": "stream",
     "text": [
      "Pleasure\n",
      "MSE: 0.03\n",
      "MAE: 0.06\n",
      "\n",
      "\n",
      "Arousal\n",
      "MSE: 0.02\n",
      "MAE: 0.05\n",
      "\n",
      "\n",
      "Arousal\n",
      "MSE: 0.04\n",
      "MAE: 0.07\n"
     ]
    }
   ],
   "source": [
    "pred_y_p = best_regressor_p.predict(test_X)\n",
    "mse = mean_squared_error(test_y_p, pred_y_p)\n",
    "mae = mean_absolute_error(test_y_p, pred_y_p)\n",
    "print(\"Pleasure\")\n",
    "print(\"MSE: %.2f\" % mse)\n",
    "print(\"MAE: %.2f\" % mae)\n",
    "\n",
    "pred_y_a = best_regressor_a.predict(test_X)\n",
    "mse = mean_squared_error(test_y_a, pred_y_a)\n",
    "mae = mean_absolute_error(test_y_a, pred_y_a)\n",
    "print(\"\\n\\nArousal\")\n",
    "print(\"MSE: %.2f\" % mse)\n",
    "print(\"MAE: %.2f\" % mae)\n",
    "\n",
    "pred_y_d = best_regressor_d.predict(test_X)\n",
    "mse = mean_squared_error(test_y_d, pred_y_d)\n",
    "mae = mean_absolute_error(test_y_d, pred_y_d)\n",
    "print(\"\\n\\nArousal\")\n",
    "print(\"MSE: %.2f\" % mse)\n",
    "print(\"MAE: %.2f\" % mae)"
   ]
  },
  {
   "cell_type": "markdown",
   "metadata": {},
   "source": [
    "### Predictions"
   ]
  },
  {
   "cell_type": "code",
   "execution_count": 144,
   "metadata": {
    "scrolled": true
   },
   "outputs": [
    {
     "name": "stdout",
     "output_type": "stream",
     "text": [
      "Real: [-0.5 -0.7]\n",
      "Predicted: [-0.542336, -0.690465]\n"
     ]
    }
   ],
   "source": [
    "sample_no = 6\n",
    "row=test_X.iloc[sample_no]\n",
    "\n",
    "x = np.asarray([row])\n",
    "\n",
    "y_p = best_regressor_p.predict(x)\n",
    "y_a = best_regressor_a.predict(x)\n",
    "y_d = best_regressor_d.predict(x)\n",
    "\n",
    "\n",
    "print('Real: %s' % np.asarray(test_y.iloc[sample_no]))\n",
    "print('Predicted: %s' % [y_p[0], y_a[0], y_d[0]])"
   ]
  },
  {
   "cell_type": "markdown",
   "metadata": {},
   "source": [
    "\n"
   ]
  },
  {
   "cell_type": "markdown",
   "metadata": {},
   "source": [
    "\n"
   ]
  },
  {
   "cell_type": "markdown",
   "metadata": {},
   "source": [
    "\n"
   ]
  },
  {
   "cell_type": "markdown",
   "metadata": {},
   "source": [
    "\n"
   ]
  },
  {
   "cell_type": "markdown",
   "metadata": {},
   "source": [
    "\n"
   ]
  },
  {
   "cell_type": "markdown",
   "metadata": {},
   "source": [
    "\n"
   ]
  },
  {
   "cell_type": "markdown",
   "metadata": {},
   "source": [
    "\n"
   ]
  },
  {
   "cell_type": "markdown",
   "metadata": {},
   "source": [
    "\n"
   ]
  },
  {
   "cell_type": "markdown",
   "metadata": {},
   "source": [
    "\n"
   ]
  },
  {
   "cell_type": "markdown",
   "metadata": {},
   "source": [
    "\n"
   ]
  },
  {
   "cell_type": "markdown",
   "metadata": {},
   "source": [
    "\n"
   ]
  },
  {
   "cell_type": "markdown",
   "metadata": {},
   "source": [
    "\n"
   ]
  },
  {
   "cell_type": "markdown",
   "metadata": {},
   "source": [
    "\n"
   ]
  },
  {
   "cell_type": "markdown",
   "metadata": {},
   "source": [
    "\n"
   ]
  },
  {
   "cell_type": "markdown",
   "metadata": {},
   "source": [
    "\n"
   ]
  },
  {
   "cell_type": "markdown",
   "metadata": {},
   "source": [
    "\n"
   ]
  },
  {
   "cell_type": "markdown",
   "metadata": {},
   "source": [
    "\n"
   ]
  },
  {
   "cell_type": "markdown",
   "metadata": {},
   "source": [
    "\n"
   ]
  },
  {
   "cell_type": "markdown",
   "metadata": {},
   "source": [
    "\n"
   ]
  }
 ],
 "metadata": {
  "kernelspec": {
   "display_name": "Python 3",
   "language": "python",
   "name": "python3"
  },
  "language_info": {
   "codemirror_mode": {
    "name": "ipython",
    "version": 3
   },
   "file_extension": ".py",
   "mimetype": "text/x-python",
   "name": "python",
   "nbconvert_exporter": "python",
   "pygments_lexer": "ipython3",
   "version": "3.7.5"
  }
 },
 "nbformat": 4,
 "nbformat_minor": 5
}
