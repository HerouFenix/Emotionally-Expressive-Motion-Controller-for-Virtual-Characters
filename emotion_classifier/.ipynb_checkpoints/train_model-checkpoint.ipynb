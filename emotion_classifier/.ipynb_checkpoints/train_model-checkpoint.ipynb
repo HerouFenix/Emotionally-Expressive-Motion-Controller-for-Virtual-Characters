{
 "cells": [
  {
   "cell_type": "markdown",
   "id": "398667d6",
   "metadata": {},
   "source": [
    "# Neural Network for Regression (LMA features to P,A coordinates)"
   ]
  },
  {
   "cell_type": "markdown",
   "id": "20667cd2",
   "metadata": {},
   "source": [
    "## Imports"
   ]
  },
  {
   "cell_type": "code",
   "execution_count": 91,
   "id": "699d9c3d",
   "metadata": {},
   "outputs": [],
   "source": [
    "import matplotlib.pyplot as plt\n",
    "import numpy as np\n",
    "import pandas as pd\n",
    "import seaborn as sns\n",
    "\n",
    "import tensorflow as tf\n",
    "\n",
    "from tensorflow import keras\n",
    "from tensorflow.keras import layers\n",
    "\n",
    "from sklearn.model_selection import RepeatedKFold"
   ]
  },
  {
   "cell_type": "markdown",
   "id": "4d526447",
   "metadata": {},
   "source": [
    "## Load Data"
   ]
  },
  {
   "cell_type": "code",
   "execution_count": 116,
   "id": "64866215",
   "metadata": {},
   "outputs": [],
   "source": [
    "#dataset = pd.read_csv('datasets/pa/REDUCED_LMA_DATA.csv')\n",
    "dataset = pd.read_csv('datasets/pa/mREDUCED_LMA_DATA.csv')\n",
    "#dataset = pd.read_csv('datasets/pa/LMA_DATA.csv')"
   ]
  },
  {
   "cell_type": "markdown",
   "id": "69450aad",
   "metadata": {},
   "source": [
    "### Split into Test and Train data"
   ]
  },
  {
   "cell_type": "code",
   "execution_count": 117,
   "id": "e957a716",
   "metadata": {},
   "outputs": [
    {
     "name": "stdout",
     "output_type": "stream",
     "text": [
      "No Training Samples: 34431\n",
      "No Test Samples: 8608\n"
     ]
    }
   ],
   "source": [
    "train_dataset = dataset.sample(frac=0.8, random_state=42)\n",
    "test_dataset = dataset.drop(train_dataset.index)\n",
    "\n",
    "print(\"No Training Samples:\",train_dataset.shape[0])\n",
    "print(\"No Test Samples:\",test_dataset.shape[0])"
   ]
  },
  {
   "cell_type": "markdown",
   "id": "1f93dc8f",
   "metadata": {},
   "source": [
    "### Split Features from Targets"
   ]
  },
  {
   "cell_type": "code",
   "execution_count": 118,
   "id": "165e2977",
   "metadata": {},
   "outputs": [],
   "source": [
    "train_X = train_dataset.copy()\n",
    "test_X = test_dataset.copy()\n",
    "\n",
    "train_y = pd.concat([train_X.pop(x) for x in ['EMOTION_P', 'EMOTION_A']], axis=1)\n",
    "test_y = pd.concat([test_X.pop(x) for x in ['EMOTION_P', 'EMOTION_A']], axis=1)"
   ]
  },
  {
   "cell_type": "code",
   "execution_count": 119,
   "id": "1261ea66",
   "metadata": {},
   "outputs": [
    {
     "data": {
      "text/html": [
       "<div>\n",
       "<style scoped>\n",
       "    .dataframe tbody tr th:only-of-type {\n",
       "        vertical-align: middle;\n",
       "    }\n",
       "\n",
       "    .dataframe tbody tr th {\n",
       "        vertical-align: top;\n",
       "    }\n",
       "\n",
       "    .dataframe thead th {\n",
       "        text-align: right;\n",
       "    }\n",
       "</style>\n",
       "<table border=\"1\" class=\"dataframe\">\n",
       "  <thead>\n",
       "    <tr style=\"text-align: right;\">\n",
       "      <th></th>\n",
       "      <th>avg_hand_distance</th>\n",
       "      <th>avg_l_hand_hip_distance</th>\n",
       "      <th>avg_r_hand_hip_distance</th>\n",
       "      <th>avg_feet_distance</th>\n",
       "      <th>avg_l_hand_chest_distance</th>\n",
       "      <th>avg_r_hand_chest_distance</th>\n",
       "      <th>avg_l_elbow_hip_distance</th>\n",
       "      <th>avg_r_elbow_hip_distance</th>\n",
       "      <th>avg_chest_pelvis_distance</th>\n",
       "      <th>avg_neck_chest_distance</th>\n",
       "      <th>...</th>\n",
       "      <th>avg_pelvis_velocity_y</th>\n",
       "      <th>avg_pelvis_velocity_z</th>\n",
       "      <th>avg_l_foot_velocity_x</th>\n",
       "      <th>avg_l_foot_velocity_y</th>\n",
       "      <th>avg_l_foot_velocity_z</th>\n",
       "      <th>avg_r_foot_velocity_x</th>\n",
       "      <th>avg_r_foot_velocity_y</th>\n",
       "      <th>avg_r_foot_velocity_z</th>\n",
       "      <th>avg_upper_body_volume</th>\n",
       "      <th>avg_distance_traveled</th>\n",
       "    </tr>\n",
       "  </thead>\n",
       "  <tbody>\n",
       "    <tr>\n",
       "      <th>22896</th>\n",
       "      <td>0.452658</td>\n",
       "      <td>0.298275</td>\n",
       "      <td>0.226042</td>\n",
       "      <td>0.402575</td>\n",
       "      <td>0.482892</td>\n",
       "      <td>0.433468</td>\n",
       "      <td>0.358272</td>\n",
       "      <td>0.341339</td>\n",
       "      <td>0.286151</td>\n",
       "      <td>0.278712</td>\n",
       "      <td>...</td>\n",
       "      <td>0.008566</td>\n",
       "      <td>-0.496955</td>\n",
       "      <td>-0.137786</td>\n",
       "      <td>-0.246960</td>\n",
       "      <td>-0.005764</td>\n",
       "      <td>-0.137786</td>\n",
       "      <td>-0.246960</td>\n",
       "      <td>-0.005764</td>\n",
       "      <td>0.033080</td>\n",
       "      <td>3.175283e-03</td>\n",
       "    </tr>\n",
       "    <tr>\n",
       "      <th>2705</th>\n",
       "      <td>0.794351</td>\n",
       "      <td>0.402150</td>\n",
       "      <td>0.407515</td>\n",
       "      <td>0.054047</td>\n",
       "      <td>0.533041</td>\n",
       "      <td>0.539945</td>\n",
       "      <td>0.403083</td>\n",
       "      <td>0.415230</td>\n",
       "      <td>0.286151</td>\n",
       "      <td>0.278891</td>\n",
       "      <td>...</td>\n",
       "      <td>0.000286</td>\n",
       "      <td>-0.028804</td>\n",
       "      <td>0.006824</td>\n",
       "      <td>0.023544</td>\n",
       "      <td>0.026338</td>\n",
       "      <td>0.006824</td>\n",
       "      <td>0.023544</td>\n",
       "      <td>0.026338</td>\n",
       "      <td>0.039621</td>\n",
       "      <td>3.059250e-04</td>\n",
       "    </tr>\n",
       "    <tr>\n",
       "      <th>14948</th>\n",
       "      <td>0.291677</td>\n",
       "      <td>0.485038</td>\n",
       "      <td>0.476170</td>\n",
       "      <td>0.273699</td>\n",
       "      <td>0.435527</td>\n",
       "      <td>0.433559</td>\n",
       "      <td>0.325944</td>\n",
       "      <td>0.327853</td>\n",
       "      <td>0.286151</td>\n",
       "      <td>0.278818</td>\n",
       "      <td>...</td>\n",
       "      <td>-0.011575</td>\n",
       "      <td>0.002673</td>\n",
       "      <td>-0.000749</td>\n",
       "      <td>-0.004933</td>\n",
       "      <td>-0.028759</td>\n",
       "      <td>-0.000749</td>\n",
       "      <td>-0.004933</td>\n",
       "      <td>-0.028759</td>\n",
       "      <td>0.026427</td>\n",
       "      <td>3.528601e-04</td>\n",
       "    </tr>\n",
       "    <tr>\n",
       "      <th>18874</th>\n",
       "      <td>0.191714</td>\n",
       "      <td>0.525077</td>\n",
       "      <td>0.621541</td>\n",
       "      <td>0.728443</td>\n",
       "      <td>0.387479</td>\n",
       "      <td>0.519277</td>\n",
       "      <td>0.264028</td>\n",
       "      <td>0.407357</td>\n",
       "      <td>0.286151</td>\n",
       "      <td>0.259945</td>\n",
       "      <td>...</td>\n",
       "      <td>-0.113641</td>\n",
       "      <td>-0.133687</td>\n",
       "      <td>1.118940</td>\n",
       "      <td>1.003317</td>\n",
       "      <td>0.437250</td>\n",
       "      <td>0.662039</td>\n",
       "      <td>0.910888</td>\n",
       "      <td>-0.030076</td>\n",
       "      <td>0.013752</td>\n",
       "      <td>2.807512e-03</td>\n",
       "    </tr>\n",
       "    <tr>\n",
       "      <th>17647</th>\n",
       "      <td>0.505880</td>\n",
       "      <td>0.286179</td>\n",
       "      <td>0.272671</td>\n",
       "      <td>0.258159</td>\n",
       "      <td>0.480997</td>\n",
       "      <td>0.472121</td>\n",
       "      <td>0.361563</td>\n",
       "      <td>0.354857</td>\n",
       "      <td>0.286151</td>\n",
       "      <td>0.278562</td>\n",
       "      <td>...</td>\n",
       "      <td>-0.000005</td>\n",
       "      <td>-0.000089</td>\n",
       "      <td>0.000005</td>\n",
       "      <td>0.000029</td>\n",
       "      <td>0.000052</td>\n",
       "      <td>0.000005</td>\n",
       "      <td>0.000029</td>\n",
       "      <td>0.000052</td>\n",
       "      <td>0.031451</td>\n",
       "      <td>1.951425e-11</td>\n",
       "    </tr>\n",
       "  </tbody>\n",
       "</table>\n",
       "<p>5 rows × 33 columns</p>\n",
       "</div>"
      ],
      "text/plain": [
       "       avg_hand_distance  avg_l_hand_hip_distance  avg_r_hand_hip_distance  \\\n",
       "22896           0.452658                 0.298275                 0.226042   \n",
       "2705            0.794351                 0.402150                 0.407515   \n",
       "14948           0.291677                 0.485038                 0.476170   \n",
       "18874           0.191714                 0.525077                 0.621541   \n",
       "17647           0.505880                 0.286179                 0.272671   \n",
       "\n",
       "       avg_feet_distance  avg_l_hand_chest_distance  \\\n",
       "22896           0.402575                   0.482892   \n",
       "2705            0.054047                   0.533041   \n",
       "14948           0.273699                   0.435527   \n",
       "18874           0.728443                   0.387479   \n",
       "17647           0.258159                   0.480997   \n",
       "\n",
       "       avg_r_hand_chest_distance  avg_l_elbow_hip_distance  \\\n",
       "22896                   0.433468                  0.358272   \n",
       "2705                    0.539945                  0.403083   \n",
       "14948                   0.433559                  0.325944   \n",
       "18874                   0.519277                  0.264028   \n",
       "17647                   0.472121                  0.361563   \n",
       "\n",
       "       avg_r_elbow_hip_distance  avg_chest_pelvis_distance  \\\n",
       "22896                  0.341339                   0.286151   \n",
       "2705                   0.415230                   0.286151   \n",
       "14948                  0.327853                   0.286151   \n",
       "18874                  0.407357                   0.286151   \n",
       "17647                  0.354857                   0.286151   \n",
       "\n",
       "       avg_neck_chest_distance  ...  avg_pelvis_velocity_y  \\\n",
       "22896                 0.278712  ...               0.008566   \n",
       "2705                  0.278891  ...               0.000286   \n",
       "14948                 0.278818  ...              -0.011575   \n",
       "18874                 0.259945  ...              -0.113641   \n",
       "17647                 0.278562  ...              -0.000005   \n",
       "\n",
       "       avg_pelvis_velocity_z  avg_l_foot_velocity_x  avg_l_foot_velocity_y  \\\n",
       "22896              -0.496955              -0.137786              -0.246960   \n",
       "2705               -0.028804               0.006824               0.023544   \n",
       "14948               0.002673              -0.000749              -0.004933   \n",
       "18874              -0.133687               1.118940               1.003317   \n",
       "17647              -0.000089               0.000005               0.000029   \n",
       "\n",
       "       avg_l_foot_velocity_z  avg_r_foot_velocity_x  avg_r_foot_velocity_y  \\\n",
       "22896              -0.005764              -0.137786              -0.246960   \n",
       "2705                0.026338               0.006824               0.023544   \n",
       "14948              -0.028759              -0.000749              -0.004933   \n",
       "18874               0.437250               0.662039               0.910888   \n",
       "17647               0.000052               0.000005               0.000029   \n",
       "\n",
       "       avg_r_foot_velocity_z  avg_upper_body_volume  avg_distance_traveled  \n",
       "22896              -0.005764               0.033080           3.175283e-03  \n",
       "2705                0.026338               0.039621           3.059250e-04  \n",
       "14948              -0.028759               0.026427           3.528601e-04  \n",
       "18874              -0.030076               0.013752           2.807512e-03  \n",
       "17647               0.000052               0.031451           1.951425e-11  \n",
       "\n",
       "[5 rows x 33 columns]"
      ]
     },
     "execution_count": 119,
     "metadata": {},
     "output_type": "execute_result"
    }
   ],
   "source": [
    "train_X.head()"
   ]
  },
  {
   "cell_type": "code",
   "execution_count": 120,
   "id": "5913af69",
   "metadata": {},
   "outputs": [
    {
     "data": {
      "text/html": [
       "<div>\n",
       "<style scoped>\n",
       "    .dataframe tbody tr th:only-of-type {\n",
       "        vertical-align: middle;\n",
       "    }\n",
       "\n",
       "    .dataframe tbody tr th {\n",
       "        vertical-align: top;\n",
       "    }\n",
       "\n",
       "    .dataframe thead th {\n",
       "        text-align: right;\n",
       "    }\n",
       "</style>\n",
       "<table border=\"1\" class=\"dataframe\">\n",
       "  <thead>\n",
       "    <tr style=\"text-align: right;\">\n",
       "      <th></th>\n",
       "      <th>EMOTION_P</th>\n",
       "      <th>EMOTION_A</th>\n",
       "    </tr>\n",
       "  </thead>\n",
       "  <tbody>\n",
       "    <tr>\n",
       "      <th>22896</th>\n",
       "      <td>-0.5</td>\n",
       "      <td>0.6</td>\n",
       "    </tr>\n",
       "    <tr>\n",
       "      <th>2705</th>\n",
       "      <td>0.0</td>\n",
       "      <td>0.0</td>\n",
       "    </tr>\n",
       "    <tr>\n",
       "      <th>14948</th>\n",
       "      <td>-0.7</td>\n",
       "      <td>-0.3</td>\n",
       "    </tr>\n",
       "    <tr>\n",
       "      <th>18874</th>\n",
       "      <td>-0.5</td>\n",
       "      <td>0.6</td>\n",
       "    </tr>\n",
       "    <tr>\n",
       "      <th>17647</th>\n",
       "      <td>-0.5</td>\n",
       "      <td>0.6</td>\n",
       "    </tr>\n",
       "  </tbody>\n",
       "</table>\n",
       "</div>"
      ],
      "text/plain": [
       "       EMOTION_P  EMOTION_A\n",
       "22896       -0.5        0.6\n",
       "2705         0.0        0.0\n",
       "14948       -0.7       -0.3\n",
       "18874       -0.5        0.6\n",
       "17647       -0.5        0.6"
      ]
     },
     "execution_count": 120,
     "metadata": {},
     "output_type": "execute_result"
    }
   ],
   "source": [
    "train_y.head()"
   ]
  },
  {
   "cell_type": "code",
   "execution_count": 121,
   "id": "3d61825d",
   "metadata": {
    "scrolled": true
   },
   "outputs": [
    {
     "data": {
      "text/html": [
       "<div>\n",
       "<style scoped>\n",
       "    .dataframe tbody tr th:only-of-type {\n",
       "        vertical-align: middle;\n",
       "    }\n",
       "\n",
       "    .dataframe tbody tr th {\n",
       "        vertical-align: top;\n",
       "    }\n",
       "\n",
       "    .dataframe thead th {\n",
       "        text-align: right;\n",
       "    }\n",
       "</style>\n",
       "<table border=\"1\" class=\"dataframe\">\n",
       "  <thead>\n",
       "    <tr style=\"text-align: right;\">\n",
       "      <th></th>\n",
       "      <th>mean</th>\n",
       "      <th>std</th>\n",
       "    </tr>\n",
       "  </thead>\n",
       "  <tbody>\n",
       "    <tr>\n",
       "      <th>avg_hand_distance</th>\n",
       "      <td>0.505123</td>\n",
       "      <td>2.448359e-01</td>\n",
       "    </tr>\n",
       "    <tr>\n",
       "      <th>avg_l_hand_hip_distance</th>\n",
       "      <td>0.352292</td>\n",
       "      <td>1.495517e-01</td>\n",
       "    </tr>\n",
       "    <tr>\n",
       "      <th>avg_r_hand_hip_distance</th>\n",
       "      <td>0.371865</td>\n",
       "      <td>1.618859e-01</td>\n",
       "    </tr>\n",
       "    <tr>\n",
       "      <th>avg_feet_distance</th>\n",
       "      <td>0.317172</td>\n",
       "      <td>1.420898e-01</td>\n",
       "    </tr>\n",
       "    <tr>\n",
       "      <th>avg_l_hand_chest_distance</th>\n",
       "      <td>0.420628</td>\n",
       "      <td>1.142528e-01</td>\n",
       "    </tr>\n",
       "    <tr>\n",
       "      <th>avg_r_hand_chest_distance</th>\n",
       "      <td>0.424687</td>\n",
       "      <td>1.149690e-01</td>\n",
       "    </tr>\n",
       "    <tr>\n",
       "      <th>avg_l_elbow_hip_distance</th>\n",
       "      <td>0.334932</td>\n",
       "      <td>7.721185e-02</td>\n",
       "    </tr>\n",
       "    <tr>\n",
       "      <th>avg_r_elbow_hip_distance</th>\n",
       "      <td>0.342645</td>\n",
       "      <td>7.875053e-02</td>\n",
       "    </tr>\n",
       "    <tr>\n",
       "      <th>avg_chest_pelvis_distance</th>\n",
       "      <td>0.286151</td>\n",
       "      <td>5.208166e-10</td>\n",
       "    </tr>\n",
       "    <tr>\n",
       "      <th>avg_neck_chest_distance</th>\n",
       "      <td>0.277814</td>\n",
       "      <td>2.755199e-03</td>\n",
       "    </tr>\n",
       "    <tr>\n",
       "      <th>avg_neck_rotation_w</th>\n",
       "      <td>-0.000954</td>\n",
       "      <td>8.979723e-02</td>\n",
       "    </tr>\n",
       "    <tr>\n",
       "      <th>avg_neck_rotation_x</th>\n",
       "      <td>-0.082642</td>\n",
       "      <td>2.438488e-01</td>\n",
       "    </tr>\n",
       "    <tr>\n",
       "      <th>avg_neck_rotation_y</th>\n",
       "      <td>-0.080659</td>\n",
       "      <td>1.321435e-01</td>\n",
       "    </tr>\n",
       "    <tr>\n",
       "      <th>avg_neck_rotation_z</th>\n",
       "      <td>0.928811</td>\n",
       "      <td>1.818986e-01</td>\n",
       "    </tr>\n",
       "    <tr>\n",
       "      <th>avg_pelvis_rotation_w</th>\n",
       "      <td>-0.005919</td>\n",
       "      <td>6.914206e-02</td>\n",
       "    </tr>\n",
       "    <tr>\n",
       "      <th>avg_pelvis_rotation_x</th>\n",
       "      <td>-0.082912</td>\n",
       "      <td>2.468980e-01</td>\n",
       "    </tr>\n",
       "    <tr>\n",
       "      <th>avg_pelvis_rotation_y</th>\n",
       "      <td>-0.065426</td>\n",
       "      <td>1.105566e-01</td>\n",
       "    </tr>\n",
       "    <tr>\n",
       "      <th>avg_pelvis_rotation_z</th>\n",
       "      <td>0.934824</td>\n",
       "      <td>1.781377e-01</td>\n",
       "    </tr>\n",
       "    <tr>\n",
       "      <th>std_l_hand_position</th>\n",
       "      <td>1.055124</td>\n",
       "      <td>1.063521e+00</td>\n",
       "    </tr>\n",
       "    <tr>\n",
       "      <th>std_r_hand_position</th>\n",
       "      <td>1.103322</td>\n",
       "      <td>1.094510e+00</td>\n",
       "    </tr>\n",
       "    <tr>\n",
       "      <th>avg_l_forearm_velocity</th>\n",
       "      <td>0.043901</td>\n",
       "      <td>1.635874e+00</td>\n",
       "    </tr>\n",
       "    <tr>\n",
       "      <th>avg_r_forearm_velocity</th>\n",
       "      <td>0.042576</td>\n",
       "      <td>1.674321e+00</td>\n",
       "    </tr>\n",
       "    <tr>\n",
       "      <th>avg_pelvis_velocity_x</th>\n",
       "      <td>0.008046</td>\n",
       "      <td>3.799684e-01</td>\n",
       "    </tr>\n",
       "    <tr>\n",
       "      <th>avg_pelvis_velocity_y</th>\n",
       "      <td>-0.002071</td>\n",
       "      <td>2.750264e-01</td>\n",
       "    </tr>\n",
       "    <tr>\n",
       "      <th>avg_pelvis_velocity_z</th>\n",
       "      <td>0.005437</td>\n",
       "      <td>3.619312e-01</td>\n",
       "    </tr>\n",
       "    <tr>\n",
       "      <th>avg_l_foot_velocity_x</th>\n",
       "      <td>0.005583</td>\n",
       "      <td>6.643059e-01</td>\n",
       "    </tr>\n",
       "    <tr>\n",
       "      <th>avg_l_foot_velocity_y</th>\n",
       "      <td>0.000652</td>\n",
       "      <td>7.850404e-01</td>\n",
       "    </tr>\n",
       "    <tr>\n",
       "      <th>avg_l_foot_velocity_z</th>\n",
       "      <td>-0.006077</td>\n",
       "      <td>8.405936e-01</td>\n",
       "    </tr>\n",
       "    <tr>\n",
       "      <th>avg_r_foot_velocity_x</th>\n",
       "      <td>-0.001669</td>\n",
       "      <td>5.958518e-01</td>\n",
       "    </tr>\n",
       "    <tr>\n",
       "      <th>avg_r_foot_velocity_y</th>\n",
       "      <td>-0.007693</td>\n",
       "      <td>7.923181e-01</td>\n",
       "    </tr>\n",
       "    <tr>\n",
       "      <th>avg_r_foot_velocity_z</th>\n",
       "      <td>0.000807</td>\n",
       "      <td>8.437560e-01</td>\n",
       "    </tr>\n",
       "    <tr>\n",
       "      <th>avg_upper_body_volume</th>\n",
       "      <td>0.035873</td>\n",
       "      <td>1.120582e-02</td>\n",
       "    </tr>\n",
       "    <tr>\n",
       "      <th>avg_distance_traveled</th>\n",
       "      <td>0.003182</td>\n",
       "      <td>3.715307e-03</td>\n",
       "    </tr>\n",
       "  </tbody>\n",
       "</table>\n",
       "</div>"
      ],
      "text/plain": [
       "                               mean           std\n",
       "avg_hand_distance          0.505123  2.448359e-01\n",
       "avg_l_hand_hip_distance    0.352292  1.495517e-01\n",
       "avg_r_hand_hip_distance    0.371865  1.618859e-01\n",
       "avg_feet_distance          0.317172  1.420898e-01\n",
       "avg_l_hand_chest_distance  0.420628  1.142528e-01\n",
       "avg_r_hand_chest_distance  0.424687  1.149690e-01\n",
       "avg_l_elbow_hip_distance   0.334932  7.721185e-02\n",
       "avg_r_elbow_hip_distance   0.342645  7.875053e-02\n",
       "avg_chest_pelvis_distance  0.286151  5.208166e-10\n",
       "avg_neck_chest_distance    0.277814  2.755199e-03\n",
       "avg_neck_rotation_w       -0.000954  8.979723e-02\n",
       "avg_neck_rotation_x       -0.082642  2.438488e-01\n",
       "avg_neck_rotation_y       -0.080659  1.321435e-01\n",
       "avg_neck_rotation_z        0.928811  1.818986e-01\n",
       "avg_pelvis_rotation_w     -0.005919  6.914206e-02\n",
       "avg_pelvis_rotation_x     -0.082912  2.468980e-01\n",
       "avg_pelvis_rotation_y     -0.065426  1.105566e-01\n",
       "avg_pelvis_rotation_z      0.934824  1.781377e-01\n",
       "std_l_hand_position        1.055124  1.063521e+00\n",
       "std_r_hand_position        1.103322  1.094510e+00\n",
       "avg_l_forearm_velocity     0.043901  1.635874e+00\n",
       "avg_r_forearm_velocity     0.042576  1.674321e+00\n",
       "avg_pelvis_velocity_x      0.008046  3.799684e-01\n",
       "avg_pelvis_velocity_y     -0.002071  2.750264e-01\n",
       "avg_pelvis_velocity_z      0.005437  3.619312e-01\n",
       "avg_l_foot_velocity_x      0.005583  6.643059e-01\n",
       "avg_l_foot_velocity_y      0.000652  7.850404e-01\n",
       "avg_l_foot_velocity_z     -0.006077  8.405936e-01\n",
       "avg_r_foot_velocity_x     -0.001669  5.958518e-01\n",
       "avg_r_foot_velocity_y     -0.007693  7.923181e-01\n",
       "avg_r_foot_velocity_z      0.000807  8.437560e-01\n",
       "avg_upper_body_volume      0.035873  1.120582e-02\n",
       "avg_distance_traveled      0.003182  3.715307e-03"
      ]
     },
     "execution_count": 121,
     "metadata": {},
     "output_type": "execute_result"
    }
   ],
   "source": [
    "train_X.describe().transpose()[['mean', 'std']]"
   ]
  },
  {
   "cell_type": "markdown",
   "id": "9012cc9c",
   "metadata": {},
   "source": [
    "### Normalize Data"
   ]
  },
  {
   "cell_type": "code",
   "execution_count": 122,
   "id": "21708feb",
   "metadata": {},
   "outputs": [],
   "source": [
    "normalizer = tf.keras.layers.Normalization(axis=-1)\n",
    "normalizer.adapt(np.array(train_X))"
   ]
  },
  {
   "cell_type": "code",
   "execution_count": 123,
   "id": "f743ea33",
   "metadata": {},
   "outputs": [
    {
     "name": "stdout",
     "output_type": "stream",
     "text": [
      "[[ 5.0512367e-01  3.5229164e-01  3.7186497e-01  3.1717220e-01\n",
      "   4.2062789e-01  4.2468670e-01  3.3493170e-01  3.4264514e-01\n",
      "   2.8615096e-01  2.7781421e-01 -9.5382432e-04 -8.2641810e-02\n",
      "  -8.0658756e-02  9.2881119e-01 -5.9187892e-03 -8.2912028e-02\n",
      "  -6.5426044e-02  9.3482369e-01  1.0551236e+00  1.1033231e+00\n",
      "   4.3901272e-02  4.2575642e-02  8.0459872e-03 -2.0709797e-03\n",
      "   5.4371860e-03  5.5834306e-03  6.5247418e-04 -6.0773785e-03\n",
      "  -1.6685678e-03 -7.6932982e-03  8.0709625e-04  3.5872940e-02\n",
      "   3.1821316e-03]]\n"
     ]
    }
   ],
   "source": [
    "print(normalizer.mean.numpy())"
   ]
  },
  {
   "cell_type": "code",
   "execution_count": 124,
   "id": "c63496fa",
   "metadata": {},
   "outputs": [
    {
     "name": "stdout",
     "output_type": "stream",
     "text": [
      "First example: [[ 0.45  0.3   0.23  0.4   0.48  0.43  0.36  0.34  0.29  0.28 -0.01 -0.17\n",
      "  -0.01  0.98 -0.02 -0.17  0.02  0.98  0.8   1.01 -1.14  0.4  -0.02  0.01\n",
      "  -0.5  -0.14 -0.25 -0.01 -0.14 -0.25 -0.01  0.03  0.  ]]\n",
      "\n",
      "Normalized: [[-0.21 -0.36 -0.9   0.6   0.54  0.08  0.3  -0.02  0.11  0.33 -0.11 -0.37\n",
      "   0.51  0.31 -0.17 -0.36  0.81  0.28 -0.24 -0.08 -0.72  0.21 -0.07  0.04\n",
      "  -1.39 -0.22 -0.32  0.   -0.23 -0.3  -0.01 -0.25 -0.  ]]\n"
     ]
    }
   ],
   "source": [
    "first = np.array(train_X[:1])\n",
    "\n",
    "with np.printoptions(precision=2, suppress=True):\n",
    "  print('First example:', first)\n",
    "  print()\n",
    "  print('Normalized:', normalizer(first).numpy())"
   ]
  },
  {
   "cell_type": "markdown",
   "id": "30976897",
   "metadata": {},
   "source": [
    "## Create Model"
   ]
  },
  {
   "cell_type": "markdown",
   "id": "4d6c57df",
   "metadata": {},
   "source": [
    "### Define Model Layers"
   ]
  },
  {
   "cell_type": "code",
   "execution_count": 125,
   "id": "151dcfd5",
   "metadata": {},
   "outputs": [],
   "source": [
    "# \"Usually it's a good practice to apply following formula in order to find out the total number of hidden layers needed.\" - https://stackoverflow.com/questions/49008074/how-to-create-a-neural-network-for-regression\n",
    "\n",
    "# Nh = Ns/(α∗ (Ni + No))\n",
    "# where:\n",
    "#      Ni = number of input neurons.\n",
    "#      No = number of output neurons.\n",
    "#      Ns = number of samples in training data set.\n",
    "#      α = an arbitrary scaling factor usually 2-10.\n",
    " \n",
    "# Nh = 34431 / (5 * (29 + 2)) +-= 230\n",
    "\n",
    "def build_and_compile_model(norm):\n",
    "    model = keras.Sequential([\n",
    "                norm,\n",
    "        \n",
    "                layers.Dense(64, activation='relu'),\n",
    "                layers.Dense(128, activation='relu'),\n",
    "                layers.Dense(64, activation='relu'),\n",
    "        \n",
    "                layers.Dense(2)\n",
    "            ])\n",
    "\n",
    "    \n",
    "    model.compile(loss='mean_absolute_error',optimizer=tf.keras.optimizers.Adam(0.001)) # Using MAE\n",
    "    #model.compile(loss='mean_squared_error', optimizer='adam') # Using MSE\n",
    "    \n",
    "    return model"
   ]
  },
  {
   "cell_type": "markdown",
   "id": "3debe9e5",
   "metadata": {},
   "source": [
    "### Build Model"
   ]
  },
  {
   "cell_type": "code",
   "execution_count": 126,
   "id": "53835284",
   "metadata": {},
   "outputs": [
    {
     "name": "stdout",
     "output_type": "stream",
     "text": [
      "Model: \"sequential_3\"\n",
      "_________________________________________________________________\n",
      " Layer (type)                Output Shape              Param #   \n",
      "=================================================================\n",
      " normalization_3 (Normalizat  (None, 33)               67        \n",
      " ion)                                                            \n",
      "                                                                 \n",
      " dense_12 (Dense)            (None, 64)                2176      \n",
      "                                                                 \n",
      " dense_13 (Dense)            (None, 128)               8320      \n",
      "                                                                 \n",
      " dense_14 (Dense)            (None, 128)               16512     \n",
      "                                                                 \n",
      " dense_15 (Dense)            (None, 32)                4128      \n",
      "                                                                 \n",
      " dense_16 (Dense)            (None, 2)                 66        \n",
      "                                                                 \n",
      "=================================================================\n",
      "Total params: 31,269\n",
      "Trainable params: 31,202\n",
      "Non-trainable params: 67\n",
      "_________________________________________________________________\n"
     ]
    }
   ],
   "source": [
    "model = build_and_compile_model(normalizer)\n",
    "model.summary()"
   ]
  },
  {
   "cell_type": "markdown",
   "id": "d627a058",
   "metadata": {},
   "source": [
    "## Train Model"
   ]
  },
  {
   "cell_type": "code",
   "execution_count": 127,
   "id": "5d02cdf4",
   "metadata": {
    "scrolled": true
   },
   "outputs": [
    {
     "name": "stdout",
     "output_type": "stream",
     "text": [
      "Epoch 1/128\n",
      "861/861 - 1s - loss: 0.1586 - val_loss: 0.1461 - 1s/epoch - 2ms/step\n",
      "Epoch 2/128\n",
      "861/861 - 1s - loss: 0.1396 - val_loss: 0.1407 - 906ms/epoch - 1ms/step\n",
      "Epoch 3/128\n",
      "861/861 - 1s - loss: 0.1305 - val_loss: 0.1326 - 891ms/epoch - 1ms/step\n",
      "Epoch 4/128\n",
      "861/861 - 1s - loss: 0.1223 - val_loss: 0.1331 - 890ms/epoch - 1ms/step\n",
      "Epoch 5/128\n",
      "861/861 - 1s - loss: 0.1159 - val_loss: 0.1263 - 888ms/epoch - 1ms/step\n",
      "Epoch 6/128\n",
      "861/861 - 1s - loss: 0.1098 - val_loss: 0.1248 - 889ms/epoch - 1ms/step\n",
      "Epoch 7/128\n",
      "861/861 - 1s - loss: 0.1049 - val_loss: 0.1210 - 888ms/epoch - 1ms/step\n",
      "Epoch 8/128\n",
      "861/861 - 1s - loss: 0.0995 - val_loss: 0.1180 - 891ms/epoch - 1ms/step\n",
      "Epoch 9/128\n",
      "861/861 - 1s - loss: 0.0954 - val_loss: 0.1240 - 891ms/epoch - 1ms/step\n",
      "Epoch 10/128\n",
      "861/861 - 1s - loss: 0.0917 - val_loss: 0.1162 - 889ms/epoch - 1ms/step\n",
      "Epoch 11/128\n",
      "861/861 - 1s - loss: 0.0872 - val_loss: 0.1185 - 887ms/epoch - 1ms/step\n",
      "Epoch 12/128\n",
      "861/861 - 1s - loss: 0.0844 - val_loss: 0.1177 - 897ms/epoch - 1ms/step\n",
      "Epoch 13/128\n",
      "861/861 - 1s - loss: 0.0807 - val_loss: 0.1166 - 922ms/epoch - 1ms/step\n",
      "Epoch 14/128\n",
      "861/861 - 1s - loss: 0.0781 - val_loss: 0.1193 - 891ms/epoch - 1ms/step\n",
      "Epoch 15/128\n",
      "861/861 - 1s - loss: 0.0754 - val_loss: 0.1143 - 911ms/epoch - 1ms/step\n",
      "Epoch 16/128\n",
      "861/861 - 1s - loss: 0.0728 - val_loss: 0.1157 - 950ms/epoch - 1ms/step\n",
      "Epoch 17/128\n",
      "861/861 - 1s - loss: 0.0700 - val_loss: 0.1166 - 902ms/epoch - 1ms/step\n",
      "Epoch 18/128\n",
      "861/861 - 1s - loss: 0.0676 - val_loss: 0.1155 - 895ms/epoch - 1ms/step\n",
      "Epoch 19/128\n",
      "861/861 - 1s - loss: 0.0664 - val_loss: 0.1150 - 918ms/epoch - 1ms/step\n",
      "Epoch 20/128\n",
      "861/861 - 1s - loss: 0.0639 - val_loss: 0.1131 - 910ms/epoch - 1ms/step\n",
      "Epoch 21/128\n",
      "861/861 - 1s - loss: 0.0627 - val_loss: 0.1164 - 931ms/epoch - 1ms/step\n",
      "Epoch 22/128\n",
      "861/861 - 1s - loss: 0.0606 - val_loss: 0.1163 - 963ms/epoch - 1ms/step\n",
      "Epoch 23/128\n",
      "861/861 - 1s - loss: 0.0591 - val_loss: 0.1152 - 955ms/epoch - 1ms/step\n",
      "Epoch 24/128\n",
      "861/861 - 1s - loss: 0.0577 - val_loss: 0.1172 - 936ms/epoch - 1ms/step\n",
      "Epoch 25/128\n",
      "861/861 - 1s - loss: 0.0561 - val_loss: 0.1156 - 936ms/epoch - 1ms/step\n",
      "Epoch 26/128\n",
      "861/861 - 1s - loss: 0.0555 - val_loss: 0.1129 - 896ms/epoch - 1ms/step\n",
      "Epoch 27/128\n",
      "861/861 - 1s - loss: 0.0537 - val_loss: 0.1134 - 886ms/epoch - 1ms/step\n",
      "Epoch 28/128\n",
      "861/861 - 1s - loss: 0.0524 - val_loss: 0.1131 - 894ms/epoch - 1ms/step\n",
      "Epoch 29/128\n",
      "861/861 - 1s - loss: 0.0513 - val_loss: 0.1150 - 893ms/epoch - 1ms/step\n",
      "Epoch 30/128\n",
      "861/861 - 1s - loss: 0.0508 - val_loss: 0.1150 - 887ms/epoch - 1ms/step\n",
      "Epoch 31/128\n",
      "861/861 - 1s - loss: 0.0491 - val_loss: 0.1137 - 885ms/epoch - 1ms/step\n",
      "Epoch 32/128\n",
      "861/861 - 1s - loss: 0.0480 - val_loss: 0.1158 - 891ms/epoch - 1ms/step\n",
      "Epoch 33/128\n",
      "861/861 - 1s - loss: 0.0472 - val_loss: 0.1156 - 891ms/epoch - 1ms/step\n",
      "Epoch 34/128\n",
      "861/861 - 1s - loss: 0.0466 - val_loss: 0.1158 - 891ms/epoch - 1ms/step\n",
      "Epoch 35/128\n",
      "861/861 - 1s - loss: 0.0454 - val_loss: 0.1146 - 883ms/epoch - 1ms/step\n",
      "Epoch 36/128\n",
      "861/861 - 1s - loss: 0.0447 - val_loss: 0.1144 - 892ms/epoch - 1ms/step\n",
      "Epoch 37/128\n",
      "861/861 - 1s - loss: 0.0444 - val_loss: 0.1166 - 893ms/epoch - 1ms/step\n",
      "Epoch 38/128\n",
      "861/861 - 1s - loss: 0.0439 - val_loss: 0.1145 - 887ms/epoch - 1ms/step\n",
      "Epoch 39/128\n",
      "861/861 - 1s - loss: 0.0423 - val_loss: 0.1174 - 893ms/epoch - 1ms/step\n",
      "Epoch 40/128\n",
      "861/861 - 1s - loss: 0.0419 - val_loss: 0.1167 - 885ms/epoch - 1ms/step\n",
      "Epoch 41/128\n",
      "861/861 - 1s - loss: 0.0416 - val_loss: 0.1161 - 895ms/epoch - 1ms/step\n",
      "Epoch 42/128\n",
      "861/861 - 1s - loss: 0.0403 - val_loss: 0.1152 - 886ms/epoch - 1ms/step\n",
      "Epoch 43/128\n",
      "861/861 - 1s - loss: 0.0399 - val_loss: 0.1159 - 886ms/epoch - 1ms/step\n",
      "Epoch 44/128\n",
      "861/861 - 1s - loss: 0.0398 - val_loss: 0.1187 - 889ms/epoch - 1ms/step\n",
      "Epoch 45/128\n",
      "861/861 - 1s - loss: 0.0392 - val_loss: 0.1146 - 890ms/epoch - 1ms/step\n",
      "Epoch 46/128\n",
      "861/861 - 1s - loss: 0.0383 - val_loss: 0.1149 - 893ms/epoch - 1ms/step\n",
      "Epoch 47/128\n",
      "861/861 - 1s - loss: 0.0383 - val_loss: 0.1153 - 885ms/epoch - 1ms/step\n",
      "Epoch 48/128\n",
      "861/861 - 1s - loss: 0.0375 - val_loss: 0.1148 - 886ms/epoch - 1ms/step\n",
      "Epoch 49/128\n",
      "861/861 - 1s - loss: 0.0369 - val_loss: 0.1151 - 885ms/epoch - 1ms/step\n",
      "Epoch 50/128\n",
      "861/861 - 1s - loss: 0.0361 - val_loss: 0.1160 - 890ms/epoch - 1ms/step\n",
      "Epoch 51/128\n",
      "861/861 - 1s - loss: 0.0359 - val_loss: 0.1153 - 891ms/epoch - 1ms/step\n",
      "Epoch 52/128\n",
      "861/861 - 1s - loss: 0.0353 - val_loss: 0.1166 - 889ms/epoch - 1ms/step\n",
      "Epoch 53/128\n",
      "861/861 - 1s - loss: 0.0355 - val_loss: 0.1153 - 883ms/epoch - 1ms/step\n",
      "Epoch 54/128\n",
      "861/861 - 1s - loss: 0.0349 - val_loss: 0.1157 - 891ms/epoch - 1ms/step\n",
      "Epoch 55/128\n",
      "861/861 - 1s - loss: 0.0346 - val_loss: 0.1153 - 885ms/epoch - 1ms/step\n",
      "Epoch 56/128\n",
      "861/861 - 1s - loss: 0.0334 - val_loss: 0.1173 - 889ms/epoch - 1ms/step\n",
      "Epoch 57/128\n",
      "861/861 - 1s - loss: 0.0339 - val_loss: 0.1146 - 897ms/epoch - 1ms/step\n",
      "Epoch 58/128\n",
      "861/861 - 1s - loss: 0.0336 - val_loss: 0.1166 - 893ms/epoch - 1ms/step\n",
      "Epoch 59/128\n",
      "861/861 - 1s - loss: 0.0327 - val_loss: 0.1131 - 896ms/epoch - 1ms/step\n",
      "Epoch 60/128\n",
      "861/861 - 1s - loss: 0.0322 - val_loss: 0.1156 - 889ms/epoch - 1ms/step\n",
      "Epoch 61/128\n",
      "861/861 - 1s - loss: 0.0320 - val_loss: 0.1153 - 895ms/epoch - 1ms/step\n",
      "Epoch 62/128\n",
      "861/861 - 1s - loss: 0.0318 - val_loss: 0.1167 - 895ms/epoch - 1ms/step\n",
      "Epoch 63/128\n",
      "861/861 - 1s - loss: 0.0307 - val_loss: 0.1152 - 882ms/epoch - 1ms/step\n",
      "Epoch 64/128\n",
      "861/861 - 1s - loss: 0.0310 - val_loss: 0.1184 - 890ms/epoch - 1ms/step\n",
      "Epoch 65/128\n",
      "861/861 - 1s - loss: 0.0306 - val_loss: 0.1153 - 887ms/epoch - 1ms/step\n",
      "Epoch 66/128\n",
      "861/861 - 1s - loss: 0.0304 - val_loss: 0.1171 - 889ms/epoch - 1ms/step\n",
      "Epoch 67/128\n",
      "861/861 - 1s - loss: 0.0303 - val_loss: 0.1164 - 896ms/epoch - 1ms/step\n",
      "Epoch 68/128\n",
      "861/861 - 1s - loss: 0.0294 - val_loss: 0.1144 - 888ms/epoch - 1ms/step\n",
      "Epoch 69/128\n",
      "861/861 - 1s - loss: 0.0295 - val_loss: 0.1174 - 897ms/epoch - 1ms/step\n",
      "Epoch 70/128\n",
      "861/861 - 1s - loss: 0.0292 - val_loss: 0.1159 - 931ms/epoch - 1ms/step\n",
      "Epoch 71/128\n",
      "861/861 - 1s - loss: 0.0285 - val_loss: 0.1166 - 958ms/epoch - 1ms/step\n",
      "Epoch 72/128\n",
      "861/861 - 1s - loss: 0.0279 - val_loss: 0.1147 - 924ms/epoch - 1ms/step\n",
      "Epoch 73/128\n",
      "861/861 - 1s - loss: 0.0283 - val_loss: 0.1140 - 891ms/epoch - 1ms/step\n",
      "Epoch 74/128\n",
      "861/861 - 1s - loss: 0.0285 - val_loss: 0.1162 - 889ms/epoch - 1ms/step\n",
      "Epoch 75/128\n",
      "861/861 - 1s - loss: 0.0275 - val_loss: 0.1155 - 889ms/epoch - 1ms/step\n",
      "Epoch 76/128\n",
      "861/861 - 1s - loss: 0.0279 - val_loss: 0.1159 - 890ms/epoch - 1ms/step\n",
      "Epoch 77/128\n",
      "861/861 - 1s - loss: 0.0271 - val_loss: 0.1166 - 892ms/epoch - 1ms/step\n",
      "Epoch 78/128\n",
      "861/861 - 1s - loss: 0.0265 - val_loss: 0.1153 - 886ms/epoch - 1ms/step\n",
      "Epoch 79/128\n",
      "861/861 - 1s - loss: 0.0272 - val_loss: 0.1170 - 891ms/epoch - 1ms/step\n",
      "Epoch 80/128\n",
      "861/861 - 1s - loss: 0.0268 - val_loss: 0.1159 - 893ms/epoch - 1ms/step\n",
      "Epoch 81/128\n",
      "861/861 - 1s - loss: 0.0269 - val_loss: 0.1140 - 888ms/epoch - 1ms/step\n",
      "Epoch 82/128\n",
      "861/861 - 1s - loss: 0.0254 - val_loss: 0.1162 - 886ms/epoch - 1ms/step\n",
      "Epoch 83/128\n",
      "861/861 - 1s - loss: 0.0262 - val_loss: 0.1155 - 894ms/epoch - 1ms/step\n",
      "Epoch 84/128\n",
      "861/861 - 1s - loss: 0.0259 - val_loss: 0.1145 - 890ms/epoch - 1ms/step\n",
      "Epoch 85/128\n",
      "861/861 - 1s - loss: 0.0254 - val_loss: 0.1155 - 890ms/epoch - 1ms/step\n",
      "Epoch 86/128\n",
      "861/861 - 1s - loss: 0.0254 - val_loss: 0.1168 - 895ms/epoch - 1ms/step\n",
      "Epoch 87/128\n",
      "861/861 - 1s - loss: 0.0243 - val_loss: 0.1160 - 894ms/epoch - 1ms/step\n",
      "Epoch 88/128\n",
      "861/861 - 1s - loss: 0.0253 - val_loss: 0.1170 - 897ms/epoch - 1ms/step\n",
      "Epoch 89/128\n",
      "861/861 - 1s - loss: 0.0247 - val_loss: 0.1144 - 897ms/epoch - 1ms/step\n",
      "Epoch 90/128\n",
      "861/861 - 1s - loss: 0.0243 - val_loss: 0.1172 - 889ms/epoch - 1ms/step\n",
      "Epoch 91/128\n",
      "861/861 - 1s - loss: 0.0251 - val_loss: 0.1160 - 890ms/epoch - 1ms/step\n",
      "Epoch 92/128\n",
      "861/861 - 1s - loss: 0.0242 - val_loss: 0.1172 - 890ms/epoch - 1ms/step\n",
      "Epoch 93/128\n",
      "861/861 - 1s - loss: 0.0239 - val_loss: 0.1143 - 897ms/epoch - 1ms/step\n",
      "Epoch 94/128\n",
      "861/861 - 1s - loss: 0.0238 - val_loss: 0.1184 - 887ms/epoch - 1ms/step\n",
      "Epoch 95/128\n",
      "861/861 - 1s - loss: 0.0238 - val_loss: 0.1153 - 893ms/epoch - 1ms/step\n",
      "Epoch 96/128\n",
      "861/861 - 1s - loss: 0.0231 - val_loss: 0.1152 - 884ms/epoch - 1ms/step\n",
      "Epoch 97/128\n",
      "861/861 - 1s - loss: 0.0235 - val_loss: 0.1147 - 893ms/epoch - 1ms/step\n"
     ]
    },
    {
     "name": "stdout",
     "output_type": "stream",
     "text": [
      "Epoch 98/128\n",
      "861/861 - 1s - loss: 0.0233 - val_loss: 0.1154 - 888ms/epoch - 1ms/step\n",
      "Epoch 99/128\n",
      "861/861 - 1s - loss: 0.0236 - val_loss: 0.1155 - 890ms/epoch - 1ms/step\n",
      "Epoch 100/128\n",
      "861/861 - 1s - loss: 0.0220 - val_loss: 0.1189 - 890ms/epoch - 1ms/step\n",
      "Epoch 101/128\n",
      "861/861 - 1s - loss: 0.0227 - val_loss: 0.1186 - 884ms/epoch - 1ms/step\n",
      "Epoch 102/128\n",
      "861/861 - 1s - loss: 0.0225 - val_loss: 0.1160 - 892ms/epoch - 1ms/step\n",
      "Epoch 103/128\n",
      "861/861 - 1s - loss: 0.0228 - val_loss: 0.1140 - 887ms/epoch - 1ms/step\n",
      "Epoch 104/128\n",
      "861/861 - 1s - loss: 0.0236 - val_loss: 0.1134 - 888ms/epoch - 1ms/step\n",
      "Epoch 105/128\n",
      "861/861 - 1s - loss: 0.0216 - val_loss: 0.1138 - 890ms/epoch - 1ms/step\n",
      "Epoch 106/128\n",
      "861/861 - 1s - loss: 0.0218 - val_loss: 0.1161 - 884ms/epoch - 1ms/step\n",
      "Epoch 107/128\n",
      "861/861 - 1s - loss: 0.0217 - val_loss: 0.1149 - 894ms/epoch - 1ms/step\n",
      "Epoch 108/128\n",
      "861/861 - 1s - loss: 0.0219 - val_loss: 0.1172 - 896ms/epoch - 1ms/step\n",
      "Epoch 109/128\n",
      "861/861 - 1s - loss: 0.0220 - val_loss: 0.1147 - 888ms/epoch - 1ms/step\n",
      "Epoch 110/128\n",
      "861/861 - 1s - loss: 0.0216 - val_loss: 0.1183 - 889ms/epoch - 1ms/step\n",
      "Epoch 111/128\n",
      "861/861 - 1s - loss: 0.0219 - val_loss: 0.1149 - 890ms/epoch - 1ms/step\n",
      "Epoch 112/128\n",
      "861/861 - 1s - loss: 0.0214 - val_loss: 0.1166 - 893ms/epoch - 1ms/step\n",
      "Epoch 113/128\n",
      "861/861 - 1s - loss: 0.0207 - val_loss: 0.1142 - 887ms/epoch - 1ms/step\n",
      "Epoch 114/128\n",
      "861/861 - 1s - loss: 0.0213 - val_loss: 0.1160 - 884ms/epoch - 1ms/step\n",
      "Epoch 115/128\n",
      "861/861 - 1s - loss: 0.0208 - val_loss: 0.1163 - 887ms/epoch - 1ms/step\n",
      "Epoch 116/128\n",
      "861/861 - 1s - loss: 0.0208 - val_loss: 0.1152 - 921ms/epoch - 1ms/step\n",
      "Epoch 117/128\n",
      "861/861 - 1s - loss: 0.0203 - val_loss: 0.1158 - 887ms/epoch - 1ms/step\n",
      "Epoch 118/128\n",
      "861/861 - 1s - loss: 0.0216 - val_loss: 0.1150 - 902ms/epoch - 1ms/step\n",
      "Epoch 119/128\n",
      "861/861 - 1s - loss: 0.0208 - val_loss: 0.1136 - 893ms/epoch - 1ms/step\n",
      "Epoch 120/128\n",
      "861/861 - 1s - loss: 0.0200 - val_loss: 0.1162 - 924ms/epoch - 1ms/step\n",
      "Epoch 121/128\n",
      "861/861 - 1s - loss: 0.0202 - val_loss: 0.1193 - 928ms/epoch - 1ms/step\n",
      "Epoch 122/128\n",
      "861/861 - 1s - loss: 0.0211 - val_loss: 0.1143 - 946ms/epoch - 1ms/step\n",
      "Epoch 123/128\n",
      "861/861 - 1s - loss: 0.0201 - val_loss: 0.1173 - 889ms/epoch - 1ms/step\n",
      "Epoch 124/128\n",
      "861/861 - 1s - loss: 0.0206 - val_loss: 0.1152 - 904ms/epoch - 1ms/step\n",
      "Epoch 125/128\n",
      "861/861 - 1s - loss: 0.0196 - val_loss: 0.1165 - 913ms/epoch - 1ms/step\n",
      "Epoch 126/128\n",
      "861/861 - 1s - loss: 0.0200 - val_loss: 0.1145 - 898ms/epoch - 1ms/step\n",
      "Epoch 127/128\n",
      "861/861 - 1s - loss: 0.0191 - val_loss: 0.1134 - 893ms/epoch - 1ms/step\n",
      "Epoch 128/128\n",
      "861/861 - 1s - loss: 0.0196 - val_loss: 0.1190 - 890ms/epoch - 1ms/step\n",
      "CPU times: user 3min 38s, sys: 25.5 s, total: 4min 3s\n",
      "Wall time: 1min 55s\n"
     ]
    }
   ],
   "source": [
    "%%time\n",
    "history = model.fit(\n",
    "    train_X,\n",
    "    train_y,\n",
    "    validation_split=0.2,\n",
    "    epochs=128, batch_size = 32, \n",
    "    verbose=2)"
   ]
  },
  {
   "cell_type": "code",
   "execution_count": 128,
   "id": "5deb0468",
   "metadata": {},
   "outputs": [
    {
     "data": {
      "image/png": "[encoded data removed]",
      "text/plain": [
       "<Figure size 432x288 with 1 Axes>"
      ]
     },
     "metadata": {
      "needs_background": "light"
     },
     "output_type": "display_data"
    }
   ],
   "source": [
    "def plot_loss(history):\n",
    "    plt.plot(history.history['loss'], label='loss')\n",
    "    plt.plot(history.history['val_loss'], label='val_loss')\n",
    "    plt.ylim([0, .5])\n",
    "    plt.xlabel('Epoch')\n",
    "    plt.ylabel('Error [P,A]')\n",
    "    plt.legend()\n",
    "    plt.grid(True)\n",
    "\n",
    "\n",
    "plot_loss(history)"
   ]
  },
  {
   "cell_type": "markdown",
   "id": "a25827ea",
   "metadata": {},
   "source": [
    "## Test Model"
   ]
  },
  {
   "cell_type": "markdown",
   "id": "bfb50b4d",
   "metadata": {},
   "source": [
    "### Test"
   ]
  },
  {
   "cell_type": "code",
   "execution_count": 130,
   "id": "3bed1899",
   "metadata": {},
   "outputs": [
    {
     "name": "stdout",
     "output_type": "stream",
     "text": [
      "269/269 - 0s - loss: 0.1153 - 251ms/epoch - 932us/step\n",
      "Mean Square Error: 0.11531927436590195\n"
     ]
    }
   ],
   "source": [
    "test_results = model.evaluate(test_X, test_y, verbose=2)\n",
    "print(\"Mean Square Error:\",test_results)"
   ]
  },
  {
   "cell_type": "markdown",
   "id": "c231719c",
   "metadata": {},
   "source": [
    "### Predictions"
   ]
  },
  {
   "cell_type": "code",
   "execution_count": 131,
   "id": "ae7101a8",
   "metadata": {},
   "outputs": [
    {
     "data": {
      "text/html": [
       "<div>\n",
       "<style scoped>\n",
       "    .dataframe tbody tr th:only-of-type {\n",
       "        vertical-align: middle;\n",
       "    }\n",
       "\n",
       "    .dataframe tbody tr th {\n",
       "        vertical-align: top;\n",
       "    }\n",
       "\n",
       "    .dataframe thead th {\n",
       "        text-align: right;\n",
       "    }\n",
       "</style>\n",
       "<table border=\"1\" class=\"dataframe\">\n",
       "  <thead>\n",
       "    <tr style=\"text-align: right;\">\n",
       "      <th></th>\n",
       "      <th>EMOTION_P</th>\n",
       "      <th>EMOTION_A</th>\n",
       "    </tr>\n",
       "  </thead>\n",
       "  <tbody>\n",
       "    <tr>\n",
       "      <th>2</th>\n",
       "      <td>-0.5</td>\n",
       "      <td>0.6</td>\n",
       "    </tr>\n",
       "    <tr>\n",
       "      <th>9</th>\n",
       "      <td>-0.5</td>\n",
       "      <td>0.6</td>\n",
       "    </tr>\n",
       "    <tr>\n",
       "      <th>10</th>\n",
       "      <td>-0.5</td>\n",
       "      <td>0.6</td>\n",
       "    </tr>\n",
       "    <tr>\n",
       "      <th>12</th>\n",
       "      <td>-0.5</td>\n",
       "      <td>0.6</td>\n",
       "    </tr>\n",
       "    <tr>\n",
       "      <th>16</th>\n",
       "      <td>-0.5</td>\n",
       "      <td>0.6</td>\n",
       "    </tr>\n",
       "  </tbody>\n",
       "</table>\n",
       "</div>"
      ],
      "text/plain": [
       "    EMOTION_P  EMOTION_A\n",
       "2        -0.5        0.6\n",
       "9        -0.5        0.6\n",
       "10       -0.5        0.6\n",
       "12       -0.5        0.6\n",
       "16       -0.5        0.6"
      ]
     },
     "execution_count": 131,
     "metadata": {},
     "output_type": "execute_result"
    }
   ],
   "source": [
    "test_y.head()"
   ]
  },
  {
   "cell_type": "code",
   "execution_count": 132,
   "id": "4b84cb17",
   "metadata": {},
   "outputs": [],
   "source": [
    "test_predictions = model.predict(test_X)"
   ]
  },
  {
   "cell_type": "code",
   "execution_count": 133,
   "id": "e5e5e047",
   "metadata": {},
   "outputs": [
    {
     "data": {
      "text/plain": [
       "[<matplotlib.lines.Line2D at 0x7fd55c0f0e20>]"
      ]
     },
     "execution_count": 133,
     "metadata": {},
     "output_type": "execute_result"
    },
    {
     "data": {
      "image/png": "[encoded data removed]",
      "text/plain": [
       "<Figure size 576x576 with 1 Axes>"
      ]
     },
     "metadata": {
      "needs_background": "light"
     },
     "output_type": "display_data"
    }
   ],
   "source": [
    "test_y_p = test_y.iloc[:,0]\n",
    "pred_y_p = test_predictions[:,0]\n",
    "\n",
    "fig = plt.figure(figsize=[8,8])\n",
    "\n",
    "plt.scatter(test_y_p, pred_y_p)\n",
    "\n",
    "plt.xlabel('True Values')\n",
    "plt.ylabel('Predictions')\n",
    "plt.title('Pleasure Predictions')\n",
    "\n",
    "lims = [-1,1]\n",
    "plt.xlim(lims)\n",
    "plt.ylim(lims)\n",
    "\n",
    "plt.plot(lims, lims)"
   ]
  },
  {
   "cell_type": "code",
   "execution_count": 134,
   "id": "04aa301c",
   "metadata": {},
   "outputs": [
    {
     "data": {
      "text/plain": [
       "[<matplotlib.lines.Line2D at 0x7fd55d171a00>]"
      ]
     },
     "execution_count": 134,
     "metadata": {},
     "output_type": "execute_result"
    },
    {
     "data": {
      "image/png": "[encoded data removed]",
      "text/plain": [
       "<Figure size 576x576 with 1 Axes>"
      ]
     },
     "metadata": {
      "needs_background": "light"
     },
     "output_type": "display_data"
    }
   ],
   "source": [
    "test_y_a = test_y.iloc[:,1]\n",
    "pred_y_a = test_predictions[:,1]\n",
    "\n",
    "fig = plt.figure(figsize=[8,8])\n",
    "\n",
    "plt.scatter(test_y_a, pred_y_a)\n",
    "\n",
    "plt.xlabel('True Values')\n",
    "plt.ylabel('Predictions')\n",
    "plt.title('Arousal Predictions')\n",
    "\n",
    "lims = [-1,1]\n",
    "plt.xlim(lims)\n",
    "plt.ylim(lims)\n",
    "\n",
    "plt.plot(lims, lims)"
   ]
  },
  {
   "cell_type": "markdown",
   "id": "39ac6913",
   "metadata": {},
   "source": [
    "### Prediction"
   ]
  },
  {
   "cell_type": "code",
   "execution_count": 135,
   "id": "8fb5a430",
   "metadata": {},
   "outputs": [
    {
     "name": "stdout",
     "output_type": "stream",
     "text": [
      "[[ 4.29922129e-01  2.64091345e-01  2.28568332e-01  2.78027700e-01\n",
      "   4.67631290e-01  4.51540974e-01  3.50119907e-01  3.33041020e-01\n",
      "   2.86151000e-01  2.78750819e-01  1.22788019e-02 -1.42583614e-01\n",
      "  -6.83316260e-02  9.87344675e-01 -6.84167547e-03 -1.40510397e-01\n",
      "  -4.13769584e-02  9.89190146e-01  3.16994650e-01  4.19093363e-01\n",
      "  -2.67692547e-02 -3.09708062e-02  2.16495490e-02 -1.22540240e-03\n",
      "   5.42523874e-03 -8.28977941e-04  1.07414297e-02 -1.50347759e-02\n",
      "  -8.28977941e-04  1.07414297e-02 -1.50347759e-02  2.84243908e-02\n",
      "   1.72589368e-04]]\n",
      "Real: [-0.5  0.6]\n",
      "Predicted: [-0.35881788  0.26830897]\n"
     ]
    }
   ],
   "source": [
    "row=test_X.iloc[0]\n",
    "\n",
    "newX = np.asarray([row])\n",
    "print(newX)\n",
    "\n",
    "yhat = model.predict(newX)\n",
    "print('Real: %s' % np.asarray(test_y.iloc[0]))\n",
    "print('Predicted: %s' % yhat[0])"
   ]
  },
  {
   "cell_type": "code",
   "execution_count": 136,
   "id": "e3fcf146",
   "metadata": {},
   "outputs": [
    {
     "name": "stdout",
     "output_type": "stream",
     "text": [
      "[[ 0.28023803  0.10681192  0.37364881  0.14918289  0.18595283  0.13654746\n",
      "   0.1993079   0.15783562  0.286151    0.27843501  0.11922542 -0.517342\n",
      "  -0.02156979  0.84706706  0.06715865 -0.5152775  -0.04931168  0.8528836\n",
      "   0.38662372  0.45837582 -0.00086916  0.06134526  0.11121338 -0.1419244\n",
      "   0.20228782  0.11999537  0.27617848  0.16512948  0.11999537  0.27617848\n",
      "   0.16512948  0.03002001  0.00288374]]\n",
      "Real: [-0.5  0.6]\n",
      "Predicted: [-0.29910666  0.33539444]\n"
     ]
    }
   ],
   "source": [
    "row=test_X.iloc[400]\n",
    "\n",
    "newX = np.asarray([row])\n",
    "print(newX)\n",
    "\n",
    "yhat = model.predict(newX)\n",
    "print('Real: %s' % np.asarray(test_y.iloc[0]))\n",
    "print('Predicted: %s' % yhat[0])"
   ]
  },
  {
   "cell_type": "code",
   "execution_count": 137,
   "id": "795de2aa",
   "metadata": {},
   "outputs": [
    {
     "name": "stdout",
     "output_type": "stream",
     "text": [
      "[[ 7.45094044e-01  3.08864935e-01  5.89613759e-01  2.16829686e-01\n",
      "   4.88945356e-01  5.00097549e-01  3.68079471e-01  4.04840912e-01\n",
      "   2.86151000e-01  2.78836833e-01 -4.74951927e-02  1.28751507e-02\n",
      "  -1.02237442e-02  9.98701594e-01 -3.35488704e-02  1.02280769e-02\n",
      "  -2.56976120e-02  9.99019439e-01  8.40703464e-01  8.31786194e-01\n",
      "   7.28529193e-03 -1.12519885e+00 -4.73639152e-02  3.69714237e-03\n",
      "  -3.61404533e-02 -3.79055102e-02  1.92132258e-01 -1.37202153e-01\n",
      "  -3.79055102e-02  1.92132258e-01 -1.37202153e-01  3.92774494e-02\n",
      "   3.67095874e-04]]\n",
      "Real: [-0.5  0.6]\n",
      "Predicted: [-0.16073516  0.04634213]\n"
     ]
    }
   ],
   "source": [
    "row=test_X.iloc[69]\n",
    "\n",
    "newX = np.asarray([row])\n",
    "print(newX)\n",
    "\n",
    "yhat = model.predict(newX)\n",
    "print('Real: %s' % np.asarray(test_y.iloc[0]))\n",
    "print('Predicted: %s' % yhat[0])"
   ]
  },
  {
   "cell_type": "markdown",
   "id": "e0b34f78",
   "metadata": {},
   "source": [
    "\n"
   ]
  },
  {
   "cell_type": "markdown",
   "id": "ed3612f7",
   "metadata": {},
   "source": [
    "\n"
   ]
  },
  {
   "cell_type": "markdown",
   "id": "17a05f3b",
   "metadata": {},
   "source": [
    "# Gradient Boosting (LMA features to P,A coordinates)"
   ]
  },
  {
   "cell_type": "markdown",
   "id": "36efff5e",
   "metadata": {},
   "source": [
    "## Imports"
   ]
  },
  {
   "cell_type": "code",
   "execution_count": 212,
   "id": "1f72fe43",
   "metadata": {},
   "outputs": [],
   "source": [
    "import matplotlib.pyplot as plt\n",
    "import numpy as np\n",
    "import pandas as pd\n",
    "import seaborn as sns\n",
    "\n",
    "import sklearn\n",
    "import tensorflow as tf\n",
    "\n",
    "from sklearn.model_selection import cross_val_score\n",
    "from sklearn.model_selection import RepeatedStratifiedKFold\n",
    "from sklearn.ensemble import GradientBoostingRegressor"
   ]
  },
  {
   "cell_type": "markdown",
   "id": "365c4152",
   "metadata": {},
   "source": [
    "## Load Data"
   ]
  },
  {
   "cell_type": "code",
   "execution_count": 192,
   "id": "5a258be5",
   "metadata": {},
   "outputs": [],
   "source": [
    "dataset = pd.read_csv('datasets/pa/NFS_LMA_DATA.csv')"
   ]
  },
  {
   "cell_type": "markdown",
   "id": "f1f2f453",
   "metadata": {},
   "source": [
    "### Split into Test and Train data"
   ]
  },
  {
   "cell_type": "code",
   "execution_count": 193,
   "id": "f82c8d8a",
   "metadata": {},
   "outputs": [
    {
     "name": "stdout",
     "output_type": "stream",
     "text": [
      "No Training Samples: 34431\n",
      "No Test Samples: 8608\n"
     ]
    }
   ],
   "source": [
    "train_dataset = dataset.sample(frac=0.8, random_state=42)\n",
    "test_dataset = dataset.drop(train_dataset.index)\n",
    "\n",
    "print(\"No Training Samples:\",train_dataset.shape[0])\n",
    "print(\"No Test Samples:\",test_dataset.shape[0])"
   ]
  },
  {
   "cell_type": "markdown",
   "id": "9f5f76f5",
   "metadata": {},
   "source": [
    "### Split Features from Targets"
   ]
  },
  {
   "cell_type": "code",
   "execution_count": 194,
   "id": "eddb6b2d",
   "metadata": {},
   "outputs": [],
   "source": [
    "train_X = train_dataset.copy()\n",
    "test_X = test_dataset.copy()\n",
    "\n",
    "train_y = pd.concat([train_X.pop(x) for x in ['EMOTION_P', 'EMOTION_A']], axis=1)\n",
    "test_y = pd.concat([test_X.pop(x) for x in ['EMOTION_P', 'EMOTION_A']], axis=1)\n",
    "\n",
    "test_y_p = test_y.iloc[:,0]\n",
    "train_y_p = train_y.iloc[:,0]\n",
    "\n",
    "test_y_a = test_y.iloc[:,1]\n",
    "train_y_a = train_y.iloc[:,1]"
   ]
  },
  {
   "cell_type": "code",
   "execution_count": 195,
   "id": "02dab5bf",
   "metadata": {},
   "outputs": [
    {
     "data": {
      "text/html": [
       "<div>\n",
       "<style scoped>\n",
       "    .dataframe tbody tr th:only-of-type {\n",
       "        vertical-align: middle;\n",
       "    }\n",
       "\n",
       "    .dataframe tbody tr th {\n",
       "        vertical-align: top;\n",
       "    }\n",
       "\n",
       "    .dataframe thead th {\n",
       "        text-align: right;\n",
       "    }\n",
       "</style>\n",
       "<table border=\"1\" class=\"dataframe\">\n",
       "  <thead>\n",
       "    <tr style=\"text-align: right;\">\n",
       "      <th></th>\n",
       "      <th>avg_hand_distance</th>\n",
       "      <th>avg_l_hand_hip_distance</th>\n",
       "      <th>avg_r_hand_hip_distance</th>\n",
       "      <th>avg_feet_distance</th>\n",
       "      <th>avg_l_hand_chest_distance</th>\n",
       "      <th>avg_r_hand_chest_distance</th>\n",
       "      <th>avg_l_elbow_hip_distance</th>\n",
       "      <th>avg_r_elbow_hip_distance</th>\n",
       "      <th>avg_chest_pelvis_distance</th>\n",
       "      <th>avg_neck_chest_distance</th>\n",
       "      <th>...</th>\n",
       "      <th>avg_pelvis_velocity_y</th>\n",
       "      <th>avg_pelvis_velocity_z</th>\n",
       "      <th>avg_l_foot_velocity_x</th>\n",
       "      <th>avg_l_foot_velocity_y</th>\n",
       "      <th>avg_l_foot_velocity_z</th>\n",
       "      <th>avg_r_foot_velocity_x</th>\n",
       "      <th>avg_r_foot_velocity_y</th>\n",
       "      <th>avg_r_foot_velocity_z</th>\n",
       "      <th>avg_upper_body_volume</th>\n",
       "      <th>avg_distance_traveled</th>\n",
       "    </tr>\n",
       "  </thead>\n",
       "  <tbody>\n",
       "    <tr>\n",
       "      <th>22896</th>\n",
       "      <td>0.313987</td>\n",
       "      <td>0.281716</td>\n",
       "      <td>0.201682</td>\n",
       "      <td>0.263463</td>\n",
       "      <td>0.633763</td>\n",
       "      <td>0.562925</td>\n",
       "      <td>0.552979</td>\n",
       "      <td>0.503487</td>\n",
       "      <td>0.241830</td>\n",
       "      <td>0.997898</td>\n",
       "      <td>...</td>\n",
       "      <td>0.477773</td>\n",
       "      <td>0.418991</td>\n",
       "      <td>0.527978</td>\n",
       "      <td>0.478537</td>\n",
       "      <td>0.533486</td>\n",
       "      <td>0.522447</td>\n",
       "      <td>0.611758</td>\n",
       "      <td>0.566630</td>\n",
       "      <td>0.387396</td>\n",
       "      <td>4.081196e-02</td>\n",
       "    </tr>\n",
       "    <tr>\n",
       "      <th>2705</th>\n",
       "      <td>0.556343</td>\n",
       "      <td>0.391281</td>\n",
       "      <td>0.393936</td>\n",
       "      <td>0.031633</td>\n",
       "      <td>0.701645</td>\n",
       "      <td>0.709198</td>\n",
       "      <td>0.631016</td>\n",
       "      <td>0.638234</td>\n",
       "      <td>0.240444</td>\n",
       "      <td>0.999968</td>\n",
       "      <td>...</td>\n",
       "      <td>0.476878</td>\n",
       "      <td>0.477515</td>\n",
       "      <td>0.531200</td>\n",
       "      <td>0.488286</td>\n",
       "      <td>0.534506</td>\n",
       "      <td>0.525591</td>\n",
       "      <td>0.619737</td>\n",
       "      <td>0.567609</td>\n",
       "      <td>0.476809</td>\n",
       "      <td>3.932059e-03</td>\n",
       "    </tr>\n",
       "    <tr>\n",
       "      <th>14948</th>\n",
       "      <td>0.199806</td>\n",
       "      <td>0.478710</td>\n",
       "      <td>0.466671</td>\n",
       "      <td>0.177739</td>\n",
       "      <td>0.569649</td>\n",
       "      <td>0.563050</td>\n",
       "      <td>0.496679</td>\n",
       "      <td>0.478893</td>\n",
       "      <td>0.241403</td>\n",
       "      <td>0.999119</td>\n",
       "      <td>...</td>\n",
       "      <td>0.475596</td>\n",
       "      <td>0.481450</td>\n",
       "      <td>0.531032</td>\n",
       "      <td>0.487260</td>\n",
       "      <td>0.532756</td>\n",
       "      <td>0.525426</td>\n",
       "      <td>0.618897</td>\n",
       "      <td>0.565929</td>\n",
       "      <td>0.296454</td>\n",
       "      <td>4.535315e-03</td>\n",
       "    </tr>\n",
       "    <tr>\n",
       "      <th>18874</th>\n",
       "      <td>0.128904</td>\n",
       "      <td>0.520942</td>\n",
       "      <td>0.620679</td>\n",
       "      <td>0.480222</td>\n",
       "      <td>0.504610</td>\n",
       "      <td>0.680805</td>\n",
       "      <td>0.388854</td>\n",
       "      <td>0.623878</td>\n",
       "      <td>0.239297</td>\n",
       "      <td>0.781470</td>\n",
       "      <td>...</td>\n",
       "      <td>0.464562</td>\n",
       "      <td>0.464404</td>\n",
       "      <td>0.555983</td>\n",
       "      <td>0.523598</td>\n",
       "      <td>0.547563</td>\n",
       "      <td>0.539836</td>\n",
       "      <td>0.645908</td>\n",
       "      <td>0.565889</td>\n",
       "      <td>0.123189</td>\n",
       "      <td>3.608499e-02</td>\n",
       "    </tr>\n",
       "    <tr>\n",
       "      <th>17647</th>\n",
       "      <td>0.351736</td>\n",
       "      <td>0.268957</td>\n",
       "      <td>0.251081</td>\n",
       "      <td>0.167402</td>\n",
       "      <td>0.631198</td>\n",
       "      <td>0.616026</td>\n",
       "      <td>0.558710</td>\n",
       "      <td>0.528138</td>\n",
       "      <td>0.229114</td>\n",
       "      <td>0.996168</td>\n",
       "      <td>...</td>\n",
       "      <td>0.476847</td>\n",
       "      <td>0.481105</td>\n",
       "      <td>0.531048</td>\n",
       "      <td>0.487439</td>\n",
       "      <td>0.533671</td>\n",
       "      <td>0.525443</td>\n",
       "      <td>0.619043</td>\n",
       "      <td>0.566807</td>\n",
       "      <td>0.365127</td>\n",
       "      <td>2.508169e-10</td>\n",
       "    </tr>\n",
       "  </tbody>\n",
       "</table>\n",
       "<p>5 rows × 33 columns</p>\n",
       "</div>"
      ],
      "text/plain": [
       "       avg_hand_distance  avg_l_hand_hip_distance  avg_r_hand_hip_distance  \\\n",
       "22896           0.313987                 0.281716                 0.201682   \n",
       "2705            0.556343                 0.391281                 0.393936   \n",
       "14948           0.199806                 0.478710                 0.466671   \n",
       "18874           0.128904                 0.520942                 0.620679   \n",
       "17647           0.351736                 0.268957                 0.251081   \n",
       "\n",
       "       avg_feet_distance  avg_l_hand_chest_distance  \\\n",
       "22896           0.263463                   0.633763   \n",
       "2705            0.031633                   0.701645   \n",
       "14948           0.177739                   0.569649   \n",
       "18874           0.480222                   0.504610   \n",
       "17647           0.167402                   0.631198   \n",
       "\n",
       "       avg_r_hand_chest_distance  avg_l_elbow_hip_distance  \\\n",
       "22896                   0.562925                  0.552979   \n",
       "2705                    0.709198                  0.631016   \n",
       "14948                   0.563050                  0.496679   \n",
       "18874                   0.680805                  0.388854   \n",
       "17647                   0.616026                  0.558710   \n",
       "\n",
       "       avg_r_elbow_hip_distance  avg_chest_pelvis_distance  \\\n",
       "22896                  0.503487                   0.241830   \n",
       "2705                   0.638234                   0.240444   \n",
       "14948                  0.478893                   0.241403   \n",
       "18874                  0.623878                   0.239297   \n",
       "17647                  0.528138                   0.229114   \n",
       "\n",
       "       avg_neck_chest_distance  ...  avg_pelvis_velocity_y  \\\n",
       "22896                 0.997898  ...               0.477773   \n",
       "2705                  0.999968  ...               0.476878   \n",
       "14948                 0.999119  ...               0.475596   \n",
       "18874                 0.781470  ...               0.464562   \n",
       "17647                 0.996168  ...               0.476847   \n",
       "\n",
       "       avg_pelvis_velocity_z  avg_l_foot_velocity_x  avg_l_foot_velocity_y  \\\n",
       "22896               0.418991               0.527978               0.478537   \n",
       "2705                0.477515               0.531200               0.488286   \n",
       "14948               0.481450               0.531032               0.487260   \n",
       "18874               0.464404               0.555983               0.523598   \n",
       "17647               0.481105               0.531048               0.487439   \n",
       "\n",
       "       avg_l_foot_velocity_z  avg_r_foot_velocity_x  avg_r_foot_velocity_y  \\\n",
       "22896               0.533486               0.522447               0.611758   \n",
       "2705                0.534506               0.525591               0.619737   \n",
       "14948               0.532756               0.525426               0.618897   \n",
       "18874               0.547563               0.539836               0.645908   \n",
       "17647               0.533671               0.525443               0.619043   \n",
       "\n",
       "       avg_r_foot_velocity_z  avg_upper_body_volume  avg_distance_traveled  \n",
       "22896               0.566630               0.387396           4.081196e-02  \n",
       "2705                0.567609               0.476809           3.932059e-03  \n",
       "14948               0.565929               0.296454           4.535315e-03  \n",
       "18874               0.565889               0.123189           3.608499e-02  \n",
       "17647               0.566807               0.365127           2.508169e-10  \n",
       "\n",
       "[5 rows x 33 columns]"
      ]
     },
     "execution_count": 195,
     "metadata": {},
     "output_type": "execute_result"
    }
   ],
   "source": [
    "train_X.head()"
   ]
  },
  {
   "cell_type": "code",
   "execution_count": 196,
   "id": "2385543c",
   "metadata": {},
   "outputs": [
    {
     "data": {
      "text/html": [
       "<div>\n",
       "<style scoped>\n",
       "    .dataframe tbody tr th:only-of-type {\n",
       "        vertical-align: middle;\n",
       "    }\n",
       "\n",
       "    .dataframe tbody tr th {\n",
       "        vertical-align: top;\n",
       "    }\n",
       "\n",
       "    .dataframe thead th {\n",
       "        text-align: right;\n",
       "    }\n",
       "</style>\n",
       "<table border=\"1\" class=\"dataframe\">\n",
       "  <thead>\n",
       "    <tr style=\"text-align: right;\">\n",
       "      <th></th>\n",
       "      <th>EMOTION_P</th>\n",
       "      <th>EMOTION_A</th>\n",
       "    </tr>\n",
       "  </thead>\n",
       "  <tbody>\n",
       "    <tr>\n",
       "      <th>22896</th>\n",
       "      <td>-0.5</td>\n",
       "      <td>0.6</td>\n",
       "    </tr>\n",
       "    <tr>\n",
       "      <th>2705</th>\n",
       "      <td>0.0</td>\n",
       "      <td>0.0</td>\n",
       "    </tr>\n",
       "    <tr>\n",
       "      <th>14948</th>\n",
       "      <td>-0.7</td>\n",
       "      <td>-0.3</td>\n",
       "    </tr>\n",
       "    <tr>\n",
       "      <th>18874</th>\n",
       "      <td>-0.5</td>\n",
       "      <td>0.6</td>\n",
       "    </tr>\n",
       "    <tr>\n",
       "      <th>17647</th>\n",
       "      <td>-0.5</td>\n",
       "      <td>0.6</td>\n",
       "    </tr>\n",
       "  </tbody>\n",
       "</table>\n",
       "</div>"
      ],
      "text/plain": [
       "       EMOTION_P  EMOTION_A\n",
       "22896       -0.5        0.6\n",
       "2705         0.0        0.0\n",
       "14948       -0.7       -0.3\n",
       "18874       -0.5        0.6\n",
       "17647       -0.5        0.6"
      ]
     },
     "execution_count": 196,
     "metadata": {},
     "output_type": "execute_result"
    }
   ],
   "source": [
    "train_y.head()"
   ]
  },
  {
   "cell_type": "code",
   "execution_count": 197,
   "id": "6c46e137",
   "metadata": {
    "scrolled": true
   },
   "outputs": [
    {
     "data": {
      "text/html": [
       "<div>\n",
       "<style scoped>\n",
       "    .dataframe tbody tr th:only-of-type {\n",
       "        vertical-align: middle;\n",
       "    }\n",
       "\n",
       "    .dataframe tbody tr th {\n",
       "        vertical-align: top;\n",
       "    }\n",
       "\n",
       "    .dataframe thead th {\n",
       "        text-align: right;\n",
       "    }\n",
       "</style>\n",
       "<table border=\"1\" class=\"dataframe\">\n",
       "  <thead>\n",
       "    <tr style=\"text-align: right;\">\n",
       "      <th></th>\n",
       "      <th>mean</th>\n",
       "      <th>std</th>\n",
       "    </tr>\n",
       "  </thead>\n",
       "  <tbody>\n",
       "    <tr>\n",
       "      <th>avg_hand_distance</th>\n",
       "      <td>0.351200</td>\n",
       "      <td>0.173658</td>\n",
       "    </tr>\n",
       "    <tr>\n",
       "      <th>avg_l_hand_hip_distance</th>\n",
       "      <td>0.338692</td>\n",
       "      <td>0.157744</td>\n",
       "    </tr>\n",
       "    <tr>\n",
       "      <th>avg_r_hand_hip_distance</th>\n",
       "      <td>0.356168</td>\n",
       "      <td>0.171504</td>\n",
       "    </tr>\n",
       "    <tr>\n",
       "      <th>avg_feet_distance</th>\n",
       "      <td>0.206656</td>\n",
       "      <td>0.094514</td>\n",
       "    </tr>\n",
       "    <tr>\n",
       "      <th>avg_l_hand_chest_distance</th>\n",
       "      <td>0.549481</td>\n",
       "      <td>0.154654</td>\n",
       "    </tr>\n",
       "    <tr>\n",
       "      <th>avg_r_hand_chest_distance</th>\n",
       "      <td>0.550863</td>\n",
       "      <td>0.157938</td>\n",
       "    </tr>\n",
       "    <tr>\n",
       "      <th>avg_l_elbow_hip_distance</th>\n",
       "      <td>0.512332</td>\n",
       "      <td>0.134463</td>\n",
       "    </tr>\n",
       "    <tr>\n",
       "      <th>avg_r_elbow_hip_distance</th>\n",
       "      <td>0.505868</td>\n",
       "      <td>0.143611</td>\n",
       "    </tr>\n",
       "    <tr>\n",
       "      <th>avg_chest_pelvis_distance</th>\n",
       "      <td>0.242576</td>\n",
       "      <td>0.017308</td>\n",
       "    </tr>\n",
       "    <tr>\n",
       "      <th>avg_neck_chest_distance</th>\n",
       "      <td>0.987550</td>\n",
       "      <td>0.031774</td>\n",
       "    </tr>\n",
       "    <tr>\n",
       "      <th>avg_neck_rotation_w</th>\n",
       "      <td>0.444298</td>\n",
       "      <td>0.061910</td>\n",
       "    </tr>\n",
       "    <tr>\n",
       "      <th>avg_neck_rotation_x</th>\n",
       "      <td>0.415791</td>\n",
       "      <td>0.131726</td>\n",
       "    </tr>\n",
       "    <tr>\n",
       "      <th>avg_neck_rotation_y</th>\n",
       "      <td>0.445783</td>\n",
       "      <td>0.076161</td>\n",
       "    </tr>\n",
       "    <tr>\n",
       "      <th>avg_neck_rotation_z</th>\n",
       "      <td>0.952128</td>\n",
       "      <td>0.122390</td>\n",
       "    </tr>\n",
       "    <tr>\n",
       "      <th>avg_pelvis_rotation_w</th>\n",
       "      <td>0.487792</td>\n",
       "      <td>0.049204</td>\n",
       "    </tr>\n",
       "    <tr>\n",
       "      <th>avg_pelvis_rotation_x</th>\n",
       "      <td>0.413602</td>\n",
       "      <td>0.133764</td>\n",
       "    </tr>\n",
       "    <tr>\n",
       "      <th>avg_pelvis_rotation_y</th>\n",
       "      <td>0.452974</td>\n",
       "      <td>0.069673</td>\n",
       "    </tr>\n",
       "    <tr>\n",
       "      <th>avg_pelvis_rotation_z</th>\n",
       "      <td>0.956376</td>\n",
       "      <td>0.119327</td>\n",
       "    </tr>\n",
       "    <tr>\n",
       "      <th>std_l_hand_position</th>\n",
       "      <td>0.138421</td>\n",
       "      <td>0.142094</td>\n",
       "    </tr>\n",
       "    <tr>\n",
       "      <th>std_r_hand_position</th>\n",
       "      <td>0.142605</td>\n",
       "      <td>0.142944</td>\n",
       "    </tr>\n",
       "    <tr>\n",
       "      <th>avg_l_forearm_velocity</th>\n",
       "      <td>0.524333</td>\n",
       "      <td>0.063909</td>\n",
       "    </tr>\n",
       "    <tr>\n",
       "      <th>avg_r_forearm_velocity</th>\n",
       "      <td>0.466845</td>\n",
       "      <td>0.059992</td>\n",
       "    </tr>\n",
       "    <tr>\n",
       "      <th>avg_pelvis_velocity_x</th>\n",
       "      <td>0.595232</td>\n",
       "      <td>0.039455</td>\n",
       "    </tr>\n",
       "    <tr>\n",
       "      <th>avg_pelvis_velocity_y</th>\n",
       "      <td>0.476623</td>\n",
       "      <td>0.029733</td>\n",
       "    </tr>\n",
       "    <tr>\n",
       "      <th>avg_pelvis_velocity_z</th>\n",
       "      <td>0.481796</td>\n",
       "      <td>0.045246</td>\n",
       "    </tr>\n",
       "    <tr>\n",
       "      <th>avg_l_foot_velocity_x</th>\n",
       "      <td>0.531173</td>\n",
       "      <td>0.014803</td>\n",
       "    </tr>\n",
       "    <tr>\n",
       "      <th>avg_l_foot_velocity_y</th>\n",
       "      <td>0.487461</td>\n",
       "      <td>0.028294</td>\n",
       "    </tr>\n",
       "    <tr>\n",
       "      <th>avg_l_foot_velocity_z</th>\n",
       "      <td>0.533476</td>\n",
       "      <td>0.026709</td>\n",
       "    </tr>\n",
       "    <tr>\n",
       "      <th>avg_r_foot_velocity_x</th>\n",
       "      <td>0.525406</td>\n",
       "      <td>0.012954</td>\n",
       "    </tr>\n",
       "    <tr>\n",
       "      <th>avg_r_foot_velocity_y</th>\n",
       "      <td>0.618815</td>\n",
       "      <td>0.023369</td>\n",
       "    </tr>\n",
       "    <tr>\n",
       "      <th>avg_r_foot_velocity_z</th>\n",
       "      <td>0.566830</td>\n",
       "      <td>0.025730</td>\n",
       "    </tr>\n",
       "    <tr>\n",
       "      <th>avg_upper_body_volume</th>\n",
       "      <td>0.425571</td>\n",
       "      <td>0.153177</td>\n",
       "    </tr>\n",
       "    <tr>\n",
       "      <th>avg_distance_traveled</th>\n",
       "      <td>0.040900</td>\n",
       "      <td>0.047753</td>\n",
       "    </tr>\n",
       "  </tbody>\n",
       "</table>\n",
       "</div>"
      ],
      "text/plain": [
       "                               mean       std\n",
       "avg_hand_distance          0.351200  0.173658\n",
       "avg_l_hand_hip_distance    0.338692  0.157744\n",
       "avg_r_hand_hip_distance    0.356168  0.171504\n",
       "avg_feet_distance          0.206656  0.094514\n",
       "avg_l_hand_chest_distance  0.549481  0.154654\n",
       "avg_r_hand_chest_distance  0.550863  0.157938\n",
       "avg_l_elbow_hip_distance   0.512332  0.134463\n",
       "avg_r_elbow_hip_distance   0.505868  0.143611\n",
       "avg_chest_pelvis_distance  0.242576  0.017308\n",
       "avg_neck_chest_distance    0.987550  0.031774\n",
       "avg_neck_rotation_w        0.444298  0.061910\n",
       "avg_neck_rotation_x        0.415791  0.131726\n",
       "avg_neck_rotation_y        0.445783  0.076161\n",
       "avg_neck_rotation_z        0.952128  0.122390\n",
       "avg_pelvis_rotation_w      0.487792  0.049204\n",
       "avg_pelvis_rotation_x      0.413602  0.133764\n",
       "avg_pelvis_rotation_y      0.452974  0.069673\n",
       "avg_pelvis_rotation_z      0.956376  0.119327\n",
       "std_l_hand_position        0.138421  0.142094\n",
       "std_r_hand_position        0.142605  0.142944\n",
       "avg_l_forearm_velocity     0.524333  0.063909\n",
       "avg_r_forearm_velocity     0.466845  0.059992\n",
       "avg_pelvis_velocity_x      0.595232  0.039455\n",
       "avg_pelvis_velocity_y      0.476623  0.029733\n",
       "avg_pelvis_velocity_z      0.481796  0.045246\n",
       "avg_l_foot_velocity_x      0.531173  0.014803\n",
       "avg_l_foot_velocity_y      0.487461  0.028294\n",
       "avg_l_foot_velocity_z      0.533476  0.026709\n",
       "avg_r_foot_velocity_x      0.525406  0.012954\n",
       "avg_r_foot_velocity_y      0.618815  0.023369\n",
       "avg_r_foot_velocity_z      0.566830  0.025730\n",
       "avg_upper_body_volume      0.425571  0.153177\n",
       "avg_distance_traveled      0.040900  0.047753"
      ]
     },
     "execution_count": 197,
     "metadata": {},
     "output_type": "execute_result"
    }
   ],
   "source": [
    "train_X.describe().transpose()[['mean', 'std']]"
   ]
  },
  {
   "cell_type": "markdown",
   "id": "b0fc0f6c",
   "metadata": {},
   "source": [
    "## Define Model"
   ]
  },
  {
   "cell_type": "code",
   "execution_count": 207,
   "id": "df4a4445",
   "metadata": {},
   "outputs": [],
   "source": [
    "model_p = GradientBoostingRegressor()\n",
    "model_a = GradientBoostingRegressor()"
   ]
  },
  {
   "cell_type": "markdown",
   "id": "d848503c",
   "metadata": {},
   "source": [
    "## Train Model"
   ]
  },
  {
   "cell_type": "code",
   "execution_count": 182,
   "id": "8c6a789a",
   "metadata": {},
   "outputs": [],
   "source": [
    "cv = RepeatedKFold(n_splits=10, n_repeats=3, random_state=1)"
   ]
  },
  {
   "cell_type": "markdown",
   "id": "4efbd231",
   "metadata": {},
   "source": [
    "### Pleasure Regression"
   ]
  },
  {
   "cell_type": "code",
   "execution_count": 183,
   "id": "85155304",
   "metadata": {},
   "outputs": [
    {
     "name": "stdout",
     "output_type": "stream",
     "text": [
      "MAE: -0.324 (0.003)\n"
     ]
    }
   ],
   "source": [
    "n_scores = cross_val_score(model_p, train_X, train_y_p, scoring='neg_mean_absolute_error', cv=cv, n_jobs=-1)\n",
    "print('MAE: %.3f (%.3f)' % (np.mean(n_scores), np.std(n_scores)))"
   ]
  },
  {
   "cell_type": "code",
   "execution_count": 184,
   "id": "06f801fa",
   "metadata": {},
   "outputs": [
    {
     "data": {
      "text/plain": [
       "GradientBoostingRegressor()"
      ]
     },
     "execution_count": 184,
     "metadata": {},
     "output_type": "execute_result"
    }
   ],
   "source": [
    "model_p.fit(train_X, train_y_p)"
   ]
  },
  {
   "cell_type": "markdown",
   "id": "660f7b11",
   "metadata": {},
   "source": [
    "### Arousal Regression"
   ]
  },
  {
   "cell_type": "code",
   "execution_count": 185,
   "id": "babae2ba",
   "metadata": {},
   "outputs": [
    {
     "name": "stdout",
     "output_type": "stream",
     "text": [
      "MAE: -0.280 (0.004)\n"
     ]
    }
   ],
   "source": [
    "n_scores = cross_val_score(model_a, train_X, train_y_a, scoring='neg_mean_absolute_error', cv=cv, n_jobs=-1)\n",
    "print('MAE: %.3f (%.3f)' % (np.mean(n_scores), np.std(n_scores)))"
   ]
  },
  {
   "cell_type": "code",
   "execution_count": 186,
   "id": "06130a0f",
   "metadata": {},
   "outputs": [
    {
     "data": {
      "text/plain": [
       "GradientBoostingRegressor()"
      ]
     },
     "execution_count": 186,
     "metadata": {},
     "output_type": "execute_result"
    }
   ],
   "source": [
    "model_a.fit(train_X, train_y_a)"
   ]
  },
  {
   "cell_type": "markdown",
   "id": "6e1768f6",
   "metadata": {},
   "source": [
    "## Test Model"
   ]
  },
  {
   "cell_type": "markdown",
   "id": "e7327e37",
   "metadata": {},
   "source": [
    "### Prediction"
   ]
  },
  {
   "cell_type": "code",
   "execution_count": 187,
   "id": "ea82ad19",
   "metadata": {},
   "outputs": [
    {
     "name": "stdout",
     "output_type": "stream",
     "text": [
      "Real: [-0.5  0.6]\n",
      "Predicted: [array([-0.26860075]), array([0.26220843])]\n"
     ]
    },
    {
     "name": "stderr",
     "output_type": "stream",
     "text": [
      "/home/ds/.local/lib/python3.8/site-packages/sklearn/base.py:450: UserWarning: X does not have valid feature names, but GradientBoostingRegressor was fitted with feature names\n",
      "  warnings.warn(\n",
      "/home/ds/.local/lib/python3.8/site-packages/sklearn/base.py:450: UserWarning: X does not have valid feature names, but GradientBoostingRegressor was fitted with feature names\n",
      "  warnings.warn(\n"
     ]
    }
   ],
   "source": [
    "row=test_X.iloc[0]\n",
    "\n",
    "x = np.asarray([row])\n",
    "\n",
    "y_p = model_p.predict(x)\n",
    "y_a = model_a.predict(x)\n",
    "\n",
    "print('Real: %s' % np.asarray(test_y.iloc[0]))\n",
    "print('Predicted: %s' % [y_p, y_a])"
   ]
  },
  {
   "cell_type": "code",
   "execution_count": 188,
   "id": "4eb56291",
   "metadata": {},
   "outputs": [
    {
     "name": "stdout",
     "output_type": "stream",
     "text": [
      "Real: [-0.5  0.6]\n",
      "Predicted: [array([-0.31992865]), array([0.30697318])]\n"
     ]
    },
    {
     "name": "stderr",
     "output_type": "stream",
     "text": [
      "/home/ds/.local/lib/python3.8/site-packages/sklearn/base.py:450: UserWarning: X does not have valid feature names, but GradientBoostingRegressor was fitted with feature names\n",
      "  warnings.warn(\n",
      "/home/ds/.local/lib/python3.8/site-packages/sklearn/base.py:450: UserWarning: X does not have valid feature names, but GradientBoostingRegressor was fitted with feature names\n",
      "  warnings.warn(\n"
     ]
    }
   ],
   "source": [
    "row=test_X.iloc[400]\n",
    "\n",
    "x = np.asarray([row])\n",
    "\n",
    "y_p = model_p.predict(x)\n",
    "y_a = model_a.predict(x)\n",
    "\n",
    "print('Real: %s' % np.asarray(test_y.iloc[0]))\n",
    "print('Predicted: %s' % [y_p, y_a])"
   ]
  },
  {
   "cell_type": "code",
   "execution_count": 189,
   "id": "7d0f533f",
   "metadata": {
    "scrolled": true
   },
   "outputs": [
    {
     "name": "stdout",
     "output_type": "stream",
     "text": [
      "Real: [-0.5  0.6]\n",
      "Predicted: [array([-0.23466166]), array([0.22392311])]\n"
     ]
    },
    {
     "name": "stderr",
     "output_type": "stream",
     "text": [
      "/home/ds/.local/lib/python3.8/site-packages/sklearn/base.py:450: UserWarning: X does not have valid feature names, but GradientBoostingRegressor was fitted with feature names\n",
      "  warnings.warn(\n",
      "/home/ds/.local/lib/python3.8/site-packages/sklearn/base.py:450: UserWarning: X does not have valid feature names, but GradientBoostingRegressor was fitted with feature names\n",
      "  warnings.warn(\n"
     ]
    }
   ],
   "source": [
    "row=test_X.iloc[69]\n",
    "\n",
    "x = np.asarray([row])\n",
    "\n",
    "y_p = model_p.predict(x)\n",
    "y_a = model_a.predict(x)\n",
    "\n",
    "print('Real: %s' % np.asarray(test_y.iloc[0]))\n",
    "print('Predicted: %s' % [y_p, y_a])"
   ]
  },
  {
   "cell_type": "markdown",
   "id": "4cd82e5f",
   "metadata": {},
   "source": [
    "\n"
   ]
  },
  {
   "cell_type": "markdown",
   "id": "6a02dfa9",
   "metadata": {},
   "source": [
    "\n"
   ]
  },
  {
   "cell_type": "markdown",
   "id": "223d4a78",
   "metadata": {},
   "source": [
    "# XGBRegression (LMA features to P,A coordinates)"
   ]
  },
  {
   "cell_type": "markdown",
   "id": "483742e6",
   "metadata": {},
   "source": [
    "## Imports"
   ]
  },
  {
   "cell_type": "code",
   "execution_count": null,
   "id": "59ae5d89",
   "metadata": {},
   "outputs": [],
   "source": [
    "import matplotlib.pyplot as plt\n",
    "import numpy as np\n",
    "import pandas as pd\n",
    "import seaborn as sns\n",
    "\n",
    "import tensorflow as tf\n",
    "\n",
    "import sklearn\n",
    "\n",
    "\n",
    "import xgboost as xgb\n",
    "\n",
    "xgb.set_config(verbosity=2)"
   ]
  },
  {
   "cell_type": "markdown",
   "id": "7e3bf738",
   "metadata": {},
   "source": [
    "## Load Data"
   ]
  },
  {
   "cell_type": "code",
   "execution_count": null,
   "id": "988cda1c",
   "metadata": {},
   "outputs": [],
   "source": [
    "dataset = pd.read_csv('datasets/pa/NFS_LMA_DATA.csv')"
   ]
  },
  {
   "cell_type": "markdown",
   "id": "a5bd44c0",
   "metadata": {},
   "source": [
    "### Split into Test and Train data"
   ]
  },
  {
   "cell_type": "code",
   "execution_count": null,
   "id": "b36a6aed",
   "metadata": {},
   "outputs": [],
   "source": [
    "train_dataset = dataset.sample(frac=0.8, random_state=42)\n",
    "test_dataset = dataset.drop(train_dataset.index)\n",
    "\n",
    "print(\"No Training Samples:\",train_dataset.shape[0])\n",
    "print(\"No Test Samples:\",test_dataset.shape[0])"
   ]
  },
  {
   "cell_type": "markdown",
   "id": "6203bb7f",
   "metadata": {},
   "source": [
    "### Split Features from Targets"
   ]
  },
  {
   "cell_type": "code",
   "execution_count": null,
   "id": "a53c549e",
   "metadata": {},
   "outputs": [],
   "source": [
    "train_X = train_dataset.copy()\n",
    "test_X = test_dataset.copy()\n",
    "\n",
    "train_y = pd.concat([train_X.pop(x) for x in ['EMOTION_P', 'EMOTION_A']], axis=1)\n",
    "test_y = pd.concat([test_X.pop(x) for x in ['EMOTION_P', 'EMOTION_A']], axis=1)\n",
    "\n",
    "test_y_p = test_y.iloc[:,0]\n",
    "train_y_p = train_y.iloc[:,0]\n",
    "\n",
    "test_y_a = test_y.iloc[:,1]\n",
    "train_y_a = train_y.iloc[:,1]"
   ]
  },
  {
   "cell_type": "code",
   "execution_count": null,
   "id": "5e183561",
   "metadata": {},
   "outputs": [],
   "source": [
    "train_X.head()"
   ]
  },
  {
   "cell_type": "code",
   "execution_count": null,
   "id": "56cb9692",
   "metadata": {},
   "outputs": [],
   "source": [
    "train_y.head()"
   ]
  },
  {
   "cell_type": "code",
   "execution_count": null,
   "id": "3e7c8fc4",
   "metadata": {
    "scrolled": true
   },
   "outputs": [],
   "source": [
    "train_X.describe().transpose()[['mean', 'std']]"
   ]
  },
  {
   "cell_type": "markdown",
   "id": "cec8cb87",
   "metadata": {},
   "source": [
    "## Define Model"
   ]
  },
  {
   "cell_type": "code",
   "execution_count": null,
   "id": "aca7226c",
   "metadata": {},
   "outputs": [],
   "source": [
    "xgbr = xgb.XGBRegressor(verbosity=0) \n",
    "\n",
    "\n",
    "model_p = xgb.XGBRegressor(\n",
    "                    n_estimators=1000, learning_rate=0.1, max_depth=5, min_child_weight=11, \n",
    "                    subsample=1, colsample_bytree=1, objective=\"reg:linear\"\n",
    "                )\n",
    "\n",
    "model_a = xgb.XGBRegressor(\n",
    "                    n_estimators=1000, learning_rate=0.1, max_depth=5, min_child_weight=11, \n",
    "                    subsample=1, colsample_bytree=1, objective=\"reg:linear\"\n",
    "                )"
   ]
  },
  {
   "cell_type": "markdown",
   "id": "68a357b5",
   "metadata": {},
   "source": [
    "## Train Model"
   ]
  },
  {
   "cell_type": "markdown",
   "id": "d92e06f1",
   "metadata": {},
   "source": [
    "### Pleasure Regression"
   ]
  },
  {
   "cell_type": "code",
   "execution_count": null,
   "id": "07420f1d",
   "metadata": {},
   "outputs": [],
   "source": [
    "model_p.fit(train_X, train_y_p)"
   ]
  },
  {
   "cell_type": "markdown",
   "id": "203f897b",
   "metadata": {},
   "source": [
    "### Arousal Regression"
   ]
  },
  {
   "cell_type": "code",
   "execution_count": null,
   "id": "23659909",
   "metadata": {},
   "outputs": [],
   "source": [
    "model_a.fit(train_X, train_y_a)"
   ]
  },
  {
   "cell_type": "markdown",
   "id": "9df3bc86",
   "metadata": {},
   "source": [
    "## Test Model"
   ]
  },
  {
   "cell_type": "code",
   "execution_count": null,
   "id": "a7c2ed65",
   "metadata": {},
   "outputs": [],
   "source": [
    "score = model_p.score(train_X, train_y_p)  \n",
    "\n",
    "print(\"Pleasure\")\n",
    "print(\"Training score: \", score)\n",
    "\n",
    "print()\n",
    "\n",
    "score = model_a.score(train_X, train_y_a)  \n",
    "\n",
    "print(\"Arousal\")\n",
    "print(\"Training score: \", score)"
   ]
  },
  {
   "cell_type": "code",
   "execution_count": null,
   "id": "1c395cb9",
   "metadata": {},
   "outputs": [],
   "source": [
    "scores = cross_val_score(model_p, train_X, train_y_p,cv=10)\n",
    "\n",
    "print(\"Pleasure\")\n",
    "print(\"Mean cross-validation score: %.2f\" % scores.mean())\n",
    "\n",
    "print()\n",
    "\n",
    "scores = cross_val_score(model_a, train_X, train_y_a,cv=10)\n",
    "\n",
    "print(\"Arousal\")\n",
    "print(\"Training score: \", score)"
   ]
  },
  {
   "cell_type": "code",
   "execution_count": null,
   "id": "95fa3fc1",
   "metadata": {},
   "outputs": [],
   "source": [
    "kfold = KFold(n_splits=10, shuffle=True)\n",
    "kf_cv_scores = cross_val_score(model_p, train_X, train_y_p, cv=kfold )\n",
    "\n",
    "print(\"Pleasure\")\n",
    "print(\"K-fold CV average score: %.2f\" % kf_cv_scores.mean())\n",
    "\n",
    "print()\n",
    "\n",
    "kfold = KFold(n_splits=10, shuffle=True)\n",
    "kf_cv_scores = cross_val_score(model_a, train_X, train_y_a, cv=kfold )\n",
    "\n",
    "print(\"Arousal\")\n",
    "print(\"K-fold CV average score: %.2f\" % kf_cv_scores.mean())"
   ]
  },
  {
   "cell_type": "markdown",
   "id": "a3eb9b78",
   "metadata": {},
   "source": [
    "### Test Graphs"
   ]
  },
  {
   "cell_type": "code",
   "execution_count": null,
   "id": "89b19e1a",
   "metadata": {},
   "outputs": [],
   "source": [
    "pred_y_p = model_p.predict(test_X)\n",
    "mse = mean_squared_error(test_y_p, pred_y_p)\n",
    "print(\"MSE: %.2f\" % mse)\n",
    "\n",
    "pred_y_a = model_a.predict(test_X)\n",
    "mse = mean_squared_error(test_y_a, pred_y_a)\n",
    "print(\"MSE: %.2f\" % mse)"
   ]
  },
  {
   "cell_type": "code",
   "execution_count": null,
   "id": "1283a8ee",
   "metadata": {},
   "outputs": [],
   "source": [
    "x_ax = range(len(test_y_p))\n",
    "plt.plot(x_ax, test_y_p, label=\"original\")\n",
    "plt.plot(x_ax, pred_y_p, label=\"predicted\")\n",
    "\n",
    "plt.title(\"Pleasure predictions\")\n",
    "\n",
    "plt.legend()\n",
    "plt.show()"
   ]
  },
  {
   "cell_type": "code",
   "execution_count": null,
   "id": "ec214223",
   "metadata": {},
   "outputs": [],
   "source": [
    "x_ax = range(len(test_y_a))\n",
    "plt.plot(x_ax, test_y_a, label=\"original\")\n",
    "plt.plot(x_ax, pred_y_a, label=\"predicted\")\n",
    "\n",
    "plt.title(\"Arousal predictions\")\n",
    "\n",
    "plt.legend()\n",
    "plt.show()"
   ]
  },
  {
   "cell_type": "markdown",
   "id": "d0bb2a62",
   "metadata": {},
   "source": [
    "### Prediction"
   ]
  },
  {
   "cell_type": "code",
   "execution_count": 187,
   "id": "3120a806",
   "metadata": {},
   "outputs": [
    {
     "name": "stdout",
     "output_type": "stream",
     "text": [
      "Real: [-0.5  0.6]\n",
      "Predicted: [array([-0.26860075]), array([0.26220843])]\n"
     ]
    },
    {
     "name": "stderr",
     "output_type": "stream",
     "text": [
      "/home/ds/.local/lib/python3.8/site-packages/sklearn/base.py:450: UserWarning: X does not have valid feature names, but GradientBoostingRegressor was fitted with feature names\n",
      "  warnings.warn(\n",
      "/home/ds/.local/lib/python3.8/site-packages/sklearn/base.py:450: UserWarning: X does not have valid feature names, but GradientBoostingRegressor was fitted with feature names\n",
      "  warnings.warn(\n"
     ]
    }
   ],
   "source": [
    "row=test_X.iloc[0]\n",
    "\n",
    "x = np.asarray([row])\n",
    "\n",
    "y_p = model_p.predict(x)\n",
    "y_a = model_a.predict(x)\n",
    "\n",
    "print('Real: %s' % np.asarray(test_y.iloc[0]))\n",
    "print('Predicted: %s' % [y_p, y_a])"
   ]
  },
  {
   "cell_type": "code",
   "execution_count": 188,
   "id": "aecdc273",
   "metadata": {},
   "outputs": [
    {
     "name": "stdout",
     "output_type": "stream",
     "text": [
      "Real: [-0.5  0.6]\n",
      "Predicted: [array([-0.31992865]), array([0.30697318])]\n"
     ]
    },
    {
     "name": "stderr",
     "output_type": "stream",
     "text": [
      "/home/ds/.local/lib/python3.8/site-packages/sklearn/base.py:450: UserWarning: X does not have valid feature names, but GradientBoostingRegressor was fitted with feature names\n",
      "  warnings.warn(\n",
      "/home/ds/.local/lib/python3.8/site-packages/sklearn/base.py:450: UserWarning: X does not have valid feature names, but GradientBoostingRegressor was fitted with feature names\n",
      "  warnings.warn(\n"
     ]
    }
   ],
   "source": [
    "row=test_X.iloc[400]\n",
    "\n",
    "x = np.asarray([row])\n",
    "\n",
    "y_p = model_p.predict(x)\n",
    "y_a = model_a.predict(x)\n",
    "\n",
    "print('Real: %s' % np.asarray(test_y.iloc[0]))\n",
    "print('Predicted: %s' % [y_p, y_a])"
   ]
  },
  {
   "cell_type": "code",
   "execution_count": 189,
   "id": "1df8292d",
   "metadata": {},
   "outputs": [
    {
     "name": "stdout",
     "output_type": "stream",
     "text": [
      "Real: [-0.5  0.6]\n",
      "Predicted: [array([-0.23466166]), array([0.22392311])]\n"
     ]
    },
    {
     "name": "stderr",
     "output_type": "stream",
     "text": [
      "/home/ds/.local/lib/python3.8/site-packages/sklearn/base.py:450: UserWarning: X does not have valid feature names, but GradientBoostingRegressor was fitted with feature names\n",
      "  warnings.warn(\n",
      "/home/ds/.local/lib/python3.8/site-packages/sklearn/base.py:450: UserWarning: X does not have valid feature names, but GradientBoostingRegressor was fitted with feature names\n",
      "  warnings.warn(\n"
     ]
    }
   ],
   "source": [
    "row=test_X.iloc[69]\n",
    "\n",
    "x = np.asarray([row])\n",
    "\n",
    "y_p = model_p.predict(x)\n",
    "y_a = model_a.predict(x)\n",
    "\n",
    "print('Real: %s' % np.asarray(test_y.iloc[0]))\n",
    "print('Predicted: %s' % [y_p, y_a])"
   ]
  }
 ],
 "metadata": {
  "kernelspec": {
   "display_name": "Python 3 (ipykernel)",
   "language": "python",
   "name": "python3"
  },
  "language_info": {
   "codemirror_mode": {
    "name": "ipython",
    "version": 3
   },
   "file_extension": ".py",
   "mimetype": "text/x-python",
   "name": "python",
   "nbconvert_exporter": "python",
   "pygments_lexer": "ipython3",
   "version": "3.8.10"
  }
 },
 "nbformat": 4,
 "nbformat_minor": 5
}
