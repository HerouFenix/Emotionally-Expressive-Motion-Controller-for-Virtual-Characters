{
 "cells": [
  {
   "cell_type": "code",
   "execution_count": 34,
   "metadata": {},
   "outputs": [],
   "source": [
    "import numpy as np\n",
    "import pandas as pd\n",
    "\n",
    "import tensorflow as tf\n",
    "from tensorflow import keras\n",
    "from tensorflow.keras import layers\n",
    "import keras.backend as K\n",
    "from sklearn.utils import shuffle\n"
   ]
  },
  {
   "cell_type": "markdown",
   "metadata": {},
   "source": [
    "## Load Data"
   ]
  },
  {
   "cell_type": "code",
   "execution_count": 35,
   "metadata": {},
   "outputs": [],
   "source": [
    "dataset = pd.read_csv('datasets/Fs2_B_DANCE_WALK_KIN_0.5sec.csv')"
   ]
  },
  {
   "cell_type": "markdown",
   "metadata": {},
   "source": [
    "### Remove Emotions from dataset & Split into Train/Test sets"
   ]
  },
  {
   "cell_type": "code",
   "execution_count": 36,
   "metadata": {},
   "outputs": [
    {
     "name": "stdout",
     "output_type": "stream",
     "text": [
      "No Training Samples: 39539\n",
      "No Test Samples: 9885\n",
      "20\n"
     ]
    }
   ],
   "source": [
    "dataset = dataset.drop(columns=['EMOTION_P', 'EMOTION_A', 'EMOTION_D'])\n",
    "\n",
    "train_dataset = dataset.sample(frac=0.8, random_state=42)\n",
    "test_dataset = dataset.drop(train_dataset.index)\n",
    "\n",
    "print(\"No Training Samples:\",train_dataset.shape[0])\n",
    "print(\"No Test Samples:\",test_dataset.shape[0])\n",
    "\n",
    "train_dataset = shuffle(train_dataset)\n",
    "test_dataset = shuffle(test_dataset)\n",
    "\n",
    "train_dataset = np.asarray(train_dataset)\n",
    "test_dataset = np.asarray(test_dataset)\n",
    "\n",
    "x_train = train_dataset.reshape((len(train_dataset), np.prod(train_dataset.shape[1:])))\n",
    "x_test = test_dataset.reshape((len(test_dataset), np.prod(test_dataset.shape[1:])))\n",
    "\n",
    "print(len(x_train[0]))"
   ]
  },
  {
   "cell_type": "markdown",
   "metadata": {},
   "source": [
    "## Build Model"
   ]
  },
  {
   "cell_type": "markdown",
   "metadata": {},
   "source": [
    "### Settings"
   ]
  },
  {
   "cell_type": "code",
   "execution_count": 37,
   "metadata": {},
   "outputs": [
    {
     "name": "stdout",
     "output_type": "stream",
     "text": [
      "(20,)\n"
     ]
    }
   ],
   "source": [
    "latent_dim = 5\n",
    "intermediate_dim = 10\n",
    "input_shape = (dataset.shape[1],)\n",
    "print(input_shape)"
   ]
  },
  {
   "cell_type": "markdown",
   "metadata": {},
   "source": [
    "### Sampler"
   ]
  },
  {
   "cell_type": "code",
   "execution_count": 38,
   "metadata": {},
   "outputs": [],
   "source": [
    "class Sampling(layers.Layer):\n",
    "    \"\"\"Uses (z_mean, z_log_var) to sample z, the vector encoding a digit.\"\"\"\n",
    "\n",
    "    def call(self, inputs):\n",
    "        z_mean, z_log_var = inputs\n",
    "        \n",
    "        batch = tf.shape(z_mean)[0]\n",
    "        \n",
    "        dim = tf.shape(z_mean)[1]\n",
    "        \n",
    "        epsilon = tf.keras.backend.random_normal(shape=(batch, dim))\n",
    "        return z_mean + tf.exp(0.5 * z_log_var) * epsilon\n",
    "\n",
    "    \n",
    "def sample_point_from_normal_distribution(args):\n",
    "    mu, log_variance = args\n",
    "    epsilon = K.random_normal(shape=K.shape(mu), mean=0.0, stddev=1.0)\n",
    "    sampled_point = mu + K.exp(log_variance / 2) * epsilon\n",
    "    return sampled_point"
   ]
  },
  {
   "cell_type": "markdown",
   "metadata": {},
   "source": [
    "### Encoder"
   ]
  },
  {
   "cell_type": "code",
   "execution_count": 39,
   "metadata": {},
   "outputs": [
    {
     "name": "stdout",
     "output_type": "stream",
     "text": [
      "Model: \"encoder\"\n",
      "__________________________________________________________________________________________________\n",
      " Layer (type)                   Output Shape         Param #     Connected to                     \n",
      "==================================================================================================\n",
      " input_7 (InputLayer)           [(None, 20)]         0           []                               \n",
      "                                                                                                  \n",
      " dense_9 (Dense)                (None, 10)           210         ['input_7[0][0]']                \n",
      "                                                                                                  \n",
      " z_mean (Dense)                 (None, 5)            55          ['dense_9[0][0]']                \n",
      "                                                                                                  \n",
      " z_log_var (Dense)              (None, 5)            55          ['dense_9[0][0]']                \n",
      "                                                                                                  \n",
      " sampling_3 (Sampling)          (None, 5)            0           ['z_mean[0][0]',                 \n",
      "                                                                  'z_log_var[0][0]']              \n",
      "                                                                                                  \n",
      "==================================================================================================\n",
      "Total params: 320\n",
      "Trainable params: 320\n",
      "Non-trainable params: 0\n",
      "__________________________________________________________________________________________________\n"
     ]
    }
   ],
   "source": [
    "encoder_inputs = keras.Input(shape=input_shape)\n",
    "x = layers.Dense(intermediate_dim, activation=\"relu\")(encoder_inputs)\n",
    "\n",
    "z_mean = layers.Dense(latent_dim, name=\"z_mean\")(x)\n",
    "z_log_var = layers.Dense(latent_dim, name=\"z_log_var\")(x)\n",
    "\n",
    "z = Sampling()([z_mean, z_log_var])\n",
    "\n",
    "encoder = keras.Model(encoder_inputs, [z_mean, z_log_var, z], name=\"encoder\")\n",
    "encoder.summary()"
   ]
  },
  {
   "cell_type": "markdown",
   "metadata": {},
   "source": [
    "### Decoder"
   ]
  },
  {
   "cell_type": "code",
   "execution_count": 28,
   "metadata": {},
   "outputs": [
    {
     "name": "stdout",
     "output_type": "stream",
     "text": [
      "Model: \"decoder\"\n",
      "_________________________________________________________________\n",
      " Layer (type)                Output Shape              Param #   \n",
      "=================================================================\n",
      " input_6 (InputLayer)        [(None, 5)]               0         \n",
      "                                                                 \n",
      " dense_7 (Dense)             (None, 10)                60        \n",
      "                                                                 \n",
      " dense_8 (Dense)             (None, 20)                220       \n",
      "                                                                 \n",
      "=================================================================\n",
      "Total params: 280\n",
      "Trainable params: 280\n",
      "Non-trainable params: 0\n",
      "_________________________________________________________________\n"
     ]
    }
   ],
   "source": [
    "latent_inputs = keras.Input(shape=(latent_dim,))\n",
    "\n",
    "x = layers.Dense(intermediate_dim, activation=\"relu\")(latent_inputs)\n",
    "\n",
    "decoder_outputs = layers.Dense(input_shape[0], activation=\"linear\")(x)\n",
    "\n",
    "decoder = keras.Model(latent_inputs, decoder_outputs, name=\"decoder\")\n",
    "decoder.summary()"
   ]
  },
  {
   "cell_type": "markdown",
   "metadata": {},
   "source": [
    "### Define VAE as a model with a custom train_step"
   ]
  },
  {
   "cell_type": "code",
   "execution_count": 29,
   "metadata": {},
   "outputs": [],
   "source": [
    "class VAE(keras.Model):\n",
    "    def __init__(self, encoder, decoder, **kwargs):\n",
    "        super(VAE, self).__init__(**kwargs)\n",
    "        self.encoder = encoder\n",
    "        self.decoder = decoder\n",
    "        \n",
    "        self.total_loss_tracker = keras.metrics.Mean(name=\"total_loss\")\n",
    "        \n",
    "        self.reconstruction_loss_tracker = keras.metrics.Mean(\n",
    "            name=\"reconstruction_loss\"\n",
    "        )\n",
    "        \n",
    "        self.kl_loss_tracker = keras.metrics.Mean(name=\"kl_loss\")\n",
    "\n",
    "    @property\n",
    "    def metrics(self):\n",
    "        return [\n",
    "            self.total_loss_tracker,\n",
    "            self.reconstruction_loss_tracker,\n",
    "            self.kl_loss_tracker,\n",
    "        ]\n",
    "\n",
    "    def train_step(self, data):\n",
    "        with tf.GradientTape() as tape:\n",
    "            z_mean, z_log_var, z = self.encoder(data)\n",
    "            \n",
    "            reconstruction = self.decoder(z)\n",
    "            reconstruction_loss = tf.reduce_mean(\n",
    "                tf.reduce_sum(\n",
    "                    keras.losses.binary_crossentropy(data, reconstruction)\n",
    "                )\n",
    "            )\n",
    "            \n",
    "            kl_loss = -0.5 * (1 + z_log_var - tf.square(z_mean) - tf.exp(z_log_var))\n",
    "            kl_loss = tf.reduce_mean(tf.reduce_sum(kl_loss, axis=1))\n",
    "            \n",
    "            total_loss = reconstruction_loss + kl_loss\n",
    "            \n",
    "        grads = tape.gradient(total_loss, self.trainable_weights)\n",
    "        self.optimizer.apply_gradients(zip(grads, self.trainable_weights))\n",
    "        self.total_loss_tracker.update_state(total_loss)\n",
    "        self.reconstruction_loss_tracker.update_state(reconstruction_loss)\n",
    "        self.kl_loss_tracker.update_state(kl_loss)\n",
    "        \n",
    "        return {\n",
    "            \"loss\": self.total_loss_tracker.result(),\n",
    "            \"reconstruction_loss\": self.reconstruction_loss_tracker.result(),\n",
    "            \"kl_loss\": self.kl_loss_tracker.result(),\n",
    "        }\n"
   ]
  },
  {
   "cell_type": "markdown",
   "metadata": {},
   "source": [
    "## Train VAE"
   ]
  },
  {
   "cell_type": "code",
   "execution_count": 30,
   "metadata": {},
   "outputs": [
    {
     "name": "stdout",
     "output_type": "stream",
     "text": [
      "Epoch 1/30\n",
      "387/387 [==============================] - 1s 1ms/step - loss: 374.4097 - reconstruction_loss: 304.1058 - kl_loss: 0.2233\n",
      "Epoch 2/30\n",
      "387/387 [==============================] - 0s 1ms/step - loss: 159.5041 - reconstruction_loss: 137.2085 - kl_loss: 0.5345\n",
      "Epoch 3/30\n",
      "387/387 [==============================] - 0s 1ms/step - loss: 97.8469 - reconstruction_loss: 90.7043 - kl_loss: 0.7474\n",
      "Epoch 4/30\n",
      "387/387 [==============================] - 0s 1ms/step - loss: 81.1014 - reconstruction_loss: 78.2794 - kl_loss: 0.9209\n",
      "Epoch 5/30\n",
      "387/387 [==============================] - 0s 1ms/step - loss: 74.3206 - reconstruction_loss: 71.3531 - kl_loss: 1.1814\n",
      "Epoch 6/30\n",
      "387/387 [==============================] - 0s 1ms/step - loss: 69.7042 - reconstruction_loss: 68.4300 - kl_loss: 1.1861\n",
      "Epoch 7/30\n",
      "387/387 [==============================] - 0s 1ms/step - loss: 69.4697 - reconstruction_loss: 66.3645 - kl_loss: 1.1397\n",
      "Epoch 8/30\n",
      "387/387 [==============================] - 0s 1ms/step - loss: 64.9034 - reconstruction_loss: 62.7203 - kl_loss: 1.2899\n",
      "Epoch 9/30\n",
      "387/387 [==============================] - 0s 1ms/step - loss: 62.9596 - reconstruction_loss: 60.6278 - kl_loss: 1.3798\n",
      "Epoch 10/30\n",
      "387/387 [==============================] - 0s 1ms/step - loss: 60.8118 - reconstruction_loss: 58.5622 - kl_loss: 1.4987\n",
      "Epoch 11/30\n",
      "387/387 [==============================] - 0s 1ms/step - loss: 58.7400 - reconstruction_loss: 56.8011 - kl_loss: 1.9843\n",
      "Epoch 12/30\n",
      "387/387 [==============================] - 0s 1ms/step - loss: 58.4328 - reconstruction_loss: 55.3347 - kl_loss: 2.3413\n",
      "Epoch 13/30\n",
      "387/387 [==============================] - 0s 1ms/step - loss: 57.3115 - reconstruction_loss: 54.3629 - kl_loss: 2.3316\n",
      "Epoch 14/30\n",
      "387/387 [==============================] - 0s 1ms/step - loss: 55.8264 - reconstruction_loss: 53.0496 - kl_loss: 2.3622\n",
      "Epoch 15/30\n",
      "387/387 [==============================] - 0s 1ms/step - loss: 54.5449 - reconstruction_loss: 50.9884 - kl_loss: 2.3694\n",
      "Epoch 16/30\n",
      "387/387 [==============================] - 0s 1ms/step - loss: 50.2249 - reconstruction_loss: 46.7207 - kl_loss: 2.4091\n",
      "Epoch 17/30\n",
      "387/387 [==============================] - 0s 1ms/step - loss: 50.5506 - reconstruction_loss: 47.8249 - kl_loss: 3.2030\n",
      "Epoch 18/30\n",
      "387/387 [==============================] - 0s 1ms/step - loss: 47.6632 - reconstruction_loss: 43.4667 - kl_loss: 2.9191\n",
      "Epoch 19/30\n",
      "387/387 [==============================] - 0s 1ms/step - loss: 43.0250 - reconstruction_loss: 39.6577 - kl_loss: 3.0675\n",
      "Epoch 20/30\n",
      "387/387 [==============================] - 0s 1ms/step - loss: 41.5492 - reconstruction_loss: 36.8197 - kl_loss: 3.3053\n",
      "Epoch 21/30\n",
      "387/387 [==============================] - 0s 1ms/step - loss: 42.1104 - reconstruction_loss: 37.3506 - kl_loss: 3.6524\n",
      "Epoch 22/30\n",
      "387/387 [==============================] - 0s 1ms/step - loss: 38.5422 - reconstruction_loss: 34.2071 - kl_loss: 3.5811\n",
      "Epoch 23/30\n",
      "387/387 [==============================] - 0s 1ms/step - loss: 37.0280 - reconstruction_loss: 33.3738 - kl_loss: 3.4960\n",
      "Epoch 24/30\n",
      "387/387 [==============================] - 0s 1ms/step - loss: 37.1127 - reconstruction_loss: 34.0824 - kl_loss: 3.8555\n",
      "Epoch 25/30\n",
      "387/387 [==============================] - 0s 1ms/step - loss: 37.6301 - reconstruction_loss: 32.4081 - kl_loss: 4.2353\n",
      "Epoch 26/30\n",
      "387/387 [==============================] - 0s 1ms/step - loss: 36.2244 - reconstruction_loss: 31.3465 - kl_loss: 4.0983\n",
      "Epoch 27/30\n",
      "387/387 [==============================] - 0s 1ms/step - loss: 34.8713 - reconstruction_loss: 30.1094 - kl_loss: 4.1857\n",
      "Epoch 28/30\n",
      "387/387 [==============================] - 0s 1ms/step - loss: 33.4536 - reconstruction_loss: 29.4886 - kl_loss: 4.1090\n",
      "Epoch 29/30\n",
      "387/387 [==============================] - 0s 1ms/step - loss: 32.9679 - reconstruction_loss: 28.8608 - kl_loss: 4.0680\n",
      "Epoch 30/30\n",
      "387/387 [==============================] - 0s 1ms/step - loss: 32.3040 - reconstruction_loss: 28.5539 - kl_loss: 3.9953\n"
     ]
    },
    {
     "data": {
      "text/plain": [
       "<keras.callbacks.History at 0x7fc400792e90>"
      ]
     },
     "execution_count": 30,
     "metadata": {},
     "output_type": "execute_result"
    }
   ],
   "source": [
    "vae = VAE(encoder, decoder)\n",
    "vae.compile(optimizer=keras.optimizers.Adam())\n",
    "vae.fit(dataset, epochs=30, batch_size=128)"
   ]
  },
  {
   "cell_type": "markdown",
   "metadata": {},
   "source": [
    "### Test"
   ]
  },
  {
   "cell_type": "code",
   "execution_count": 31,
   "metadata": {},
   "outputs": [
    {
     "name": "stdout",
     "output_type": "stream",
     "text": [
      "[[ 0.43891064  0.26525414  0.22958809  0.28302481  0.46816296  0.45200459\n",
      "   0.35045947  0.3334689   0.286151    0.27875033  0.01188453 -0.14239762\n",
      "  -0.06731151  0.98744555  0.09445444  0.01411131  0.01639102  0.02076603\n",
      "   0.01443551  0.0214161 ]]\n"
     ]
    }
   ],
   "source": [
    "sample = np.asarray(dataset.iloc[1])\n",
    "sample = sample.reshape(1,-1)\n",
    "print(sample)"
   ]
  },
  {
   "cell_type": "code",
   "execution_count": 32,
   "metadata": {},
   "outputs": [
    {
     "name": "stdout",
     "output_type": "stream",
     "text": [
      "WARNING:tensorflow:5 out of the last 5 calls to <function Model.make_predict_function.<locals>.predict_function at 0x7fc400778b00> triggered tf.function retracing. Tracing is expensive and the excessive number of tracings could be due to (1) creating @tf.function repeatedly in a loop, (2) passing tensors with different shapes, (3) passing Python objects instead of tensors. For (1), please define your @tf.function outside of the loop. For (2), @tf.function has experimental_relax_shapes=True option that relaxes argument shapes that can avoid unnecessary retracing. For (3), please refer to https://www.tensorflow.org/guide/function#controlling_retracing and https://www.tensorflow.org/api_docs/python/tf/function for  more details.\n"
     ]
    }
   ],
   "source": [
    "z_mean, z_log_var, z = vae.encoder.predict(sample)"
   ]
  },
  {
   "cell_type": "code",
   "execution_count": 33,
   "metadata": {},
   "outputs": [
    {
     "name": "stdout",
     "output_type": "stream",
     "text": [
      "WARNING:tensorflow:6 out of the last 6 calls to <function Model.make_predict_function.<locals>.predict_function at 0x7fc419f4e3b0> triggered tf.function retracing. Tracing is expensive and the excessive number of tracings could be due to (1) creating @tf.function repeatedly in a loop, (2) passing tensors with different shapes, (3) passing Python objects instead of tensors. For (1), please define your @tf.function outside of the loop. For (2), @tf.function has experimental_relax_shapes=True option that relaxes argument shapes that can avoid unnecessary retracing. For (3), please refer to https://www.tensorflow.org/guide/function#controlling_retracing and https://www.tensorflow.org/api_docs/python/tf/function for  more details.\n",
      "[[ 0.40596476  0.34402603  0.33477613  0.3557668   0.38091022  0.36383072\n",
      "   0.30834082  0.33207792  0.27965596  0.25482643 -0.2951659  -0.07551573\n",
      "  -0.18715452  0.7797067   0.2665775   0.25822058  0.31572473  0.20905638\n",
      "   0.23477826  0.23987621]]\n"
     ]
    }
   ],
   "source": [
    "regen = vae.decoder.predict(z)\n",
    "print(regen)"
   ]
  },
  {
   "cell_type": "markdown",
   "metadata": {},
   "source": [
    "\n"
   ]
  },
  {
   "cell_type": "markdown",
   "metadata": {},
   "source": [
    "\n"
   ]
  },
  {
   "cell_type": "markdown",
   "metadata": {},
   "source": [
    "\n"
   ]
  },
  {
   "cell_type": "markdown",
   "metadata": {},
   "source": [
    "\n"
   ]
  },
  {
   "cell_type": "markdown",
   "metadata": {},
   "source": [
    "\n"
   ]
  },
  {
   "cell_type": "markdown",
   "metadata": {},
   "source": [
    "\n"
   ]
  },
  {
   "cell_type": "markdown",
   "metadata": {},
   "source": [
    "\n"
   ]
  },
  {
   "cell_type": "markdown",
   "metadata": {},
   "source": [
    "\n"
   ]
  },
  {
   "cell_type": "markdown",
   "metadata": {},
   "source": [
    "\n"
   ]
  },
  {
   "cell_type": "markdown",
   "metadata": {},
   "source": [
    "\n"
   ]
  },
  {
   "cell_type": "markdown",
   "metadata": {},
   "source": [
    "\n"
   ]
  },
  {
   "cell_type": "markdown",
   "metadata": {},
   "source": [
    "\n"
   ]
  },
  {
   "cell_type": "markdown",
   "metadata": {},
   "source": [
    "\n"
   ]
  },
  {
   "cell_type": "markdown",
   "metadata": {},
   "source": [
    "\n"
   ]
  },
  {
   "cell_type": "markdown",
   "metadata": {},
   "source": [
    "\n"
   ]
  },
  {
   "cell_type": "markdown",
   "metadata": {},
   "source": [
    "\n"
   ]
  },
  {
   "cell_type": "markdown",
   "metadata": {},
   "source": [
    "\n"
   ]
  },
  {
   "cell_type": "markdown",
   "metadata": {},
   "source": [
    "\n"
   ]
  },
  {
   "cell_type": "markdown",
   "metadata": {},
   "source": [
    "\n"
   ]
  },
  {
   "cell_type": "markdown",
   "metadata": {},
   "source": [
    "\n"
   ]
  },
  {
   "cell_type": "markdown",
   "metadata": {},
   "source": [
    "\n"
   ]
  },
  {
   "cell_type": "markdown",
   "metadata": {},
   "source": [
    "\n"
   ]
  },
  {
   "cell_type": "markdown",
   "metadata": {},
   "source": [
    "\n"
   ]
  },
  {
   "cell_type": "markdown",
   "metadata": {},
   "source": [
    "\n"
   ]
  },
  {
   "cell_type": "markdown",
   "metadata": {},
   "source": [
    "\n"
   ]
  },
  {
   "cell_type": "markdown",
   "metadata": {},
   "source": [
    "\n"
   ]
  },
  {
   "cell_type": "code",
   "execution_count": 10,
   "metadata": {},
   "outputs": [],
   "source": [
    "def vae_loss(input_vols, output_vols):\n",
    "    beta = 1e-7\n",
    "    kl_loss = tf.keras.backend.sum(-1 - tf.keras.backend.log(tf.keras.backend.exp(z_log_var)) + tf.keras.backend.exp(z_log_var) + tf.keras.backend.square(z_mean))/2\n",
    "    return tf.keras.backend.mean((input_vols-output_vols)**2) + beta*kl_loss"
   ]
  },
  {
   "cell_type": "code",
   "execution_count": 220,
   "metadata": {},
   "outputs": [],
   "source": [
    "class VAE:\n",
    "    def __init__(self, encoder, decoder, encoder_input, z_mean, z_log_var):\n",
    "        self.encoder = encoder\n",
    "        self.decoder = decoder\n",
    "        \n",
    "        self._model_input = encoder_input\n",
    "        self.mu = z_mean\n",
    "        self.log_variance = z_log_var\n",
    "        \n",
    "        self.model = None\n",
    "        self._build_autoencoder()\n",
    "        \n",
    "        self.reconstruction_loss_weight = 1000\n",
    "        \n",
    "    def summary(self):\n",
    "        self.encoder.summary()\n",
    "        self.decoder.summary()\n",
    "        self.model.summary()\n",
    "        \n",
    "    def compile(self, learning_rate=0.0001):\n",
    "        optimizer = keras.optimizers.Adam(learning_rate=learning_rate)\n",
    "        self.model.compile(optimizer=optimizer,\n",
    "                          loss=self._calculate_combined_loss,\n",
    "                          metrics=[self._calculate_reconstruction_loss,\n",
    "                                   self._calculate_kl_loss])\n",
    "        \n",
    "    def train(self, train_set, batch_size, num_epochs):\n",
    "        self.model.fit(train_set, train_set,\n",
    "                      batch_size = batch_size,\n",
    "                      epochs=num_epochs,\n",
    "                      shuffle=True)\n",
    "        \n",
    "    def reconstruct(self, samples):\n",
    "        latent_representations = self.encoder.predict(samples)\n",
    "        reconstructed = self.decoder.predict(latent_representations)\n",
    "        return reconstructed, latent_representations\n",
    "    \n",
    "\n",
    "    \n",
    "    def _build_autoencoder(self):\n",
    "        model_output = self.decoder(self.encoder(self._model_input))\n",
    "        self.model = keras.Model(self._model_input, model_output, name=\"AutoEncoder\")\n",
    "        return\n",
    "    \n",
    "    def _calculate_combined_loss(self, y_target, y_predicted):\n",
    "        reconstruction_loss = self._calculate_reconstruction_loss(y_target, y_predicted)\n",
    "        kl_loss = self._calculate_kl_loss(y_target, y_predicted)\n",
    "        print(\"HIIIIIIIIIIII\")\n",
    "\n",
    "        combined_loss = (self.reconstruction_loss_weight * reconstruction_loss) + kl_loss\n",
    "        print(combined_loss)\n",
    "        return combined_loss\n",
    "    \n",
    "    def _calculate_reconstruction_loss(self, y_target, y_predicted):\n",
    "        error = y_target - y_predicted\n",
    "        reconstruction_loss = K.mean(K.square(error), axis=1) # this axis may be wrong\n",
    "        \n",
    "        return reconstruction_loss\n",
    "    \n",
    "    def _calculate_kl_loss(self, y_target, y_predicted):\n",
    "        kl_loss = -0.5 * K.sum(1 + self.log_variance - K.square(self.mu) - K.exp(self.log_variance), axis=1)\n",
    "        return kl_loss"
   ]
  },
  {
   "cell_type": "markdown",
   "metadata": {},
   "source": [
    "\n"
   ]
  },
  {
   "cell_type": "markdown",
   "metadata": {},
   "source": [
    "\n"
   ]
  },
  {
   "cell_type": "markdown",
   "metadata": {},
   "source": [
    "\n"
   ]
  }
 ],
 "metadata": {
  "kernelspec": {
   "display_name": "Python 3",
   "language": "python",
   "name": "python3"
  },
  "language_info": {
   "codemirror_mode": {
    "name": "ipython",
    "version": 3
   },
   "file_extension": ".py",
   "mimetype": "text/x-python",
   "name": "python",
   "nbconvert_exporter": "python",
   "pygments_lexer": "ipython3",
   "version": "3.7.5"
  }
 },
 "nbformat": 4,
 "nbformat_minor": 4
}
