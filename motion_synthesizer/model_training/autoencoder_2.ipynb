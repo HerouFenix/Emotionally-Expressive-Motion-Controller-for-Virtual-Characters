{
 "cells": [
  {
   "cell_type": "code",
   "execution_count": 107,
   "metadata": {},
   "outputs": [],
   "source": [
    "from tensorflow import keras\n",
    "from keras import layers\n",
    "from keras.datasets import mnist\n",
    "import numpy as np\n",
    "import matplotlib.pyplot as plt\n",
    "from keras import backend as K\n",
    "import pandas as pd\n",
    "from sklearn.utils import shuffle\n",
    "import tensorflow as tf\n",
    "import xgboost as xgb\n",
    "import joblib\n",
    "\n",
    "# Current Best - 13 (0.156)"
   ]
  },
  {
   "cell_type": "markdown",
   "metadata": {},
   "source": [
    "# AutoEncoder"
   ]
  },
  {
   "cell_type": "markdown",
   "metadata": {},
   "source": [
    "## Encoder"
   ]
  },
  {
   "cell_type": "code",
   "execution_count": 108,
   "metadata": {},
   "outputs": [],
   "source": [
    "original_dim = 27\n",
    "intermediate_dim = 13\n",
    "latent_dim = 1\n",
    "\n",
    "inputs = keras.Input(shape=(original_dim,))\n",
    "x = layers.Dense(intermediate_dim, activation='linear')(inputs)\n",
    "#x = layers.Dense(intermediate_dim, activation='linear')(inputs)\n",
    "\n",
    "h = layers.Dense(intermediate_dim, activation='relu')(x)\n",
    "z_mean = layers.Dense(latent_dim)(h)\n",
    "z_log_sigma = layers.Dense(latent_dim)(h)\n"
   ]
  },
  {
   "cell_type": "markdown",
   "metadata": {},
   "source": [
    "### Sampling Layer"
   ]
  },
  {
   "cell_type": "code",
   "execution_count": 109,
   "metadata": {},
   "outputs": [],
   "source": [
    "class Sampling(layers.Layer):\n",
    "    \"\"\"Uses (z_mean, z_log_var) to sample z, the vector encoding a digit.\"\"\"\n",
    "\n",
    "    def call(self, inputs):\n",
    "        z_mean, z_log_sigma = inputs\n",
    "        \n",
    "        batch = tf.shape(z_mean)[0]\n",
    "        \n",
    "        dim = tf.shape(z_mean)[1]\n",
    "        \n",
    "        epsilon = tf.keras.backend.random_normal(shape=(batch, dim))\n",
    "        return z_mean + tf.exp(0.5 * z_log_sigma) * epsilon\n",
    "\n",
    "z = Sampling()([z_mean, z_log_sigma])"
   ]
  },
  {
   "cell_type": "markdown",
   "metadata": {},
   "source": [
    "## Decoder & VAE"
   ]
  },
  {
   "cell_type": "code",
   "execution_count": 110,
   "metadata": {},
   "outputs": [],
   "source": [
    "# Create encoder\n",
    "encoder = keras.Model(inputs, [z_mean, z_log_sigma, z], name='encoder')\n",
    "\n",
    "# Create decoder\n",
    "latent_inputs = keras.Input(shape=(latent_dim,), name='z_sampling')\n",
    "x = layers.Dense(intermediate_dim, activation='relu')(latent_inputs)\n",
    "#x = layers.Dense(intermediate_dim, activation='linear')(x)\n",
    "\n",
    "outputs = layers.Dense(original_dim, activation='linear')(x)\n",
    "decoder = keras.Model(latent_inputs, outputs, name='decoder')\n",
    "\n",
    "# instantiate VAE model\n",
    "outputs = decoder(encoder(inputs)[2])\n",
    "vae = keras.Model(inputs, outputs, name='vae_mlp')"
   ]
  },
  {
   "cell_type": "markdown",
   "metadata": {},
   "source": [
    "## Loss"
   ]
  },
  {
   "cell_type": "code",
   "execution_count": 111,
   "metadata": {},
   "outputs": [],
   "source": [
    "#mse = keras.losses.MeanSquaredError()\n",
    "#reconstruction_loss = mse(inputs, outputs)\n",
    "#reconstruction_loss *= 27\n",
    "reconstruction_loss_factor = 2500\n",
    "reconstruction_loss = tf.keras.backend.mean(tf.keras.backend.square(inputs-outputs))\n",
    "\n",
    "kl_loss = 1 + z_log_sigma - K.square(z_mean) - K.exp(z_log_sigma)\n",
    "kl_loss = K.sum(kl_loss, axis=-1)\n",
    "kl_loss *= -0.5\n",
    "\n",
    "vae_loss = K.mean((reconstruction_loss_factor*reconstruction_loss) + kl_loss)\n",
    "vae.add_loss(vae_loss)"
   ]
  },
  {
   "cell_type": "markdown",
   "metadata": {},
   "source": [
    "## Data"
   ]
  },
  {
   "cell_type": "code",
   "execution_count": 112,
   "metadata": {},
   "outputs": [
    {
     "name": "stdout",
     "output_type": "stream",
     "text": [
      "No Training Samples: 34156\n",
      "No Test Samples: 6028\n",
      "27\n"
     ]
    }
   ],
   "source": [
    "dataset = pd.read_csv('datasets/Fs_B_O_DANCE_WALK_KIN_0.5sec.csv')\n",
    "\n",
    "train_dataset = dataset.sample(frac=0.85, random_state=42)\n",
    "test_dataset = dataset.drop(train_dataset.index)\n",
    "\n",
    "print(\"No Training Samples:\",train_dataset.shape[0])\n",
    "print(\"No Test Samples:\",test_dataset.shape[0])\n",
    "\n",
    "train_dataset = shuffle(train_dataset)\n",
    "test_dataset = shuffle(test_dataset)\n",
    "\n",
    "train_emotions = pd.concat([train_dataset.pop(x) for x in ['EMOTION_P', 'EMOTION_A', 'EMOTION_D']], axis=1)\n",
    "test_emotions = pd.concat([test_dataset.pop(x) for x in ['EMOTION_P', 'EMOTION_A', 'EMOTION_D']], axis=1)\n",
    "\n",
    "\n",
    "train_dataset = np.asarray(train_dataset)\n",
    "test_dataset = np.asarray(test_dataset)\n",
    "\n",
    "x_train = train_dataset.reshape((len(train_dataset), np.prod(train_dataset.shape[1:])))\n",
    "x_test = test_dataset.reshape((len(test_dataset), np.prod(test_dataset.shape[1:])))\n",
    "\n",
    "print(len(x_train[0]))"
   ]
  },
  {
   "cell_type": "markdown",
   "metadata": {},
   "source": [
    "## Train"
   ]
  },
  {
   "cell_type": "code",
   "execution_count": 113,
   "metadata": {},
   "outputs": [],
   "source": [
    "optimizer=keras.optimizers.Adam(learning_rate=0.001)\n",
    "vae.compile(optimizer=optimizer)"
   ]
  },
  {
   "cell_type": "code",
   "execution_count": 114,
   "metadata": {
    "scrolled": false
   },
   "outputs": [
    {
     "name": "stdout",
     "output_type": "stream",
     "text": [
      "Epoch 1/128\n",
      "2135/2135 [==============================] - 3s 1ms/step - loss: 329.5782\n",
      "Epoch 2/128\n",
      "2135/2135 [==============================] - 3s 1ms/step - loss: 216.1588\n",
      "Epoch 3/128\n",
      "2135/2135 [==============================] - 3s 1ms/step - loss: 214.8717\n",
      "Epoch 4/128\n",
      "2135/2135 [==============================] - 3s 1ms/step - loss: 213.9515\n",
      "Epoch 5/128\n",
      "2135/2135 [==============================] - 3s 1ms/step - loss: 213.1076\n",
      "Epoch 6/128\n",
      "2135/2135 [==============================] - 3s 1ms/step - loss: 212.8296\n",
      "Epoch 7/128\n",
      "2135/2135 [==============================] - 3s 1ms/step - loss: 212.6207\n",
      "Epoch 8/128\n",
      "2135/2135 [==============================] - 3s 1ms/step - loss: 212.4688\n",
      "Epoch 9/128\n",
      "2135/2135 [==============================] - 3s 1ms/step - loss: 212.1942\n",
      "Epoch 10/128\n",
      "2135/2135 [==============================] - 3s 1ms/step - loss: 211.9754\n",
      "Epoch 11/128\n",
      "2135/2135 [==============================] - 3s 1ms/step - loss: 211.7210\n",
      "Epoch 12/128\n",
      "2135/2135 [==============================] - 3s 1ms/step - loss: 211.5533\n",
      "Epoch 13/128\n",
      "2135/2135 [==============================] - 3s 1ms/step - loss: 211.2266\n",
      "Epoch 14/128\n",
      "2135/2135 [==============================] - 3s 1ms/step - loss: 211.0962\n",
      "Epoch 15/128\n",
      "2135/2135 [==============================] - 3s 1ms/step - loss: 210.9519\n",
      "Epoch 16/128\n",
      "2135/2135 [==============================] - 3s 1ms/step - loss: 210.7406\n",
      "Epoch 17/128\n",
      "2135/2135 [==============================] - 3s 1ms/step - loss: 210.6090\n",
      "Epoch 18/128\n",
      "2135/2135 [==============================] - 3s 1ms/step - loss: 210.3319\n",
      "Epoch 19/128\n",
      "2135/2135 [==============================] - 3s 1ms/step - loss: 210.1936\n",
      "Epoch 20/128\n",
      "2135/2135 [==============================] - 3s 1ms/step - loss: 209.8706\n",
      "Epoch 21/128\n",
      "2135/2135 [==============================] - 3s 1ms/step - loss: 209.6634\n",
      "Epoch 22/128\n",
      "2135/2135 [==============================] - 3s 1ms/step - loss: 209.4940\n",
      "Epoch 23/128\n",
      "2135/2135 [==============================] - 3s 1ms/step - loss: 209.2329\n",
      "Epoch 24/128\n",
      "2135/2135 [==============================] - 3s 1ms/step - loss: 209.0040\n",
      "Epoch 25/128\n",
      "2135/2135 [==============================] - 3s 1ms/step - loss: 208.8036\n",
      "Epoch 26/128\n",
      "2135/2135 [==============================] - 3s 1ms/step - loss: 208.6804\n",
      "Epoch 27/128\n",
      "2135/2135 [==============================] - 3s 1ms/step - loss: 208.3095\n",
      "Epoch 28/128\n",
      "2135/2135 [==============================] - 3s 1ms/step - loss: 207.9382\n",
      "Epoch 29/128\n",
      "2135/2135 [==============================] - 3s 1ms/step - loss: 207.7151\n",
      "Epoch 30/128\n",
      "2135/2135 [==============================] - 3s 1ms/step - loss: 207.2192\n",
      "Epoch 31/128\n",
      "2135/2135 [==============================] - 3s 1ms/step - loss: 206.8892\n",
      "Epoch 32/128\n",
      "2135/2135 [==============================] - 3s 1ms/step - loss: 206.2519\n",
      "Epoch 33/128\n",
      "2135/2135 [==============================] - 3s 1ms/step - loss: 206.0273\n",
      "Epoch 34/128\n",
      "2135/2135 [==============================] - 3s 1ms/step - loss: 205.5499\n",
      "Epoch 35/128\n",
      "2135/2135 [==============================] - 3s 1ms/step - loss: 205.6707\n",
      "Epoch 36/128\n",
      "2135/2135 [==============================] - 3s 1ms/step - loss: 204.9037\n",
      "Epoch 37/128\n",
      "2135/2135 [==============================] - 3s 1ms/step - loss: 204.5379\n",
      "Epoch 38/128\n",
      "2135/2135 [==============================] - 3s 1ms/step - loss: 203.8094\n",
      "Epoch 39/128\n",
      "2135/2135 [==============================] - 3s 1ms/step - loss: 204.1049\n",
      "Epoch 40/128\n",
      "2135/2135 [==============================] - 3s 1ms/step - loss: 203.9112\n",
      "Epoch 41/128\n",
      "2135/2135 [==============================] - 3s 1ms/step - loss: 203.1608\n",
      "Epoch 42/128\n",
      "2135/2135 [==============================] - 3s 1ms/step - loss: 202.9939\n",
      "Epoch 43/128\n",
      "2135/2135 [==============================] - 3s 1ms/step - loss: 202.8587\n",
      "Epoch 44/128\n",
      "2135/2135 [==============================] - 3s 1ms/step - loss: 202.4263\n",
      "Epoch 45/128\n",
      "2135/2135 [==============================] - 3s 1ms/step - loss: 202.0169\n",
      "Epoch 46/128\n",
      "2135/2135 [==============================] - 3s 1ms/step - loss: 202.0994\n",
      "Epoch 47/128\n",
      "2135/2135 [==============================] - 3s 1ms/step - loss: 201.8760\n",
      "Epoch 48/128\n",
      "2135/2135 [==============================] - 3s 1ms/step - loss: 201.9286\n",
      "Epoch 49/128\n",
      "2135/2135 [==============================] - 3s 1ms/step - loss: 200.5518\n",
      "Epoch 50/128\n",
      "2135/2135 [==============================] - 3s 1ms/step - loss: 200.1510\n",
      "Epoch 51/128\n",
      "2135/2135 [==============================] - 3s 1ms/step - loss: 200.0696\n",
      "Epoch 52/128\n",
      "2135/2135 [==============================] - 3s 1ms/step - loss: 199.6660\n",
      "Epoch 53/128\n",
      "2135/2135 [==============================] - 3s 1ms/step - loss: 199.7712\n",
      "Epoch 54/128\n",
      "2135/2135 [==============================] - 3s 1ms/step - loss: 199.1963\n",
      "Epoch 55/128\n",
      "2135/2135 [==============================] - 3s 1ms/step - loss: 198.5374\n",
      "Epoch 56/128\n",
      "2135/2135 [==============================] - 3s 1ms/step - loss: 199.7310\n",
      "Epoch 57/128\n",
      "2135/2135 [==============================] - 3s 1ms/step - loss: 200.3315\n",
      "Epoch 58/128\n",
      "2135/2135 [==============================] - 3s 1ms/step - loss: 198.7194\n",
      "Epoch 59/128\n",
      "2135/2135 [==============================] - 3s 1ms/step - loss: 197.5947\n",
      "Epoch 60/128\n",
      "2135/2135 [==============================] - 3s 1ms/step - loss: 198.8536\n",
      "Epoch 61/128\n",
      "2135/2135 [==============================] - 3s 1ms/step - loss: 198.2267\n",
      "Epoch 62/128\n",
      "2135/2135 [==============================] - 3s 1ms/step - loss: 202.3325\n",
      "Epoch 63/128\n",
      "2135/2135 [==============================] - 3s 1ms/step - loss: 200.2685\n",
      "Epoch 64/128\n",
      "2135/2135 [==============================] - 3s 1ms/step - loss: 204.2555\n",
      "Epoch 65/128\n",
      "2135/2135 [==============================] - 3s 1ms/step - loss: 201.5210\n",
      "Epoch 66/128\n",
      "2135/2135 [==============================] - 3s 1ms/step - loss: 198.8925\n",
      "Epoch 67/128\n",
      "2135/2135 [==============================] - 3s 1ms/step - loss: 199.3257\n",
      "Epoch 68/128\n",
      "2135/2135 [==============================] - 3s 1ms/step - loss: 198.6996\n",
      "Epoch 69/128\n",
      "2135/2135 [==============================] - 3s 1ms/step - loss: 198.1886\n",
      "Epoch 70/128\n",
      "2135/2135 [==============================] - 3s 1ms/step - loss: 197.7796\n",
      "Epoch 71/128\n",
      "2135/2135 [==============================] - 3s 1ms/step - loss: 201.4333\n",
      "Epoch 72/128\n",
      "2135/2135 [==============================] - 3s 1ms/step - loss: 198.2208\n",
      "Epoch 73/128\n",
      "2135/2135 [==============================] - 3s 1ms/step - loss: 197.7304\n",
      "Epoch 74/128\n",
      "2135/2135 [==============================] - 3s 1ms/step - loss: 196.9496\n",
      "Epoch 75/128\n",
      "2135/2135 [==============================] - 3s 1ms/step - loss: 196.5417\n",
      "Epoch 76/128\n",
      "2135/2135 [==============================] - 3s 1ms/step - loss: 196.5393\n",
      "Epoch 77/128\n",
      "2135/2135 [==============================] - 3s 1ms/step - loss: 197.1960\n",
      "Epoch 78/128\n",
      "2135/2135 [==============================] - 3s 1ms/step - loss: 196.9753\n",
      "Epoch 79/128\n",
      "2135/2135 [==============================] - 3s 1ms/step - loss: 197.0947\n",
      "Epoch 80/128\n",
      "2135/2135 [==============================] - 3s 1ms/step - loss: 197.0721\n",
      "Epoch 81/128\n",
      "2135/2135 [==============================] - 3s 1ms/step - loss: 198.0246\n",
      "Epoch 82/128\n",
      "2135/2135 [==============================] - 3s 1ms/step - loss: 196.2289\n",
      "Epoch 83/128\n",
      "2135/2135 [==============================] - 3s 1ms/step - loss: 196.0993\n",
      "Epoch 84/128\n",
      "2135/2135 [==============================] - 3s 1ms/step - loss: 195.5970\n",
      "Epoch 85/128\n",
      "2135/2135 [==============================] - 3s 1ms/step - loss: 197.0188\n",
      "Epoch 86/128\n",
      "2135/2135 [==============================] - 3s 1ms/step - loss: 196.2811\n",
      "Epoch 87/128\n",
      "2135/2135 [==============================] - 3s 1ms/step - loss: 196.6936\n",
      "Epoch 88/128\n",
      "2135/2135 [==============================] - 3s 1ms/step - loss: 196.7889\n",
      "Epoch 89/128\n",
      "2135/2135 [==============================] - 3s 1ms/step - loss: 196.4133\n",
      "Epoch 90/128\n",
      "2135/2135 [==============================] - 3s 1ms/step - loss: 199.8839\n",
      "Epoch 91/128\n",
      "2135/2135 [==============================] - 3s 1ms/step - loss: 196.2953\n",
      "Epoch 92/128\n",
      "2135/2135 [==============================] - 3s 1ms/step - loss: 197.0179\n",
      "Epoch 93/128\n",
      "2135/2135 [==============================] - 3s 1ms/step - loss: 195.8344\n",
      "Epoch 94/128\n",
      "2135/2135 [==============================] - 3s 1ms/step - loss: 195.7083\n",
      "Epoch 95/128\n"
     ]
    },
    {
     "name": "stdout",
     "output_type": "stream",
     "text": [
      "2135/2135 [==============================] - 3s 1ms/step - loss: 196.2146\n",
      "Epoch 96/128\n",
      "2135/2135 [==============================] - 3s 1ms/step - loss: 196.3900\n",
      "Epoch 97/128\n",
      "2135/2135 [==============================] - 3s 1ms/step - loss: 195.7313\n",
      "Epoch 98/128\n",
      "2135/2135 [==============================] - 3s 1ms/step - loss: 196.7302\n",
      "Epoch 99/128\n",
      "2135/2135 [==============================] - 3s 1ms/step - loss: 195.4985\n",
      "Epoch 100/128\n",
      "2135/2135 [==============================] - 3s 1ms/step - loss: 197.2702\n",
      "Epoch 101/128\n",
      "2135/2135 [==============================] - 3s 1ms/step - loss: 201.7824\n",
      "Epoch 102/128\n",
      "2135/2135 [==============================] - 3s 1ms/step - loss: 197.8907\n",
      "Epoch 103/128\n",
      "2135/2135 [==============================] - 3s 1ms/step - loss: 198.0412\n",
      "Epoch 104/128\n",
      "2135/2135 [==============================] - 3s 1ms/step - loss: 198.3322\n",
      "Epoch 105/128\n",
      "2135/2135 [==============================] - 3s 1ms/step - loss: 203.9488\n",
      "Epoch 106/128\n",
      "2135/2135 [==============================] - 3s 1ms/step - loss: 205.8860\n",
      "Epoch 107/128\n",
      "2135/2135 [==============================] - 3s 1ms/step - loss: 198.7501\n",
      "Epoch 108/128\n",
      "2135/2135 [==============================] - 3s 1ms/step - loss: 197.8809\n",
      "Epoch 109/128\n",
      "2135/2135 [==============================] - 3s 1ms/step - loss: 196.8561\n",
      "Epoch 110/128\n",
      "2135/2135 [==============================] - 3s 1ms/step - loss: 196.1839\n",
      "Epoch 111/128\n",
      "2135/2135 [==============================] - 3s 1ms/step - loss: 195.7761\n",
      "Epoch 112/128\n",
      "2135/2135 [==============================] - 3s 1ms/step - loss: 194.8571\n",
      "Epoch 113/128\n",
      "2135/2135 [==============================] - 3s 1ms/step - loss: 197.1874\n",
      "Epoch 114/128\n",
      "2135/2135 [==============================] - 3s 1ms/step - loss: 200.0064\n",
      "Epoch 115/128\n",
      "2135/2135 [==============================] - 3s 1ms/step - loss: 198.7681\n",
      "Epoch 116/128\n",
      "2135/2135 [==============================] - 3s 1ms/step - loss: 196.6528\n",
      "Epoch 117/128\n",
      "2135/2135 [==============================] - 3s 1ms/step - loss: 195.5155\n",
      "Epoch 118/128\n",
      "2135/2135 [==============================] - 3s 1ms/step - loss: 195.4479\n",
      "Epoch 119/128\n",
      "2135/2135 [==============================] - 3s 1ms/step - loss: 197.3086\n",
      "Epoch 120/128\n",
      "2135/2135 [==============================] - 3s 1ms/step - loss: 195.1299\n",
      "Epoch 121/128\n",
      "2135/2135 [==============================] - 3s 1ms/step - loss: 194.2175\n",
      "Epoch 122/128\n",
      "2135/2135 [==============================] - 3s 1ms/step - loss: 194.6954\n",
      "Epoch 123/128\n",
      "2135/2135 [==============================] - 3s 1ms/step - loss: 194.4851\n",
      "Epoch 124/128\n",
      "2135/2135 [==============================] - 3s 1ms/step - loss: 195.4340\n",
      "Epoch 125/128\n",
      "2135/2135 [==============================] - 3s 1ms/step - loss: 194.4059\n",
      "Epoch 126/128\n",
      "2135/2135 [==============================] - 3s 1ms/step - loss: 194.3578\n",
      "Epoch 127/128\n",
      "2135/2135 [==============================] - 3s 1ms/step - loss: 195.9164\n",
      "Epoch 128/128\n",
      "2135/2135 [==============================] - 3s 1ms/step - loss: 194.1099\n"
     ]
    },
    {
     "data": {
      "text/plain": [
       "<keras.callbacks.History at 0x7f78bd644250>"
      ]
     },
     "execution_count": 114,
     "metadata": {},
     "output_type": "execute_result"
    }
   ],
   "source": [
    "vae.fit(x_train, x_train,\n",
    "        epochs=128,\n",
    "        batch_size=16,\n",
    "       )"
   ]
  },
  {
   "cell_type": "markdown",
   "metadata": {},
   "source": [
    "## Test"
   ]
  },
  {
   "cell_type": "markdown",
   "metadata": {},
   "source": [
    "### Sample Comparison & Emotion Classification"
   ]
  },
  {
   "cell_type": "code",
   "execution_count": 115,
   "metadata": {},
   "outputs": [
    {
     "name": "stdout",
     "output_type": "stream",
     "text": [
      "[[ 0.43072943  0.23804284  0.25137196  0.37880336  0.44684691  0.46263396\n",
      "   0.33256589  0.34248499  0.286151    0.27887122  0.00795415 -0.14954139\n",
      "  -0.03442787  0.98786149  0.15465787  0.14396525  0.13484668  0.41601316\n",
      "   0.47129584  0.58002704  0.34174169  0.50147265  0.95584669  0.96214887\n",
      "   1.15397984  0.74853783  1.06304759]]\n"
     ]
    }
   ],
   "source": [
    "sample = np.asarray(x_test[0])\n",
    "sample = sample.reshape(1,-1)\n",
    "print(sample)"
   ]
  },
  {
   "cell_type": "code",
   "execution_count": 116,
   "metadata": {},
   "outputs": [
    {
     "name": "stdout",
     "output_type": "stream",
     "text": [
      "[[0.71370333]]\n"
     ]
    }
   ],
   "source": [
    "mean, var, generated = encoder.predict(sample)\n",
    "print(generated)"
   ]
  },
  {
   "cell_type": "code",
   "execution_count": 117,
   "metadata": {},
   "outputs": [
    {
     "name": "stdout",
     "output_type": "stream",
     "text": [
      "[[ 0.5439786   0.3368191   0.34847587  0.3368892   0.41552877  0.4204768\n",
      "   0.3302599   0.33504462  0.28606403  0.2778035   0.01054765 -0.09400146\n",
      "  -0.0681314   0.9541349   0.28898832  0.11457188  0.1409095   0.40015918\n",
      "   0.42851758  0.26544657  0.28264362  0.29302424  1.0335169   1.0559022\n",
      "   0.6597234   0.7024478   0.64625186]]\n"
     ]
    }
   ],
   "source": [
    "regen = decoder.predict(generated)\n",
    "print(regen)"
   ]
  },
  {
   "cell_type": "code",
   "execution_count": 118,
   "metadata": {},
   "outputs": [],
   "source": [
    "model_p = xgb.XGBRegressor(verbosity=0)\n",
    "model_p.load_model(\"../../emotion_classifier/model_training/models/l2p_dance_model.json\")\n",
    "\n",
    "model_a = xgb.XGBRegressor(verbosity=0)\n",
    "model_a.load_model(\"../../emotion_classifier/model_training/models/l2a_dance_model.json\")\n",
    "\n",
    "model_d = xgb.XGBRegressor(verbosity=0)\n",
    "model_d.load_model(\"../../emotion_classifier/model_training/models/l2d_dance_model.json\")\n",
    "\n",
    "scaler = joblib.load('../../emotion_classifier/model_training/datasets/scalers/standardizers/Fs_B_S_DANCE_WALK_KIN_0.5sec.pkl') "
   ]
  },
  {
   "cell_type": "code",
   "execution_count": 119,
   "metadata": {
    "scrolled": true
   },
   "outputs": [
    {
     "name": "stdout",
     "output_type": "stream",
     "text": [
      "Real: [[-0.18105087]\n",
      " [-0.09036874]\n",
      " [-0.06514029]]\n",
      "Predicted: [[-0.2257404 ]\n",
      " [-0.2718483 ]\n",
      " [ 0.15213144]]\n"
     ]
    },
    {
     "name": "stderr",
     "output_type": "stream",
     "text": [
      "/home/diogosilva/.local/lib/python3.7/site-packages/sklearn/base.py:451: UserWarning: X does not have valid feature names, but StandardScaler was fitted with feature names\n",
      "  \"X does not have valid feature names, but\"\n",
      "/home/diogosilva/.local/lib/python3.7/site-packages/sklearn/base.py:451: UserWarning: X does not have valid feature names, but StandardScaler was fitted with feature names\n",
      "  \"X does not have valid feature names, but\"\n"
     ]
    }
   ],
   "source": [
    "scaled_sample = scaler.transform(sample)\n",
    "\n",
    "real_coordinates = (\n",
    "    model_p.predict(scaled_sample),\n",
    "    model_a.predict(scaled_sample),\n",
    "    model_d.predict(scaled_sample)\n",
    ")\n",
    "\n",
    "scaled_regen = scaler.transform(regen)\n",
    "\n",
    "generated_coordinates = (\n",
    "    model_p.predict(scaled_regen),\n",
    "    model_a.predict(scaled_regen),\n",
    "    model_d.predict(scaled_regen)\n",
    ")\n",
    "\n",
    "\n",
    "print('Real: %s' % np.asarray(real_coordinates))\n",
    "print('Predicted: %s' % np.asarray(generated_coordinates))"
   ]
  },
  {
   "cell_type": "markdown",
   "metadata": {},
   "source": [
    "### MAE & MSE"
   ]
  },
  {
   "cell_type": "code",
   "execution_count": 120,
   "metadata": {},
   "outputs": [],
   "source": [
    "from sklearn.metrics import mean_absolute_error\n",
    "from sklearn.metrics import mean_squared_error"
   ]
  },
  {
   "cell_type": "code",
   "execution_count": 121,
   "metadata": {},
   "outputs": [
    {
     "name": "stdout",
     "output_type": "stream",
     "text": [
      "[[0.5500726  0.33897582 0.35079283 ... 0.7078881  0.7534719  0.6941365 ]\n",
      " [0.4941336  0.32496446 0.32859433 ... 0.1290052  0.14932716 0.12419671]\n",
      " [0.49897194 0.32108793 0.33140257 ... 0.30069375 0.32243818 0.28960386]\n",
      " ...\n",
      " [0.6021679  0.35517013 0.37400267 ... 0.80195427 0.8468406  0.841792  ]\n",
      " [0.57269037 0.34670514 0.35980994 ... 0.8476575  0.9007689  0.8397384 ]\n",
      " [0.49056947 0.32248306 0.3285337  ... 0.15112484 0.17137945 0.14672017]]\n"
     ]
    }
   ],
   "source": [
    "mean, var, generated = encoder.predict(x_test)\n",
    "regen = decoder.predict(generated)\n",
    "\n",
    "print(regen)"
   ]
  },
  {
   "cell_type": "code",
   "execution_count": 122,
   "metadata": {
    "scrolled": false
   },
   "outputs": [
    {
     "name": "stdout",
     "output_type": "stream",
     "text": [
      "Overall MAE: 0.15670356043772807\n",
      "\n",
      "==max_hand_distance==\n",
      "MSE: 0.06012\n",
      "MAE: 0.19185\n",
      "Example [Regen-Real]: 0.5500726 - 0.4307294347930162\n",
      "\n",
      "==avg_l_hand_hip_distance==\n",
      "MSE: 0.01924\n",
      "MAE: 0.10951\n",
      "Example [Regen-Real]: 0.32496446 - 0.4309957160177905\n",
      "\n",
      "==avg_r_hand_hip_distance==\n",
      "MSE: 0.02399\n",
      "MAE: 0.12261\n",
      "Example [Regen-Real]: 0.33140257 - 0.574602981247248\n",
      "\n",
      "==max_stride_length==\n",
      "MSE: 0.01940\n",
      "MAE: 0.10684\n",
      "Example [Regen-Real]: 0.36242947 - 0.5436291098827964\n",
      "\n",
      "==avg_l_hand_chest_distance==\n",
      "MSE: 0.01152\n",
      "MAE: 0.08035\n",
      "Example [Regen-Real]: 0.42536807 - 0.4366265481499257\n",
      "\n",
      "==avg_r_hand_chest_distance==\n",
      "MSE: 0.01141\n",
      "MAE: 0.08069\n",
      "Example [Regen-Real]: 0.4126603 - 0.4853309428154969\n",
      "\n",
      "==avg_l_elbow_hip_distance==\n",
      "MSE: 0.00531\n",
      "MAE: 0.05266\n",
      "Example [Regen-Real]: 0.34532416 - 0.3809397134466188\n",
      "\n",
      "==avg_r_elbow_hip_distance==\n",
      "MSE: 0.00556\n",
      "MAE: 0.05451\n",
      "Example [Regen-Real]: 0.33311942 - 0.3194540220825596\n",
      "\n",
      "==avg_chest_pelvis_distance==\n",
      "MSE: 0.00000\n",
      "MAE: 0.00007\n",
      "Example [Regen-Real]: 0.28606498 - 0.286150999997311\n",
      "\n",
      "==avg_neck_chest_distance==\n",
      "MSE: 0.00000\n",
      "MAE: 0.00140\n",
      "Example [Regen-Real]: 0.27782476 - 0.27862898765383\n",
      "\n",
      "==avg_neck_rotation_w==\n",
      "MSE: 0.00725\n",
      "MAE: 0.05805\n",
      "Example [Regen-Real]: -0.0029133298 - 0.0121657019149844\n",
      "\n",
      "==avg_neck_rotation_x==\n",
      "MSE: 0.06104\n",
      "MAE: 0.16637\n",
      "Example [Regen-Real]: -0.11023945 - 0.181021728424847\n",
      "\n",
      "==avg_neck_rotation_y==\n",
      "MSE: 0.01392\n",
      "MAE: 0.08414\n",
      "Example [Regen-Real]: -0.0953259 - -0.1191623970033042\n",
      "\n",
      "==avg_neck_rotation_z==\n",
      "MSE: 0.00953\n",
      "MAE: 0.05798\n",
      "Example [Regen-Real]: 0.9575454 - 0.977094760455076\n",
      "\n",
      "==avg_total_body_volume==\n",
      "MSE: 0.02173\n",
      "MAE: 0.11463\n",
      "Example [Regen-Real]: 0.31134456 - 0.5240143166405168\n",
      "\n",
      "==avg_triangle_area_hands_neck==\n",
      "MSE: 0.00365\n",
      "MAE: 0.05104\n",
      "Example [Regen-Real]: 0.11289087 - 0.1630560309683537\n",
      "\n",
      "==avg_triangle_area_feet_hips==\n",
      "MSE: 0.00300\n",
      "MAE: 0.04344\n",
      "Example [Regen-Real]: 0.1420451 - 0.1287968879463306\n",
      "\n",
      "==l_hand_speed==\n",
      "MSE: 0.08892\n",
      "MAE: 0.22292\n",
      "Example [Regen-Real]: 0.35017312 - 0.0511732290229953\n",
      "\n",
      "==r_hand_speed==\n",
      "MSE: 0.09465\n",
      "MAE: 0.23104\n",
      "Example [Regen-Real]: 0.3297714 - 0.3677404667259225\n",
      "\n",
      "==l_foot_speed==\n",
      "MSE: 0.06727\n",
      "MAE: 0.18389\n",
      "Example [Regen-Real]: 0.5712544 - 0.6261659226438303\n",
      "\n",
      "==r_foot_speed==\n",
      "MSE: 0.06975\n",
      "MAE: 0.18928\n",
      "Example [Regen-Real]: 0.47807708 - 0.7034740979538282\n",
      "\n",
      "==neck_speed==\n",
      "MSE: 0.05520\n",
      "MAE: 0.17583\n",
      "Example [Regen-Real]: 0.5674466 - 0.2718643096912089\n",
      "\n",
      "==l_hand_acceleration_magnitude==\n",
      "MSE: 0.32162\n",
      "MAE: 0.39444\n",
      "Example [Regen-Real]: 0.9785443 - 1.027498684585981\n",
      "\n",
      "==r_hand_acceleration_magnitude==\n",
      "MSE: 0.31643\n",
      "MAE: 0.38389\n",
      "Example [Regen-Real]: 2.8770142 - 2.02100332166924\n",
      "\n",
      "==l_foot_acceleration_magnitude==\n",
      "MSE: 0.24712\n",
      "MAE: 0.34882\n",
      "Example [Regen-Real]: 0.61287016 - 0.3309134284388706\n",
      "\n",
      "==r_foot_acceleration_magnitude==\n",
      "MSE: 0.28307\n",
      "MAE: 0.36753\n",
      "Example [Regen-Real]: 0.7664799 - 0.6173527436973426\n",
      "\n",
      "==neck_acceleration_magnitude==\n",
      "MSE: 0.23917\n",
      "MAE: 0.35721\n",
      "Example [Regen-Real]: 0.7739915 - 0.1702744257349307\n",
      "\n"
     ]
    }
   ],
   "source": [
    "mae_errors = mean_absolute_error(x_test, regen, multioutput='raw_values')\n",
    "mse_errors = mean_squared_error(x_test, regen, multioutput='raw_values')\n",
    "\n",
    "features = [\"max_hand_distance\",\n",
    "          \"avg_l_hand_hip_distance\",\n",
    "          \"avg_r_hand_hip_distance\",\n",
    "          \"max_stride_length\",\n",
    "          \"avg_l_hand_chest_distance\",\n",
    "          \"avg_r_hand_chest_distance\",\n",
    "          \"avg_l_elbow_hip_distance\",\n",
    "          \"avg_r_elbow_hip_distance\",\n",
    "          \"avg_chest_pelvis_distance\",\n",
    "          \"avg_neck_chest_distance\",\n",
    "          \"avg_neck_rotation_w\", \"avg_neck_rotation_x\", \"avg_neck_rotation_y\", \"avg_neck_rotation_z\",\n",
    "          \"avg_total_body_volume\",\n",
    "          \"avg_triangle_area_hands_neck\",\n",
    "          \"avg_triangle_area_feet_hips\",\n",
    "          \n",
    "          \"l_hand_speed\",\n",
    "          \"r_hand_speed\",\n",
    "          \"l_foot_speed\",\n",
    "          \"r_foot_speed\",\n",
    "          \"neck_speed\",\n",
    "          \n",
    "          \"l_hand_acceleration_magnitude\",\n",
    "          \"r_hand_acceleration_magnitude\",\n",
    "          \"l_foot_acceleration_magnitude\",\n",
    "          \"r_foot_acceleration_magnitude\",\n",
    "          \"neck_acceleration_magnitude\",\n",
    "         ]\n",
    "\n",
    "print(\"Overall MAE: \" + str(mean_absolute_error(x_test, regen)))\n",
    "\n",
    "print()\n",
    "for i in range(len(mse_errors)):\n",
    "    print(\"==\" + features[i] + \"==\")\n",
    "    print(\"MSE: %.5f\" % mse_errors[i])\n",
    "    print(\"MAE: %.5f\" % mae_errors[i])\n",
    "    print(\"Example [Regen-Real]: \" + str(regen[i][i]) + \" - \" + str(x_test[i][i]))\n",
    "    print()"
   ]
  },
  {
   "cell_type": "markdown",
   "metadata": {},
   "source": [
    "\n"
   ]
  },
  {
   "cell_type": "markdown",
   "metadata": {},
   "source": [
    "\n"
   ]
  },
  {
   "cell_type": "markdown",
   "metadata": {},
   "source": [
    "\n"
   ]
  },
  {
   "cell_type": "markdown",
   "metadata": {},
   "source": [
    "\n"
   ]
  },
  {
   "cell_type": "markdown",
   "metadata": {},
   "source": [
    "\n"
   ]
  },
  {
   "cell_type": "markdown",
   "metadata": {},
   "source": [
    "# PAD to Latent Space"
   ]
  },
  {
   "cell_type": "code",
   "execution_count": 123,
   "metadata": {},
   "outputs": [],
   "source": [
    "import matplotlib.pyplot as plt\n",
    "import numpy as np\n",
    "import pandas as pd\n",
    "import seaborn as sns\n",
    "import matplotlib.lines as mlines\n",
    "\n",
    "import tensorflow as tf\n",
    "\n",
    "import sklearn\n",
    "from sklearn.model_selection import cross_val_score, KFold, StratifiedKFold\n",
    "\n",
    "import xgboost as xgb\n",
    "\n",
    "xgb.set_config(verbosity=0)\n",
    "\n",
    "from sklearn.metrics import mean_squared_error, mean_absolute_error\n",
    "from sklearn.preprocessing import normalize\n",
    "\n",
    "from sklearn.utils import shuffle\n",
    "import math\n",
    "import joblib\n",
    "\n",
    "from datetime import datetime\n",
    "from sklearn.model_selection import GridSearchCV\n",
    "from sklearn.model_selection import RandomizedSearchCV\n",
    "import time\n"
   ]
  },
  {
   "cell_type": "markdown",
   "metadata": {},
   "source": [
    "## Create Dataset"
   ]
  },
  {
   "cell_type": "code",
   "execution_count": 124,
   "metadata": {},
   "outputs": [
    {
     "data": {
      "text/html": [
       "<div>\n",
       "<style scoped>\n",
       "    .dataframe tbody tr th:only-of-type {\n",
       "        vertical-align: middle;\n",
       "    }\n",
       "\n",
       "    .dataframe tbody tr th {\n",
       "        vertical-align: top;\n",
       "    }\n",
       "\n",
       "    .dataframe thead th {\n",
       "        text-align: right;\n",
       "    }\n",
       "</style>\n",
       "<table border=\"1\" class=\"dataframe\">\n",
       "  <thead>\n",
       "    <tr style=\"text-align: right;\">\n",
       "      <th></th>\n",
       "      <th>EMOTION_P</th>\n",
       "      <th>EMOTION_A</th>\n",
       "      <th>EMOTION_D</th>\n",
       "    </tr>\n",
       "  </thead>\n",
       "  <tbody>\n",
       "    <tr>\n",
       "      <th>29246</th>\n",
       "      <td>0.10</td>\n",
       "      <td>-0.70</td>\n",
       "      <td>-0.2</td>\n",
       "    </tr>\n",
       "    <tr>\n",
       "      <th>21394</th>\n",
       "      <td>0.60</td>\n",
       "      <td>0.50</td>\n",
       "      <td>0.2</td>\n",
       "    </tr>\n",
       "    <tr>\n",
       "      <th>24952</th>\n",
       "      <td>-0.60</td>\n",
       "      <td>-0.30</td>\n",
       "      <td>-0.3</td>\n",
       "    </tr>\n",
       "    <tr>\n",
       "      <th>28782</th>\n",
       "      <td>-0.60</td>\n",
       "      <td>-0.30</td>\n",
       "      <td>-0.3</td>\n",
       "    </tr>\n",
       "    <tr>\n",
       "      <th>897</th>\n",
       "      <td>-0.40</td>\n",
       "      <td>0.25</td>\n",
       "      <td>-0.1</td>\n",
       "    </tr>\n",
       "    <tr>\n",
       "      <th>...</th>\n",
       "      <td>...</td>\n",
       "      <td>...</td>\n",
       "      <td>...</td>\n",
       "    </tr>\n",
       "    <tr>\n",
       "      <th>33700</th>\n",
       "      <td>-0.40</td>\n",
       "      <td>0.25</td>\n",
       "      <td>-0.1</td>\n",
       "    </tr>\n",
       "    <tr>\n",
       "      <th>4309</th>\n",
       "      <td>-0.50</td>\n",
       "      <td>0.60</td>\n",
       "      <td>0.9</td>\n",
       "    </tr>\n",
       "    <tr>\n",
       "      <th>20408</th>\n",
       "      <td>-0.40</td>\n",
       "      <td>0.25</td>\n",
       "      <td>-0.1</td>\n",
       "    </tr>\n",
       "    <tr>\n",
       "      <th>9671</th>\n",
       "      <td>-0.35</td>\n",
       "      <td>0.70</td>\n",
       "      <td>-0.8</td>\n",
       "    </tr>\n",
       "    <tr>\n",
       "      <th>12556</th>\n",
       "      <td>-0.35</td>\n",
       "      <td>0.70</td>\n",
       "      <td>-0.8</td>\n",
       "    </tr>\n",
       "  </tbody>\n",
       "</table>\n",
       "<p>34156 rows × 3 columns</p>\n",
       "</div>"
      ],
      "text/plain": [
       "       EMOTION_P  EMOTION_A  EMOTION_D\n",
       "29246       0.10      -0.70       -0.2\n",
       "21394       0.60       0.50        0.2\n",
       "24952      -0.60      -0.30       -0.3\n",
       "28782      -0.60      -0.30       -0.3\n",
       "897        -0.40       0.25       -0.1\n",
       "...          ...        ...        ...\n",
       "33700      -0.40       0.25       -0.1\n",
       "4309       -0.50       0.60        0.9\n",
       "20408      -0.40       0.25       -0.1\n",
       "9671       -0.35       0.70       -0.8\n",
       "12556      -0.35       0.70       -0.8\n",
       "\n",
       "[34156 rows x 3 columns]"
      ]
     },
     "execution_count": 124,
     "metadata": {},
     "output_type": "execute_result"
    }
   ],
   "source": [
    "reg_train_X = train_emotions\n",
    "reg_test_X = test_emotions\n",
    "\n",
    "reg_train_X"
   ]
  },
  {
   "cell_type": "code",
   "execution_count": 125,
   "metadata": {},
   "outputs": [
    {
     "data": {
      "text/html": [
       "<div>\n",
       "<style scoped>\n",
       "    .dataframe tbody tr th:only-of-type {\n",
       "        vertical-align: middle;\n",
       "    }\n",
       "\n",
       "    .dataframe tbody tr th {\n",
       "        vertical-align: top;\n",
       "    }\n",
       "\n",
       "    .dataframe thead th {\n",
       "        text-align: right;\n",
       "    }\n",
       "</style>\n",
       "<table border=\"1\" class=\"dataframe\">\n",
       "  <thead>\n",
       "    <tr style=\"text-align: right;\">\n",
       "      <th></th>\n",
       "      <th>EMOTION_P</th>\n",
       "      <th>EMOTION_A</th>\n",
       "      <th>EMOTION_D</th>\n",
       "    </tr>\n",
       "  </thead>\n",
       "  <tbody>\n",
       "    <tr>\n",
       "      <th>21736</th>\n",
       "      <td>-0.4</td>\n",
       "      <td>0.25</td>\n",
       "      <td>-0.1</td>\n",
       "    </tr>\n",
       "    <tr>\n",
       "      <th>25552</th>\n",
       "      <td>0.6</td>\n",
       "      <td>0.50</td>\n",
       "      <td>0.2</td>\n",
       "    </tr>\n",
       "    <tr>\n",
       "      <th>9752</th>\n",
       "      <td>-0.6</td>\n",
       "      <td>-0.30</td>\n",
       "      <td>-0.3</td>\n",
       "    </tr>\n",
       "    <tr>\n",
       "      <th>10058</th>\n",
       "      <td>-0.6</td>\n",
       "      <td>-0.30</td>\n",
       "      <td>-0.3</td>\n",
       "    </tr>\n",
       "    <tr>\n",
       "      <th>37982</th>\n",
       "      <td>0.6</td>\n",
       "      <td>-0.55</td>\n",
       "      <td>0.1</td>\n",
       "    </tr>\n",
       "    <tr>\n",
       "      <th>...</th>\n",
       "      <td>...</td>\n",
       "      <td>...</td>\n",
       "      <td>...</td>\n",
       "    </tr>\n",
       "    <tr>\n",
       "      <th>33937</th>\n",
       "      <td>0.6</td>\n",
       "      <td>0.50</td>\n",
       "      <td>0.2</td>\n",
       "    </tr>\n",
       "    <tr>\n",
       "      <th>11950</th>\n",
       "      <td>0.5</td>\n",
       "      <td>0.70</td>\n",
       "      <td>0.4</td>\n",
       "    </tr>\n",
       "    <tr>\n",
       "      <th>20652</th>\n",
       "      <td>-0.6</td>\n",
       "      <td>-0.30</td>\n",
       "      <td>-0.3</td>\n",
       "    </tr>\n",
       "    <tr>\n",
       "      <th>28398</th>\n",
       "      <td>-0.4</td>\n",
       "      <td>0.25</td>\n",
       "      <td>-0.1</td>\n",
       "    </tr>\n",
       "    <tr>\n",
       "      <th>40154</th>\n",
       "      <td>-0.5</td>\n",
       "      <td>0.60</td>\n",
       "      <td>0.9</td>\n",
       "    </tr>\n",
       "  </tbody>\n",
       "</table>\n",
       "<p>6028 rows × 3 columns</p>\n",
       "</div>"
      ],
      "text/plain": [
       "       EMOTION_P  EMOTION_A  EMOTION_D\n",
       "21736       -0.4       0.25       -0.1\n",
       "25552        0.6       0.50        0.2\n",
       "9752        -0.6      -0.30       -0.3\n",
       "10058       -0.6      -0.30       -0.3\n",
       "37982        0.6      -0.55        0.1\n",
       "...          ...        ...        ...\n",
       "33937        0.6       0.50        0.2\n",
       "11950        0.5       0.70        0.4\n",
       "20652       -0.6      -0.30       -0.3\n",
       "28398       -0.4       0.25       -0.1\n",
       "40154       -0.5       0.60        0.9\n",
       "\n",
       "[6028 rows x 3 columns]"
      ]
     },
     "execution_count": 125,
     "metadata": {},
     "output_type": "execute_result"
    }
   ],
   "source": [
    "reg_test_X"
   ]
  },
  {
   "cell_type": "code",
   "execution_count": 126,
   "metadata": {},
   "outputs": [
    {
     "name": "stdout",
     "output_type": "stream",
     "text": [
      "34156\n",
      "6028\n"
     ]
    }
   ],
   "source": [
    "mean, var, generated = encoder.predict(x_train)\n",
    "reg_train_Y = generated\n",
    "\n",
    "mean, var, generated = encoder.predict(x_test)\n",
    "reg_test_Y = generated\n",
    "\n",
    "print(len(reg_train_Y))\n",
    "print(len(reg_test_Y))"
   ]
  },
  {
   "cell_type": "markdown",
   "metadata": {},
   "source": [
    "## Train Regressor"
   ]
  },
  {
   "cell_type": "code",
   "execution_count": 127,
   "metadata": {},
   "outputs": [],
   "source": [
    "model = xgb.XGBRegressor(\n",
    "                    n_estimators=1500, learning_rate=0.05, max_depth=10, min_child_weight=5, \n",
    "                    reg_alpha=0.1, reg_lambda=1, gamma=0.0,\n",
    "                    subsample=0.75, colsample_bytree=0.75, objective=\"reg:squarederror\",\n",
    "                    tree_method='gpu_hist'\n",
    "                )"
   ]
  },
  {
   "cell_type": "code",
   "execution_count": 128,
   "metadata": {},
   "outputs": [
    {
     "data": {
      "text/plain": [
       "XGBRegressor(base_score=0.5, booster='gbtree', colsample_bylevel=1,\n",
       "             colsample_bynode=1, colsample_bytree=0.75,\n",
       "             enable_categorical=False, gamma=0.0, gpu_id=0,\n",
       "             importance_type=None, interaction_constraints='',\n",
       "             learning_rate=0.05, max_delta_step=0, max_depth=10,\n",
       "             min_child_weight=5, missing=nan, monotone_constraints='()',\n",
       "             n_estimators=1500, n_jobs=12, num_parallel_tree=1,\n",
       "             predictor='auto', random_state=0, reg_alpha=0.1, reg_lambda=1,\n",
       "             scale_pos_weight=1, subsample=0.75, tree_method='gpu_hist',\n",
       "             validate_parameters=1, verbosity=None)"
      ]
     },
     "execution_count": 128,
     "metadata": {},
     "output_type": "execute_result"
    }
   ],
   "source": [
    "model.fit(reg_train_X, reg_train_Y)"
   ]
  },
  {
   "cell_type": "markdown",
   "metadata": {},
   "source": [
    "## Test Model"
   ]
  },
  {
   "cell_type": "code",
   "execution_count": 130,
   "metadata": {},
   "outputs": [
    {
     "name": "stdout",
     "output_type": "stream",
     "text": [
      "Training score:  0.21450224006226748\n",
      "MSE: 0.50\n",
      "MAE: 0.56\n"
     ]
    }
   ],
   "source": [
    "score = model.score(reg_train_X, reg_train_Y)\n",
    "print(\"Training score: \", score)\n",
    "\n",
    "pred_y = model.predict(reg_train_X)\n",
    "mse = mean_squared_error(reg_train_Y, pred_y)\n",
    "mae = mean_absolute_error(reg_train_Y, pred_y)\n",
    "\n",
    "print(\"MSE: %.2f\" % mse)\n",
    "print(\"MAE: %.2f\" % mae)"
   ]
  },
  {
   "cell_type": "code",
   "execution_count": 131,
   "metadata": {},
   "outputs": [
    {
     "name": "stdout",
     "output_type": "stream",
     "text": [
      "MSE: 0.50\n",
      "MAE: 0.57\n"
     ]
    }
   ],
   "source": [
    "pred_y = model.predict(reg_test_X)\n",
    "mse = mean_squared_error(reg_test_Y, pred_y)\n",
    "mae = mean_absolute_error(reg_test_Y, pred_y)\n",
    "\n",
    "print(\"MSE: %.2f\" % mse)\n",
    "print(\"MAE: %.2f\" % mae)"
   ]
  },
  {
   "cell_type": "code",
   "execution_count": 146,
   "metadata": {},
   "outputs": [
    {
     "name": "stdout",
     "output_type": "stream",
     "text": [
      "Real: [0.6967958]\n",
      "Predicted: [0.647487]\n"
     ]
    }
   ],
   "source": [
    "index = 0\n",
    "\n",
    "real_value = np.asarray([reg_test_Y[index]])\n",
    "\n",
    "row=reg_test_X.iloc[index]\n",
    "row = np.asarray([row])\n",
    "\n",
    "predicted = model.predict(row)\n",
    "\n",
    "print('Real: %s' % real_value[0])\n",
    "print('Predicted: %s' % predicted)"
   ]
  },
  {
   "cell_type": "code",
   "execution_count": 147,
   "metadata": {},
   "outputs": [],
   "source": [
    "model_p = xgb.XGBRegressor(verbosity=0)\n",
    "model_p.load_model(\"../../emotion_classifier/model_training/models/l2p_dance_model.json\")\n",
    "\n",
    "model_a = xgb.XGBRegressor(verbosity=0)\n",
    "model_a.load_model(\"../../emotion_classifier/model_training/models/l2a_dance_model.json\")\n",
    "\n",
    "model_d = xgb.XGBRegressor(verbosity=0)\n",
    "model_d.load_model(\"../../emotion_classifier/model_training/models/l2d_dance_model.json\")\n",
    "\n",
    "scaler = joblib.load('../../emotion_classifier/model_training/datasets/scalers/standardizers/Fs_B_S_DANCE_WALK_KIN_0.5sec.pkl') "
   ]
  },
  {
   "cell_type": "code",
   "execution_count": 148,
   "metadata": {},
   "outputs": [
    {
     "name": "stdout",
     "output_type": "stream",
     "text": [
      "[[ 0.5518506   0.3396051   0.35146886  0.34499368  0.41565     0.4207828\n",
      "   0.33057868  0.33588266  0.28606454  0.27774927  0.00991045 -0.09116153\n",
      "  -0.07128949  0.95351416  0.29623687  0.11524868  0.14204371  0.43524724\n",
      "   0.4640965   0.2898261   0.30749616  0.31924236  1.1339846   1.1546081\n",
      "   0.72193986  0.7683582   0.70810694]]\n"
     ]
    }
   ],
   "source": [
    "regen = decoder.predict(predicted)\n",
    "print(regen)"
   ]
  },
  {
   "cell_type": "code",
   "execution_count": 149,
   "metadata": {},
   "outputs": [
    {
     "name": "stdout",
     "output_type": "stream",
     "text": [
      "Real: [-0.4   0.25 -0.1 ]\n",
      "Predicted: [-0.14019483, -0.23435989, 0.06783479]\n"
     ]
    },
    {
     "name": "stderr",
     "output_type": "stream",
     "text": [
      "/home/diogosilva/.local/lib/python3.7/site-packages/sklearn/base.py:451: UserWarning: X does not have valid feature names, but StandardScaler was fitted with feature names\n",
      "  \"X does not have valid feature names, but\"\n"
     ]
    }
   ],
   "source": [
    "scaled_regen = scaler.transform(regen)\n",
    "generated_coordinates = (\n",
    "    model_p.predict(scaled_regen),\n",
    "    model_a.predict(scaled_regen),\n",
    "    model_d.predict(scaled_regen)\n",
    ")\n",
    "\n",
    "\n",
    "print('Real: %s' % np.asarray(reg_test_X.iloc[index]))\n",
    "print('Predicted: %s' % [generated_coordinates[0][0], generated_coordinates[1][0], generated_coordinates[2][0]])"
   ]
  },
  {
   "cell_type": "markdown",
   "metadata": {},
   "source": [
    "## RandomSearchCV"
   ]
  },
  {
   "cell_type": "code",
   "execution_count": 939,
   "metadata": {},
   "outputs": [],
   "source": [
    "# A parameter grid for XGBoost\n",
    "# https://www.analyticsvidhya.com/blog/2016/03/complete-guide-parameter-tuning-xgboost-with-codes-python/\n",
    "params = {\n",
    "        'eta': [0.01, 0.05, 0.1],\n",
    "        'min_child_weight': [1, 5, 11, 21],\n",
    "        'max_depth': [3, 6, 10, 15],\n",
    "        'gamma': [0, 0.001, 0.01],\n",
    "        'subsample': [0.75, 1],\n",
    "        'colsample_bytree': [0.75, 1],\n",
    "        'lambda': [1, 1.25],\n",
    "        'alpha': [0.0, 0.25]\n",
    "        }\n",
    "\n",
    "n_iter = 300"
   ]
  },
  {
   "cell_type": "code",
   "execution_count": 940,
   "metadata": {},
   "outputs": [],
   "source": [
    "model = xgb.XGBRegressor(\n",
    "                    n_estimators=1500,\n",
    "                    objective=\"reg:squarederror\",\n",
    "                    tree_method='gpu_hist'\n",
    "                )\n"
   ]
  },
  {
   "cell_type": "code",
   "execution_count": 941,
   "metadata": {},
   "outputs": [
    {
     "name": "stdout",
     "output_type": "stream",
     "text": [
      "GridSearchCV took 2863.87 seconds parameter settings.\n"
     ]
    }
   ],
   "source": [
    "# Pleasure\n",
    "# run randomized search\n",
    "kfold = KFold(n_splits=5, shuffle=True)\n",
    "\n",
    "random_search = RandomizedSearchCV(model, param_distributions=params,\n",
    "                               cv=kfold, scoring='neg_mean_squared_error', n_iter = n_iter)\n",
    "\n",
    "start = time.time()\n",
    "random_search.fit(reg_train_X, reg_train_Y)\n",
    "\n",
    "\n",
    "print(\"GridSearchCV took %.2f seconds\"\n",
    "      \" parameter settings.\" % ((time.time() - start)))"
   ]
  },
  {
   "cell_type": "markdown",
   "metadata": {},
   "source": [
    "### Results"
   ]
  },
  {
   "cell_type": "code",
   "execution_count": 942,
   "metadata": {},
   "outputs": [
    {
     "name": "stdout",
     "output_type": "stream",
     "text": [
      "{'objective': 'reg:squarederror', 'base_score': 0.5, 'booster': 'gbtree', 'colsample_bylevel': 1, 'colsample_bynode': 1, 'colsample_bytree': 1, 'enable_categorical': False, 'gamma': 0.001, 'gpu_id': 0, 'importance_type': None, 'interaction_constraints': '', 'learning_rate': 0.00999999978, 'max_delta_step': 0, 'max_depth': 3, 'min_child_weight': 5, 'missing': nan, 'monotone_constraints': '()', 'n_estimators': 1500, 'n_jobs': 12, 'num_parallel_tree': 1, 'predictor': 'auto', 'random_state': 0, 'reg_alpha': 0.25, 'reg_lambda': 1, 'scale_pos_weight': 1, 'subsample': 0.75, 'tree_method': 'gpu_hist', 'validate_parameters': 1, 'verbosity': None, 'lambda': 1, 'eta': 0.01, 'alpha': 0.25}\n"
     ]
    }
   ],
   "source": [
    "best_regressor = random_search.best_estimator_\n",
    "\n",
    "print(best_regressor.get_params())"
   ]
  },
  {
   "cell_type": "code",
   "execution_count": 943,
   "metadata": {},
   "outputs": [
    {
     "name": "stdout",
     "output_type": "stream",
     "text": [
      "MSE: 0.98\n",
      "MAE: 0.78\n"
     ]
    }
   ],
   "source": [
    "pred_y = best_regressor.predict(reg_test_X)\n",
    "mse = mean_squared_error(reg_test_Y, pred_y)\n",
    "mae = mean_absolute_error(reg_test_Y, pred_y)\n",
    "\n",
    "print(\"MSE: %.2f\" % mse)\n",
    "print(\"MAE: %.2f\" % mae)"
   ]
  },
  {
   "cell_type": "code",
   "execution_count": null,
   "metadata": {},
   "outputs": [],
   "source": []
  }
 ],
 "metadata": {
  "kernelspec": {
   "display_name": "Python 3",
   "language": "python",
   "name": "python3"
  },
  "language_info": {
   "codemirror_mode": {
    "name": "ipython",
    "version": 3
   },
   "file_extension": ".py",
   "mimetype": "text/x-python",
   "name": "python",
   "nbconvert_exporter": "python",
   "pygments_lexer": "ipython3",
   "version": "3.7.5"
  }
 },
 "nbformat": 4,
 "nbformat_minor": 4
}
