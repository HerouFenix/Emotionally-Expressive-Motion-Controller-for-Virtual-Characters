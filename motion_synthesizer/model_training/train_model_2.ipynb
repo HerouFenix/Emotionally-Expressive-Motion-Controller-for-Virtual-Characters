{
 "cells": [
  {
   "cell_type": "markdown",
   "metadata": {},
   "source": [
    "# XGBRegression (P,A,D coordinates to LMA Features)"
   ]
  },
  {
   "cell_type": "code",
   "execution_count": 34,
   "metadata": {},
   "outputs": [
    {
     "data": {
      "text/plain": [
       "'\\nUsing the identified emotions of each LMA feature set rather than the normal ones\\n'"
      ]
     },
     "execution_count": 34,
     "metadata": {},
     "output_type": "execute_result"
    }
   ],
   "source": [
    "# Current best:\n",
    "#datasets/pad/Fs_B_S_DANCE_WALK_0.5sec.csv\n",
    "\"\"\"\n",
    "Using the identified emotions of each LMA feature set rather than the normal ones\n",
    "\"\"\""
   ]
  },
  {
   "cell_type": "markdown",
   "metadata": {},
   "source": [
    "## Imports"
   ]
  },
  {
   "cell_type": "code",
   "execution_count": 35,
   "metadata": {},
   "outputs": [],
   "source": [
    "import matplotlib.pyplot as plt\n",
    "import numpy as np\n",
    "import pandas as pd\n",
    "import seaborn as sns\n",
    "import matplotlib.lines as mlines\n",
    "\n",
    "import tensorflow as tf\n",
    "\n",
    "import sklearn\n",
    "from sklearn.model_selection import cross_val_score, KFold, StratifiedKFold\n",
    "\n",
    "import xgboost as xgb\n",
    "\n",
    "xgb.set_config(verbosity=0)\n",
    "\n",
    "from sklearn.metrics import mean_squared_error, mean_absolute_error\n",
    "from sklearn.preprocessing import normalize\n",
    "\n",
    "from sklearn.utils import shuffle\n",
    "import math\n",
    "import joblib\n"
   ]
  },
  {
   "cell_type": "code",
   "execution_count": 36,
   "metadata": {},
   "outputs": [],
   "source": [
    "model_p = xgb.XGBRegressor(verbosity=0)\n",
    "model_p.load_model(\"../../emotion_classifier/model_training/models/l2p_dance_model_O.json\")\n",
    "\n",
    "model_a = xgb.XGBRegressor(verbosity=0)\n",
    "model_a.load_model(\"../../emotion_classifier/model_training/models/l2a_dance_model_O.json\")\n",
    "\n",
    "model_d = xgb.XGBRegressor(verbosity=0)\n",
    "model_d.load_model(\"../../emotion_classifier/model_training/models/l2d_dance_model_O.json\")\n",
    "\n",
    "scaler = joblib.load('../../emotion_classifier/model_training/datasets/scalers/standardizers/Fs_B_O_S_DANCE_WALK_KIN_0.5sec.pkl') "
   ]
  },
  {
   "cell_type": "markdown",
   "metadata": {},
   "source": [
    "## Load Data"
   ]
  },
  {
   "cell_type": "code",
   "execution_count": 37,
   "metadata": {},
   "outputs": [],
   "source": [
    "dataset = pd.read_csv('datasets/Fs_B_O_DANCE_WALK_KIN_0.5sec.csv')"
   ]
  },
  {
   "cell_type": "markdown",
   "metadata": {},
   "source": [
    "### Split into Test and Train data"
   ]
  },
  {
   "cell_type": "code",
   "execution_count": 38,
   "metadata": {},
   "outputs": [
    {
     "name": "stdout",
     "output_type": "stream",
     "text": [
      "No Training Samples: 32147\n",
      "No Test Samples: 8037\n"
     ]
    }
   ],
   "source": [
    "train_dataset = dataset.sample(frac=0.8, random_state=42)\n",
    "test_dataset = dataset.drop(train_dataset.index)\n",
    "\n",
    "print(\"No Training Samples:\",train_dataset.shape[0])\n",
    "print(\"No Test Samples:\",test_dataset.shape[0])\n",
    "\n",
    "train_dataset = shuffle(train_dataset)\n",
    "test_dataset = shuffle(test_dataset)"
   ]
  },
  {
   "cell_type": "markdown",
   "metadata": {},
   "source": [
    "### Split Features from Targets"
   ]
  },
  {
   "cell_type": "code",
   "execution_count": 39,
   "metadata": {},
   "outputs": [],
   "source": [
    "train_y_sets = []\n",
    "test_y_sets = []\n",
    "# List of np.arrays each containing the LMA features of a given column (i.e one list per feature)"
   ]
  },
  {
   "cell_type": "code",
   "execution_count": 40,
   "metadata": {},
   "outputs": [],
   "source": [
    "train_X = pd.concat([train_dataset.pop(x) for x in ['EMOTION_P', 'EMOTION_A', 'EMOTION_D']], axis=1)\n",
    "test_X = pd.concat([test_dataset.pop(x) for x in ['EMOTION_P', 'EMOTION_A', 'EMOTION_D']], axis=1)"
   ]
  },
  {
   "cell_type": "code",
   "execution_count": 41,
   "metadata": {},
   "outputs": [
    {
     "data": {
      "text/html": [
       "<div>\n",
       "<style scoped>\n",
       "    .dataframe tbody tr th:only-of-type {\n",
       "        vertical-align: middle;\n",
       "    }\n",
       "\n",
       "    .dataframe tbody tr th {\n",
       "        vertical-align: top;\n",
       "    }\n",
       "\n",
       "    .dataframe thead th {\n",
       "        text-align: right;\n",
       "    }\n",
       "</style>\n",
       "<table border=\"1\" class=\"dataframe\">\n",
       "  <thead>\n",
       "    <tr style=\"text-align: right;\">\n",
       "      <th></th>\n",
       "      <th>EMOTION_P</th>\n",
       "      <th>EMOTION_A</th>\n",
       "      <th>EMOTION_D</th>\n",
       "    </tr>\n",
       "  </thead>\n",
       "  <tbody>\n",
       "    <tr>\n",
       "      <th>0</th>\n",
       "      <td>0.342767</td>\n",
       "      <td>0.384754</td>\n",
       "      <td>0.316698</td>\n",
       "    </tr>\n",
       "    <tr>\n",
       "      <th>1</th>\n",
       "      <td>0.444786</td>\n",
       "      <td>0.358585</td>\n",
       "      <td>0.144301</td>\n",
       "    </tr>\n",
       "    <tr>\n",
       "      <th>2</th>\n",
       "      <td>0.386930</td>\n",
       "      <td>0.381998</td>\n",
       "      <td>0.301604</td>\n",
       "    </tr>\n",
       "    <tr>\n",
       "      <th>3</th>\n",
       "      <td>0.428290</td>\n",
       "      <td>0.447306</td>\n",
       "      <td>0.404004</td>\n",
       "    </tr>\n",
       "    <tr>\n",
       "      <th>4</th>\n",
       "      <td>0.342987</td>\n",
       "      <td>0.426325</td>\n",
       "      <td>0.312238</td>\n",
       "    </tr>\n",
       "  </tbody>\n",
       "</table>\n",
       "</div>"
      ],
      "text/plain": [
       "   EMOTION_P  EMOTION_A  EMOTION_D\n",
       "0   0.342767   0.384754   0.316698\n",
       "1   0.444786   0.358585   0.144301\n",
       "2   0.386930   0.381998   0.301604\n",
       "3   0.428290   0.447306   0.404004\n",
       "4   0.342987   0.426325   0.312238"
      ]
     },
     "execution_count": 41,
     "metadata": {},
     "output_type": "execute_result"
    }
   ],
   "source": [
    "train_X_p = model_p.predict(train_dataset)\n",
    "train_X_a = model_a.predict(train_dataset)\n",
    "train_X_d = model_d.predict(train_dataset)\n",
    "\n",
    "rows = []\n",
    "for i in range(len(train_dataset)):\n",
    "    rows.append([train_X_p[i], train_X_a[i], train_X_d[i]])\n",
    "\n",
    "train_X = pd.DataFrame(rows, columns=[\n",
    "            \"EMOTION_P\", \"EMOTION_A\", \"EMOTION_D\"\n",
    "         ])\n",
    "\n",
    "train_X.head()"
   ]
  },
  {
   "cell_type": "code",
   "execution_count": 42,
   "metadata": {},
   "outputs": [
    {
     "data": {
      "text/html": [
       "<div>\n",
       "<style scoped>\n",
       "    .dataframe tbody tr th:only-of-type {\n",
       "        vertical-align: middle;\n",
       "    }\n",
       "\n",
       "    .dataframe tbody tr th {\n",
       "        vertical-align: top;\n",
       "    }\n",
       "\n",
       "    .dataframe thead th {\n",
       "        text-align: right;\n",
       "    }\n",
       "</style>\n",
       "<table border=\"1\" class=\"dataframe\">\n",
       "  <thead>\n",
       "    <tr style=\"text-align: right;\">\n",
       "      <th></th>\n",
       "      <th>EMOTION_P</th>\n",
       "      <th>EMOTION_A</th>\n",
       "      <th>EMOTION_D</th>\n",
       "    </tr>\n",
       "  </thead>\n",
       "  <tbody>\n",
       "    <tr>\n",
       "      <th>0</th>\n",
       "      <td>0.365162</td>\n",
       "      <td>0.373706</td>\n",
       "      <td>0.242617</td>\n",
       "    </tr>\n",
       "    <tr>\n",
       "      <th>1</th>\n",
       "      <td>0.335886</td>\n",
       "      <td>0.504628</td>\n",
       "      <td>0.120682</td>\n",
       "    </tr>\n",
       "    <tr>\n",
       "      <th>2</th>\n",
       "      <td>0.041402</td>\n",
       "      <td>0.444040</td>\n",
       "      <td>0.197123</td>\n",
       "    </tr>\n",
       "    <tr>\n",
       "      <th>3</th>\n",
       "      <td>0.176047</td>\n",
       "      <td>0.495210</td>\n",
       "      <td>0.110040</td>\n",
       "    </tr>\n",
       "    <tr>\n",
       "      <th>4</th>\n",
       "      <td>0.209540</td>\n",
       "      <td>0.284437</td>\n",
       "      <td>0.131879</td>\n",
       "    </tr>\n",
       "  </tbody>\n",
       "</table>\n",
       "</div>"
      ],
      "text/plain": [
       "   EMOTION_P  EMOTION_A  EMOTION_D\n",
       "0   0.365162   0.373706   0.242617\n",
       "1   0.335886   0.504628   0.120682\n",
       "2   0.041402   0.444040   0.197123\n",
       "3   0.176047   0.495210   0.110040\n",
       "4   0.209540   0.284437   0.131879"
      ]
     },
     "execution_count": 42,
     "metadata": {},
     "output_type": "execute_result"
    }
   ],
   "source": [
    "test_X_p = model_p.predict(test_dataset)\n",
    "test_X_a = model_a.predict(test_dataset)\n",
    "test_X_d = model_d.predict(test_dataset)\n",
    "\n",
    "rows = []\n",
    "for i in range(len(test_dataset)):\n",
    "    rows.append([test_X_p[i], test_X_a[i], test_X_d[i]])\n",
    "\n",
    "test_X = pd.DataFrame(rows, columns=[\n",
    "            \"EMOTION_P\", \"EMOTION_A\", \"EMOTION_D\"\n",
    "         ])\n",
    "\n",
    "test_X.head()"
   ]
  },
  {
   "cell_type": "code",
   "execution_count": 43,
   "metadata": {},
   "outputs": [],
   "source": [
    "for colname in train_dataset.columns:\n",
    "    train_y_sets.append(pd.concat([train_dataset.pop(x) for x in [colname]], axis=1))\n",
    "    \n",
    "for colname in test_dataset.columns:\n",
    "    test_y_sets.append(pd.concat([test_dataset.pop(x) for x in [colname]], axis=1))"
   ]
  },
  {
   "cell_type": "code",
   "execution_count": 44,
   "metadata": {},
   "outputs": [
    {
     "data": {
      "text/html": [
       "<div>\n",
       "<style scoped>\n",
       "    .dataframe tbody tr th:only-of-type {\n",
       "        vertical-align: middle;\n",
       "    }\n",
       "\n",
       "    .dataframe tbody tr th {\n",
       "        vertical-align: top;\n",
       "    }\n",
       "\n",
       "    .dataframe thead th {\n",
       "        text-align: right;\n",
       "    }\n",
       "</style>\n",
       "<table border=\"1\" class=\"dataframe\">\n",
       "  <thead>\n",
       "    <tr style=\"text-align: right;\">\n",
       "      <th></th>\n",
       "      <th>EMOTION_P</th>\n",
       "      <th>EMOTION_A</th>\n",
       "      <th>EMOTION_D</th>\n",
       "    </tr>\n",
       "  </thead>\n",
       "  <tbody>\n",
       "    <tr>\n",
       "      <th>0</th>\n",
       "      <td>0.342767</td>\n",
       "      <td>0.384754</td>\n",
       "      <td>0.316698</td>\n",
       "    </tr>\n",
       "    <tr>\n",
       "      <th>1</th>\n",
       "      <td>0.444786</td>\n",
       "      <td>0.358585</td>\n",
       "      <td>0.144301</td>\n",
       "    </tr>\n",
       "    <tr>\n",
       "      <th>2</th>\n",
       "      <td>0.386930</td>\n",
       "      <td>0.381998</td>\n",
       "      <td>0.301604</td>\n",
       "    </tr>\n",
       "    <tr>\n",
       "      <th>3</th>\n",
       "      <td>0.428290</td>\n",
       "      <td>0.447306</td>\n",
       "      <td>0.404004</td>\n",
       "    </tr>\n",
       "    <tr>\n",
       "      <th>4</th>\n",
       "      <td>0.342987</td>\n",
       "      <td>0.426325</td>\n",
       "      <td>0.312238</td>\n",
       "    </tr>\n",
       "  </tbody>\n",
       "</table>\n",
       "</div>"
      ],
      "text/plain": [
       "   EMOTION_P  EMOTION_A  EMOTION_D\n",
       "0   0.342767   0.384754   0.316698\n",
       "1   0.444786   0.358585   0.144301\n",
       "2   0.386930   0.381998   0.301604\n",
       "3   0.428290   0.447306   0.404004\n",
       "4   0.342987   0.426325   0.312238"
      ]
     },
     "execution_count": 44,
     "metadata": {},
     "output_type": "execute_result"
    }
   ],
   "source": [
    "train_X.head()"
   ]
  },
  {
   "cell_type": "code",
   "execution_count": 45,
   "metadata": {
    "scrolled": true
   },
   "outputs": [
    {
     "name": "stdout",
     "output_type": "stream",
     "text": [
      "max_hand_distance\n",
      "avg_l_hand_hip_distance\n",
      "avg_r_hand_hip_distance\n",
      "max_stride_length\n",
      "avg_l_hand_chest_distance\n",
      "avg_r_hand_chest_distance\n",
      "avg_l_elbow_hip_distance\n",
      "avg_r_elbow_hip_distance\n",
      "avg_chest_pelvis_distance\n",
      "avg_neck_chest_distance\n",
      "avg_neck_rotation_w\n",
      "avg_neck_rotation_x\n",
      "avg_neck_rotation_y\n",
      "avg_neck_rotation_z\n",
      "avg_total_body_volume\n",
      "avg_triangle_area_hands_neck\n",
      "avg_triangle_area_feet_hips\n",
      "l_hand_speed\n",
      "r_hand_speed\n",
      "l_foot_speed\n",
      "r_foot_speed\n",
      "neck_speed\n",
      "l_hand_acceleration_magnitude\n",
      "r_hand_acceleration_magnitude\n",
      "l_foot_acceleration_magnitude\n",
      "r_foot_acceleration_magnitude\n",
      "neck_acceleration_magnitude\n"
     ]
    }
   ],
   "source": [
    "for i in range(len(train_y_sets)):\n",
    "    print(train_y_sets[i].columns[0])"
   ]
  },
  {
   "cell_type": "markdown",
   "metadata": {},
   "source": [
    "## Define Model"
   ]
  },
  {
   "cell_type": "code",
   "execution_count": 46,
   "metadata": {},
   "outputs": [],
   "source": [
    "xgbr = xgb.XGBRegressor(verbosity=1) \n",
    "\n",
    "params = {\n",
    "        'eta': [0.01, 0.05, 0.1],\n",
    "        'min_child_weight': [1, 5, 11, 21],\n",
    "        'max_depth': [3, 6, 10, 15],\n",
    "        'gamma': [0, 0.001, 0.01],\n",
    "        'subsample': [0.75, 1],\n",
    "        'colsample_bytree': [0.75, 1],\n",
    "        'lambda': [1, 1.25],\n",
    "        'alpha': [0.0, 0.25]\n",
    "        }\n",
    "\n",
    "models = []\n",
    "\n",
    "for i in range(len(train_y_sets)):\n",
    "    models.append(\n",
    "        xgb.XGBRegressor(\n",
    "                    n_estimators=1500, learning_rate=0.05, max_depth=6, min_child_weight=11, \n",
    "                    reg_alpha=0.25, reg_lambda=1.25, gamma=0.01,\n",
    "                    subsample=0.75, colsample_bytree=0.75, objective=\"reg:squarederror\",\n",
    "                    tree_method='gpu_hist'\n",
    "                )\n",
    "    )"
   ]
  },
  {
   "cell_type": "markdown",
   "metadata": {},
   "source": [
    "## Train Model"
   ]
  },
  {
   "cell_type": "code",
   "execution_count": 47,
   "metadata": {
    "scrolled": false
   },
   "outputs": [
    {
     "name": "stdout",
     "output_type": "stream",
     "text": [
      "max_hand_distance\n",
      "avg_l_hand_hip_distance\n",
      "avg_r_hand_hip_distance\n",
      "max_stride_length\n",
      "avg_l_hand_chest_distance\n",
      "avg_r_hand_chest_distance\n",
      "avg_l_elbow_hip_distance\n",
      "avg_r_elbow_hip_distance\n",
      "avg_chest_pelvis_distance\n",
      "avg_neck_chest_distance\n",
      "avg_neck_rotation_w\n",
      "avg_neck_rotation_x\n",
      "avg_neck_rotation_y\n",
      "avg_neck_rotation_z\n",
      "avg_total_body_volume\n",
      "avg_triangle_area_hands_neck\n",
      "avg_triangle_area_feet_hips\n",
      "l_hand_speed\n",
      "r_hand_speed\n",
      "l_foot_speed\n",
      "r_foot_speed\n",
      "neck_speed\n",
      "l_hand_acceleration_magnitude\n",
      "r_hand_acceleration_magnitude\n",
      "l_foot_acceleration_magnitude\n",
      "r_foot_acceleration_magnitude\n",
      "neck_acceleration_magnitude\n"
     ]
    }
   ],
   "source": [
    "for i in range(len(models)):\n",
    "    print(train_y_sets[i].columns[0])\n",
    "    models[i].fit(train_X, train_y_sets[i])"
   ]
  },
  {
   "cell_type": "markdown",
   "metadata": {},
   "source": [
    "## Test Model"
   ]
  },
  {
   "cell_type": "markdown",
   "metadata": {},
   "source": [
    "### Training Score"
   ]
  },
  {
   "cell_type": "code",
   "execution_count": 48,
   "metadata": {},
   "outputs": [
    {
     "name": "stdout",
     "output_type": "stream",
     "text": [
      "max_hand_distance\n",
      "Training score:  0.5399454354817284\n",
      "\n",
      "avg_l_hand_hip_distance\n",
      "Training score:  0.4034339633612394\n",
      "\n",
      "avg_r_hand_hip_distance\n",
      "Training score:  0.404682199760545\n",
      "\n",
      "max_stride_length\n",
      "Training score:  0.4405451156625565\n",
      "\n",
      "avg_l_hand_chest_distance\n",
      "Training score:  0.3284601522580578\n",
      "\n",
      "avg_r_hand_chest_distance\n",
      "Training score:  0.2921378720712525\n",
      "\n",
      "avg_l_elbow_hip_distance\n",
      "Training score:  0.23395770745727196\n",
      "\n",
      "avg_r_elbow_hip_distance\n",
      "Training score:  0.18397757475642362\n",
      "\n",
      "avg_chest_pelvis_distance\n",
      "Training score:  -1578703867.2680929\n",
      "\n",
      "avg_neck_chest_distance\n",
      "Training score:  -6.993535959232133e-07\n",
      "\n",
      "avg_neck_rotation_w\n",
      "Training score:  0.17772657403159464\n",
      "\n",
      "avg_neck_rotation_x\n",
      "Training score:  0.48026830850439983\n",
      "\n",
      "avg_neck_rotation_y\n",
      "Training score:  0.3391175938771205\n",
      "\n",
      "avg_neck_rotation_z\n",
      "Training score:  0.35585191663273885\n",
      "\n",
      "avg_total_body_volume\n",
      "Training score:  0.47078048052319876\n",
      "\n",
      "avg_triangle_area_hands_neck\n",
      "Training score:  0.13766400353313235\n",
      "\n",
      "avg_triangle_area_feet_hips\n",
      "Training score:  0.08397152867263713\n",
      "\n",
      "l_hand_speed\n",
      "Training score:  0.6172287711414803\n",
      "\n",
      "r_hand_speed\n",
      "Training score:  0.6380966954034673\n",
      "\n",
      "l_foot_speed\n",
      "Training score:  0.538259056799266\n",
      "\n",
      "r_foot_speed\n",
      "Training score:  0.5559237067077346\n",
      "\n",
      "neck_speed\n",
      "Training score:  0.5958617555651795\n",
      "\n",
      "l_hand_acceleration_magnitude\n",
      "Training score:  0.7239200404890327\n",
      "\n",
      "r_hand_acceleration_magnitude\n",
      "Training score:  0.7307945631700223\n",
      "\n",
      "l_foot_acceleration_magnitude\n",
      "Training score:  0.6247254880149318\n",
      "\n",
      "r_foot_acceleration_magnitude\n",
      "Training score:  0.6070305875011748\n",
      "\n",
      "neck_acceleration_magnitude\n",
      "Training score:  0.8338201798300893\n",
      "\n"
     ]
    }
   ],
   "source": [
    "for i in range(len(models)):\n",
    "    score = models[i].score(train_X, train_y_sets[i])\n",
    "    print(train_y_sets[i].columns[0])\n",
    "    print(\"Training score: \", score)\n",
    "\n",
    "    print()"
   ]
  },
  {
   "cell_type": "markdown",
   "metadata": {},
   "source": [
    "### Test Set MAE & MSE"
   ]
  },
  {
   "cell_type": "code",
   "execution_count": 49,
   "metadata": {
    "scrolled": false
   },
   "outputs": [
    {
     "name": "stdout",
     "output_type": "stream",
     "text": [
      "max_hand_distance\n",
      "MSE: 0.04\n",
      "MAE: 0.16\n",
      "Example:  1.0466280553608256\n",
      "\n",
      "avg_l_hand_hip_distance\n",
      "MSE: 0.02\n",
      "MAE: 0.10\n",
      "Example:  0.5211666045200023\n",
      "\n",
      "avg_r_hand_hip_distance\n",
      "MSE: 0.02\n",
      "MAE: 0.11\n",
      "Example:  0.362042134709937\n",
      "\n",
      "max_stride_length\n",
      "MSE: 0.02\n",
      "MAE: 0.11\n",
      "Example:  0.6026755506994144\n",
      "\n",
      "avg_l_hand_chest_distance\n",
      "MSE: 0.01\n",
      "MAE: 0.07\n",
      "Example:  0.5913874289649005\n",
      "\n",
      "avg_r_hand_chest_distance\n",
      "MSE: 0.01\n",
      "MAE: 0.08\n",
      "Example:  0.3621781709403662\n",
      "\n",
      "avg_l_elbow_hip_distance\n",
      "MSE: 0.00\n",
      "MAE: 0.05\n",
      "Example:  0.4644061740628424\n",
      "\n",
      "avg_r_elbow_hip_distance\n",
      "MSE: 0.00\n",
      "MAE: 0.05\n",
      "Example:  0.2968889601535709\n",
      "\n",
      "avg_chest_pelvis_distance\n",
      "MSE: 0.00\n",
      "MAE: 0.00\n",
      "Example:  0.2861509998422412\n",
      "\n",
      "avg_neck_chest_distance\n",
      "MSE: 0.00\n",
      "MAE: 0.00\n",
      "Example:  0.2734155747860033\n",
      "\n",
      "avg_neck_rotation_w\n",
      "MSE: 0.01\n",
      "MAE: 0.06\n",
      "Example:  -0.025106319761402\n",
      "\n",
      "avg_neck_rotation_x\n",
      "MSE: 0.05\n",
      "MAE: 0.15\n",
      "Example:  -0.4618695550435093\n",
      "\n",
      "avg_neck_rotation_y\n",
      "MSE: 0.01\n",
      "MAE: 0.08\n",
      "Example:  -0.1799121118894527\n",
      "\n",
      "avg_neck_rotation_z\n",
      "MSE: 0.01\n",
      "MAE: 0.05\n",
      "Example:  0.863543988094687\n",
      "\n",
      "avg_total_body_volume\n",
      "MSE: 0.02\n",
      "MAE: 0.11\n",
      "Example:  0.6243584346495811\n",
      "\n",
      "avg_triangle_area_hands_neck\n",
      "MSE: 0.00\n",
      "MAE: 0.05\n",
      "Example:  0.1815659968747101\n",
      "\n",
      "avg_triangle_area_feet_hips\n",
      "MSE: 0.00\n",
      "MAE: 0.04\n",
      "Example:  0.1929997873000407\n",
      "\n",
      "l_hand_speed\n",
      "MSE: 0.10\n",
      "MAE: 0.23\n",
      "Example:  0.5911472027079911\n",
      "\n",
      "r_hand_speed\n",
      "MSE: 0.10\n",
      "MAE: 0.24\n",
      "Example:  1.0269165227882646\n",
      "\n",
      "l_foot_speed\n",
      "MSE: 0.07\n",
      "MAE: 0.19\n",
      "Example:  0.5916773698985246\n",
      "\n",
      "r_foot_speed\n",
      "MSE: 0.08\n",
      "MAE: 0.19\n",
      "Example:  1.5101352796593723\n",
      "\n",
      "neck_speed\n",
      "MSE: 0.05\n",
      "MAE: 0.17\n",
      "Example:  0.5907931495698594\n",
      "\n",
      "l_hand_acceleration_magnitude\n",
      "MSE: 0.61\n",
      "MAE: 0.53\n",
      "Example:  2.3979995973240484\n",
      "\n",
      "r_hand_acceleration_magnitude\n",
      "MSE: 0.62\n",
      "MAE: 0.54\n",
      "Example:  1.973846116880816\n",
      "\n",
      "l_foot_acceleration_magnitude\n",
      "MSE: 0.36\n",
      "MAE: 0.42\n",
      "Example:  1.768146871053032\n",
      "\n",
      "r_foot_acceleration_magnitude\n",
      "MSE: 0.43\n",
      "MAE: 0.46\n",
      "Example:  3.00506308742721\n",
      "\n",
      "neck_acceleration_magnitude\n",
      "MSE: 0.11\n",
      "MAE: 0.24\n",
      "Example:  0.585412606926076\n",
      "\n"
     ]
    }
   ],
   "source": [
    "for i in range(len(models)):\n",
    "    pred_y = models[i].predict(test_X)\n",
    "    mse = mean_squared_error(test_y_sets[i], pred_y)\n",
    "    mae = mean_absolute_error(test_y_sets[i], pred_y)\n",
    "    print(test_y_sets[i].columns[0])\n",
    "    print(\"MSE: %.2f\" % mse)\n",
    "    print(\"MAE: %.2f\" % mae)\n",
    "    print(\"Example: \", test_y_sets[i].iloc[0][0])\n",
    "    print()"
   ]
  },
  {
   "cell_type": "markdown",
   "metadata": {},
   "source": [
    "### Prediction Examples"
   ]
  },
  {
   "cell_type": "code",
   "execution_count": 52,
   "metadata": {},
   "outputs": [],
   "source": [
    "model_p = xgb.XGBRegressor(verbosity=0)\n",
    "model_p.load_model(\"../../emotion_classifier/model_training/models/l2p_dance_model_O.json\")\n",
    "\n",
    "model_a = xgb.XGBRegressor(verbosity=0)\n",
    "model_a.load_model(\"../../emotion_classifier/model_training/models/l2a_dance_model_O.json\")\n",
    "\n",
    "model_d = xgb.XGBRegressor(verbosity=0)\n",
    "model_d.load_model(\"../../emotion_classifier/model_training/models/l2d_dance_model_O.json\")\n",
    "\n",
    "scaler = joblib.load('../../emotion_classifier/model_training/datasets/scalers/standardizers/Fs_B_O_S_DANCE_WALK_KIN_0.5sec.pkl') "
   ]
  },
  {
   "cell_type": "code",
   "execution_count": 57,
   "metadata": {},
   "outputs": [
    {
     "name": "stdout",
     "output_type": "stream",
     "text": [
      "Real: [[0.20954038 0.284437   0.13187866]]\n",
      "Predicted: [-0.36244485, 0.017026702, 0.01105946]\n"
     ]
    }
   ],
   "source": [
    "index = 4\n",
    "\n",
    "real_coordinates = np.asarray([test_X.iloc[index]])\n",
    "\n",
    "generated_features = []\n",
    "for i in range(len(models)):\n",
    "    generated_features.append(models[i].predict(real_coordinates)[0])\n",
    "    #print(test_y_sets[i].columns[0], \" - \", generated_features[i])\n",
    "    \n",
    "generated_features = pd.DataFrame([generated_features], columns=[\n",
    "            \"max_hand_distance\",\n",
    "            \"avg_l_hand_hip_distance\",\n",
    "            \"avg_r_hand_hip_distance\",\n",
    "            \"max_stride_length\",\n",
    "            \"avg_l_hand_chest_distance\",\n",
    "            \"avg_r_hand_chest_distance\",\n",
    "            \"avg_l_elbow_hip_distance\",\n",
    "            \"avg_r_elbow_hip_distance\",\n",
    "            \"avg_chest_pelvis_distance\",\n",
    "            \"avg_neck_chest_distance\",\n",
    "            \"avg_neck_rotation_w\", \"avg_neck_rotation_x\", \"avg_neck_rotation_y\", \"avg_neck_rotation_z\",\n",
    "            \"avg_total_body_volume\",\n",
    "            \"avg_triangle_area_hands_neck\",\n",
    "            \"avg_triangle_area_feet_hips\",\n",
    "          \n",
    "            \"l_hand_speed\",\n",
    "            \"r_hand_speed\",\n",
    "            \"l_foot_speed\",\n",
    "            \"r_foot_speed\",\n",
    "            \"neck_speed\",\n",
    "          \n",
    "            \"l_hand_acceleration_magnitude\",\n",
    "            \"r_hand_acceleration_magnitude\",\n",
    "            \"l_foot_acceleration_magnitude\",\n",
    "            \"r_foot_acceleration_magnitude\",\n",
    "            \"neck_acceleration_magnitude\",\n",
    "         ])\n",
    "\n",
    "generated_features = scaler.transform(generated_features)\n",
    "\n",
    "y_p = model_p.predict(generated_features)\n",
    "y_a = model_a.predict(generated_features)\n",
    "y_d = model_d.predict(generated_features)\n",
    "\n",
    "print('Real: %s' % np.asarray(real_coordinates))\n",
    "print('Predicted: %s' % [y_p[0], y_a[0], y_d[0]])"
   ]
  },
  {
   "cell_type": "markdown",
   "metadata": {},
   "source": [
    "## Save Models"
   ]
  },
  {
   "cell_type": "code",
   "execution_count": 118,
   "metadata": {},
   "outputs": [],
   "source": [
    "# save to JSON\n",
    "model_p.save_model(\"models/l2p_dance_model.json\")\n",
    "model_a.save_model(\"models/l2a_dance_model.json\")\n",
    "model_d.save_model(\"models/l2d_dance_model.json\")"
   ]
  },
  {
   "cell_type": "markdown",
   "metadata": {},
   "source": [
    "## Load Models"
   ]
  },
  {
   "cell_type": "code",
   "execution_count": 856,
   "metadata": {},
   "outputs": [],
   "source": [
    "model_p = xgb.XGBRegressor(verbosity=0)\n",
    "model_p.load_model(\"models/l2p_dance_model_v2.json\")\n",
    "\n",
    "model_a = xgb.XGBRegressor(verbosity=0)\n",
    "model_a.load_model(\"models/l2a_dance_model_v2.json\")"
   ]
  },
  {
   "cell_type": "markdown",
   "metadata": {},
   "source": [
    "\n"
   ]
  },
  {
   "cell_type": "markdown",
   "metadata": {},
   "source": [
    "# Hyperparameter Grid Search with XGBoost"
   ]
  },
  {
   "cell_type": "code",
   "execution_count": 58,
   "metadata": {},
   "outputs": [],
   "source": [
    "from datetime import datetime\n",
    "from sklearn.model_selection import GridSearchCV\n",
    "from sklearn.model_selection import RandomizedSearchCV\n",
    "import time\n",
    "\n",
    "import matplotlib.pyplot as plt\n",
    "import numpy as np\n",
    "import pandas as pd\n",
    "import seaborn as sns\n",
    "\n",
    "import tensorflow as tf\n",
    "\n",
    "import sklearn\n",
    "from sklearn.model_selection import cross_val_score, KFold\n",
    "from sklearn.metrics import mean_absolute_error\n",
    "\n",
    "\n",
    "import xgboost as xgb\n",
    "\n",
    "xgb.set_config(verbosity=2)\n",
    "\n",
    "from sklearn.metrics import mean_squared_error\n",
    "from sklearn.utils import shuffle\n",
    "import joblib"
   ]
  },
  {
   "cell_type": "markdown",
   "metadata": {},
   "source": [
    "## Load Data"
   ]
  },
  {
   "cell_type": "code",
   "execution_count": 3,
   "metadata": {},
   "outputs": [],
   "source": [
    "dataset = pd.read_csv('datasets/Fs_B_DANCE_WALK_KIN_0.5sec.csv')"
   ]
  },
  {
   "cell_type": "markdown",
   "metadata": {},
   "source": [
    "### Split into Test and Train data"
   ]
  },
  {
   "cell_type": "code",
   "execution_count": 4,
   "metadata": {},
   "outputs": [
    {
     "name": "stdout",
     "output_type": "stream",
     "text": [
      "No Training Samples: 39539\n",
      "No Test Samples: 9885\n"
     ]
    }
   ],
   "source": [
    "train_dataset = dataset.sample(frac=0.8, random_state=42)\n",
    "test_dataset = dataset.drop(train_dataset.index)\n",
    "\n",
    "print(\"No Training Samples:\",train_dataset.shape[0])\n",
    "print(\"No Test Samples:\",test_dataset.shape[0])\n",
    "\n",
    "train_dataset = shuffle(train_dataset)\n",
    "test_dataset = shuffle(test_dataset)"
   ]
  },
  {
   "cell_type": "markdown",
   "metadata": {},
   "source": [
    "### Split Features from Targets"
   ]
  },
  {
   "cell_type": "code",
   "execution_count": 5,
   "metadata": {},
   "outputs": [],
   "source": [
    "train_y_sets = []\n",
    "test_y_sets = []\n",
    "# List of np.arrays each containing the LMA features of a given column (i.e one list per feature)"
   ]
  },
  {
   "cell_type": "code",
   "execution_count": 6,
   "metadata": {},
   "outputs": [],
   "source": [
    "train_X = pd.concat([train_dataset.pop(x) for x in ['EMOTION_P', 'EMOTION_A', 'EMOTION_D']], axis=1)\n",
    "test_X = pd.concat([test_dataset.pop(x) for x in ['EMOTION_P', 'EMOTION_A', 'EMOTION_D']], axis=1)"
   ]
  },
  {
   "cell_type": "code",
   "execution_count": 7,
   "metadata": {},
   "outputs": [],
   "source": [
    "for colname in train_dataset.columns:\n",
    "    train_y_sets.append(pd.concat([train_dataset.pop(x) for x in [colname]], axis=1))\n",
    "    \n",
    "for colname in test_dataset.columns:\n",
    "    test_y_sets.append(pd.concat([test_dataset.pop(x) for x in [colname]], axis=1))"
   ]
  },
  {
   "cell_type": "code",
   "execution_count": 8,
   "metadata": {},
   "outputs": [
    {
     "data": {
      "text/html": [
       "<div>\n",
       "<style scoped>\n",
       "    .dataframe tbody tr th:only-of-type {\n",
       "        vertical-align: middle;\n",
       "    }\n",
       "\n",
       "    .dataframe tbody tr th {\n",
       "        vertical-align: top;\n",
       "    }\n",
       "\n",
       "    .dataframe thead th {\n",
       "        text-align: right;\n",
       "    }\n",
       "</style>\n",
       "<table border=\"1\" class=\"dataframe\">\n",
       "  <thead>\n",
       "    <tr style=\"text-align: right;\">\n",
       "      <th></th>\n",
       "      <th>EMOTION_P</th>\n",
       "      <th>EMOTION_A</th>\n",
       "      <th>EMOTION_D</th>\n",
       "    </tr>\n",
       "  </thead>\n",
       "  <tbody>\n",
       "    <tr>\n",
       "      <th>7012</th>\n",
       "      <td>-0.85</td>\n",
       "      <td>-0.10</td>\n",
       "      <td>-0.80</td>\n",
       "    </tr>\n",
       "    <tr>\n",
       "      <th>19814</th>\n",
       "      <td>0.90</td>\n",
       "      <td>-0.25</td>\n",
       "      <td>0.65</td>\n",
       "    </tr>\n",
       "    <tr>\n",
       "      <th>423</th>\n",
       "      <td>-0.40</td>\n",
       "      <td>0.25</td>\n",
       "      <td>-0.10</td>\n",
       "    </tr>\n",
       "    <tr>\n",
       "      <th>45807</th>\n",
       "      <td>-0.50</td>\n",
       "      <td>0.60</td>\n",
       "      <td>0.90</td>\n",
       "    </tr>\n",
       "    <tr>\n",
       "      <th>28216</th>\n",
       "      <td>-0.35</td>\n",
       "      <td>0.70</td>\n",
       "      <td>-0.80</td>\n",
       "    </tr>\n",
       "  </tbody>\n",
       "</table>\n",
       "</div>"
      ],
      "text/plain": [
       "       EMOTION_P  EMOTION_A  EMOTION_D\n",
       "7012       -0.85      -0.10      -0.80\n",
       "19814       0.90      -0.25       0.65\n",
       "423        -0.40       0.25      -0.10\n",
       "45807      -0.50       0.60       0.90\n",
       "28216      -0.35       0.70      -0.80"
      ]
     },
     "execution_count": 8,
     "metadata": {},
     "output_type": "execute_result"
    }
   ],
   "source": [
    "train_X.head()"
   ]
  },
  {
   "cell_type": "code",
   "execution_count": 9,
   "metadata": {
    "scrolled": true
   },
   "outputs": [
    {
     "name": "stdout",
     "output_type": "stream",
     "text": [
      "max_hand_distance\n",
      "avg_l_hand_hip_distance\n",
      "avg_r_hand_hip_distance\n",
      "max_stride_length\n",
      "avg_l_hand_chest_distance\n",
      "avg_r_hand_chest_distance\n",
      "avg_l_elbow_hip_distance\n",
      "avg_r_elbow_hip_distance\n",
      "avg_chest_pelvis_distance\n",
      "avg_neck_chest_distance\n",
      "avg_neck_rotation_w\n",
      "avg_neck_rotation_x\n",
      "avg_neck_rotation_y\n",
      "avg_neck_rotation_z\n",
      "avg_total_body_volume\n",
      "avg_triangle_area_hands_neck\n",
      "avg_triangle_area_feet_hips\n",
      "l_hand_speed\n",
      "r_hand_speed\n",
      "l_foot_speed\n",
      "r_foot_speed\n",
      "neck_speed\n",
      "l_hand_acceleration_magnitude\n",
      "r_hand_acceleration_magnitude\n",
      "l_foot_acceleration_magnitude\n",
      "r_foot_acceleration_magnitude\n",
      "neck_acceleration_magnitude\n"
     ]
    }
   ],
   "source": [
    "for i in range(len(train_y_sets)):\n",
    "    print(train_y_sets[i].columns[0])"
   ]
  },
  {
   "cell_type": "markdown",
   "metadata": {},
   "source": [
    "## RandomSearchCV"
   ]
  },
  {
   "cell_type": "code",
   "execution_count": 59,
   "metadata": {},
   "outputs": [],
   "source": [
    "# A parameter grid for XGBoost\n",
    "# https://www.analyticsvidhya.com/blog/2016/03/complete-guide-parameter-tuning-xgboost-with-codes-python/\n",
    "params = {\n",
    "        'eta': [0.01, 0.05, 0.1],\n",
    "        'min_child_weight': [1, 5, 11, 21],\n",
    "        'max_depth': [3, 6, 10, 15],\n",
    "        'gamma': [0, 0.001, 0.01],\n",
    "        'subsample': [0.75, 1],\n",
    "        'colsample_bytree': [0.75, 1],\n",
    "        'lambda': [1, 1.25],\n",
    "        'alpha': [0.0, 0.25]\n",
    "        }\n",
    "\n",
    "n_iter = 200"
   ]
  },
  {
   "cell_type": "code",
   "execution_count": 60,
   "metadata": {},
   "outputs": [],
   "source": [
    "models = []\n",
    "\n",
    "for i in range(len(train_y_sets)):\n",
    "    models.append(\n",
    "        xgb.XGBRegressor(\n",
    "                    n_estimators=1500, \n",
    "                    objective=\"reg:squarederror\",\n",
    "                    tree_method='gpu_hist'\n",
    "                )\n",
    "    )"
   ]
  },
  {
   "cell_type": "code",
   "execution_count": null,
   "metadata": {},
   "outputs": [
    {
     "name": "stdout",
     "output_type": "stream",
     "text": [
      "max_hand_distance\n"
     ]
    }
   ],
   "source": [
    "# Pleasure\n",
    "# run randomized search\n",
    "\n",
    "random_searches = []\n",
    "\n",
    "for i in range(len(models)):\n",
    "    print(train_y_sets[i].columns[0])\n",
    "    \n",
    "    kfold = KFold(n_splits=3, shuffle=True)\n",
    "\n",
    "    random_search = RandomizedSearchCV(models[i], param_distributions=params,\n",
    "                               cv=kfold, scoring='neg_mean_squared_error', n_iter = n_iter)\n",
    "\n",
    "    start = time.time()\n",
    "    random_search.fit(train_X, train_y_sets[i])\n",
    "    \n",
    "    random_searches.append(random_search)\n",
    "\n",
    "    print(\"GridSearchCV took %.2f seconds\"\n",
    "          \" parameter settings.\" % ((time.time() - start)))\n",
    "    \n",
    "    print()"
   ]
  },
  {
   "cell_type": "markdown",
   "metadata": {},
   "source": [
    "### Results"
   ]
  },
  {
   "cell_type": "code",
   "execution_count": null,
   "metadata": {
    "scrolled": false
   },
   "outputs": [],
   "source": [
    "best_regressors = []\n",
    "\n",
    "for i in range(len(models)):\n",
    "    print(train_y_sets[i].columns[0])\n",
    "    best_regressor = random_searches[i].best_estimator_\n",
    "\n",
    "    print(best_regressor.get_params())\n",
    "    best_regressors.append(best_regressor)\n",
    "    print()"
   ]
  },
  {
   "cell_type": "code",
   "execution_count": null,
   "metadata": {},
   "outputs": [],
   "source": [
    "for i in range(len(best_regressors)):\n",
    "    pred_y = best_regressors[i].predict(test_X)\n",
    "    mse = mean_squared_error(test_y_sets[i], pred_y)\n",
    "    mae = mean_absolute_error(test_y_sets[i], pred_y)\n",
    "    print(test_y_sets[i].columns[0])\n",
    "    print(\"MSE: %.2f\" % mse)\n",
    "    print(\"MAE: %.2f\" % mae)\n",
    "    print(\"Example: \", test_y_sets[i].iloc[0][0])\n",
    "    print()"
   ]
  },
  {
   "cell_type": "code",
   "execution_count": null,
   "metadata": {},
   "outputs": [],
   "source": [
    "# save to JSON\n",
    "for i in range(len(best_regressors)):\n",
    "    best_regressors[i].save_model(\"models/0.5_sec/\" + test_y_sets[i].columns[0] +\".json\")"
   ]
  },
  {
   "cell_type": "markdown",
   "metadata": {},
   "source": [
    "### Predictions"
   ]
  },
  {
   "cell_type": "code",
   "execution_count": 46,
   "metadata": {},
   "outputs": [],
   "source": [
    "model_p = xgb.XGBRegressor(verbosity=0)\n",
    "model_p.load_model(\"../../emotion_classifier/model_training/models/l2p_dance_model.json\")\n",
    "\n",
    "model_a = xgb.XGBRegressor(verbosity=0)\n",
    "model_a.load_model(\"../../emotion_classifier/model_training/models/l2a_dance_model.json\")\n",
    "\n",
    "model_d = xgb.XGBRegressor(verbosity=0)\n",
    "model_d.load_model(\"../../emotion_classifier/model_training/models/l2d_dance_model.json\")\n",
    "\n",
    "scaler = joblib.load('../../emotion_classifier/model_training/datasets/scalers/standardizers/Fs_B_S_DANCE_WALK_KIN_0.5sec.pkl') "
   ]
  },
  {
   "cell_type": "code",
   "execution_count": 47,
   "metadata": {},
   "outputs": [
    {
     "name": "stdout",
     "output_type": "stream",
     "text": [
      "Real: [[ 0.9  -0.25  0.65]]\n",
      "Predicted: [0.45704892, 0.14212963, 0.21817927]\n"
     ]
    }
   ],
   "source": [
    "index = 10\n",
    "\n",
    "real_coordinates = np.asarray([test_X.iloc[index]])\n",
    "\n",
    "generated_features = []\n",
    "for i in range(len(models)):\n",
    "    generated_features.append(best_regressors[i].predict(real_coordinates)[0])\n",
    "    #print(test_y_sets[i].columns[0], \" - \", generated_features[i])\n",
    "    \n",
    "generated_features = pd.DataFrame([generated_features], columns=[\n",
    "            \"max_hand_distance\",\n",
    "            \"avg_l_hand_hip_distance\",\n",
    "            \"avg_r_hand_hip_distance\",\n",
    "            \"max_stride_length\",\n",
    "            \"avg_l_hand_chest_distance\",\n",
    "            \"avg_r_hand_chest_distance\",\n",
    "            \"avg_l_elbow_hip_distance\",\n",
    "            \"avg_r_elbow_hip_distance\",\n",
    "            \"avg_chest_pelvis_distance\",\n",
    "            \"avg_neck_chest_distance\",\n",
    "            \"avg_neck_rotation_w\", \"avg_neck_rotation_x\", \"avg_neck_rotation_y\", \"avg_neck_rotation_z\",\n",
    "            \"avg_total_body_volume\",\n",
    "            \"avg_triangle_area_hands_neck\",\n",
    "            \"avg_triangle_area_feet_hips\",\n",
    "          \n",
    "            \"l_hand_speed\",\n",
    "            \"r_hand_speed\",\n",
    "            \"l_foot_speed\",\n",
    "            \"r_foot_speed\",\n",
    "            \"neck_speed\",\n",
    "          \n",
    "            \"l_hand_acceleration_magnitude\",\n",
    "            \"r_hand_acceleration_magnitude\",\n",
    "            \"l_foot_acceleration_magnitude\",\n",
    "            \"r_foot_acceleration_magnitude\",\n",
    "            \"neck_acceleration_magnitude\",\n",
    "         ])\n",
    "\n",
    "generated_features = scaler.transform(generated_features)\n",
    "\n",
    "y_p = model_p.predict(generated_features)\n",
    "y_a = model_a.predict(generated_features)\n",
    "y_d = model_d.predict(generated_features)\n",
    "\n",
    "print('Real: %s' % np.asarray(real_coordinates))\n",
    "print('Predicted: %s' % [y_p[0], y_a[0], y_d[0]])"
   ]
  },
  {
   "cell_type": "markdown",
   "metadata": {},
   "source": [
    "\n"
   ]
  },
  {
   "cell_type": "markdown",
   "metadata": {},
   "source": [
    "\n"
   ]
  },
  {
   "cell_type": "markdown",
   "metadata": {},
   "source": [
    "\n"
   ]
  },
  {
   "cell_type": "markdown",
   "metadata": {},
   "source": [
    "\n"
   ]
  },
  {
   "cell_type": "markdown",
   "metadata": {},
   "source": [
    "\n"
   ]
  },
  {
   "cell_type": "markdown",
   "metadata": {},
   "source": [
    "\n"
   ]
  },
  {
   "cell_type": "markdown",
   "metadata": {},
   "source": [
    "\n"
   ]
  },
  {
   "cell_type": "markdown",
   "metadata": {},
   "source": [
    "\n"
   ]
  },
  {
   "cell_type": "markdown",
   "metadata": {},
   "source": [
    "\n"
   ]
  },
  {
   "cell_type": "markdown",
   "metadata": {},
   "source": [
    "\n"
   ]
  },
  {
   "cell_type": "markdown",
   "metadata": {},
   "source": [
    "\n"
   ]
  },
  {
   "cell_type": "markdown",
   "metadata": {},
   "source": [
    "\n"
   ]
  },
  {
   "cell_type": "markdown",
   "metadata": {},
   "source": [
    "\n"
   ]
  },
  {
   "cell_type": "markdown",
   "metadata": {},
   "source": [
    "\n"
   ]
  },
  {
   "cell_type": "markdown",
   "metadata": {},
   "source": [
    "\n"
   ]
  },
  {
   "cell_type": "markdown",
   "metadata": {},
   "source": [
    "\n"
   ]
  },
  {
   "cell_type": "markdown",
   "metadata": {},
   "source": [
    "\n"
   ]
  },
  {
   "cell_type": "markdown",
   "metadata": {},
   "source": [
    "\n"
   ]
  },
  {
   "cell_type": "markdown",
   "metadata": {},
   "source": [
    "\n"
   ]
  },
  {
   "cell_type": "markdown",
   "metadata": {},
   "source": [
    "\n"
   ]
  },
  {
   "cell_type": "markdown",
   "metadata": {},
   "source": [
    "\n"
   ]
  }
 ],
 "metadata": {
  "kernelspec": {
   "display_name": "Python 3",
   "language": "python",
   "name": "python3"
  },
  "language_info": {
   "codemirror_mode": {
    "name": "ipython",
    "version": 3
   },
   "file_extension": ".py",
   "mimetype": "text/x-python",
   "name": "python",
   "nbconvert_exporter": "python",
   "pygments_lexer": "ipython3",
   "version": "3.7.5"
  }
 },
 "nbformat": 4,
 "nbformat_minor": 5
}
