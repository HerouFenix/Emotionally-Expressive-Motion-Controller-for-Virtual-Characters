{
 "cells": [
  {
   "cell_type": "code",
   "execution_count": 1,
   "metadata": {},
   "outputs": [],
   "source": [
    "import numpy as np\n",
    "import pandas as pd\n",
    "\n",
    "import tensorflow as tf\n",
    "from tensorflow import keras\n",
    "from tensorflow.keras import layers\n",
    "import keras.backend as K\n",
    "from sklearn.utils import shuffle\n"
   ]
  },
  {
   "cell_type": "markdown",
   "metadata": {},
   "source": [
    "## Load Data"
   ]
  },
  {
   "cell_type": "code",
   "execution_count": 2,
   "metadata": {},
   "outputs": [],
   "source": [
    "dataset = pd.read_csv('datasets/Fs2_B_DANCE_WALK_KIN_0.5sec.csv')"
   ]
  },
  {
   "cell_type": "markdown",
   "metadata": {},
   "source": [
    "### Remove Emotions from dataset & Split into Train/Test sets"
   ]
  },
  {
   "cell_type": "code",
   "execution_count": 3,
   "metadata": {},
   "outputs": [
    {
     "name": "stdout",
     "output_type": "stream",
     "text": [
      "No Training Samples: 39539\n",
      "No Test Samples: 9885\n",
      "20\n"
     ]
    }
   ],
   "source": [
    "dataset = dataset.drop(columns=['EMOTION_P', 'EMOTION_A', 'EMOTION_D'])\n",
    "\n",
    "train_dataset = dataset.sample(frac=0.8, random_state=42)\n",
    "test_dataset = dataset.drop(train_dataset.index)\n",
    "\n",
    "print(\"No Training Samples:\",train_dataset.shape[0])\n",
    "print(\"No Test Samples:\",test_dataset.shape[0])\n",
    "\n",
    "train_dataset = shuffle(train_dataset)\n",
    "test_dataset = shuffle(test_dataset)\n",
    "\n",
    "train_dataset = np.asarray(train_dataset)\n",
    "test_dataset = np.asarray(test_dataset)\n",
    "\n",
    "x_train = train_dataset.reshape((len(train_dataset), np.prod(train_dataset.shape[1:])))\n",
    "x_test = test_dataset.reshape((len(test_dataset), np.prod(test_dataset.shape[1:])))\n",
    "\n",
    "print(len(x_train[0]))"
   ]
  },
  {
   "cell_type": "markdown",
   "metadata": {},
   "source": [
    "## Build Model"
   ]
  },
  {
   "cell_type": "markdown",
   "metadata": {},
   "source": [
    "### Settings"
   ]
  },
  {
   "cell_type": "code",
   "execution_count": 4,
   "metadata": {},
   "outputs": [],
   "source": [
    "latent_dim = 5\n",
    "intermediate_dim = 10\n",
    "input_shape = (dataset.shape[1],)"
   ]
  },
  {
   "cell_type": "markdown",
   "metadata": {},
   "source": [
    "### Sampler"
   ]
  },
  {
   "cell_type": "code",
   "execution_count": 5,
   "metadata": {},
   "outputs": [],
   "source": [
    "class Sampling(layers.Layer):\n",
    "    \"\"\"Uses (z_mean, z_log_var) to sample z, the vector encoding a digit.\"\"\"\n",
    "\n",
    "    def call(self, inputs):\n",
    "        z_mean, z_log_var = inputs\n",
    "        \n",
    "        batch = tf.shape(z_mean)[0]\n",
    "        \n",
    "        dim = tf.shape(z_mean)[1]\n",
    "        \n",
    "        epsilon = tf.keras.backend.random_normal(shape=(batch, dim))\n",
    "        return z_mean + tf.exp(0.5 * z_log_var) * epsilon\n",
    "\n",
    "    \n",
    "def sample_point_from_normal_distribution(args):\n",
    "    mu, log_variance = args\n",
    "    epsilon = K.random_normal(shape=K.shape(mu), mean=0.0, stddev=1.0)\n",
    "    sampled_point = mu + K.exp(log_variance / 2) * epsilon\n",
    "    return sampled_point"
   ]
  },
  {
   "cell_type": "markdown",
   "metadata": {},
   "source": [
    "### Encoder"
   ]
  },
  {
   "cell_type": "code",
   "execution_count": 6,
   "metadata": {},
   "outputs": [
    {
     "name": "stdout",
     "output_type": "stream",
     "text": [
      "Model: \"encoder\"\n",
      "__________________________________________________________________________________________________\n",
      " Layer (type)                   Output Shape         Param #     Connected to                     \n",
      "==================================================================================================\n",
      " input_1 (InputLayer)           [(None, 20)]         0           []                               \n",
      "                                                                                                  \n",
      " dense (Dense)                  (None, 10)           210         ['input_1[0][0]']                \n",
      "                                                                                                  \n",
      " z_mean (Dense)                 (None, 5)            55          ['dense[0][0]']                  \n",
      "                                                                                                  \n",
      " z_log_var (Dense)              (None, 5)            55          ['dense[0][0]']                  \n",
      "                                                                                                  \n",
      " sampling (Sampling)            (None, 5)            0           ['z_mean[0][0]',                 \n",
      "                                                                  'z_log_var[0][0]']              \n",
      "                                                                                                  \n",
      "==================================================================================================\n",
      "Total params: 320\n",
      "Trainable params: 320\n",
      "Non-trainable params: 0\n",
      "__________________________________________________________________________________________________\n"
     ]
    }
   ],
   "source": [
    "encoder_inputs = keras.Input(shape=input_shape)\n",
    "x = layers.Dense(intermediate_dim, activation=\"relu\")(encoder_inputs)\n",
    "\n",
    "z_mean = layers.Dense(latent_dim, name=\"z_mean\")(x)\n",
    "z_log_var = layers.Dense(latent_dim, name=\"z_log_var\")(x)\n",
    "\n",
    "z = Sampling()([z_mean, z_log_var])\n",
    "\n",
    "encoder = keras.Model(encoder_inputs, [z_mean, z_log_var, z], name=\"encoder\")\n",
    "encoder.summary()"
   ]
  },
  {
   "cell_type": "markdown",
   "metadata": {},
   "source": [
    "### Decoder"
   ]
  },
  {
   "cell_type": "code",
   "execution_count": 7,
   "metadata": {},
   "outputs": [
    {
     "name": "stdout",
     "output_type": "stream",
     "text": [
      "Model: \"decoder\"\n",
      "_________________________________________________________________\n",
      " Layer (type)                Output Shape              Param #   \n",
      "=================================================================\n",
      " input_2 (InputLayer)        [(None, 5)]               0         \n",
      "                                                                 \n",
      " dense_1 (Dense)             (None, 10)                60        \n",
      "                                                                 \n",
      " dense_2 (Dense)             (None, 20)                220       \n",
      "                                                                 \n",
      "=================================================================\n",
      "Total params: 280\n",
      "Trainable params: 280\n",
      "Non-trainable params: 0\n",
      "_________________________________________________________________\n"
     ]
    }
   ],
   "source": [
    "latent_inputs = keras.Input(shape=(latent_dim,))\n",
    "\n",
    "x = layers.Dense(intermediate_dim, activation=\"relu\")(latent_inputs)\n",
    "\n",
    "decoder_outputs = layers.Dense(input_shape[0], activation=\"relu\")(x)\n",
    "\n",
    "decoder = keras.Model(latent_inputs, decoder_outputs, name=\"decoder\")\n",
    "decoder.summary()"
   ]
  },
  {
   "cell_type": "markdown",
   "metadata": {},
   "source": [
    "### Define VAE as a model with a custom train_step"
   ]
  },
  {
   "cell_type": "code",
   "execution_count": 20,
   "metadata": {},
   "outputs": [],
   "source": [
    "class VAE(keras.Model):\n",
    "    def __init__(self, encoder, decoder, **kwargs):\n",
    "        super(VAE, self).__init__(**kwargs)\n",
    "        self.encoder = encoder\n",
    "        self.decoder = decoder\n",
    "        \n",
    "        self.total_loss_tracker = keras.metrics.Mean(name=\"total_loss\")\n",
    "        \n",
    "        self.reconstruction_loss_tracker = keras.metrics.Mean(\n",
    "            name=\"reconstruction_loss\"\n",
    "        )\n",
    "        \n",
    "        self.kl_loss_tracker = keras.metrics.Mean(name=\"kl_loss\")\n",
    "\n",
    "    @property\n",
    "    def metrics(self):\n",
    "        return [\n",
    "            self.total_loss_tracker,\n",
    "            self.reconstruction_loss_tracker,\n",
    "            self.kl_loss_tracker,\n",
    "        ]\n",
    "\n",
    "    def train_step(self, data):\n",
    "        with tf.GradientTape() as tape:\n",
    "            z_mean, z_log_var, z = self.encoder(data)\n",
    "            \n",
    "            reconstruction = self.decoder(z)\n",
    "            mse = tf.keras.losses.MeanSquaredError()\n",
    "            reconstruction_loss = mse(data, reconstruction)\n",
    "\n",
    "            \n",
    "            kl_loss = -0.5 * (1 + z_log_var - tf.square(z_mean) - tf.exp(z_log_var))\n",
    "            kl_loss = tf.reduce_mean(tf.reduce_sum(kl_loss, axis=1))\n",
    "            \n",
    "            total_loss = reconstruction_loss + kl_loss\n",
    "            \n",
    "        grads = tape.gradient(total_loss, self.trainable_weights)\n",
    "        self.optimizer.apply_gradients(zip(grads, self.trainable_weights))\n",
    "        self.total_loss_tracker.update_state(total_loss)\n",
    "        self.reconstruction_loss_tracker.update_state(reconstruction_loss)\n",
    "        self.kl_loss_tracker.update_state(kl_loss)\n",
    "        \n",
    "        return {\n",
    "            \"loss\": self.total_loss_tracker.result(),\n",
    "            \"reconstruction_loss\": self.reconstruction_loss_tracker.result(),\n",
    "            \"kl_loss\": self.kl_loss_tracker.result(),\n",
    "        }\n"
   ]
  },
  {
   "cell_type": "markdown",
   "metadata": {},
   "source": [
    "## Train VAE"
   ]
  },
  {
   "cell_type": "code",
   "execution_count": 21,
   "metadata": {},
   "outputs": [
    {
     "name": "stdout",
     "output_type": "stream",
     "text": [
      "Epoch 1/30\n",
      "387/387 [==============================] - 1s 1ms/step - loss: 545.4832 - reconstruction_loss: 370.8088 - kl_loss: 1.3383\n",
      "Epoch 2/30\n",
      "387/387 [==============================] - 1s 1ms/step - loss: 94.5146 - reconstruction_loss: 48.5816 - kl_loss: 1.8334\n",
      "Epoch 3/30\n",
      "387/387 [==============================] - 1s 1ms/step - loss: -51.0066 - reconstruction_loss: -77.6936 - kl_loss: 3.3459\n",
      "Epoch 4/30\n",
      "387/387 [==============================] - 1s 1ms/step - loss: -115.6432 - reconstruction_loss: -131.5773 - kl_loss: 5.1885\n",
      "Epoch 5/30\n",
      "387/387 [==============================] - 1s 1ms/step - loss: -135.6136 - reconstruction_loss: -145.0085 - kl_loss: 5.4355\n",
      "Epoch 6/30\n",
      "387/387 [==============================] - 1s 1ms/step - loss: -146.9471 - reconstruction_loss: -154.8042 - kl_loss: 5.9136\n",
      "Epoch 7/30\n",
      "387/387 [==============================] - 1s 1ms/step - loss: -151.1332 - reconstruction_loss: -161.2914 - kl_loss: 6.4873\n",
      "Epoch 8/30\n",
      "387/387 [==============================] - 1s 1ms/step - loss: -156.8036 - reconstruction_loss: -164.3555 - kl_loss: 6.5188\n",
      "Epoch 9/30\n",
      "387/387 [==============================] - 1s 1ms/step - loss: -156.8787 - reconstruction_loss: -166.5638 - kl_loss: 6.9124\n",
      "Epoch 10/30\n",
      "387/387 [==============================] - 1s 1ms/step - loss: -166.4062 - reconstruction_loss: -171.8084 - kl_loss: 7.0997\n",
      "Epoch 11/30\n",
      "387/387 [==============================] - 1s 1ms/step - loss: -165.8288 - reconstruction_loss: -173.7296 - kl_loss: 7.2050\n",
      "Epoch 12/30\n",
      "387/387 [==============================] - 1s 1ms/step - loss: -163.6698 - reconstruction_loss: -169.5081 - kl_loss: 8.2820\n",
      "Epoch 13/30\n",
      "387/387 [==============================] - 1s 1ms/step - loss: -168.4065 - reconstruction_loss: -175.1344 - kl_loss: 7.5965\n",
      "Epoch 14/30\n",
      "387/387 [==============================] - 1s 1ms/step - loss: -166.0758 - reconstruction_loss: -175.4687 - kl_loss: 7.2160\n",
      "Epoch 15/30\n",
      "387/387 [==============================] - 1s 1ms/step - loss: -170.6374 - reconstruction_loss: -177.8868 - kl_loss: 7.6131\n",
      "Epoch 16/30\n",
      "387/387 [==============================] - 1s 1ms/step - loss: -174.0832 - reconstruction_loss: -179.7387 - kl_loss: 7.5068\n",
      "Epoch 17/30\n",
      "387/387 [==============================] - 1s 1ms/step - loss: -160.4530 - reconstruction_loss: -173.0754 - kl_loss: 7.6675\n",
      "Epoch 18/30\n",
      "387/387 [==============================] - 1s 1ms/step - loss: -166.5899 - reconstruction_loss: -178.3097 - kl_loss: 7.8840\n",
      "Epoch 19/30\n",
      "387/387 [==============================] - 1s 1ms/step - loss: -165.4678 - reconstruction_loss: -172.5625 - kl_loss: 9.1019\n",
      "Epoch 20/30\n",
      "387/387 [==============================] - 1s 1ms/step - loss: -172.5277 - reconstruction_loss: -181.2844 - kl_loss: 7.9468\n",
      "Epoch 21/30\n",
      "387/387 [==============================] - 1s 1ms/step - loss: -172.6011 - reconstruction_loss: -183.6356 - kl_loss: 7.5084\n",
      "Epoch 22/30\n",
      "387/387 [==============================] - 1s 1ms/step - loss: -169.8884 - reconstruction_loss: -178.3967 - kl_loss: 8.3073\n",
      "Epoch 23/30\n",
      "387/387 [==============================] - 1s 1ms/step - loss: -172.1352 - reconstruction_loss: -182.1594 - kl_loss: 7.3003\n",
      "Epoch 24/30\n",
      "387/387 [==============================] - 1s 1ms/step - loss: -177.4028 - reconstruction_loss: -184.2029 - kl_loss: 7.2622\n",
      "Epoch 25/30\n",
      "387/387 [==============================] - 1s 1ms/step - loss: -175.5022 - reconstruction_loss: -181.9263 - kl_loss: 7.3570\n",
      "Epoch 26/30\n",
      "387/387 [==============================] - 1s 1ms/step - loss: -174.5674 - reconstruction_loss: -182.9229 - kl_loss: 7.4702\n",
      "Epoch 27/30\n",
      "387/387 [==============================] - 1s 1ms/step - loss: -180.4863 - reconstruction_loss: -182.0790 - kl_loss: 7.2805\n",
      "Epoch 28/30\n",
      "387/387 [==============================] - 1s 1ms/step - loss: -173.3467 - reconstruction_loss: -182.1589 - kl_loss: 7.4339\n",
      "Epoch 29/30\n",
      "387/387 [==============================] - 1s 1ms/step - loss: -178.8642 - reconstruction_loss: -184.9912 - kl_loss: 7.2493\n",
      "Epoch 30/30\n",
      "387/387 [==============================] - 1s 1ms/step - loss: -183.5736 - reconstruction_loss: -185.5959 - kl_loss: 6.7107\n"
     ]
    },
    {
     "data": {
      "text/plain": [
       "<keras.callbacks.History at 0x7fa1ac349f50>"
      ]
     },
     "execution_count": 21,
     "metadata": {},
     "output_type": "execute_result"
    }
   ],
   "source": [
    "vae = VAE(encoder, decoder)\n",
    "vae.compile(optimizer=keras.optimizers.Adam())\n",
    "vae.fit(dataset, epochs=30, batch_size=128)"
   ]
  },
  {
   "cell_type": "markdown",
   "metadata": {},
   "source": [
    "### Test"
   ]
  },
  {
   "cell_type": "code",
   "execution_count": 22,
   "metadata": {},
   "outputs": [
    {
     "name": "stdout",
     "output_type": "stream",
     "text": [
      "[[ 0.43891064  0.26525414  0.22958809  0.28302481  0.46816296  0.45200459\n",
      "   0.35045947  0.3334689   0.286151    0.27875033  0.01188453 -0.14239762\n",
      "  -0.06731151  0.98744555  0.09445444  0.14805178  0.1248618   0.01411131\n",
      "   0.01639102  0.02076603  0.01443551  0.0214161   1.08583639  0.77999091\n",
      "   1.57553756  1.04939322  1.36723691]]\n"
     ]
    }
   ],
   "source": [
    "sample = np.asarray(dataset.iloc[1])\n",
    "sample = sample.reshape(1,-1)\n",
    "print(sample)"
   ]
  },
  {
   "cell_type": "code",
   "execution_count": 23,
   "metadata": {},
   "outputs": [],
   "source": [
    "z_mean, z_log_var, z = vae.encoder.predict(sample)"
   ]
  },
  {
   "cell_type": "code",
   "execution_count": 24,
   "metadata": {},
   "outputs": [
    {
     "name": "stdout",
     "output_type": "stream",
     "text": [
      "[[0.31382895 0.33650857 0.30301332 0.44027448 0.40246135 0.40505338\n",
      "  0.32231513 0.30672076 0.28865004 0.27346662 0.         0.\n",
      "  0.         0.7126938  0.32364178 0.11008604 0.14605412 0.48309255\n",
      "  0.33371082 0.51423603 0.43828836 0.31764993 1.4207661  0.745396\n",
      "  1.5575461  1.154783   0.8909904 ]]\n"
     ]
    }
   ],
   "source": [
    "regen = vae.decoder.predict(z)\n",
    "print(regen)"
   ]
  },
  {
   "cell_type": "markdown",
   "metadata": {},
   "source": [
    "\n"
   ]
  },
  {
   "cell_type": "markdown",
   "metadata": {},
   "source": [
    "\n"
   ]
  },
  {
   "cell_type": "markdown",
   "metadata": {},
   "source": [
    "\n"
   ]
  },
  {
   "cell_type": "markdown",
   "metadata": {},
   "source": [
    "\n"
   ]
  },
  {
   "cell_type": "markdown",
   "metadata": {},
   "source": [
    "\n"
   ]
  },
  {
   "cell_type": "markdown",
   "metadata": {},
   "source": [
    "\n"
   ]
  },
  {
   "cell_type": "markdown",
   "metadata": {},
   "source": [
    "\n"
   ]
  },
  {
   "cell_type": "markdown",
   "metadata": {},
   "source": [
    "\n"
   ]
  },
  {
   "cell_type": "markdown",
   "metadata": {},
   "source": [
    "\n"
   ]
  },
  {
   "cell_type": "markdown",
   "metadata": {},
   "source": [
    "\n"
   ]
  },
  {
   "cell_type": "markdown",
   "metadata": {},
   "source": [
    "\n"
   ]
  },
  {
   "cell_type": "markdown",
   "metadata": {},
   "source": [
    "\n"
   ]
  },
  {
   "cell_type": "markdown",
   "metadata": {},
   "source": [
    "\n"
   ]
  },
  {
   "cell_type": "markdown",
   "metadata": {},
   "source": [
    "\n"
   ]
  },
  {
   "cell_type": "markdown",
   "metadata": {},
   "source": [
    "\n"
   ]
  },
  {
   "cell_type": "markdown",
   "metadata": {},
   "source": [
    "\n"
   ]
  },
  {
   "cell_type": "markdown",
   "metadata": {},
   "source": [
    "\n"
   ]
  },
  {
   "cell_type": "markdown",
   "metadata": {},
   "source": [
    "\n"
   ]
  },
  {
   "cell_type": "markdown",
   "metadata": {},
   "source": [
    "\n"
   ]
  },
  {
   "cell_type": "markdown",
   "metadata": {},
   "source": [
    "\n"
   ]
  },
  {
   "cell_type": "markdown",
   "metadata": {},
   "source": [
    "\n"
   ]
  },
  {
   "cell_type": "markdown",
   "metadata": {},
   "source": [
    "\n"
   ]
  },
  {
   "cell_type": "markdown",
   "metadata": {},
   "source": [
    "\n"
   ]
  },
  {
   "cell_type": "markdown",
   "metadata": {},
   "source": [
    "\n"
   ]
  },
  {
   "cell_type": "markdown",
   "metadata": {},
   "source": [
    "\n"
   ]
  },
  {
   "cell_type": "markdown",
   "metadata": {},
   "source": [
    "\n"
   ]
  },
  {
   "cell_type": "code",
   "execution_count": 10,
   "metadata": {},
   "outputs": [],
   "source": [
    "def vae_loss(input_vols, output_vols):\n",
    "    beta = 1e-7\n",
    "    kl_loss = tf.keras.backend.sum(-1 - tf.keras.backend.log(tf.keras.backend.exp(z_log_var)) + tf.keras.backend.exp(z_log_var) + tf.keras.backend.square(z_mean))/2\n",
    "    return tf.keras.backend.mean((input_vols-output_vols)**2) + beta*kl_loss"
   ]
  },
  {
   "cell_type": "code",
   "execution_count": 220,
   "metadata": {},
   "outputs": [],
   "source": [
    "class VAE:\n",
    "    def __init__(self, encoder, decoder, encoder_input, z_mean, z_log_var):\n",
    "        self.encoder = encoder\n",
    "        self.decoder = decoder\n",
    "        \n",
    "        self._model_input = encoder_input\n",
    "        self.mu = z_mean\n",
    "        self.log_variance = z_log_var\n",
    "        \n",
    "        self.model = None\n",
    "        self._build_autoencoder()\n",
    "        \n",
    "        self.reconstruction_loss_weight = 1000\n",
    "        \n",
    "    def summary(self):\n",
    "        self.encoder.summary()\n",
    "        self.decoder.summary()\n",
    "        self.model.summary()\n",
    "        \n",
    "    def compile(self, learning_rate=0.0001):\n",
    "        optimizer = keras.optimizers.Adam(learning_rate=learning_rate)\n",
    "        self.model.compile(optimizer=optimizer,\n",
    "                          loss=self._calculate_combined_loss,\n",
    "                          metrics=[self._calculate_reconstruction_loss,\n",
    "                                   self._calculate_kl_loss])\n",
    "        \n",
    "    def train(self, train_set, batch_size, num_epochs):\n",
    "        self.model.fit(train_set, train_set,\n",
    "                      batch_size = batch_size,\n",
    "                      epochs=num_epochs,\n",
    "                      shuffle=True)\n",
    "        \n",
    "    def reconstruct(self, samples):\n",
    "        latent_representations = self.encoder.predict(samples)\n",
    "        reconstructed = self.decoder.predict(latent_representations)\n",
    "        return reconstructed, latent_representations\n",
    "    \n",
    "\n",
    "    \n",
    "    def _build_autoencoder(self):\n",
    "        model_output = self.decoder(self.encoder(self._model_input))\n",
    "        self.model = keras.Model(self._model_input, model_output, name=\"AutoEncoder\")\n",
    "        return\n",
    "    \n",
    "    def _calculate_combined_loss(self, y_target, y_predicted):\n",
    "        reconstruction_loss = self._calculate_reconstruction_loss(y_target, y_predicted)\n",
    "        kl_loss = self._calculate_kl_loss(y_target, y_predicted)\n",
    "        print(\"HIIIIIIIIIIII\")\n",
    "\n",
    "        combined_loss = (self.reconstruction_loss_weight * reconstruction_loss) + kl_loss\n",
    "        print(combined_loss)\n",
    "        return combined_loss\n",
    "    \n",
    "    def _calculate_reconstruction_loss(self, y_target, y_predicted):\n",
    "        error = y_target - y_predicted\n",
    "        reconstruction_loss = K.mean(K.square(error), axis=1) # this axis may be wrong\n",
    "        \n",
    "        return reconstruction_loss\n",
    "    \n",
    "    def _calculate_kl_loss(self, y_target, y_predicted):\n",
    "        kl_loss = -0.5 * K.sum(1 + self.log_variance - K.square(self.mu) - K.exp(self.log_variance), axis=1)\n",
    "        return kl_loss"
   ]
  },
  {
   "cell_type": "markdown",
   "metadata": {},
   "source": [
    "\n"
   ]
  },
  {
   "cell_type": "markdown",
   "metadata": {},
   "source": [
    "\n"
   ]
  },
  {
   "cell_type": "markdown",
   "metadata": {},
   "source": [
    "\n"
   ]
  }
 ],
 "metadata": {
  "kernelspec": {
   "display_name": "Python 3",
   "language": "python",
   "name": "python3"
  },
  "language_info": {
   "codemirror_mode": {
    "name": "ipython",
    "version": 3
   },
   "file_extension": ".py",
   "mimetype": "text/x-python",
   "name": "python",
   "nbconvert_exporter": "python",
   "pygments_lexer": "ipython3",
   "version": "3.7.5"
  }
 },
 "nbformat": 4,
 "nbformat_minor": 4
}
