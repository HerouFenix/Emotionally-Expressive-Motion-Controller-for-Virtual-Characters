{
 "cells": [
  {
   "cell_type": "code",
   "execution_count": 892,
   "metadata": {},
   "outputs": [],
   "source": [
    "from tensorflow import keras\n",
    "from keras import layers\n",
    "from keras.datasets import mnist\n",
    "import numpy as np\n",
    "import matplotlib.pyplot as plt\n",
    "from keras import backend as K\n",
    "import pandas as pd\n",
    "from sklearn.utils import shuffle\n",
    "import tensorflow as tf\n",
    "import xgboost as xgb\n",
    "import joblib\n",
    "\n",
    "# Current Best - 13 (0.156)"
   ]
  },
  {
   "cell_type": "markdown",
   "metadata": {},
   "source": [
    "# AutoEncoder"
   ]
  },
  {
   "cell_type": "markdown",
   "metadata": {},
   "source": [
    "## Encoder"
   ]
  },
  {
   "cell_type": "code",
   "execution_count": 893,
   "metadata": {},
   "outputs": [],
   "source": [
    "original_dim = 27\n",
    "intermediate_dim = 13\n",
    "latent_dim = 1\n",
    "\n",
    "inputs = keras.Input(shape=(original_dim,))\n",
    "x = layers.Dense(intermediate_dim, activation='linear')(inputs)\n",
    "#x = layers.Dense(intermediate_dim, activation='linear')(inputs)\n",
    "\n",
    "h = layers.Dense(intermediate_dim, activation='relu')(x)\n",
    "z_mean = layers.Dense(latent_dim)(h)\n",
    "z_log_sigma = layers.Dense(latent_dim)(h)\n"
   ]
  },
  {
   "cell_type": "markdown",
   "metadata": {},
   "source": [
    "### Sampling Layer"
   ]
  },
  {
   "cell_type": "code",
   "execution_count": 894,
   "metadata": {},
   "outputs": [],
   "source": [
    "class Sampling(layers.Layer):\n",
    "    \"\"\"Uses (z_mean, z_log_var) to sample z, the vector encoding a digit.\"\"\"\n",
    "\n",
    "    def call(self, inputs):\n",
    "        z_mean, z_log_sigma = inputs\n",
    "        \n",
    "        batch = tf.shape(z_mean)[0]\n",
    "        \n",
    "        dim = tf.shape(z_mean)[1]\n",
    "        \n",
    "        epsilon = tf.keras.backend.random_normal(shape=(batch, dim))\n",
    "        return z_mean + tf.exp(0.5 * z_log_sigma) * epsilon\n",
    "\n",
    "z = Sampling()([z_mean, z_log_sigma])"
   ]
  },
  {
   "cell_type": "markdown",
   "metadata": {},
   "source": [
    "## Decoder & VAE"
   ]
  },
  {
   "cell_type": "code",
   "execution_count": 895,
   "metadata": {},
   "outputs": [],
   "source": [
    "# Create encoder\n",
    "encoder = keras.Model(inputs, [z_mean, z_log_sigma, z], name='encoder')\n",
    "\n",
    "# Create decoder\n",
    "latent_inputs = keras.Input(shape=(latent_dim,), name='z_sampling')\n",
    "x = layers.Dense(intermediate_dim, activation='relu')(latent_inputs)\n",
    "#x = layers.Dense(intermediate_dim, activation='linear')(x)\n",
    "\n",
    "outputs = layers.Dense(original_dim, activation='linear')(x)\n",
    "decoder = keras.Model(latent_inputs, outputs, name='decoder')\n",
    "\n",
    "# instantiate VAE model\n",
    "outputs = decoder(encoder(inputs)[2])\n",
    "vae = keras.Model(inputs, outputs, name='vae_mlp')"
   ]
  },
  {
   "cell_type": "markdown",
   "metadata": {},
   "source": [
    "## Loss"
   ]
  },
  {
   "cell_type": "code",
   "execution_count": 896,
   "metadata": {},
   "outputs": [],
   "source": [
    "#mse = keras.losses.MeanSquaredError()\n",
    "#reconstruction_loss = mse(inputs, outputs)\n",
    "#reconstruction_loss *= 27\n",
    "reconstruction_loss_factor = 2500\n",
    "reconstruction_loss = tf.keras.backend.mean(tf.keras.backend.square(inputs-outputs))\n",
    "\n",
    "kl_loss = 1 + z_log_sigma - K.square(z_mean) - K.exp(z_log_sigma)\n",
    "kl_loss = K.sum(kl_loss, axis=-1)\n",
    "kl_loss *= -0.5\n",
    "\n",
    "vae_loss = K.mean((reconstruction_loss_factor*reconstruction_loss) + kl_loss)\n",
    "vae.add_loss(vae_loss)"
   ]
  },
  {
   "cell_type": "markdown",
   "metadata": {},
   "source": [
    "## Data"
   ]
  },
  {
   "cell_type": "code",
   "execution_count": 897,
   "metadata": {},
   "outputs": [
    {
     "name": "stdout",
     "output_type": "stream",
     "text": [
      "No Training Samples: 34156\n",
      "No Test Samples: 6028\n",
      "27\n"
     ]
    }
   ],
   "source": [
    "dataset = pd.read_csv('datasets/Fs_B_O_DANCE_WALK_KIN_0.5sec.csv')\n",
    "\n",
    "train_dataset = dataset.sample(frac=0.85, random_state=42)\n",
    "test_dataset = dataset.drop(train_dataset.index)\n",
    "\n",
    "print(\"No Training Samples:\",train_dataset.shape[0])\n",
    "print(\"No Test Samples:\",test_dataset.shape[0])\n",
    "\n",
    "train_dataset = shuffle(train_dataset)\n",
    "test_dataset = shuffle(test_dataset)\n",
    "\n",
    "train_emotions = pd.concat([train_dataset.pop(x) for x in ['EMOTION_P', 'EMOTION_A', 'EMOTION_D']], axis=1)\n",
    "test_emotions = pd.concat([test_dataset.pop(x) for x in ['EMOTION_P', 'EMOTION_A', 'EMOTION_D']], axis=1)\n",
    "\n",
    "\n",
    "train_dataset = np.asarray(train_dataset)\n",
    "test_dataset = np.asarray(test_dataset)\n",
    "\n",
    "x_train = train_dataset.reshape((len(train_dataset), np.prod(train_dataset.shape[1:])))\n",
    "x_test = test_dataset.reshape((len(test_dataset), np.prod(test_dataset.shape[1:])))\n",
    "\n",
    "print(len(x_train[0]))"
   ]
  },
  {
   "cell_type": "markdown",
   "metadata": {},
   "source": [
    "## Train"
   ]
  },
  {
   "cell_type": "code",
   "execution_count": 898,
   "metadata": {},
   "outputs": [],
   "source": [
    "optimizer=keras.optimizers.Adam(learning_rate=0.001)\n",
    "vae.compile(optimizer=optimizer)"
   ]
  },
  {
   "cell_type": "code",
   "execution_count": 899,
   "metadata": {
    "scrolled": false
   },
   "outputs": [
    {
     "name": "stdout",
     "output_type": "stream",
     "text": [
      "Epoch 1/128\n",
      "2135/2135 [==============================] - 3s 1ms/step - loss: 271.8441\n",
      "Epoch 2/128\n",
      "2135/2135 [==============================] - 3s 1ms/step - loss: 214.0921\n",
      "Epoch 3/128\n",
      "2135/2135 [==============================] - 3s 1ms/step - loss: 213.2354\n",
      "Epoch 4/128\n",
      "2135/2135 [==============================] - 3s 1ms/step - loss: 212.8084\n",
      "Epoch 5/128\n",
      "2135/2135 [==============================] - 3s 1ms/step - loss: 212.5349\n",
      "Epoch 6/128\n",
      "2135/2135 [==============================] - 3s 1ms/step - loss: 212.3852\n",
      "Epoch 7/128\n",
      "2135/2135 [==============================] - 3s 1ms/step - loss: 212.2152\n",
      "Epoch 8/128\n",
      "2135/2135 [==============================] - 3s 1ms/step - loss: 212.0739\n",
      "Epoch 9/128\n",
      "2135/2135 [==============================] - 3s 1ms/step - loss: 211.7534\n",
      "Epoch 10/128\n",
      "2135/2135 [==============================] - 3s 1ms/step - loss: 211.5855\n",
      "Epoch 11/128\n",
      "2135/2135 [==============================] - 3s 1ms/step - loss: 211.3724\n",
      "Epoch 12/128\n",
      "2135/2135 [==============================] - 3s 1ms/step - loss: 211.1553\n",
      "Epoch 13/128\n",
      "2135/2135 [==============================] - 3s 1ms/step - loss: 211.0570\n",
      "Epoch 14/128\n",
      "2135/2135 [==============================] - 3s 1ms/step - loss: 210.9271\n",
      "Epoch 15/128\n",
      "2135/2135 [==============================] - 3s 1ms/step - loss: 210.8596\n",
      "Epoch 16/128\n",
      "2135/2135 [==============================] - 3s 1ms/step - loss: 210.6936\n",
      "Epoch 17/128\n",
      "2135/2135 [==============================] - 3s 1ms/step - loss: 210.0926\n",
      "Epoch 18/128\n",
      "2135/2135 [==============================] - 3s 1ms/step - loss: 209.8435\n",
      "Epoch 19/128\n",
      "2135/2135 [==============================] - 3s 1ms/step - loss: 209.6855\n",
      "Epoch 20/128\n",
      "2135/2135 [==============================] - 3s 1ms/step - loss: 209.4724\n",
      "Epoch 21/128\n",
      "2135/2135 [==============================] - 3s 1ms/step - loss: 209.3751\n",
      "Epoch 22/128\n",
      "2135/2135 [==============================] - 3s 1ms/step - loss: 209.3005\n",
      "Epoch 23/128\n",
      "2135/2135 [==============================] - 3s 1ms/step - loss: 209.1997\n",
      "Epoch 24/128\n",
      "2135/2135 [==============================] - 3s 1ms/step - loss: 209.0320\n",
      "Epoch 25/128\n",
      "2135/2135 [==============================] - 3s 1ms/step - loss: 208.9089\n",
      "Epoch 26/128\n",
      "2135/2135 [==============================] - 3s 1ms/step - loss: 208.7127\n",
      "Epoch 27/128\n",
      "2135/2135 [==============================] - 3s 1ms/step - loss: 208.6155\n",
      "Epoch 28/128\n",
      "2135/2135 [==============================] - 3s 1ms/step - loss: 208.3402\n",
      "Epoch 29/128\n",
      "2135/2135 [==============================] - 3s 1ms/step - loss: 208.1935\n",
      "Epoch 30/128\n",
      "2135/2135 [==============================] - 3s 1ms/step - loss: 208.2256\n",
      "Epoch 31/128\n",
      "2135/2135 [==============================] - 3s 1ms/step - loss: 207.9449\n",
      "Epoch 32/128\n",
      "2135/2135 [==============================] - 3s 1ms/step - loss: 207.7802\n",
      "Epoch 33/128\n",
      "2135/2135 [==============================] - 3s 1ms/step - loss: 207.6786\n",
      "Epoch 34/128\n",
      "2135/2135 [==============================] - 3s 1ms/step - loss: 207.5751\n",
      "Epoch 35/128\n",
      "2135/2135 [==============================] - 3s 1ms/step - loss: 207.2402\n",
      "Epoch 36/128\n",
      "2135/2135 [==============================] - 3s 1ms/step - loss: 207.0863\n",
      "Epoch 37/128\n",
      "2135/2135 [==============================] - 3s 1ms/step - loss: 206.8996\n",
      "Epoch 38/128\n",
      "2135/2135 [==============================] - 3s 1ms/step - loss: 206.8691\n",
      "Epoch 39/128\n",
      "2135/2135 [==============================] - 3s 1ms/step - loss: 206.6417\n",
      "Epoch 40/128\n",
      "2135/2135 [==============================] - 3s 1ms/step - loss: 206.3562\n",
      "Epoch 41/128\n",
      "2135/2135 [==============================] - 3s 1ms/step - loss: 206.4780\n",
      "Epoch 42/128\n",
      "2135/2135 [==============================] - 3s 1ms/step - loss: 206.4167\n",
      "Epoch 43/128\n",
      "2135/2135 [==============================] - 3s 1ms/step - loss: 206.0277\n",
      "Epoch 44/128\n",
      "2135/2135 [==============================] - 3s 1ms/step - loss: 205.9167\n",
      "Epoch 45/128\n",
      "2135/2135 [==============================] - 3s 1ms/step - loss: 205.9648\n",
      "Epoch 46/128\n",
      "2135/2135 [==============================] - 3s 1ms/step - loss: 205.6378\n",
      "Epoch 47/128\n",
      "2135/2135 [==============================] - 3s 1ms/step - loss: 205.5075\n",
      "Epoch 48/128\n",
      "2135/2135 [==============================] - 3s 1ms/step - loss: 205.8429\n",
      "Epoch 49/128\n",
      "2135/2135 [==============================] - 3s 1ms/step - loss: 205.2060\n",
      "Epoch 50/128\n",
      "2135/2135 [==============================] - 3s 1ms/step - loss: 205.1042\n",
      "Epoch 51/128\n",
      "2135/2135 [==============================] - 3s 1ms/step - loss: 205.5676\n",
      "Epoch 52/128\n",
      "2135/2135 [==============================] - 3s 1ms/step - loss: 204.8494\n",
      "Epoch 53/128\n",
      "2135/2135 [==============================] - 3s 1ms/step - loss: 204.9440\n",
      "Epoch 54/128\n",
      "2135/2135 [==============================] - 3s 1ms/step - loss: 204.4418\n",
      "Epoch 55/128\n",
      "2135/2135 [==============================] - 3s 1ms/step - loss: 204.1290\n",
      "Epoch 56/128\n",
      "2135/2135 [==============================] - 3s 1ms/step - loss: 204.4854\n",
      "Epoch 57/128\n",
      "2135/2135 [==============================] - 3s 1ms/step - loss: 204.2992\n",
      "Epoch 58/128\n",
      "2135/2135 [==============================] - 3s 1ms/step - loss: 204.8874\n",
      "Epoch 59/128\n",
      "2135/2135 [==============================] - 3s 1ms/step - loss: 204.1136\n",
      "Epoch 60/128\n",
      "2135/2135 [==============================] - 3s 1ms/step - loss: 204.3047\n",
      "Epoch 61/128\n",
      "2135/2135 [==============================] - 3s 1ms/step - loss: 203.8519\n",
      "Epoch 62/128\n",
      "2135/2135 [==============================] - 3s 1ms/step - loss: 204.3456\n",
      "Epoch 63/128\n",
      "2135/2135 [==============================] - 3s 1ms/step - loss: 204.4957\n",
      "Epoch 64/128\n",
      "2135/2135 [==============================] - 3s 1ms/step - loss: 204.0176\n",
      "Epoch 65/128\n",
      "2135/2135 [==============================] - 3s 1ms/step - loss: 203.6267\n",
      "Epoch 66/128\n",
      "2135/2135 [==============================] - 3s 1ms/step - loss: 204.6756\n",
      "Epoch 67/128\n",
      "2135/2135 [==============================] - 3s 1ms/step - loss: 203.8953\n",
      "Epoch 68/128\n",
      "2135/2135 [==============================] - 3s 1ms/step - loss: 204.5963\n",
      "Epoch 69/128\n",
      "2135/2135 [==============================] - 3s 1ms/step - loss: 204.1618\n",
      "Epoch 70/128\n",
      "2135/2135 [==============================] - 3s 1ms/step - loss: 203.1893\n",
      "Epoch 71/128\n",
      "2135/2135 [==============================] - 3s 1ms/step - loss: 204.0988\n",
      "Epoch 72/128\n",
      "2135/2135 [==============================] - 3s 1ms/step - loss: 203.5269\n",
      "Epoch 73/128\n",
      "2135/2135 [==============================] - 3s 1ms/step - loss: 203.2814\n",
      "Epoch 74/128\n",
      "2135/2135 [==============================] - 3s 1ms/step - loss: 203.3791\n",
      "Epoch 75/128\n",
      "2135/2135 [==============================] - 3s 1ms/step - loss: 203.5137\n",
      "Epoch 76/128\n",
      "2135/2135 [==============================] - 3s 1ms/step - loss: 203.9565\n",
      "Epoch 77/128\n",
      "2135/2135 [==============================] - 3s 1ms/step - loss: 203.4530\n",
      "Epoch 78/128\n",
      "2135/2135 [==============================] - 3s 1ms/step - loss: 203.9936\n",
      "Epoch 79/128\n",
      "2135/2135 [==============================] - 3s 1ms/step - loss: 203.4420\n",
      "Epoch 80/128\n",
      "2135/2135 [==============================] - 3s 1ms/step - loss: 204.5773\n",
      "Epoch 81/128\n",
      "2135/2135 [==============================] - 3s 1ms/step - loss: 202.7995\n",
      "Epoch 82/128\n",
      "2135/2135 [==============================] - 3s 1ms/step - loss: 204.6533\n",
      "Epoch 83/128\n",
      "2135/2135 [==============================] - 3s 1ms/step - loss: 202.7252\n",
      "Epoch 84/128\n",
      "2135/2135 [==============================] - 3s 1ms/step - loss: 203.2362\n",
      "Epoch 85/128\n",
      "2135/2135 [==============================] - 3s 1ms/step - loss: 203.6931\n",
      "Epoch 86/128\n",
      "2135/2135 [==============================] - 3s 1ms/step - loss: 203.7422\n",
      "Epoch 87/128\n",
      "2135/2135 [==============================] - 3s 1ms/step - loss: 202.6842\n",
      "Epoch 88/128\n",
      "2135/2135 [==============================] - 3s 1ms/step - loss: 202.6093\n",
      "Epoch 89/128\n",
      "2135/2135 [==============================] - 3s 1ms/step - loss: 202.6105\n",
      "Epoch 90/128\n",
      "2135/2135 [==============================] - 3s 1ms/step - loss: 203.4337\n",
      "Epoch 91/128\n",
      "2135/2135 [==============================] - 3s 1ms/step - loss: 202.9374\n",
      "Epoch 92/128\n",
      "2135/2135 [==============================] - 3s 1ms/step - loss: 203.9218\n",
      "Epoch 93/128\n",
      "2135/2135 [==============================] - 3s 1ms/step - loss: 202.5774\n",
      "Epoch 94/128\n",
      "2135/2135 [==============================] - 3s 1ms/step - loss: 202.8024\n",
      "Epoch 95/128\n"
     ]
    },
    {
     "name": "stdout",
     "output_type": "stream",
     "text": [
      "2135/2135 [==============================] - 3s 1ms/step - loss: 203.2352\n",
      "Epoch 96/128\n",
      "2135/2135 [==============================] - 3s 1ms/step - loss: 203.2910\n",
      "Epoch 97/128\n",
      "2135/2135 [==============================] - 3s 1ms/step - loss: 202.9436\n",
      "Epoch 98/128\n",
      "2135/2135 [==============================] - 3s 1ms/step - loss: 203.7277\n",
      "Epoch 99/128\n",
      "2135/2135 [==============================] - 3s 1ms/step - loss: 202.7189\n",
      "Epoch 100/128\n",
      "2135/2135 [==============================] - 3s 1ms/step - loss: 201.4165\n",
      "Epoch 101/128\n",
      "2135/2135 [==============================] - 3s 1ms/step - loss: 201.5974\n",
      "Epoch 102/128\n",
      "2135/2135 [==============================] - 3s 1ms/step - loss: 201.3571\n",
      "Epoch 103/128\n",
      "2135/2135 [==============================] - 3s 1ms/step - loss: 200.4789\n",
      "Epoch 104/128\n",
      "2135/2135 [==============================] - 3s 1ms/step - loss: 200.5641\n",
      "Epoch 105/128\n",
      "2135/2135 [==============================] - 3s 1ms/step - loss: 200.6606\n",
      "Epoch 106/128\n",
      "2135/2135 [==============================] - 3s 1ms/step - loss: 199.8463\n",
      "Epoch 107/128\n",
      "2135/2135 [==============================] - 3s 1ms/step - loss: 200.9237\n",
      "Epoch 108/128\n",
      "2135/2135 [==============================] - 3s 1ms/step - loss: 202.7160\n",
      "Epoch 109/128\n",
      "2135/2135 [==============================] - 3s 1ms/step - loss: 199.7630\n",
      "Epoch 110/128\n",
      "2135/2135 [==============================] - 3s 1ms/step - loss: 198.0359\n",
      "Epoch 111/128\n",
      "2135/2135 [==============================] - 3s 1ms/step - loss: 198.3108\n",
      "Epoch 112/128\n",
      "2135/2135 [==============================] - 3s 1ms/step - loss: 197.3712\n",
      "Epoch 113/128\n",
      "2135/2135 [==============================] - 3s 1ms/step - loss: 201.0290\n",
      "Epoch 114/128\n",
      "2135/2135 [==============================] - 3s 1ms/step - loss: 200.6562\n",
      "Epoch 115/128\n",
      "2135/2135 [==============================] - 3s 1ms/step - loss: 197.8765\n",
      "Epoch 116/128\n",
      "2135/2135 [==============================] - 3s 1ms/step - loss: 197.6899\n",
      "Epoch 117/128\n",
      "2135/2135 [==============================] - 3s 1ms/step - loss: 196.6442\n",
      "Epoch 118/128\n",
      "2135/2135 [==============================] - 3s 1ms/step - loss: 196.4248\n",
      "Epoch 119/128\n",
      "2135/2135 [==============================] - 3s 1ms/step - loss: 196.0341\n",
      "Epoch 120/128\n",
      "2135/2135 [==============================] - 3s 1ms/step - loss: 196.1852\n",
      "Epoch 121/128\n",
      "2135/2135 [==============================] - 3s 1ms/step - loss: 195.5241\n",
      "Epoch 122/128\n",
      "2135/2135 [==============================] - 3s 1ms/step - loss: 195.9926\n",
      "Epoch 123/128\n",
      "2135/2135 [==============================] - 3s 1ms/step - loss: 197.7403\n",
      "Epoch 124/128\n",
      "2135/2135 [==============================] - 3s 1ms/step - loss: 195.9006\n",
      "Epoch 125/128\n",
      "2135/2135 [==============================] - 3s 1ms/step - loss: 195.1470\n",
      "Epoch 126/128\n",
      "2135/2135 [==============================] - 3s 1ms/step - loss: 194.2840\n",
      "Epoch 127/128\n",
      "2135/2135 [==============================] - 3s 1ms/step - loss: 195.1703\n",
      "Epoch 128/128\n",
      "2135/2135 [==============================] - 3s 1ms/step - loss: 193.6269\n"
     ]
    },
    {
     "data": {
      "text/plain": [
       "<keras.callbacks.History at 0x7f9038082ed0>"
      ]
     },
     "execution_count": 899,
     "metadata": {},
     "output_type": "execute_result"
    }
   ],
   "source": [
    "vae.fit(x_train, x_train,\n",
    "        epochs=128,\n",
    "        batch_size=16,\n",
    "       )"
   ]
  },
  {
   "cell_type": "markdown",
   "metadata": {},
   "source": [
    "## Test"
   ]
  },
  {
   "cell_type": "markdown",
   "metadata": {},
   "source": [
    "### Sample Comparison & Emotion Classification"
   ]
  },
  {
   "cell_type": "code",
   "execution_count": 900,
   "metadata": {},
   "outputs": [
    {
     "name": "stdout",
     "output_type": "stream",
     "text": [
      "[[ 0.4466348   0.14710729  0.3739801   0.25799571  0.39682912  0.4152373\n",
      "   0.26684728  0.3484388   0.286151    0.27755528  0.0101821   0.06165774\n",
      "  -0.12004568  0.98675356  0.22833495  0.12259644  0.08724231  0.1242854\n",
      "   0.86252416  0.45885172  0.28940966  0.27274926  0.44517976  2.21142586\n",
      "   1.66203023  0.66801273  0.2265753 ]]\n"
     ]
    }
   ],
   "source": [
    "sample = np.asarray(x_test[0])\n",
    "sample = sample.reshape(1,-1)\n",
    "print(sample)"
   ]
  },
  {
   "cell_type": "code",
   "execution_count": 901,
   "metadata": {},
   "outputs": [
    {
     "name": "stdout",
     "output_type": "stream",
     "text": [
      "[[0.5033684]]\n"
     ]
    }
   ],
   "source": [
    "mean, var, generated = encoder.predict(sample)\n",
    "print(generated)"
   ]
  },
  {
   "cell_type": "code",
   "execution_count": 902,
   "metadata": {},
   "outputs": [
    {
     "name": "stdout",
     "output_type": "stream",
     "text": [
      "[[ 5.5484861e-01  3.5084468e-01  3.6406499e-01  3.7590203e-01\n",
      "   4.1386586e-01  4.2803577e-01  3.3263391e-01  3.5062253e-01\n",
      "   2.8623506e-01  2.7862325e-01  6.7920238e-04 -9.2407927e-02\n",
      "  -8.8538274e-02  9.5004171e-01  3.1129864e-01  1.2893844e-01\n",
      "   1.4315701e-01  4.7333556e-01  4.8753867e-01  3.0825317e-01\n",
      "   3.1995279e-01  3.4611589e-01  1.2733268e+00  1.2840443e+00\n",
      "   7.9430330e-01  8.1321383e-01  7.9671419e-01]]\n"
     ]
    }
   ],
   "source": [
    "regen = decoder.predict(generated)\n",
    "print(regen)"
   ]
  },
  {
   "cell_type": "code",
   "execution_count": 903,
   "metadata": {},
   "outputs": [],
   "source": [
    "model_p = xgb.XGBRegressor(verbosity=0)\n",
    "model_p.load_model(\"../../emotion_classifier/model_training/models/l2p_dance_model.json\")\n",
    "\n",
    "model_a = xgb.XGBRegressor(verbosity=0)\n",
    "model_a.load_model(\"../../emotion_classifier/model_training/models/l2a_dance_model.json\")\n",
    "\n",
    "model_d = xgb.XGBRegressor(verbosity=0)\n",
    "model_d.load_model(\"../../emotion_classifier/model_training/models/l2d_dance_model.json\")\n",
    "\n",
    "scaler = joblib.load('../../emotion_classifier/model_training/datasets/scalers/standardizers/Fs_B_S_DANCE_WALK_KIN_0.5sec.pkl') "
   ]
  },
  {
   "cell_type": "code",
   "execution_count": 904,
   "metadata": {
    "scrolled": true
   },
   "outputs": [
    {
     "name": "stdout",
     "output_type": "stream",
     "text": [
      "Real: [[-0.22140872]\n",
      " [-0.21172825]\n",
      " [-0.24292253]]\n",
      "Predicted: [[ 0.01884224]\n",
      " [-0.21144058]\n",
      " [ 0.17568679]]\n"
     ]
    },
    {
     "name": "stderr",
     "output_type": "stream",
     "text": [
      "/home/diogosilva/.local/lib/python3.7/site-packages/sklearn/base.py:451: UserWarning: X does not have valid feature names, but StandardScaler was fitted with feature names\n",
      "  \"X does not have valid feature names, but\"\n",
      "/home/diogosilva/.local/lib/python3.7/site-packages/sklearn/base.py:451: UserWarning: X does not have valid feature names, but StandardScaler was fitted with feature names\n",
      "  \"X does not have valid feature names, but\"\n"
     ]
    }
   ],
   "source": [
    "scaled_sample = scaler.transform(sample)\n",
    "\n",
    "real_coordinates = (\n",
    "    model_p.predict(scaled_sample),\n",
    "    model_a.predict(scaled_sample),\n",
    "    model_d.predict(scaled_sample)\n",
    ")\n",
    "\n",
    "scaled_regen = scaler.transform(regen)\n",
    "\n",
    "generated_coordinates = (\n",
    "    model_p.predict(scaled_regen),\n",
    "    model_a.predict(scaled_regen),\n",
    "    model_d.predict(scaled_regen)\n",
    ")\n",
    "\n",
    "\n",
    "print('Real: %s' % np.asarray(real_coordinates))\n",
    "print('Predicted: %s' % np.asarray(generated_coordinates))"
   ]
  },
  {
   "cell_type": "markdown",
   "metadata": {},
   "source": [
    "### MAE & MSE"
   ]
  },
  {
   "cell_type": "code",
   "execution_count": 905,
   "metadata": {},
   "outputs": [],
   "source": [
    "from sklearn.metrics import mean_absolute_error\n",
    "from sklearn.metrics import mean_squared_error"
   ]
  },
  {
   "cell_type": "code",
   "execution_count": 906,
   "metadata": {},
   "outputs": [
    {
     "name": "stdout",
     "output_type": "stream",
     "text": [
      "[[0.55787915 0.35199797 0.36516345 ... 0.809126   0.82829225 0.812191  ]\n",
      " [0.5661112  0.35513067 0.3681472  ... 0.8493901  0.8692511  0.85423195]\n",
      " [0.5012837  0.33046055 0.3446502  ... 0.53231066 0.54670066 0.5231598 ]\n",
      " ...\n",
      " [0.4742248  0.3201633  0.3348426  ... 0.3999623  0.41206875 0.38497084]\n",
      " [0.89977664 0.46078876 0.47904128 ... 1.7156973  1.8581711  1.5840826 ]\n",
      " [0.6486139  0.36632133 0.37001365 ... 2.332574   2.525494   1.6856515 ]]\n"
     ]
    }
   ],
   "source": [
    "mean, var, generated = encoder.predict(x_test)\n",
    "regen = decoder.predict(generated)\n",
    "\n",
    "print(regen)"
   ]
  },
  {
   "cell_type": "code",
   "execution_count": 907,
   "metadata": {
    "scrolled": false
   },
   "outputs": [
    {
     "name": "stdout",
     "output_type": "stream",
     "text": [
      "Overall MAE: 0.15501373445649122\n",
      "\n",
      "==max_hand_distance==\n",
      "MSE: 0.05516\n",
      "MAE: 0.18323\n",
      "Example [Regen-Real]: 0.55787915 - 0.446634799880184\n",
      "\n",
      "==avg_l_hand_hip_distance==\n",
      "MSE: 0.01851\n",
      "MAE: 0.10729\n",
      "Example [Regen-Real]: 0.35513067 - 0.441235588949159\n",
      "\n",
      "==avg_r_hand_hip_distance==\n",
      "MSE: 0.02302\n",
      "MAE: 0.12063\n",
      "Example [Regen-Real]: 0.3446502 - 0.3975119209907523\n",
      "\n",
      "==max_stride_length==\n",
      "MSE: 0.01941\n",
      "MAE: 0.10759\n",
      "Example [Regen-Real]: 0.40246898 - 0.695378154366109\n",
      "\n",
      "==avg_l_hand_chest_distance==\n",
      "MSE: 0.01120\n",
      "MAE: 0.08009\n",
      "Example [Regen-Real]: 0.49335253 - 0.6968724931504217\n",
      "\n",
      "==avg_r_hand_chest_distance==\n",
      "MSE: 0.01132\n",
      "MAE: 0.07951\n",
      "Example [Regen-Real]: 0.41673237 - 0.3997284225140244\n",
      "\n",
      "==avg_l_elbow_hip_distance==\n",
      "MSE: 0.00510\n",
      "MAE: 0.05250\n",
      "Example [Regen-Real]: 0.3657751 - 0.3816283799440004\n",
      "\n",
      "==avg_r_elbow_hip_distance==\n",
      "MSE: 0.00556\n",
      "MAE: 0.05462\n",
      "Example [Regen-Real]: 0.34057185 - 0.3553271114075399\n",
      "\n",
      "==avg_chest_pelvis_distance==\n",
      "MSE: 0.00000\n",
      "MAE: 0.00014\n",
      "Example [Regen-Real]: 0.28622597 - 0.2861509999848701\n",
      "\n",
      "==avg_neck_chest_distance==\n",
      "MSE: 0.00001\n",
      "MAE: 0.00128\n",
      "Example [Regen-Real]: 0.27914125 - 0.2788229951678935\n",
      "\n",
      "==avg_neck_rotation_w==\n",
      "MSE: 0.00724\n",
      "MAE: 0.05827\n",
      "Example [Regen-Real]: 0.0056010038 - -0.0863466267736531\n",
      "\n",
      "==avg_neck_rotation_x==\n",
      "MSE: 0.06061\n",
      "MAE: 0.16556\n",
      "Example [Regen-Real]: -0.08452852 - -0.1316422282436054\n",
      "\n",
      "==avg_neck_rotation_y==\n",
      "MSE: 0.01370\n",
      "MAE: 0.08490\n",
      "Example [Regen-Real]: -0.07930437 - -0.0613416124439724\n",
      "\n",
      "==avg_neck_rotation_z==\n",
      "MSE: 0.00958\n",
      "MAE: 0.05931\n",
      "Example [Regen-Real]: 0.96456754 - 0.9550855520147842\n",
      "\n",
      "==avg_total_body_volume==\n",
      "MSE: 0.02145\n",
      "MAE: 0.11427\n",
      "Example [Regen-Real]: 0.28859165 - 0.3272769454687724\n",
      "\n",
      "==avg_triangle_area_hands_neck==\n",
      "MSE: 0.00376\n",
      "MAE: 0.05111\n",
      "Example [Regen-Real]: 0.122328624 - 0.0520761213277172\n",
      "\n",
      "==avg_triangle_area_feet_hips==\n",
      "MSE: 0.00297\n",
      "MAE: 0.04329\n",
      "Example [Regen-Real]: 0.17923278 - 0.1150062036716722\n",
      "\n",
      "==l_hand_speed==\n",
      "MSE: 0.08868\n",
      "MAE: 0.22091\n",
      "Example [Regen-Real]: 0.17199092 - 0.3263444368699349\n",
      "\n",
      "==r_hand_speed==\n",
      "MSE: 0.09198\n",
      "MAE: 0.22373\n",
      "Example [Regen-Real]: 0.40362757 - 0.3996089525558095\n",
      "\n",
      "==l_foot_speed==\n",
      "MSE: 0.06834\n",
      "MAE: 0.18329\n",
      "Example [Regen-Real]: 0.02022779 - 2.0950225325349327e-10\n",
      "\n",
      "==r_foot_speed==\n",
      "MSE: 0.07093\n",
      "MAE: 0.18661\n",
      "Example [Regen-Real]: 0.3492525 - 0.4626712157916832\n",
      "\n",
      "==neck_speed==\n",
      "MSE: 0.05558\n",
      "MAE: 0.17386\n",
      "Example [Regen-Real]: 0.37696552 - 0.5152079822246265\n",
      "\n",
      "==l_hand_acceleration_magnitude==\n",
      "MSE: 0.32121\n",
      "MAE: 0.39649\n",
      "Example [Regen-Real]: 0.49969992 - 0.67578443143776\n",
      "\n",
      "==r_hand_acceleration_magnitude==\n",
      "MSE: 0.30169\n",
      "MAE: 0.37603\n",
      "Example [Regen-Real]: 3.3642447 - 1.7680120224498443\n",
      "\n",
      "==l_foot_acceleration_magnitude==\n",
      "MSE: 0.24936\n",
      "MAE: 0.34900\n",
      "Example [Regen-Real]: 1.8783166 - 0.8765659192969575\n",
      "\n",
      "==r_foot_acceleration_magnitude==\n",
      "MSE: 0.27083\n",
      "MAE: 0.35711\n",
      "Example [Regen-Real]: 0.85675037 - 0.6098068327140677\n",
      "\n",
      "==neck_acceleration_magnitude==\n",
      "MSE: 0.23815\n",
      "MAE: 0.35477\n",
      "Example [Regen-Real]: 0.5510481 - 0.2241532033762578\n",
      "\n"
     ]
    }
   ],
   "source": [
    "mae_errors = mean_absolute_error(x_test, regen, multioutput='raw_values')\n",
    "mse_errors = mean_squared_error(x_test, regen, multioutput='raw_values')\n",
    "\n",
    "features = [\"max_hand_distance\",\n",
    "          \"avg_l_hand_hip_distance\",\n",
    "          \"avg_r_hand_hip_distance\",\n",
    "          \"max_stride_length\",\n",
    "          \"avg_l_hand_chest_distance\",\n",
    "          \"avg_r_hand_chest_distance\",\n",
    "          \"avg_l_elbow_hip_distance\",\n",
    "          \"avg_r_elbow_hip_distance\",\n",
    "          \"avg_chest_pelvis_distance\",\n",
    "          \"avg_neck_chest_distance\",\n",
    "          \"avg_neck_rotation_w\", \"avg_neck_rotation_x\", \"avg_neck_rotation_y\", \"avg_neck_rotation_z\",\n",
    "          \"avg_total_body_volume\",\n",
    "          \"avg_triangle_area_hands_neck\",\n",
    "          \"avg_triangle_area_feet_hips\",\n",
    "          \n",
    "          \"l_hand_speed\",\n",
    "          \"r_hand_speed\",\n",
    "          \"l_foot_speed\",\n",
    "          \"r_foot_speed\",\n",
    "          \"neck_speed\",\n",
    "          \n",
    "          \"l_hand_acceleration_magnitude\",\n",
    "          \"r_hand_acceleration_magnitude\",\n",
    "          \"l_foot_acceleration_magnitude\",\n",
    "          \"r_foot_acceleration_magnitude\",\n",
    "          \"neck_acceleration_magnitude\",\n",
    "         ]\n",
    "\n",
    "print(\"Overall MAE: \" + str(mean_absolute_error(x_test, regen)))\n",
    "\n",
    "print()\n",
    "for i in range(len(errors)):\n",
    "    print(\"==\" + features[i] + \"==\")\n",
    "    print(\"MSE: %.5f\" % mse_errors[i])\n",
    "    print(\"MAE: %.5f\" % mae_errors[i])\n",
    "    print(\"Example [Regen-Real]: \" + str(regen[i][i]) + \" - \" + str(x_test[i][i]))\n",
    "    print()"
   ]
  },
  {
   "cell_type": "markdown",
   "metadata": {},
   "source": [
    "\n"
   ]
  },
  {
   "cell_type": "markdown",
   "metadata": {},
   "source": [
    "\n"
   ]
  },
  {
   "cell_type": "markdown",
   "metadata": {},
   "source": [
    "\n"
   ]
  },
  {
   "cell_type": "markdown",
   "metadata": {},
   "source": [
    "\n"
   ]
  },
  {
   "cell_type": "markdown",
   "metadata": {},
   "source": [
    "\n"
   ]
  },
  {
   "cell_type": "markdown",
   "metadata": {},
   "source": [
    "# PAD to Latent Space"
   ]
  },
  {
   "cell_type": "code",
   "execution_count": 938,
   "metadata": {},
   "outputs": [],
   "source": [
    "import matplotlib.pyplot as plt\n",
    "import numpy as np\n",
    "import pandas as pd\n",
    "import seaborn as sns\n",
    "import matplotlib.lines as mlines\n",
    "\n",
    "import tensorflow as tf\n",
    "\n",
    "import sklearn\n",
    "from sklearn.model_selection import cross_val_score, KFold, StratifiedKFold\n",
    "\n",
    "import xgboost as xgb\n",
    "\n",
    "xgb.set_config(verbosity=0)\n",
    "\n",
    "from sklearn.metrics import mean_squared_error, mean_absolute_error\n",
    "from sklearn.preprocessing import normalize\n",
    "\n",
    "from sklearn.utils import shuffle\n",
    "import math\n",
    "import joblib\n",
    "\n",
    "from datetime import datetime\n",
    "from sklearn.model_selection import GridSearchCV\n",
    "from sklearn.model_selection import RandomizedSearchCV\n",
    "import time\n"
   ]
  },
  {
   "cell_type": "markdown",
   "metadata": {},
   "source": [
    "## Create Dataset"
   ]
  },
  {
   "cell_type": "code",
   "execution_count": 917,
   "metadata": {},
   "outputs": [
    {
     "data": {
      "text/html": [
       "<div>\n",
       "<style scoped>\n",
       "    .dataframe tbody tr th:only-of-type {\n",
       "        vertical-align: middle;\n",
       "    }\n",
       "\n",
       "    .dataframe tbody tr th {\n",
       "        vertical-align: top;\n",
       "    }\n",
       "\n",
       "    .dataframe thead th {\n",
       "        text-align: right;\n",
       "    }\n",
       "</style>\n",
       "<table border=\"1\" class=\"dataframe\">\n",
       "  <thead>\n",
       "    <tr style=\"text-align: right;\">\n",
       "      <th></th>\n",
       "      <th>EMOTION_P</th>\n",
       "      <th>EMOTION_A</th>\n",
       "      <th>EMOTION_D</th>\n",
       "    </tr>\n",
       "  </thead>\n",
       "  <tbody>\n",
       "    <tr>\n",
       "      <th>8678</th>\n",
       "      <td>0.50</td>\n",
       "      <td>0.7</td>\n",
       "      <td>0.4</td>\n",
       "    </tr>\n",
       "    <tr>\n",
       "      <th>29008</th>\n",
       "      <td>0.60</td>\n",
       "      <td>0.5</td>\n",
       "      <td>0.2</td>\n",
       "    </tr>\n",
       "    <tr>\n",
       "      <th>3261</th>\n",
       "      <td>0.70</td>\n",
       "      <td>0.2</td>\n",
       "      <td>0.2</td>\n",
       "    </tr>\n",
       "    <tr>\n",
       "      <th>926</th>\n",
       "      <td>0.60</td>\n",
       "      <td>0.5</td>\n",
       "      <td>0.2</td>\n",
       "    </tr>\n",
       "    <tr>\n",
       "      <th>31804</th>\n",
       "      <td>0.60</td>\n",
       "      <td>0.5</td>\n",
       "      <td>0.2</td>\n",
       "    </tr>\n",
       "    <tr>\n",
       "      <th>...</th>\n",
       "      <td>...</td>\n",
       "      <td>...</td>\n",
       "      <td>...</td>\n",
       "    </tr>\n",
       "    <tr>\n",
       "      <th>1901</th>\n",
       "      <td>-0.50</td>\n",
       "      <td>0.6</td>\n",
       "      <td>0.9</td>\n",
       "    </tr>\n",
       "    <tr>\n",
       "      <th>21963</th>\n",
       "      <td>0.70</td>\n",
       "      <td>0.2</td>\n",
       "      <td>0.2</td>\n",
       "    </tr>\n",
       "    <tr>\n",
       "      <th>12966</th>\n",
       "      <td>-0.60</td>\n",
       "      <td>-0.3</td>\n",
       "      <td>-0.3</td>\n",
       "    </tr>\n",
       "    <tr>\n",
       "      <th>6060</th>\n",
       "      <td>-0.50</td>\n",
       "      <td>0.6</td>\n",
       "      <td>0.9</td>\n",
       "    </tr>\n",
       "    <tr>\n",
       "      <th>1735</th>\n",
       "      <td>-0.35</td>\n",
       "      <td>0.7</td>\n",
       "      <td>-0.8</td>\n",
       "    </tr>\n",
       "  </tbody>\n",
       "</table>\n",
       "<p>34156 rows × 3 columns</p>\n",
       "</div>"
      ],
      "text/plain": [
       "       EMOTION_P  EMOTION_A  EMOTION_D\n",
       "8678        0.50        0.7        0.4\n",
       "29008       0.60        0.5        0.2\n",
       "3261        0.70        0.2        0.2\n",
       "926         0.60        0.5        0.2\n",
       "31804       0.60        0.5        0.2\n",
       "...          ...        ...        ...\n",
       "1901       -0.50        0.6        0.9\n",
       "21963       0.70        0.2        0.2\n",
       "12966      -0.60       -0.3       -0.3\n",
       "6060       -0.50        0.6        0.9\n",
       "1735       -0.35        0.7       -0.8\n",
       "\n",
       "[34156 rows x 3 columns]"
      ]
     },
     "execution_count": 917,
     "metadata": {},
     "output_type": "execute_result"
    }
   ],
   "source": [
    "reg_train_X = train_emotions\n",
    "reg_test_X = test_emotions\n",
    "\n",
    "reg_train_X"
   ]
  },
  {
   "cell_type": "code",
   "execution_count": 918,
   "metadata": {},
   "outputs": [
    {
     "data": {
      "text/html": [
       "<div>\n",
       "<style scoped>\n",
       "    .dataframe tbody tr th:only-of-type {\n",
       "        vertical-align: middle;\n",
       "    }\n",
       "\n",
       "    .dataframe tbody tr th {\n",
       "        vertical-align: top;\n",
       "    }\n",
       "\n",
       "    .dataframe thead th {\n",
       "        text-align: right;\n",
       "    }\n",
       "</style>\n",
       "<table border=\"1\" class=\"dataframe\">\n",
       "  <thead>\n",
       "    <tr style=\"text-align: right;\">\n",
       "      <th></th>\n",
       "      <th>EMOTION_P</th>\n",
       "      <th>EMOTION_A</th>\n",
       "      <th>EMOTION_D</th>\n",
       "    </tr>\n",
       "  </thead>\n",
       "  <tbody>\n",
       "    <tr>\n",
       "      <th>9200</th>\n",
       "      <td>0.10</td>\n",
       "      <td>-0.70</td>\n",
       "      <td>-0.2</td>\n",
       "    </tr>\n",
       "    <tr>\n",
       "      <th>19118</th>\n",
       "      <td>-0.35</td>\n",
       "      <td>0.70</td>\n",
       "      <td>-0.8</td>\n",
       "    </tr>\n",
       "    <tr>\n",
       "      <th>35367</th>\n",
       "      <td>-0.40</td>\n",
       "      <td>0.25</td>\n",
       "      <td>-0.1</td>\n",
       "    </tr>\n",
       "    <tr>\n",
       "      <th>30508</th>\n",
       "      <td>-0.50</td>\n",
       "      <td>0.60</td>\n",
       "      <td>0.9</td>\n",
       "    </tr>\n",
       "    <tr>\n",
       "      <th>15792</th>\n",
       "      <td>0.10</td>\n",
       "      <td>-0.70</td>\n",
       "      <td>-0.2</td>\n",
       "    </tr>\n",
       "    <tr>\n",
       "      <th>...</th>\n",
       "      <td>...</td>\n",
       "      <td>...</td>\n",
       "      <td>...</td>\n",
       "    </tr>\n",
       "    <tr>\n",
       "      <th>21904</th>\n",
       "      <td>0.70</td>\n",
       "      <td>0.20</td>\n",
       "      <td>0.2</td>\n",
       "    </tr>\n",
       "    <tr>\n",
       "      <th>20308</th>\n",
       "      <td>-0.35</td>\n",
       "      <td>0.70</td>\n",
       "      <td>-0.8</td>\n",
       "    </tr>\n",
       "    <tr>\n",
       "      <th>19799</th>\n",
       "      <td>-0.85</td>\n",
       "      <td>-0.10</td>\n",
       "      <td>-0.8</td>\n",
       "    </tr>\n",
       "    <tr>\n",
       "      <th>19584</th>\n",
       "      <td>0.60</td>\n",
       "      <td>-0.55</td>\n",
       "      <td>0.1</td>\n",
       "    </tr>\n",
       "    <tr>\n",
       "      <th>38251</th>\n",
       "      <td>0.60</td>\n",
       "      <td>0.50</td>\n",
       "      <td>0.2</td>\n",
       "    </tr>\n",
       "  </tbody>\n",
       "</table>\n",
       "<p>6028 rows × 3 columns</p>\n",
       "</div>"
      ],
      "text/plain": [
       "       EMOTION_P  EMOTION_A  EMOTION_D\n",
       "9200        0.10      -0.70       -0.2\n",
       "19118      -0.35       0.70       -0.8\n",
       "35367      -0.40       0.25       -0.1\n",
       "30508      -0.50       0.60        0.9\n",
       "15792       0.10      -0.70       -0.2\n",
       "...          ...        ...        ...\n",
       "21904       0.70       0.20        0.2\n",
       "20308      -0.35       0.70       -0.8\n",
       "19799      -0.85      -0.10       -0.8\n",
       "19584       0.60      -0.55        0.1\n",
       "38251       0.60       0.50        0.2\n",
       "\n",
       "[6028 rows x 3 columns]"
      ]
     },
     "execution_count": 918,
     "metadata": {},
     "output_type": "execute_result"
    }
   ],
   "source": [
    "reg_test_X"
   ]
  },
  {
   "cell_type": "code",
   "execution_count": 919,
   "metadata": {},
   "outputs": [
    {
     "name": "stdout",
     "output_type": "stream",
     "text": [
      "34156\n",
      "6028\n"
     ]
    }
   ],
   "source": [
    "mean, var, generated = encoder.predict(x_train)\n",
    "reg_train_Y = generated\n",
    "\n",
    "mean, var, generated = encoder.predict(x_test)\n",
    "reg_test_Y = generated\n",
    "\n",
    "print(len(reg_train_Y))\n",
    "print(len(reg_test_Y))"
   ]
  },
  {
   "cell_type": "markdown",
   "metadata": {},
   "source": [
    "## Train Regressor"
   ]
  },
  {
   "cell_type": "code",
   "execution_count": 920,
   "metadata": {},
   "outputs": [],
   "source": [
    "model = xgb.XGBRegressor(\n",
    "                    n_estimators=1500, learning_rate=0.05, max_depth=10, min_child_weight=5, \n",
    "                    reg_alpha=0.1, reg_lambda=1, gamma=0.0,\n",
    "                    subsample=0.75, colsample_bytree=0.75, objective=\"reg:squarederror\",\n",
    "                    tree_method='gpu_hist'\n",
    "                )"
   ]
  },
  {
   "cell_type": "code",
   "execution_count": 921,
   "metadata": {},
   "outputs": [
    {
     "data": {
      "text/plain": [
       "XGBRegressor(base_score=0.5, booster='gbtree', colsample_bylevel=1,\n",
       "             colsample_bynode=1, colsample_bytree=0.75,\n",
       "             enable_categorical=False, gamma=0.0, gpu_id=0,\n",
       "             importance_type=None, interaction_constraints='',\n",
       "             learning_rate=0.05, max_delta_step=0, max_depth=10,\n",
       "             min_child_weight=5, missing=nan, monotone_constraints='()',\n",
       "             n_estimators=1500, n_jobs=12, num_parallel_tree=1,\n",
       "             predictor='auto', random_state=0, reg_alpha=0.1, reg_lambda=1,\n",
       "             scale_pos_weight=1, subsample=0.75, tree_method='gpu_hist',\n",
       "             validate_parameters=1, verbosity=None)"
      ]
     },
     "execution_count": 921,
     "metadata": {},
     "output_type": "execute_result"
    }
   ],
   "source": [
    "model.fit(reg_train_X, reg_train_Y)"
   ]
  },
  {
   "cell_type": "markdown",
   "metadata": {},
   "source": [
    "## Test Model"
   ]
  },
  {
   "cell_type": "code",
   "execution_count": 922,
   "metadata": {},
   "outputs": [
    {
     "name": "stdout",
     "output_type": "stream",
     "text": [
      "Training score:  0.17879544902442368\n"
     ]
    }
   ],
   "source": [
    "score = model.score(reg_train_X, reg_train_Y)\n",
    "print(\"Training score: \", score)"
   ]
  },
  {
   "cell_type": "code",
   "execution_count": 923,
   "metadata": {},
   "outputs": [
    {
     "name": "stdout",
     "output_type": "stream",
     "text": [
      "MSE: 0.98\n",
      "MAE: 0.78\n"
     ]
    }
   ],
   "source": [
    "pred_y = model.predict(reg_test_X)\n",
    "mse = mean_squared_error(reg_test_Y, pred_y)\n",
    "mae = mean_absolute_error(reg_test_Y, pred_y)\n",
    "\n",
    "print(\"MSE: %.2f\" % mse)\n",
    "print(\"MAE: %.2f\" % mae)"
   ]
  },
  {
   "cell_type": "code",
   "execution_count": 934,
   "metadata": {},
   "outputs": [
    {
     "name": "stdout",
     "output_type": "stream",
     "text": [
      "Real: [0.07238135]\n",
      "Predicted: [0.39500234]\n"
     ]
    }
   ],
   "source": [
    "index = 20\n",
    "\n",
    "real_value = np.asarray([reg_test_Y[index]])\n",
    "\n",
    "row=reg_test_X.iloc[index]\n",
    "row = np.asarray([row])\n",
    "\n",
    "predicted = model.predict(row)\n",
    "\n",
    "print('Real: %s' % real_value[0])\n",
    "print('Predicted: %s' % predicted)"
   ]
  },
  {
   "cell_type": "markdown",
   "metadata": {},
   "source": [
    "## RandomSearchCV"
   ]
  },
  {
   "cell_type": "code",
   "execution_count": 939,
   "metadata": {},
   "outputs": [],
   "source": [
    "# A parameter grid for XGBoost\n",
    "# https://www.analyticsvidhya.com/blog/2016/03/complete-guide-parameter-tuning-xgboost-with-codes-python/\n",
    "params = {\n",
    "        'eta': [0.01, 0.05, 0.1],\n",
    "        'min_child_weight': [1, 5, 11, 21],\n",
    "        'max_depth': [3, 6, 10, 15],\n",
    "        'gamma': [0, 0.001, 0.01],\n",
    "        'subsample': [0.75, 1],\n",
    "        'colsample_bytree': [0.75, 1],\n",
    "        'lambda': [1, 1.25],\n",
    "        'alpha': [0.0, 0.25]\n",
    "        }\n",
    "\n",
    "n_iter = 300"
   ]
  },
  {
   "cell_type": "code",
   "execution_count": 940,
   "metadata": {},
   "outputs": [],
   "source": [
    "model = xgb.XGBRegressor(\n",
    "                    n_estimators=1500,\n",
    "                    objective=\"reg:squarederror\",\n",
    "                    tree_method='gpu_hist'\n",
    "                )\n"
   ]
  },
  {
   "cell_type": "code",
   "execution_count": 941,
   "metadata": {},
   "outputs": [
    {
     "name": "stdout",
     "output_type": "stream",
     "text": [
      "GridSearchCV took 2863.87 seconds parameter settings.\n"
     ]
    }
   ],
   "source": [
    "# Pleasure\n",
    "# run randomized search\n",
    "kfold = KFold(n_splits=5, shuffle=True)\n",
    "\n",
    "random_search = RandomizedSearchCV(model, param_distributions=params,\n",
    "                               cv=kfold, scoring='neg_mean_squared_error', n_iter = n_iter)\n",
    "\n",
    "start = time.time()\n",
    "random_search.fit(reg_train_X, reg_train_Y)\n",
    "\n",
    "\n",
    "print(\"GridSearchCV took %.2f seconds\"\n",
    "      \" parameter settings.\" % ((time.time() - start)))"
   ]
  },
  {
   "cell_type": "markdown",
   "metadata": {},
   "source": [
    "### Results"
   ]
  },
  {
   "cell_type": "code",
   "execution_count": 942,
   "metadata": {},
   "outputs": [
    {
     "name": "stdout",
     "output_type": "stream",
     "text": [
      "{'objective': 'reg:squarederror', 'base_score': 0.5, 'booster': 'gbtree', 'colsample_bylevel': 1, 'colsample_bynode': 1, 'colsample_bytree': 1, 'enable_categorical': False, 'gamma': 0.001, 'gpu_id': 0, 'importance_type': None, 'interaction_constraints': '', 'learning_rate': 0.00999999978, 'max_delta_step': 0, 'max_depth': 3, 'min_child_weight': 5, 'missing': nan, 'monotone_constraints': '()', 'n_estimators': 1500, 'n_jobs': 12, 'num_parallel_tree': 1, 'predictor': 'auto', 'random_state': 0, 'reg_alpha': 0.25, 'reg_lambda': 1, 'scale_pos_weight': 1, 'subsample': 0.75, 'tree_method': 'gpu_hist', 'validate_parameters': 1, 'verbosity': None, 'lambda': 1, 'eta': 0.01, 'alpha': 0.25}\n"
     ]
    }
   ],
   "source": [
    "best_regressor = random_search.best_estimator_\n",
    "\n",
    "print(best_regressor.get_params())"
   ]
  },
  {
   "cell_type": "code",
   "execution_count": 943,
   "metadata": {},
   "outputs": [
    {
     "name": "stdout",
     "output_type": "stream",
     "text": [
      "MSE: 0.98\n",
      "MAE: 0.78\n"
     ]
    }
   ],
   "source": [
    "pred_y = best_regressor.predict(reg_test_X)\n",
    "mse = mean_squared_error(reg_test_Y, pred_y)\n",
    "mae = mean_absolute_error(reg_test_Y, pred_y)\n",
    "\n",
    "print(\"MSE: %.2f\" % mse)\n",
    "print(\"MAE: %.2f\" % mae)"
   ]
  },
  {
   "cell_type": "code",
   "execution_count": null,
   "metadata": {},
   "outputs": [],
   "source": []
  }
 ],
 "metadata": {
  "kernelspec": {
   "display_name": "Python 3",
   "language": "python",
   "name": "python3"
  },
  "language_info": {
   "codemirror_mode": {
    "name": "ipython",
    "version": 3
   },
   "file_extension": ".py",
   "mimetype": "text/x-python",
   "name": "python",
   "nbconvert_exporter": "python",
   "pygments_lexer": "ipython3",
   "version": "3.7.5"
  }
 },
 "nbformat": 4,
 "nbformat_minor": 4
}
