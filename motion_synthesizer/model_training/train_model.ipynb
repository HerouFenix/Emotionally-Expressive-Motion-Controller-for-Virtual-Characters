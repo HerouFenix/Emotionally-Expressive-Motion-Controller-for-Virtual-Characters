{
 "cells": [
  {
   "cell_type": "markdown",
   "metadata": {},
   "source": [
    "# XGBRegression (P,A,D coordinates to LMA Features)"
   ]
  },
  {
   "cell_type": "code",
   "execution_count": 3,
   "metadata": {},
   "outputs": [
    {
     "data": {
      "text/plain": [
       "'\\n\\n                \\n'"
      ]
     },
     "execution_count": 3,
     "metadata": {},
     "output_type": "execute_result"
    }
   ],
   "source": [
    "# Current best:\n",
    "#datasets/pad/Fs_B_S_DANCE_WALK_0.5sec.csv\n",
    "\"\"\"\n",
    "NOTE TO SELF: DON'T FREAKING USE THE STANDARDIZED/NORMALIZED DATASETS HERE, THEY WON'T WORK. YOU'RE STANDARDIZING THE OUTPUT DUMB DUMB!\n",
    "                \n",
    "\"\"\""
   ]
  },
  {
   "cell_type": "markdown",
   "metadata": {},
   "source": [
    "## Imports"
   ]
  },
  {
   "cell_type": "code",
   "execution_count": 21,
   "metadata": {},
   "outputs": [],
   "source": [
    "import matplotlib.pyplot as plt\n",
    "import numpy as np\n",
    "import pandas as pd\n",
    "import seaborn as sns\n",
    "import matplotlib.lines as mlines\n",
    "\n",
    "import tensorflow as tf\n",
    "\n",
    "import sklearn\n",
    "from sklearn.model_selection import cross_val_score, KFold, StratifiedKFold\n",
    "\n",
    "import xgboost as xgb\n",
    "\n",
    "xgb.set_config(verbosity=0)\n",
    "\n",
    "from sklearn.metrics import mean_squared_error, mean_absolute_error\n",
    "from sklearn.preprocessing import normalize\n",
    "\n",
    "from sklearn.utils import shuffle\n",
    "import math\n",
    "import joblib\n"
   ]
  },
  {
   "cell_type": "markdown",
   "metadata": {},
   "source": [
    "## Load Data"
   ]
  },
  {
   "cell_type": "code",
   "execution_count": 43,
   "metadata": {},
   "outputs": [],
   "source": [
    "dataset = pd.read_csv('datasets/Fs_B_DANCE_WALK_KIN_1sec.csv')"
   ]
  },
  {
   "cell_type": "markdown",
   "metadata": {},
   "source": [
    "### Split into Test and Train data"
   ]
  },
  {
   "cell_type": "code",
   "execution_count": 44,
   "metadata": {},
   "outputs": [
    {
     "name": "stdout",
     "output_type": "stream",
     "text": [
      "No Training Samples: 9660\n",
      "No Test Samples: 2415\n"
     ]
    }
   ],
   "source": [
    "train_dataset = dataset.sample(frac=0.8, random_state=42)\n",
    "test_dataset = dataset.drop(train_dataset.index)\n",
    "\n",
    "print(\"No Training Samples:\",train_dataset.shape[0])\n",
    "print(\"No Test Samples:\",test_dataset.shape[0])\n",
    "\n",
    "train_dataset = shuffle(train_dataset)\n",
    "test_dataset = shuffle(test_dataset)"
   ]
  },
  {
   "cell_type": "markdown",
   "metadata": {},
   "source": [
    "### Split Features from Targets"
   ]
  },
  {
   "cell_type": "code",
   "execution_count": 45,
   "metadata": {},
   "outputs": [],
   "source": [
    "train_y_sets = []\n",
    "test_y_sets = []\n",
    "# List of np.arrays each containing the LMA features of a given column (i.e one list per feature)"
   ]
  },
  {
   "cell_type": "code",
   "execution_count": 46,
   "metadata": {},
   "outputs": [],
   "source": [
    "train_X = pd.concat([train_dataset.pop(x) for x in ['EMOTION_P', 'EMOTION_A', 'EMOTION_D']], axis=1)\n",
    "test_X = pd.concat([test_dataset.pop(x) for x in ['EMOTION_P', 'EMOTION_A', 'EMOTION_D']], axis=1)"
   ]
  },
  {
   "cell_type": "code",
   "execution_count": 47,
   "metadata": {},
   "outputs": [],
   "source": [
    "for colname in train_dataset.columns:\n",
    "    train_y_sets.append(pd.concat([train_dataset.pop(x) for x in [colname]], axis=1))\n",
    "    \n",
    "for colname in test_dataset.columns:\n",
    "    test_y_sets.append(pd.concat([test_dataset.pop(x) for x in [colname]], axis=1))"
   ]
  },
  {
   "cell_type": "code",
   "execution_count": 48,
   "metadata": {},
   "outputs": [
    {
     "data": {
      "text/html": [
       "<div>\n",
       "<style scoped>\n",
       "    .dataframe tbody tr th:only-of-type {\n",
       "        vertical-align: middle;\n",
       "    }\n",
       "\n",
       "    .dataframe tbody tr th {\n",
       "        vertical-align: top;\n",
       "    }\n",
       "\n",
       "    .dataframe thead th {\n",
       "        text-align: right;\n",
       "    }\n",
       "</style>\n",
       "<table border=\"1\" class=\"dataframe\">\n",
       "  <thead>\n",
       "    <tr style=\"text-align: right;\">\n",
       "      <th></th>\n",
       "      <th>EMOTION_P</th>\n",
       "      <th>EMOTION_A</th>\n",
       "      <th>EMOTION_D</th>\n",
       "    </tr>\n",
       "  </thead>\n",
       "  <tbody>\n",
       "    <tr>\n",
       "      <th>11388</th>\n",
       "      <td>-0.85</td>\n",
       "      <td>-0.1</td>\n",
       "      <td>-0.8</td>\n",
       "    </tr>\n",
       "    <tr>\n",
       "      <th>903</th>\n",
       "      <td>-0.50</td>\n",
       "      <td>0.6</td>\n",
       "      <td>0.9</td>\n",
       "    </tr>\n",
       "    <tr>\n",
       "      <th>52</th>\n",
       "      <td>-0.50</td>\n",
       "      <td>0.6</td>\n",
       "      <td>0.9</td>\n",
       "    </tr>\n",
       "    <tr>\n",
       "      <th>8043</th>\n",
       "      <td>0.10</td>\n",
       "      <td>-0.7</td>\n",
       "      <td>-0.2</td>\n",
       "    </tr>\n",
       "    <tr>\n",
       "      <th>7188</th>\n",
       "      <td>-0.50</td>\n",
       "      <td>0.6</td>\n",
       "      <td>0.9</td>\n",
       "    </tr>\n",
       "  </tbody>\n",
       "</table>\n",
       "</div>"
      ],
      "text/plain": [
       "       EMOTION_P  EMOTION_A  EMOTION_D\n",
       "11388      -0.85       -0.1       -0.8\n",
       "903        -0.50        0.6        0.9\n",
       "52         -0.50        0.6        0.9\n",
       "8043        0.10       -0.7       -0.2\n",
       "7188       -0.50        0.6        0.9"
      ]
     },
     "execution_count": 48,
     "metadata": {},
     "output_type": "execute_result"
    }
   ],
   "source": [
    "train_X.head()"
   ]
  },
  {
   "cell_type": "code",
   "execution_count": 49,
   "metadata": {
    "scrolled": true
   },
   "outputs": [
    {
     "name": "stdout",
     "output_type": "stream",
     "text": [
      "max_hand_distance\n",
      "avg_l_hand_hip_distance\n",
      "avg_r_hand_hip_distance\n",
      "max_stride_length\n",
      "avg_l_hand_chest_distance\n",
      "avg_r_hand_chest_distance\n",
      "avg_l_elbow_hip_distance\n",
      "avg_r_elbow_hip_distance\n",
      "avg_chest_pelvis_distance\n",
      "avg_neck_chest_distance\n",
      "avg_neck_rotation_w\n",
      "avg_neck_rotation_x\n",
      "avg_neck_rotation_y\n",
      "avg_neck_rotation_z\n",
      "avg_total_body_volume\n",
      "avg_triangle_area_hands_neck\n",
      "avg_triangle_area_feet_hips\n",
      "l_hand_speed\n",
      "r_hand_speed\n",
      "l_foot_speed\n",
      "r_foot_speed\n",
      "neck_speed\n",
      "l_hand_acceleration_magnitude\n",
      "r_hand_acceleration_magnitude\n",
      "l_foot_acceleration_magnitude\n",
      "r_foot_acceleration_magnitude\n",
      "neck_acceleration_magnitude\n"
     ]
    }
   ],
   "source": [
    "for i in range(len(train_y_sets)):\n",
    "    print(train_y_sets[i].columns[0])"
   ]
  },
  {
   "cell_type": "markdown",
   "metadata": {},
   "source": [
    "## Define Model"
   ]
  },
  {
   "cell_type": "code",
   "execution_count": 50,
   "metadata": {},
   "outputs": [],
   "source": [
    "xgbr = xgb.XGBRegressor(verbosity=1) \n",
    "\n",
    "params = {\n",
    "        'eta': [0.01, 0.05, 0.1],\n",
    "        'min_child_weight': [1, 5, 11, 21],\n",
    "        'max_depth': [3, 6, 10, 15],\n",
    "        'gamma': [0, 0.001, 0.01],\n",
    "        'subsample': [0.75, 1],\n",
    "        'colsample_bytree': [0.75, 1],\n",
    "        'lambda': [1, 1.25],\n",
    "        'alpha': [0.0, 0.25]\n",
    "        }\n",
    "\n",
    "models = []\n",
    "\n",
    "for i in range(len(train_y_sets)):\n",
    "    models.append(\n",
    "        xgb.XGBRegressor(\n",
    "                    n_estimators=1500, learning_rate=0.05, max_depth=6, min_child_weight=11, \n",
    "                    reg_alpha=0.25, reg_lambda=1.25, gamma=0.01,\n",
    "                    subsample=0.75, colsample_bytree=0.75, objective=\"reg:squarederror\",\n",
    "                    tree_method='gpu_hist'\n",
    "                )\n",
    "    )"
   ]
  },
  {
   "cell_type": "markdown",
   "metadata": {},
   "source": [
    "## Train Model"
   ]
  },
  {
   "cell_type": "code",
   "execution_count": 51,
   "metadata": {
    "scrolled": false
   },
   "outputs": [
    {
     "name": "stdout",
     "output_type": "stream",
     "text": [
      "max_hand_distance\n",
      "avg_l_hand_hip_distance\n",
      "avg_r_hand_hip_distance\n",
      "max_stride_length\n",
      "avg_l_hand_chest_distance\n",
      "avg_r_hand_chest_distance\n",
      "avg_l_elbow_hip_distance\n",
      "avg_r_elbow_hip_distance\n",
      "avg_chest_pelvis_distance\n",
      "avg_neck_chest_distance\n",
      "avg_neck_rotation_w\n",
      "avg_neck_rotation_x\n",
      "avg_neck_rotation_y\n",
      "avg_neck_rotation_z\n",
      "avg_total_body_volume\n",
      "avg_triangle_area_hands_neck\n",
      "avg_triangle_area_feet_hips\n",
      "l_hand_speed\n",
      "r_hand_speed\n",
      "l_foot_speed\n",
      "r_foot_speed\n",
      "neck_speed\n",
      "l_hand_acceleration_magnitude\n",
      "r_hand_acceleration_magnitude\n",
      "l_foot_acceleration_magnitude\n",
      "r_foot_acceleration_magnitude\n",
      "neck_acceleration_magnitude\n"
     ]
    }
   ],
   "source": [
    "for i in range(len(models)):\n",
    "    print(train_y_sets[i].columns[0])\n",
    "    models[i].fit(train_X, train_y_sets[i])"
   ]
  },
  {
   "cell_type": "markdown",
   "metadata": {},
   "source": [
    "## Test Model"
   ]
  },
  {
   "cell_type": "markdown",
   "metadata": {},
   "source": [
    "### Training Score"
   ]
  },
  {
   "cell_type": "code",
   "execution_count": 52,
   "metadata": {},
   "outputs": [
    {
     "name": "stdout",
     "output_type": "stream",
     "text": [
      "max_hand_distance\n",
      "Training score:  0.19544739718587123\n",
      "\n",
      "avg_l_hand_hip_distance\n",
      "Training score:  0.12159866542503805\n",
      "\n",
      "avg_r_hand_hip_distance\n",
      "Training score:  0.09243928938053869\n",
      "\n",
      "max_stride_length\n",
      "Training score:  0.19395649232062984\n",
      "\n",
      "avg_l_hand_chest_distance\n",
      "Training score:  0.09277452654304086\n",
      "\n",
      "avg_r_hand_chest_distance\n",
      "Training score:  0.057797524122139565\n",
      "\n",
      "avg_l_elbow_hip_distance\n",
      "Training score:  0.09714782196739469\n",
      "\n",
      "avg_r_elbow_hip_distance\n",
      "Training score:  0.06046742101653979\n",
      "\n",
      "avg_chest_pelvis_distance\n",
      "Training score:  -3461316277.1312356\n",
      "\n",
      "avg_neck_chest_distance\n",
      "Training score:  -1.3056542069733723e-07\n",
      "\n",
      "avg_neck_rotation_w\n",
      "Training score:  0.015630413654506126\n",
      "\n",
      "avg_neck_rotation_x\n",
      "Training score:  0.07097370977321982\n",
      "\n",
      "avg_neck_rotation_y\n",
      "Training score:  0.02034396900863711\n",
      "\n",
      "avg_neck_rotation_z\n",
      "Training score:  0.1463904688406813\n",
      "\n",
      "avg_total_body_volume\n",
      "Training score:  0.15972920680310654\n",
      "\n",
      "avg_triangle_area_hands_neck\n",
      "Training score:  0.043844132477119935\n",
      "\n",
      "avg_triangle_area_feet_hips\n",
      "Training score:  0.07499042340200635\n",
      "\n",
      "l_hand_speed\n",
      "Training score:  0.11840592417106288\n",
      "\n",
      "r_hand_speed\n",
      "Training score:  0.11161385379292987\n",
      "\n",
      "l_foot_speed\n",
      "Training score:  0.08958352611950449\n",
      "\n",
      "r_foot_speed\n",
      "Training score:  0.11201743706931144\n",
      "\n",
      "neck_speed\n",
      "Training score:  0.05648297489496179\n",
      "\n",
      "l_hand_acceleration_magnitude\n",
      "Training score:  0.15540415420040543\n",
      "\n",
      "r_hand_acceleration_magnitude\n",
      "Training score:  0.13220826878774972\n",
      "\n",
      "l_foot_acceleration_magnitude\n",
      "Training score:  0.1093810574018167\n",
      "\n",
      "r_foot_acceleration_magnitude\n",
      "Training score:  0.1322803974740192\n",
      "\n",
      "neck_acceleration_magnitude\n",
      "Training score:  0.06110605574082817\n",
      "\n"
     ]
    }
   ],
   "source": [
    "for i in range(len(models)):\n",
    "    score = models[i].score(train_X, train_y_sets[i])\n",
    "    print(train_y_sets[i].columns[0])\n",
    "    print(\"Training score: \", score)\n",
    "\n",
    "    print()"
   ]
  },
  {
   "cell_type": "markdown",
   "metadata": {},
   "source": [
    "### Test Set MAE & MSE"
   ]
  },
  {
   "cell_type": "code",
   "execution_count": 53,
   "metadata": {
    "scrolled": false
   },
   "outputs": [
    {
     "name": "stdout",
     "output_type": "stream",
     "text": [
      "max_hand_distance\n",
      "MSE: 0.07\n",
      "MAE: 0.22\n",
      "Example:  0.2499922076973424\n",
      "\n",
      "avg_l_hand_hip_distance\n",
      "MSE: 0.02\n",
      "MAE: 0.12\n",
      "Example:  0.2178728496732131\n",
      "\n",
      "avg_r_hand_hip_distance\n",
      "MSE: 0.03\n",
      "MAE: 0.13\n",
      "Example:  0.080778272430834\n",
      "\n",
      "max_stride_length\n",
      "MSE: 0.03\n",
      "MAE: 0.13\n",
      "Example:  0.3359630561132576\n",
      "\n",
      "avg_l_hand_chest_distance\n",
      "MSE: 0.01\n",
      "MAE: 0.08\n",
      "Example:  0.100752431206083\n",
      "\n",
      "avg_r_hand_chest_distance\n",
      "MSE: 0.01\n",
      "MAE: 0.08\n",
      "Example:  0.2746658878325115\n",
      "\n",
      "avg_l_elbow_hip_distance\n",
      "MSE: 0.01\n",
      "MAE: 0.05\n",
      "Example:  0.2158367520240179\n",
      "\n",
      "avg_r_elbow_hip_distance\n",
      "MSE: 0.01\n",
      "MAE: 0.06\n",
      "Example:  0.2346567291208245\n",
      "\n",
      "avg_chest_pelvis_distance\n",
      "MSE: 0.00\n",
      "MAE: 0.00\n",
      "Example:  0.2861510001383717\n",
      "\n",
      "avg_neck_chest_distance\n",
      "MSE: 0.00\n",
      "MAE: 0.00\n",
      "Example:  0.2788084298437885\n",
      "\n",
      "avg_neck_rotation_w\n",
      "MSE: 0.01\n",
      "MAE: 0.07\n",
      "Example:  -0.2265473076656396\n",
      "\n",
      "avg_neck_rotation_x\n",
      "MSE: 0.09\n",
      "MAE: 0.21\n",
      "Example:  0.0585464164441948\n",
      "\n",
      "avg_neck_rotation_y\n",
      "MSE: 0.02\n",
      "MAE: 0.10\n",
      "Example:  -0.5676475833273876\n",
      "\n",
      "avg_neck_rotation_z\n",
      "MSE: 0.05\n",
      "MAE: 0.13\n",
      "Example:  0.7887776321163158\n",
      "\n",
      "avg_total_body_volume\n",
      "MSE: 0.03\n",
      "MAE: 0.14\n",
      "Example:  0.6704034599539763\n",
      "\n",
      "avg_triangle_area_hands_neck\n",
      "MSE: 0.00\n",
      "MAE: 0.05\n",
      "Example:  0.0219027273144252\n",
      "\n",
      "avg_triangle_area_feet_hips\n",
      "MSE: 0.00\n",
      "MAE: 0.04\n",
      "Example:  0.1287513627686243\n",
      "\n",
      "l_hand_speed\n",
      "MSE: 0.09\n",
      "MAE: 0.24\n",
      "Example:  0.1376442391532126\n",
      "\n",
      "r_hand_speed\n",
      "MSE: 0.10\n",
      "MAE: 0.25\n",
      "Example:  0.2123186152302487\n",
      "\n",
      "l_foot_speed\n",
      "MSE: 0.08\n",
      "MAE: 0.21\n",
      "Example:  0.0929782492840749\n",
      "\n",
      "r_foot_speed\n",
      "MSE: 0.09\n",
      "MAE: 0.23\n",
      "Example:  0.0940075082597263\n",
      "\n",
      "neck_speed\n",
      "MSE: 0.07\n",
      "MAE: 0.20\n",
      "Example:  0.1609648489553855\n",
      "\n",
      "l_hand_acceleration_magnitude\n",
      "MSE: 0.19\n",
      "MAE: 0.34\n",
      "Example:  0.1049952587355417\n",
      "\n",
      "r_hand_acceleration_magnitude\n",
      "MSE: 0.22\n",
      "MAE: 0.36\n",
      "Example:  0.0999260024929907\n",
      "\n",
      "l_foot_acceleration_magnitude\n",
      "MSE: 0.14\n",
      "MAE: 0.29\n",
      "Example:  0.0795402476205691\n",
      "\n",
      "r_foot_acceleration_magnitude\n",
      "MSE: 0.17\n",
      "MAE: 0.31\n",
      "Example:  0.1081081701180328\n",
      "\n",
      "neck_acceleration_magnitude\n",
      "MSE: 0.14\n",
      "MAE: 0.28\n",
      "Example:  0.0712232368995442\n",
      "\n"
     ]
    }
   ],
   "source": [
    "for i in range(len(models)):\n",
    "    pred_y = models[i].predict(test_X)\n",
    "    mse = mean_squared_error(test_y_sets[i], pred_y)\n",
    "    mae = mean_absolute_error(test_y_sets[i], pred_y)\n",
    "    print(test_y_sets[i].columns[0])\n",
    "    print(\"MSE: %.2f\" % mse)\n",
    "    print(\"MAE: %.2f\" % mae)\n",
    "    print(\"Example: \", test_y_sets[i].iloc[0][0])\n",
    "    print()"
   ]
  },
  {
   "cell_type": "markdown",
   "metadata": {},
   "source": [
    "### Prediction Examples"
   ]
  },
  {
   "cell_type": "code",
   "execution_count": 54,
   "metadata": {},
   "outputs": [],
   "source": [
    "model_p = xgb.XGBRegressor(verbosity=0)\n",
    "model_p.load_model(\"../../emotion_classifier/model_training/models/l2p_dance_model.json\")\n",
    "\n",
    "model_a = xgb.XGBRegressor(verbosity=0)\n",
    "model_a.load_model(\"../../emotion_classifier/model_training/models/l2a_dance_model.json\")\n",
    "\n",
    "model_d = xgb.XGBRegressor(verbosity=0)\n",
    "model_d.load_model(\"../../emotion_classifier/model_training/models/l2d_dance_model.json\")\n",
    "\n",
    "scaler = joblib.load('../../emotion_classifier/model_training/datasets/scalers/standardizers/Fs_B_S_DANCE_WALK_KIN_0.5sec.pkl') "
   ]
  },
  {
   "cell_type": "code",
   "execution_count": 56,
   "metadata": {},
   "outputs": [
    {
     "name": "stdout",
     "output_type": "stream",
     "text": [
      "Real: [[-0.35  0.7  -0.8 ]]\n",
      "Predicted: [0.027638767, -0.1088836, -0.036087155]\n"
     ]
    }
   ],
   "source": [
    "index = 0\n",
    "\n",
    "real_coordinates = np.asarray([test_X.iloc[index]])\n",
    "\n",
    "generated_features = []\n",
    "for i in range(len(models)):\n",
    "    generated_features.append(models[i].predict(real_coordinates)[0])\n",
    "    #print(test_y_sets[i].columns[0], \" - \", generated_features[i])\n",
    "    \n",
    "generated_features = pd.DataFrame([generated_features], columns=[\n",
    "            \"max_hand_distance\",\n",
    "            \"avg_l_hand_hip_distance\",\n",
    "            \"avg_r_hand_hip_distance\",\n",
    "            \"max_stride_length\",\n",
    "            \"avg_l_hand_chest_distance\",\n",
    "            \"avg_r_hand_chest_distance\",\n",
    "            \"avg_l_elbow_hip_distance\",\n",
    "            \"avg_r_elbow_hip_distance\",\n",
    "            \"avg_chest_pelvis_distance\",\n",
    "            \"avg_neck_chest_distance\",\n",
    "            \"avg_neck_rotation_w\", \"avg_neck_rotation_x\", \"avg_neck_rotation_y\", \"avg_neck_rotation_z\",\n",
    "            \"avg_total_body_volume\",\n",
    "            \"avg_triangle_area_hands_neck\",\n",
    "            \"avg_triangle_area_feet_hips\",\n",
    "          \n",
    "            \"l_hand_speed\",\n",
    "            \"r_hand_speed\",\n",
    "            \"l_foot_speed\",\n",
    "            \"r_foot_speed\",\n",
    "            \"neck_speed\",\n",
    "          \n",
    "            \"l_hand_acceleration_magnitude\",\n",
    "            \"r_hand_acceleration_magnitude\",\n",
    "            \"l_foot_acceleration_magnitude\",\n",
    "            \"r_foot_acceleration_magnitude\",\n",
    "            \"neck_acceleration_magnitude\",\n",
    "         ])\n",
    "\n",
    "generated_features = scaler.transform(generated_features)\n",
    "\n",
    "y_p = model_p.predict(generated_features)\n",
    "y_a = model_a.predict(generated_features)\n",
    "y_d = model_d.predict(generated_features)\n",
    "\n",
    "print('Real: %s' % np.asarray(real_coordinates))\n",
    "print('Predicted: %s' % [y_p[0], y_a[0], y_d[0]])"
   ]
  },
  {
   "cell_type": "markdown",
   "metadata": {},
   "source": [
    "## Save Models"
   ]
  },
  {
   "cell_type": "code",
   "execution_count": 118,
   "metadata": {},
   "outputs": [],
   "source": [
    "# save to JSON\n",
    "model_p.save_model(\"models/l2p_dance_model.json\")\n",
    "model_a.save_model(\"models/l2a_dance_model.json\")\n",
    "model_d.save_model(\"models/l2d_dance_model.json\")"
   ]
  },
  {
   "cell_type": "markdown",
   "metadata": {},
   "source": [
    "## Load Models"
   ]
  },
  {
   "cell_type": "code",
   "execution_count": 856,
   "metadata": {},
   "outputs": [],
   "source": [
    "model_p = xgb.XGBRegressor(verbosity=0)\n",
    "model_p.load_model(\"models/l2p_dance_model_v2.json\")\n",
    "\n",
    "model_a = xgb.XGBRegressor(verbosity=0)\n",
    "model_a.load_model(\"models/l2a_dance_model_v2.json\")"
   ]
  },
  {
   "cell_type": "markdown",
   "metadata": {},
   "source": [
    "\n"
   ]
  },
  {
   "cell_type": "markdown",
   "metadata": {},
   "source": [
    "# Hyperparameter Grid Search with XGBoost"
   ]
  },
  {
   "cell_type": "code",
   "execution_count": 2,
   "metadata": {},
   "outputs": [],
   "source": [
    "from datetime import datetime\n",
    "from sklearn.model_selection import GridSearchCV\n",
    "from sklearn.model_selection import RandomizedSearchCV\n",
    "import time\n",
    "\n",
    "import matplotlib.pyplot as plt\n",
    "import numpy as np\n",
    "import pandas as pd\n",
    "import seaborn as sns\n",
    "\n",
    "import tensorflow as tf\n",
    "\n",
    "import sklearn\n",
    "from sklearn.model_selection import cross_val_score, KFold\n",
    "from sklearn.metrics import mean_absolute_error\n",
    "\n",
    "\n",
    "import xgboost as xgb\n",
    "\n",
    "xgb.set_config(verbosity=2)\n",
    "\n",
    "from sklearn.metrics import mean_squared_error\n",
    "from sklearn.utils import shuffle\n",
    "import joblib"
   ]
  },
  {
   "cell_type": "markdown",
   "metadata": {},
   "source": [
    "## Load Data"
   ]
  },
  {
   "cell_type": "code",
   "execution_count": 3,
   "metadata": {},
   "outputs": [],
   "source": [
    "dataset = pd.read_csv('datasets/Fs_B_DANCE_WALK_KIN_0.5sec.csv')"
   ]
  },
  {
   "cell_type": "markdown",
   "metadata": {},
   "source": [
    "### Split into Test and Train data"
   ]
  },
  {
   "cell_type": "code",
   "execution_count": 4,
   "metadata": {},
   "outputs": [
    {
     "name": "stdout",
     "output_type": "stream",
     "text": [
      "No Training Samples: 39539\n",
      "No Test Samples: 9885\n"
     ]
    }
   ],
   "source": [
    "train_dataset = dataset.sample(frac=0.8, random_state=42)\n",
    "test_dataset = dataset.drop(train_dataset.index)\n",
    "\n",
    "print(\"No Training Samples:\",train_dataset.shape[0])\n",
    "print(\"No Test Samples:\",test_dataset.shape[0])\n",
    "\n",
    "train_dataset = shuffle(train_dataset)\n",
    "test_dataset = shuffle(test_dataset)"
   ]
  },
  {
   "cell_type": "markdown",
   "metadata": {},
   "source": [
    "### Split Features from Targets"
   ]
  },
  {
   "cell_type": "code",
   "execution_count": 5,
   "metadata": {},
   "outputs": [],
   "source": [
    "train_y_sets = []\n",
    "test_y_sets = []\n",
    "# List of np.arrays each containing the LMA features of a given column (i.e one list per feature)"
   ]
  },
  {
   "cell_type": "code",
   "execution_count": 6,
   "metadata": {},
   "outputs": [],
   "source": [
    "train_X = pd.concat([train_dataset.pop(x) for x in ['EMOTION_P', 'EMOTION_A', 'EMOTION_D']], axis=1)\n",
    "test_X = pd.concat([test_dataset.pop(x) for x in ['EMOTION_P', 'EMOTION_A', 'EMOTION_D']], axis=1)"
   ]
  },
  {
   "cell_type": "code",
   "execution_count": 7,
   "metadata": {},
   "outputs": [],
   "source": [
    "for colname in train_dataset.columns:\n",
    "    train_y_sets.append(pd.concat([train_dataset.pop(x) for x in [colname]], axis=1))\n",
    "    \n",
    "for colname in test_dataset.columns:\n",
    "    test_y_sets.append(pd.concat([test_dataset.pop(x) for x in [colname]], axis=1))"
   ]
  },
  {
   "cell_type": "code",
   "execution_count": 8,
   "metadata": {},
   "outputs": [
    {
     "data": {
      "text/html": [
       "<div>\n",
       "<style scoped>\n",
       "    .dataframe tbody tr th:only-of-type {\n",
       "        vertical-align: middle;\n",
       "    }\n",
       "\n",
       "    .dataframe tbody tr th {\n",
       "        vertical-align: top;\n",
       "    }\n",
       "\n",
       "    .dataframe thead th {\n",
       "        text-align: right;\n",
       "    }\n",
       "</style>\n",
       "<table border=\"1\" class=\"dataframe\">\n",
       "  <thead>\n",
       "    <tr style=\"text-align: right;\">\n",
       "      <th></th>\n",
       "      <th>EMOTION_P</th>\n",
       "      <th>EMOTION_A</th>\n",
       "      <th>EMOTION_D</th>\n",
       "    </tr>\n",
       "  </thead>\n",
       "  <tbody>\n",
       "    <tr>\n",
       "      <th>7012</th>\n",
       "      <td>-0.85</td>\n",
       "      <td>-0.10</td>\n",
       "      <td>-0.80</td>\n",
       "    </tr>\n",
       "    <tr>\n",
       "      <th>19814</th>\n",
       "      <td>0.90</td>\n",
       "      <td>-0.25</td>\n",
       "      <td>0.65</td>\n",
       "    </tr>\n",
       "    <tr>\n",
       "      <th>423</th>\n",
       "      <td>-0.40</td>\n",
       "      <td>0.25</td>\n",
       "      <td>-0.10</td>\n",
       "    </tr>\n",
       "    <tr>\n",
       "      <th>45807</th>\n",
       "      <td>-0.50</td>\n",
       "      <td>0.60</td>\n",
       "      <td>0.90</td>\n",
       "    </tr>\n",
       "    <tr>\n",
       "      <th>28216</th>\n",
       "      <td>-0.35</td>\n",
       "      <td>0.70</td>\n",
       "      <td>-0.80</td>\n",
       "    </tr>\n",
       "  </tbody>\n",
       "</table>\n",
       "</div>"
      ],
      "text/plain": [
       "       EMOTION_P  EMOTION_A  EMOTION_D\n",
       "7012       -0.85      -0.10      -0.80\n",
       "19814       0.90      -0.25       0.65\n",
       "423        -0.40       0.25      -0.10\n",
       "45807      -0.50       0.60       0.90\n",
       "28216      -0.35       0.70      -0.80"
      ]
     },
     "execution_count": 8,
     "metadata": {},
     "output_type": "execute_result"
    }
   ],
   "source": [
    "train_X.head()"
   ]
  },
  {
   "cell_type": "code",
   "execution_count": 9,
   "metadata": {
    "scrolled": true
   },
   "outputs": [
    {
     "name": "stdout",
     "output_type": "stream",
     "text": [
      "max_hand_distance\n",
      "avg_l_hand_hip_distance\n",
      "avg_r_hand_hip_distance\n",
      "max_stride_length\n",
      "avg_l_hand_chest_distance\n",
      "avg_r_hand_chest_distance\n",
      "avg_l_elbow_hip_distance\n",
      "avg_r_elbow_hip_distance\n",
      "avg_chest_pelvis_distance\n",
      "avg_neck_chest_distance\n",
      "avg_neck_rotation_w\n",
      "avg_neck_rotation_x\n",
      "avg_neck_rotation_y\n",
      "avg_neck_rotation_z\n",
      "avg_total_body_volume\n",
      "avg_triangle_area_hands_neck\n",
      "avg_triangle_area_feet_hips\n",
      "l_hand_speed\n",
      "r_hand_speed\n",
      "l_foot_speed\n",
      "r_foot_speed\n",
      "neck_speed\n",
      "l_hand_acceleration_magnitude\n",
      "r_hand_acceleration_magnitude\n",
      "l_foot_acceleration_magnitude\n",
      "r_foot_acceleration_magnitude\n",
      "neck_acceleration_magnitude\n"
     ]
    }
   ],
   "source": [
    "for i in range(len(train_y_sets)):\n",
    "    print(train_y_sets[i].columns[0])"
   ]
  },
  {
   "cell_type": "markdown",
   "metadata": {},
   "source": [
    "## RandomSearchCV"
   ]
  },
  {
   "cell_type": "code",
   "execution_count": 10,
   "metadata": {},
   "outputs": [],
   "source": [
    "# A parameter grid for XGBoost\n",
    "# https://www.analyticsvidhya.com/blog/2016/03/complete-guide-parameter-tuning-xgboost-with-codes-python/\n",
    "params = {\n",
    "        'eta': [0.01, 0.05, 0.1],\n",
    "        'min_child_weight': [1, 5, 11, 21],\n",
    "        'max_depth': [3, 6, 10, 15],\n",
    "        'gamma': [0, 0.001, 0.01],\n",
    "        'subsample': [0.75, 1],\n",
    "        'colsample_bytree': [0.75, 1],\n",
    "        'lambda': [1, 1.25],\n",
    "        'alpha': [0.0, 0.25]\n",
    "        }\n",
    "\n",
    "n_iter = 200"
   ]
  },
  {
   "cell_type": "code",
   "execution_count": 11,
   "metadata": {},
   "outputs": [],
   "source": [
    "models = []\n",
    "\n",
    "for i in range(len(train_y_sets)):\n",
    "    models.append(\n",
    "        xgb.XGBRegressor(\n",
    "                    n_estimators=1500, \n",
    "                    objective=\"reg:squarederror\",\n",
    "                    tree_method='gpu_hist'\n",
    "                )\n",
    "    )"
   ]
  },
  {
   "cell_type": "code",
   "execution_count": null,
   "metadata": {},
   "outputs": [
    {
     "name": "stdout",
     "output_type": "stream",
     "text": [
      "max_hand_distance\n",
      "GridSearchCV took 1006.77 seconds parameter settings.\n",
      "\n",
      "avg_l_hand_hip_distance\n",
      "GridSearchCV took 1297.47 seconds parameter settings.\n",
      "\n",
      "avg_r_hand_hip_distance\n"
     ]
    }
   ],
   "source": [
    "# Pleasure\n",
    "# run randomized search\n",
    "\n",
    "random_searches = []\n",
    "\n",
    "for i in range(len(models)):\n",
    "    print(train_y_sets[i].columns[0])\n",
    "    \n",
    "    kfold = KFold(n_splits=3, shuffle=True)\n",
    "\n",
    "    random_search = RandomizedSearchCV(models[i], param_distributions=params,\n",
    "                               cv=kfold, scoring='neg_mean_squared_error', n_iter = n_iter)\n",
    "\n",
    "    start = time.time()\n",
    "    random_search.fit(train_X, train_y_sets[i])\n",
    "    \n",
    "    random_searches.append(random_search)\n",
    "\n",
    "    print(\"GridSearchCV took %.2f seconds\"\n",
    "          \" parameter settings.\" % ((time.time() - start)))\n",
    "    \n",
    "    print()"
   ]
  },
  {
   "cell_type": "markdown",
   "metadata": {},
   "source": [
    "### Results"
   ]
  },
  {
   "cell_type": "code",
   "execution_count": 20,
   "metadata": {
    "scrolled": false
   },
   "outputs": [
    {
     "name": "stdout",
     "output_type": "stream",
     "text": [
      "max_hand_distance\n",
      "{'objective': 'reg:squarederror', 'base_score': 0.5, 'booster': 'gbtree', 'colsample_bylevel': 1, 'colsample_bynode': 1, 'colsample_bytree': 0.75, 'enable_categorical': False, 'gamma': 0.01, 'gpu_id': 0, 'importance_type': None, 'interaction_constraints': '', 'learning_rate': 0.100000001, 'max_delta_step': 0, 'max_depth': 3, 'min_child_weight': 11, 'missing': nan, 'monotone_constraints': '()', 'n_estimators': 1500, 'n_jobs': 12, 'num_parallel_tree': 1, 'predictor': 'auto', 'random_state': 0, 'reg_alpha': 0, 'reg_lambda': 1, 'scale_pos_weight': 1, 'subsample': 0.75, 'tree_method': 'gpu_hist', 'validate_parameters': 1, 'verbosity': None, 'lambda': 1, 'eta': 0.1, 'alpha': 0.0}\n",
      "\n",
      "avg_l_hand_hip_distance\n",
      "{'objective': 'reg:squarederror', 'base_score': 0.5, 'booster': 'gbtree', 'colsample_bylevel': 1, 'colsample_bynode': 1, 'colsample_bytree': 0.75, 'enable_categorical': False, 'gamma': 0.01, 'gpu_id': 0, 'importance_type': None, 'interaction_constraints': '', 'learning_rate': 0.100000001, 'max_delta_step': 0, 'max_depth': 15, 'min_child_weight': 21, 'missing': nan, 'monotone_constraints': '()', 'n_estimators': 1500, 'n_jobs': 12, 'num_parallel_tree': 1, 'predictor': 'auto', 'random_state': 0, 'reg_alpha': 0.25, 'reg_lambda': 1.25, 'scale_pos_weight': 1, 'subsample': 0.75, 'tree_method': 'gpu_hist', 'validate_parameters': 1, 'verbosity': None, 'lambda': 1.25, 'eta': 0.1, 'alpha': 0.25}\n",
      "\n",
      "avg_r_hand_hip_distance\n",
      "{'objective': 'reg:squarederror', 'base_score': 0.5, 'booster': 'gbtree', 'colsample_bylevel': 1, 'colsample_bynode': 1, 'colsample_bytree': 0.75, 'enable_categorical': False, 'gamma': 0, 'gpu_id': 0, 'importance_type': None, 'interaction_constraints': '', 'learning_rate': 0.100000001, 'max_delta_step': 0, 'max_depth': 6, 'min_child_weight': 1, 'missing': nan, 'monotone_constraints': '()', 'n_estimators': 1500, 'n_jobs': 12, 'num_parallel_tree': 1, 'predictor': 'auto', 'random_state': 0, 'reg_alpha': 0, 'reg_lambda': 1, 'scale_pos_weight': 1, 'subsample': 0.75, 'tree_method': 'gpu_hist', 'validate_parameters': 1, 'verbosity': None, 'lambda': 1, 'eta': 0.1, 'alpha': 0.0}\n",
      "\n",
      "max_stride_length\n",
      "{'objective': 'reg:squarederror', 'base_score': 0.5, 'booster': 'gbtree', 'colsample_bylevel': 1, 'colsample_bynode': 1, 'colsample_bytree': 0.75, 'enable_categorical': False, 'gamma': 0, 'gpu_id': 0, 'importance_type': None, 'interaction_constraints': '', 'learning_rate': 0.00999999978, 'max_delta_step': 0, 'max_depth': 3, 'min_child_weight': 1, 'missing': nan, 'monotone_constraints': '()', 'n_estimators': 1500, 'n_jobs': 12, 'num_parallel_tree': 1, 'predictor': 'auto', 'random_state': 0, 'reg_alpha': 0.25, 'reg_lambda': 1, 'scale_pos_weight': 1, 'subsample': 1, 'tree_method': 'gpu_hist', 'validate_parameters': 1, 'verbosity': None, 'lambda': 1, 'eta': 0.01, 'alpha': 0.25}\n",
      "\n",
      "avg_l_hand_chest_distance\n",
      "{'objective': 'reg:squarederror', 'base_score': 0.5, 'booster': 'gbtree', 'colsample_bylevel': 1, 'colsample_bynode': 1, 'colsample_bytree': 1, 'enable_categorical': False, 'gamma': 0.01, 'gpu_id': 0, 'importance_type': None, 'interaction_constraints': '', 'learning_rate': 0.100000001, 'max_delta_step': 0, 'max_depth': 6, 'min_child_weight': 11, 'missing': nan, 'monotone_constraints': '()', 'n_estimators': 1500, 'n_jobs': 12, 'num_parallel_tree': 1, 'predictor': 'auto', 'random_state': 0, 'reg_alpha': 0.25, 'reg_lambda': 1.25, 'scale_pos_weight': 1, 'subsample': 0.75, 'tree_method': 'gpu_hist', 'validate_parameters': 1, 'verbosity': None, 'lambda': 1.25, 'eta': 0.1, 'alpha': 0.25}\n",
      "\n",
      "avg_r_hand_chest_distance\n",
      "{'objective': 'reg:squarederror', 'base_score': 0.5, 'booster': 'gbtree', 'colsample_bylevel': 1, 'colsample_bynode': 1, 'colsample_bytree': 0.75, 'enable_categorical': False, 'gamma': 0.001, 'gpu_id': 0, 'importance_type': None, 'interaction_constraints': '', 'learning_rate': 0.100000001, 'max_delta_step': 0, 'max_depth': 10, 'min_child_weight': 21, 'missing': nan, 'monotone_constraints': '()', 'n_estimators': 1500, 'n_jobs': 12, 'num_parallel_tree': 1, 'predictor': 'auto', 'random_state': 0, 'reg_alpha': 0, 'reg_lambda': 1.25, 'scale_pos_weight': 1, 'subsample': 0.75, 'tree_method': 'gpu_hist', 'validate_parameters': 1, 'verbosity': None, 'lambda': 1.25, 'eta': 0.1, 'alpha': 0.0}\n",
      "\n",
      "avg_l_elbow_hip_distance\n",
      "{'objective': 'reg:squarederror', 'base_score': 0.5, 'booster': 'gbtree', 'colsample_bylevel': 1, 'colsample_bynode': 1, 'colsample_bytree': 0.75, 'enable_categorical': False, 'gamma': 0, 'gpu_id': 0, 'importance_type': None, 'interaction_constraints': '', 'learning_rate': 0.00999999978, 'max_delta_step': 0, 'max_depth': 3, 'min_child_weight': 11, 'missing': nan, 'monotone_constraints': '()', 'n_estimators': 1500, 'n_jobs': 12, 'num_parallel_tree': 1, 'predictor': 'auto', 'random_state': 0, 'reg_alpha': 0.25, 'reg_lambda': 1, 'scale_pos_weight': 1, 'subsample': 0.75, 'tree_method': 'gpu_hist', 'validate_parameters': 1, 'verbosity': None, 'lambda': 1, 'eta': 0.01, 'alpha': 0.25}\n",
      "\n",
      "avg_r_elbow_hip_distance\n",
      "{'objective': 'reg:squarederror', 'base_score': 0.5, 'booster': 'gbtree', 'colsample_bylevel': 1, 'colsample_bynode': 1, 'colsample_bytree': 0.75, 'enable_categorical': False, 'gamma': 0.01, 'gpu_id': 0, 'importance_type': None, 'interaction_constraints': '', 'learning_rate': 0.00999999978, 'max_delta_step': 0, 'max_depth': 10, 'min_child_weight': 1, 'missing': nan, 'monotone_constraints': '()', 'n_estimators': 1500, 'n_jobs': 12, 'num_parallel_tree': 1, 'predictor': 'auto', 'random_state': 0, 'reg_alpha': 0.25, 'reg_lambda': 1, 'scale_pos_weight': 1, 'subsample': 0.75, 'tree_method': 'gpu_hist', 'validate_parameters': 1, 'verbosity': None, 'lambda': 1, 'eta': 0.01, 'alpha': 0.25}\n",
      "\n",
      "avg_chest_pelvis_distance\n",
      "{'objective': 'reg:squarederror', 'base_score': 0.5, 'booster': 'gbtree', 'colsample_bylevel': 1, 'colsample_bynode': 1, 'colsample_bytree': 1, 'enable_categorical': False, 'gamma': 0.001, 'gpu_id': 0, 'importance_type': None, 'interaction_constraints': '', 'learning_rate': 0.100000001, 'max_delta_step': 0, 'max_depth': 6, 'min_child_weight': 1, 'missing': nan, 'monotone_constraints': '()', 'n_estimators': 1500, 'n_jobs': 12, 'num_parallel_tree': 1, 'predictor': 'auto', 'random_state': 0, 'reg_alpha': 0, 'reg_lambda': 1.25, 'scale_pos_weight': 1, 'subsample': 1, 'tree_method': 'gpu_hist', 'validate_parameters': 1, 'verbosity': None, 'lambda': 1.25, 'eta': 0.1, 'alpha': 0.0}\n",
      "\n",
      "avg_neck_chest_distance\n",
      "{'objective': 'reg:squarederror', 'base_score': 0.5, 'booster': 'gbtree', 'colsample_bylevel': 1, 'colsample_bynode': 1, 'colsample_bytree': 0.75, 'enable_categorical': False, 'gamma': 0, 'gpu_id': 0, 'importance_type': None, 'interaction_constraints': '', 'learning_rate': 0.100000001, 'max_delta_step': 0, 'max_depth': 3, 'min_child_weight': 21, 'missing': nan, 'monotone_constraints': '()', 'n_estimators': 1500, 'n_jobs': 12, 'num_parallel_tree': 1, 'predictor': 'auto', 'random_state': 0, 'reg_alpha': 0, 'reg_lambda': 1.25, 'scale_pos_weight': 1, 'subsample': 0.75, 'tree_method': 'gpu_hist', 'validate_parameters': 1, 'verbosity': None, 'lambda': 1.25, 'eta': 0.1, 'alpha': 0.0}\n",
      "\n",
      "avg_neck_rotation_w\n",
      "{'objective': 'reg:squarederror', 'base_score': 0.5, 'booster': 'gbtree', 'colsample_bylevel': 1, 'colsample_bynode': 1, 'colsample_bytree': 0.75, 'enable_categorical': False, 'gamma': 0.01, 'gpu_id': 0, 'importance_type': None, 'interaction_constraints': '', 'learning_rate': 0.0500000007, 'max_delta_step': 0, 'max_depth': 10, 'min_child_weight': 21, 'missing': nan, 'monotone_constraints': '()', 'n_estimators': 1500, 'n_jobs': 12, 'num_parallel_tree': 1, 'predictor': 'auto', 'random_state': 0, 'reg_alpha': 0.25, 'reg_lambda': 1.25, 'scale_pos_weight': 1, 'subsample': 0.75, 'tree_method': 'gpu_hist', 'validate_parameters': 1, 'verbosity': None, 'lambda': 1.25, 'eta': 0.05, 'alpha': 0.25}\n",
      "\n",
      "avg_neck_rotation_x\n",
      "{'objective': 'reg:squarederror', 'base_score': 0.5, 'booster': 'gbtree', 'colsample_bylevel': 1, 'colsample_bynode': 1, 'colsample_bytree': 1, 'enable_categorical': False, 'gamma': 0.01, 'gpu_id': 0, 'importance_type': None, 'interaction_constraints': '', 'learning_rate': 0.0500000007, 'max_delta_step': 0, 'max_depth': 3, 'min_child_weight': 11, 'missing': nan, 'monotone_constraints': '()', 'n_estimators': 1500, 'n_jobs': 12, 'num_parallel_tree': 1, 'predictor': 'auto', 'random_state': 0, 'reg_alpha': 0.25, 'reg_lambda': 1, 'scale_pos_weight': 1, 'subsample': 1, 'tree_method': 'gpu_hist', 'validate_parameters': 1, 'verbosity': None, 'lambda': 1, 'eta': 0.05, 'alpha': 0.25}\n",
      "\n",
      "avg_neck_rotation_y\n",
      "{'objective': 'reg:squarederror', 'base_score': 0.5, 'booster': 'gbtree', 'colsample_bylevel': 1, 'colsample_bynode': 1, 'colsample_bytree': 1, 'enable_categorical': False, 'gamma': 0, 'gpu_id': 0, 'importance_type': None, 'interaction_constraints': '', 'learning_rate': 0.100000001, 'max_delta_step': 0, 'max_depth': 6, 'min_child_weight': 5, 'missing': nan, 'monotone_constraints': '()', 'n_estimators': 1500, 'n_jobs': 12, 'num_parallel_tree': 1, 'predictor': 'auto', 'random_state': 0, 'reg_alpha': 0, 'reg_lambda': 1.25, 'scale_pos_weight': 1, 'subsample': 0.75, 'tree_method': 'gpu_hist', 'validate_parameters': 1, 'verbosity': None, 'lambda': 1.25, 'eta': 0.1, 'alpha': 0.0}\n",
      "\n",
      "avg_neck_rotation_z\n",
      "{'objective': 'reg:squarederror', 'base_score': 0.5, 'booster': 'gbtree', 'colsample_bylevel': 1, 'colsample_bynode': 1, 'colsample_bytree': 1, 'enable_categorical': False, 'gamma': 0, 'gpu_id': 0, 'importance_type': None, 'interaction_constraints': '', 'learning_rate': 0.100000001, 'max_delta_step': 0, 'max_depth': 3, 'min_child_weight': 5, 'missing': nan, 'monotone_constraints': '()', 'n_estimators': 1500, 'n_jobs': 12, 'num_parallel_tree': 1, 'predictor': 'auto', 'random_state': 0, 'reg_alpha': 0, 'reg_lambda': 1, 'scale_pos_weight': 1, 'subsample': 0.75, 'tree_method': 'gpu_hist', 'validate_parameters': 1, 'verbosity': None, 'lambda': 1, 'eta': 0.1, 'alpha': 0.0}\n",
      "\n",
      "avg_total_body_volume\n",
      "{'objective': 'reg:squarederror', 'base_score': 0.5, 'booster': 'gbtree', 'colsample_bylevel': 1, 'colsample_bynode': 1, 'colsample_bytree': 1, 'enable_categorical': False, 'gamma': 0.001, 'gpu_id': 0, 'importance_type': None, 'interaction_constraints': '', 'learning_rate': 0.00999999978, 'max_delta_step': 0, 'max_depth': 3, 'min_child_weight': 11, 'missing': nan, 'monotone_constraints': '()', 'n_estimators': 1500, 'n_jobs': 12, 'num_parallel_tree': 1, 'predictor': 'auto', 'random_state': 0, 'reg_alpha': 0.25, 'reg_lambda': 1, 'scale_pos_weight': 1, 'subsample': 0.75, 'tree_method': 'gpu_hist', 'validate_parameters': 1, 'verbosity': None, 'lambda': 1, 'eta': 0.01, 'alpha': 0.25}\n",
      "\n",
      "avg_triangle_area_hands_neck\n",
      "{'objective': 'reg:squarederror', 'base_score': 0.5, 'booster': 'gbtree', 'colsample_bylevel': 1, 'colsample_bynode': 1, 'colsample_bytree': 0.75, 'enable_categorical': False, 'gamma': 0, 'gpu_id': 0, 'importance_type': None, 'interaction_constraints': '', 'learning_rate': 0.100000001, 'max_delta_step': 0, 'max_depth': 10, 'min_child_weight': 21, 'missing': nan, 'monotone_constraints': '()', 'n_estimators': 1500, 'n_jobs': 12, 'num_parallel_tree': 1, 'predictor': 'auto', 'random_state': 0, 'reg_alpha': 0, 'reg_lambda': 1, 'scale_pos_weight': 1, 'subsample': 1, 'tree_method': 'gpu_hist', 'validate_parameters': 1, 'verbosity': None, 'lambda': 1, 'eta': 0.1, 'alpha': 0.0}\n",
      "\n",
      "avg_triangle_area_feet_hips\n",
      "{'objective': 'reg:squarederror', 'base_score': 0.5, 'booster': 'gbtree', 'colsample_bylevel': 1, 'colsample_bynode': 1, 'colsample_bytree': 0.75, 'enable_categorical': False, 'gamma': 0.01, 'gpu_id': 0, 'importance_type': None, 'interaction_constraints': '', 'learning_rate': 0.100000001, 'max_delta_step': 0, 'max_depth': 6, 'min_child_weight': 5, 'missing': nan, 'monotone_constraints': '()', 'n_estimators': 1500, 'n_jobs': 12, 'num_parallel_tree': 1, 'predictor': 'auto', 'random_state': 0, 'reg_alpha': 0, 'reg_lambda': 1, 'scale_pos_weight': 1, 'subsample': 0.75, 'tree_method': 'gpu_hist', 'validate_parameters': 1, 'verbosity': None, 'lambda': 1, 'eta': 0.1, 'alpha': 0.0}\n",
      "\n",
      "l_hand_speed\n",
      "{'objective': 'reg:squarederror', 'base_score': 0.5, 'booster': 'gbtree', 'colsample_bylevel': 1, 'colsample_bynode': 1, 'colsample_bytree': 1, 'enable_categorical': False, 'gamma': 0, 'gpu_id': 0, 'importance_type': None, 'interaction_constraints': '', 'learning_rate': 0.100000001, 'max_delta_step': 0, 'max_depth': 6, 'min_child_weight': 11, 'missing': nan, 'monotone_constraints': '()', 'n_estimators': 1500, 'n_jobs': 12, 'num_parallel_tree': 1, 'predictor': 'auto', 'random_state': 0, 'reg_alpha': 0, 'reg_lambda': 1, 'scale_pos_weight': 1, 'subsample': 0.75, 'tree_method': 'gpu_hist', 'validate_parameters': 1, 'verbosity': None, 'lambda': 1, 'eta': 0.1, 'alpha': 0.0}\n",
      "\n",
      "r_hand_speed\n",
      "{'objective': 'reg:squarederror', 'base_score': 0.5, 'booster': 'gbtree', 'colsample_bylevel': 1, 'colsample_bynode': 1, 'colsample_bytree': 1, 'enable_categorical': False, 'gamma': 0.01, 'gpu_id': 0, 'importance_type': None, 'interaction_constraints': '', 'learning_rate': 0.100000001, 'max_delta_step': 0, 'max_depth': 6, 'min_child_weight': 11, 'missing': nan, 'monotone_constraints': '()', 'n_estimators': 1500, 'n_jobs': 12, 'num_parallel_tree': 1, 'predictor': 'auto', 'random_state': 0, 'reg_alpha': 0, 'reg_lambda': 1.25, 'scale_pos_weight': 1, 'subsample': 0.75, 'tree_method': 'gpu_hist', 'validate_parameters': 1, 'verbosity': None, 'lambda': 1.25, 'eta': 0.1, 'alpha': 0.0}\n",
      "\n",
      "l_foot_speed\n",
      "{'objective': 'reg:squarederror', 'base_score': 0.5, 'booster': 'gbtree', 'colsample_bylevel': 1, 'colsample_bynode': 1, 'colsample_bytree': 1, 'enable_categorical': False, 'gamma': 0.01, 'gpu_id': 0, 'importance_type': None, 'interaction_constraints': '', 'learning_rate': 0.00999999978, 'max_delta_step': 0, 'max_depth': 6, 'min_child_weight': 5, 'missing': nan, 'monotone_constraints': '()', 'n_estimators': 1500, 'n_jobs': 12, 'num_parallel_tree': 1, 'predictor': 'auto', 'random_state': 0, 'reg_alpha': 0.25, 'reg_lambda': 1, 'scale_pos_weight': 1, 'subsample': 0.75, 'tree_method': 'gpu_hist', 'validate_parameters': 1, 'verbosity': None, 'lambda': 1, 'eta': 0.01, 'alpha': 0.25}\n",
      "\n",
      "r_foot_speed\n",
      "{'objective': 'reg:squarederror', 'base_score': 0.5, 'booster': 'gbtree', 'colsample_bylevel': 1, 'colsample_bynode': 1, 'colsample_bytree': 0.75, 'enable_categorical': False, 'gamma': 0.001, 'gpu_id': 0, 'importance_type': None, 'interaction_constraints': '', 'learning_rate': 0.100000001, 'max_delta_step': 0, 'max_depth': 3, 'min_child_weight': 11, 'missing': nan, 'monotone_constraints': '()', 'n_estimators': 1500, 'n_jobs': 12, 'num_parallel_tree': 1, 'predictor': 'auto', 'random_state': 0, 'reg_alpha': 0, 'reg_lambda': 1.25, 'scale_pos_weight': 1, 'subsample': 1, 'tree_method': 'gpu_hist', 'validate_parameters': 1, 'verbosity': None, 'lambda': 1.25, 'eta': 0.1, 'alpha': 0.0}\n",
      "\n",
      "neck_speed\n",
      "{'objective': 'reg:squarederror', 'base_score': 0.5, 'booster': 'gbtree', 'colsample_bylevel': 1, 'colsample_bynode': 1, 'colsample_bytree': 0.75, 'enable_categorical': False, 'gamma': 0, 'gpu_id': 0, 'importance_type': None, 'interaction_constraints': '', 'learning_rate': 0.00999999978, 'max_delta_step': 0, 'max_depth': 3, 'min_child_weight': 11, 'missing': nan, 'monotone_constraints': '()', 'n_estimators': 1500, 'n_jobs': 12, 'num_parallel_tree': 1, 'predictor': 'auto', 'random_state': 0, 'reg_alpha': 0, 'reg_lambda': 1, 'scale_pos_weight': 1, 'subsample': 0.75, 'tree_method': 'gpu_hist', 'validate_parameters': 1, 'verbosity': None, 'lambda': 1, 'eta': 0.01, 'alpha': 0.0}\n",
      "\n",
      "l_hand_acceleration_magnitude\n",
      "{'objective': 'reg:squarederror', 'base_score': 0.5, 'booster': 'gbtree', 'colsample_bylevel': 1, 'colsample_bynode': 1, 'colsample_bytree': 0.75, 'enable_categorical': False, 'gamma': 0.001, 'gpu_id': 0, 'importance_type': None, 'interaction_constraints': '', 'learning_rate': 0.00999999978, 'max_delta_step': 0, 'max_depth': 3, 'min_child_weight': 1, 'missing': nan, 'monotone_constraints': '()', 'n_estimators': 1500, 'n_jobs': 12, 'num_parallel_tree': 1, 'predictor': 'auto', 'random_state': 0, 'reg_alpha': 0, 'reg_lambda': 1, 'scale_pos_weight': 1, 'subsample': 0.75, 'tree_method': 'gpu_hist', 'validate_parameters': 1, 'verbosity': None, 'lambda': 1, 'eta': 0.01, 'alpha': 0.0}\n",
      "\n",
      "r_hand_acceleration_magnitude\n",
      "{'objective': 'reg:squarederror', 'base_score': 0.5, 'booster': 'gbtree', 'colsample_bylevel': 1, 'colsample_bynode': 1, 'colsample_bytree': 1, 'enable_categorical': False, 'gamma': 0.01, 'gpu_id': 0, 'importance_type': None, 'interaction_constraints': '', 'learning_rate': 0.100000001, 'max_delta_step': 0, 'max_depth': 3, 'min_child_weight': 1, 'missing': nan, 'monotone_constraints': '()', 'n_estimators': 1500, 'n_jobs': 12, 'num_parallel_tree': 1, 'predictor': 'auto', 'random_state': 0, 'reg_alpha': 0.25, 'reg_lambda': 1, 'scale_pos_weight': 1, 'subsample': 1, 'tree_method': 'gpu_hist', 'validate_parameters': 1, 'verbosity': None, 'lambda': 1, 'eta': 0.1, 'alpha': 0.25}\n",
      "\n",
      "l_foot_acceleration_magnitude\n",
      "{'objective': 'reg:squarederror', 'base_score': 0.5, 'booster': 'gbtree', 'colsample_bylevel': 1, 'colsample_bynode': 1, 'colsample_bytree': 0.75, 'enable_categorical': False, 'gamma': 0.01, 'gpu_id': 0, 'importance_type': None, 'interaction_constraints': '', 'learning_rate': 0.00999999978, 'max_delta_step': 0, 'max_depth': 10, 'min_child_weight': 21, 'missing': nan, 'monotone_constraints': '()', 'n_estimators': 1500, 'n_jobs': 12, 'num_parallel_tree': 1, 'predictor': 'auto', 'random_state': 0, 'reg_alpha': 0, 'reg_lambda': 1.25, 'scale_pos_weight': 1, 'subsample': 0.75, 'tree_method': 'gpu_hist', 'validate_parameters': 1, 'verbosity': None, 'lambda': 1.25, 'eta': 0.01, 'alpha': 0.0}\n",
      "\n",
      "r_foot_acceleration_magnitude\n",
      "{'objective': 'reg:squarederror', 'base_score': 0.5, 'booster': 'gbtree', 'colsample_bylevel': 1, 'colsample_bynode': 1, 'colsample_bytree': 1, 'enable_categorical': False, 'gamma': 0.01, 'gpu_id': 0, 'importance_type': None, 'interaction_constraints': '', 'learning_rate': 0.100000001, 'max_delta_step': 0, 'max_depth': 6, 'min_child_weight': 1, 'missing': nan, 'monotone_constraints': '()', 'n_estimators': 1500, 'n_jobs': 12, 'num_parallel_tree': 1, 'predictor': 'auto', 'random_state': 0, 'reg_alpha': 0, 'reg_lambda': 1, 'scale_pos_weight': 1, 'subsample': 0.75, 'tree_method': 'gpu_hist', 'validate_parameters': 1, 'verbosity': None, 'lambda': 1, 'eta': 0.1, 'alpha': 0.0}\n",
      "\n",
      "neck_acceleration_magnitude\n",
      "{'objective': 'reg:squarederror', 'base_score': 0.5, 'booster': 'gbtree', 'colsample_bylevel': 1, 'colsample_bynode': 1, 'colsample_bytree': 1, 'enable_categorical': False, 'gamma': 0.001, 'gpu_id': 0, 'importance_type': None, 'interaction_constraints': '', 'learning_rate': 0.00999999978, 'max_delta_step': 0, 'max_depth': 10, 'min_child_weight': 1, 'missing': nan, 'monotone_constraints': '()', 'n_estimators': 1500, 'n_jobs': 12, 'num_parallel_tree': 1, 'predictor': 'auto', 'random_state': 0, 'reg_alpha': 0.25, 'reg_lambda': 1, 'scale_pos_weight': 1, 'subsample': 0.75, 'tree_method': 'gpu_hist', 'validate_parameters': 1, 'verbosity': None, 'lambda': 1, 'eta': 0.01, 'alpha': 0.25}\n",
      "\n"
     ]
    }
   ],
   "source": [
    "best_regressors = []\n",
    "\n",
    "for i in range(len(models)):\n",
    "    print(train_y_sets[i].columns[0])\n",
    "    best_regressor = random_searches[i].best_estimator_\n",
    "\n",
    "    print(best_regressor.get_params())\n",
    "    best_regressors.append(best_regressor)\n",
    "    print()"
   ]
  },
  {
   "cell_type": "code",
   "execution_count": 17,
   "metadata": {},
   "outputs": [
    {
     "name": "stdout",
     "output_type": "stream",
     "text": [
      "max_hand_distance\n",
      "MSE: 0.07\n",
      "MAE: 0.21\n",
      "Example:  0.3589408342450211\n",
      "\n",
      "avg_l_hand_hip_distance\n",
      "MSE: 0.03\n",
      "MAE: 0.12\n",
      "Example:  0.2153851628650174\n",
      "\n",
      "avg_r_hand_hip_distance\n",
      "MSE: 0.03\n",
      "MAE: 0.13\n",
      "Example:  0.2099208139313444\n",
      "\n",
      "max_stride_length\n",
      "MSE: 0.03\n",
      "MAE: 0.13\n",
      "Example:  0.3014104931041282\n",
      "\n",
      "avg_l_hand_chest_distance\n",
      "MSE: 0.01\n",
      "MAE: 0.09\n",
      "Example:  0.437371900332585\n",
      "\n",
      "avg_r_hand_chest_distance\n",
      "MSE: 0.01\n",
      "MAE: 0.09\n",
      "Example:  0.4379690956765778\n",
      "\n",
      "avg_l_elbow_hip_distance\n",
      "MSE: 0.01\n",
      "MAE: 0.06\n",
      "Example:  0.315309309619572\n",
      "\n",
      "avg_r_elbow_hip_distance\n",
      "MSE: 0.01\n",
      "MAE: 0.06\n",
      "Example:  0.315764635359871\n",
      "\n",
      "avg_chest_pelvis_distance\n",
      "MSE: 0.00\n",
      "MAE: 0.00\n",
      "Example:  0.2861510014037163\n",
      "\n",
      "avg_neck_chest_distance\n",
      "MSE: 0.00\n",
      "MAE: 0.00\n",
      "Example:  0.2785828270734098\n",
      "\n",
      "avg_neck_rotation_w\n",
      "MSE: 0.01\n",
      "MAE: 0.07\n",
      "Example:  -0.0303669968027351\n",
      "\n",
      "avg_neck_rotation_x\n",
      "MSE: 0.10\n",
      "MAE: 0.21\n",
      "Example:  0.9944506264704334\n",
      "\n",
      "avg_neck_rotation_y\n",
      "MSE: 0.02\n",
      "MAE: 0.10\n",
      "Example:  -0.0616060786573984\n",
      "\n",
      "avg_neck_rotation_z\n",
      "MSE: 0.06\n",
      "MAE: 0.13\n",
      "Example:  -0.0496019999767769\n",
      "\n",
      "avg_total_body_volume\n",
      "MSE: 0.04\n",
      "MAE: 0.14\n",
      "Example:  0.1347930979500379\n",
      "\n",
      "avg_triangle_area_hands_neck\n",
      "MSE: 0.00\n",
      "MAE: 0.05\n",
      "Example:  0.1092603713414885\n",
      "\n",
      "avg_triangle_area_feet_hips\n",
      "MSE: 0.00\n",
      "MAE: 0.05\n",
      "Example:  0.1087424103959404\n",
      "\n",
      "l_hand_speed\n",
      "MSE: 0.25\n",
      "MAE: 0.37\n",
      "Example:  0.315607259853034\n",
      "\n",
      "r_hand_speed\n",
      "MSE: 0.27\n",
      "MAE: 0.39\n",
      "Example:  0.5301246799717907\n",
      "\n",
      "l_foot_speed\n",
      "MSE: 0.17\n",
      "MAE: 0.29\n",
      "Example:  0.4773502312768023\n",
      "\n",
      "r_foot_speed\n",
      "MSE: 0.19\n",
      "MAE: 0.31\n",
      "Example:  0.3143915867556985\n",
      "\n",
      "neck_speed\n",
      "MSE: 0.13\n",
      "MAE: 0.26\n",
      "Example:  0.2040303062658302\n",
      "\n",
      "l_hand_acceleration_magnitude\n",
      "MSE: 2.15\n",
      "MAE: 1.06\n",
      "Example:  0.7116765734337409\n",
      "\n",
      "r_hand_acceleration_magnitude\n",
      "MSE: 2.28\n",
      "MAE: 1.09\n",
      "Example:  0.9317868279753496\n",
      "\n",
      "l_foot_acceleration_magnitude\n",
      "MSE: 1.18\n",
      "MAE: 0.74\n",
      "Example:  1.274836731861992\n",
      "\n",
      "r_foot_acceleration_magnitude\n",
      "MSE: 1.38\n",
      "MAE: 0.81\n",
      "Example:  1.085965117904547\n",
      "\n",
      "neck_acceleration_magnitude\n",
      "MSE: 0.85\n",
      "MAE: 0.62\n",
      "Example:  0.8018694063552844\n",
      "\n"
     ]
    }
   ],
   "source": [
    "for i in range(len(best_regressors)):\n",
    "    pred_y = best_regressors[i].predict(test_X)\n",
    "    mse = mean_squared_error(test_y_sets[i], pred_y)\n",
    "    mae = mean_absolute_error(test_y_sets[i], pred_y)\n",
    "    print(test_y_sets[i].columns[0])\n",
    "    print(\"MSE: %.2f\" % mse)\n",
    "    print(\"MAE: %.2f\" % mae)\n",
    "    print(\"Example: \", test_y_sets[i].iloc[0][0])\n",
    "    print()"
   ]
  },
  {
   "cell_type": "code",
   "execution_count": 18,
   "metadata": {},
   "outputs": [],
   "source": [
    "# save to JSON\n",
    "for i in range(len(best_regressors)):\n",
    "    best_regressors[i].save_model(\"models/0.5_sec/\" + test_y_sets[i].columns[0] +\".json\")"
   ]
  },
  {
   "cell_type": "markdown",
   "metadata": {},
   "source": [
    "### Predictions"
   ]
  },
  {
   "cell_type": "code",
   "execution_count": 46,
   "metadata": {},
   "outputs": [],
   "source": [
    "model_p = xgb.XGBRegressor(verbosity=0)\n",
    "model_p.load_model(\"../../emotion_classifier/model_training/models/l2p_dance_model.json\")\n",
    "\n",
    "model_a = xgb.XGBRegressor(verbosity=0)\n",
    "model_a.load_model(\"../../emotion_classifier/model_training/models/l2a_dance_model.json\")\n",
    "\n",
    "model_d = xgb.XGBRegressor(verbosity=0)\n",
    "model_d.load_model(\"../../emotion_classifier/model_training/models/l2d_dance_model.json\")\n",
    "\n",
    "scaler = joblib.load('../../emotion_classifier/model_training/datasets/scalers/standardizers/Fs_B_S_DANCE_WALK_KIN_0.5sec.pkl') "
   ]
  },
  {
   "cell_type": "code",
   "execution_count": 47,
   "metadata": {},
   "outputs": [
    {
     "name": "stdout",
     "output_type": "stream",
     "text": [
      "Real: [[ 0.9  -0.25  0.65]]\n",
      "Predicted: [0.45704892, 0.14212963, 0.21817927]\n"
     ]
    }
   ],
   "source": [
    "index = 10\n",
    "\n",
    "real_coordinates = np.asarray([test_X.iloc[index]])\n",
    "\n",
    "generated_features = []\n",
    "for i in range(len(models)):\n",
    "    generated_features.append(best_regressors[i].predict(real_coordinates)[0])\n",
    "    #print(test_y_sets[i].columns[0], \" - \", generated_features[i])\n",
    "    \n",
    "generated_features = pd.DataFrame([generated_features], columns=[\n",
    "            \"max_hand_distance\",\n",
    "            \"avg_l_hand_hip_distance\",\n",
    "            \"avg_r_hand_hip_distance\",\n",
    "            \"max_stride_length\",\n",
    "            \"avg_l_hand_chest_distance\",\n",
    "            \"avg_r_hand_chest_distance\",\n",
    "            \"avg_l_elbow_hip_distance\",\n",
    "            \"avg_r_elbow_hip_distance\",\n",
    "            \"avg_chest_pelvis_distance\",\n",
    "            \"avg_neck_chest_distance\",\n",
    "            \"avg_neck_rotation_w\", \"avg_neck_rotation_x\", \"avg_neck_rotation_y\", \"avg_neck_rotation_z\",\n",
    "            \"avg_total_body_volume\",\n",
    "            \"avg_triangle_area_hands_neck\",\n",
    "            \"avg_triangle_area_feet_hips\",\n",
    "          \n",
    "            \"l_hand_speed\",\n",
    "            \"r_hand_speed\",\n",
    "            \"l_foot_speed\",\n",
    "            \"r_foot_speed\",\n",
    "            \"neck_speed\",\n",
    "          \n",
    "            \"l_hand_acceleration_magnitude\",\n",
    "            \"r_hand_acceleration_magnitude\",\n",
    "            \"l_foot_acceleration_magnitude\",\n",
    "            \"r_foot_acceleration_magnitude\",\n",
    "            \"neck_acceleration_magnitude\",\n",
    "         ])\n",
    "\n",
    "generated_features = scaler.transform(generated_features)\n",
    "\n",
    "y_p = model_p.predict(generated_features)\n",
    "y_a = model_a.predict(generated_features)\n",
    "y_d = model_d.predict(generated_features)\n",
    "\n",
    "print('Real: %s' % np.asarray(real_coordinates))\n",
    "print('Predicted: %s' % [y_p[0], y_a[0], y_d[0]])"
   ]
  },
  {
   "cell_type": "markdown",
   "metadata": {},
   "source": [
    "\n"
   ]
  },
  {
   "cell_type": "markdown",
   "metadata": {},
   "source": [
    "\n"
   ]
  },
  {
   "cell_type": "markdown",
   "metadata": {},
   "source": [
    "\n"
   ]
  },
  {
   "cell_type": "markdown",
   "metadata": {},
   "source": [
    "\n"
   ]
  },
  {
   "cell_type": "markdown",
   "metadata": {},
   "source": [
    "\n"
   ]
  },
  {
   "cell_type": "markdown",
   "metadata": {},
   "source": [
    "\n"
   ]
  },
  {
   "cell_type": "markdown",
   "metadata": {},
   "source": [
    "\n"
   ]
  },
  {
   "cell_type": "markdown",
   "metadata": {},
   "source": [
    "\n"
   ]
  },
  {
   "cell_type": "markdown",
   "metadata": {},
   "source": [
    "\n"
   ]
  },
  {
   "cell_type": "markdown",
   "metadata": {},
   "source": [
    "\n"
   ]
  },
  {
   "cell_type": "markdown",
   "metadata": {},
   "source": [
    "\n"
   ]
  },
  {
   "cell_type": "markdown",
   "metadata": {},
   "source": [
    "\n"
   ]
  },
  {
   "cell_type": "markdown",
   "metadata": {},
   "source": [
    "\n"
   ]
  },
  {
   "cell_type": "markdown",
   "metadata": {},
   "source": [
    "\n"
   ]
  },
  {
   "cell_type": "markdown",
   "metadata": {},
   "source": [
    "\n"
   ]
  },
  {
   "cell_type": "markdown",
   "metadata": {},
   "source": [
    "\n"
   ]
  },
  {
   "cell_type": "markdown",
   "metadata": {},
   "source": [
    "\n"
   ]
  },
  {
   "cell_type": "markdown",
   "metadata": {},
   "source": [
    "\n"
   ]
  },
  {
   "cell_type": "markdown",
   "metadata": {},
   "source": [
    "\n"
   ]
  },
  {
   "cell_type": "markdown",
   "metadata": {},
   "source": [
    "\n"
   ]
  },
  {
   "cell_type": "markdown",
   "metadata": {},
   "source": [
    "\n"
   ]
  }
 ],
 "metadata": {
  "kernelspec": {
   "display_name": "Python 3",
   "language": "python",
   "name": "python3"
  },
  "language_info": {
   "codemirror_mode": {
    "name": "ipython",
    "version": 3
   },
   "file_extension": ".py",
   "mimetype": "text/x-python",
   "name": "python",
   "nbconvert_exporter": "python",
   "pygments_lexer": "ipython3",
   "version": "3.7.5"
  }
 },
 "nbformat": 4,
 "nbformat_minor": 5
}
